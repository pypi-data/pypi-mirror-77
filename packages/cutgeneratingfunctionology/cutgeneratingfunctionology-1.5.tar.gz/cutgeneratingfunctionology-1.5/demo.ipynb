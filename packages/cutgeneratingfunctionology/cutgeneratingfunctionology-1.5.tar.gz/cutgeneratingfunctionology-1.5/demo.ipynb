{
 "nbformat_minor": 2, 
 "nbformat": 4, 
 "cells": [
  {
   "source": [
    "$$\n", 
    "\\def\\CC{\\bf C}\n", 
    "\\def\\QQ{\\bf Q}\n", 
    "\\def\\RR{\\bf R}\n", 
    "\\def\\ZZ{\\bf Z}\n", 
    "\\def\\NN{\\bf N}\n", 
    "$$\n", 
    "# Demonstration of cutgeneratingfunctionology\n", 
    "\n", 
    "We interact with Sage using commands that basically follow standard\n", 
    "Python syntax.\n", 
    "\n", 
    "See <http://www.sagemath.org/doc/tutorial/> for information on how to\n", 
    "use Sage.\n", 
    "\n", 
    "Copy these commands into your Sage terminal session or Jupyter notebook.\n", 
    "\n", 
    "## Basic operations\n", 
    "\n", 
    "First load the code:"
   ], 
   "cell_type": "markdown", 
   "metadata": {}
  }, 
  {
   "execution_count": null, 
   "cell_type": "code", 
   "source": [
    "import cutgeneratingfunctionology.igp as igp; from cutgeneratingfunctionology.igp import *"
   ], 
   "outputs": [], 
   "metadata": {}
  }, 
  {
   "source": [
    "First we load a function and store it in variable `h`.\n", 
    "\n", 
    "We start with the easiest function, the GMIC:"
   ], 
   "cell_type": "markdown", 
   "metadata": {}
  }, 
  {
   "execution_count": null, 
   "cell_type": "code", 
   "source": [
    "h = gmic()"
   ], 
   "outputs": [], 
   "metadata": {}
  }, 
  {
   "source": [
    "Plot the function:"
   ], 
   "cell_type": "markdown", 
   "metadata": {}
  }, 
  {
   "execution_count": null, 
   "cell_type": "code", 
   "source": [
    "plot_with_colored_slopes(h)"
   ], 
   "outputs": [], 
   "metadata": {}
  }, 
  {
   "source": [
    "Test its extremality; this will create informative output and plots:"
   ], 
   "cell_type": "markdown", 
   "metadata": {}
  }, 
  {
   "execution_count": null, 
   "cell_type": "code", 
   "source": [
    "extremality_test(h, show_plots=True)"
   ], 
   "outputs": [], 
   "metadata": {}
  }, 
  {
   "source": [
    "The documentation string of each function reveals its optional\n", 
    "arguments, usage examples, and bibliographic information. :"
   ], 
   "cell_type": "markdown", 
   "metadata": {}
  }, 
  {
   "execution_count": null, 
   "cell_type": "code", 
   "source": [
    "gmic?"
   ], 
   "outputs": [], 
   "metadata": {}
  }, 
  {
   "source": [
    "The docstring tells us that we can set the \\`f' value using an optional\n", 
    "argument:"
   ], 
   "cell_type": "markdown", 
   "metadata": {}
  }, 
  {
   "execution_count": null, 
   "cell_type": "code", 
   "source": [
    "h = gmic(1/5)"
   ], 
   "outputs": [], 
   "metadata": {}
  }, 
  {
   "source": [
    "Of course, we know it will still be extreme; but let's test it to see\n", 
    "all the informative graphs:"
   ], 
   "cell_type": "markdown", 
   "metadata": {}
  }, 
  {
   "execution_count": null, 
   "cell_type": "code", 
   "source": [
    "extremality_test(h, show_plots=True)"
   ], 
   "outputs": [], 
   "metadata": {}
  }, 
  {
   "source": [
    "Let's learn about a different function. It's from\n", 
    "Dey--Richard--Li--Milller -- hence the prefix of the function:"
   ], 
   "cell_type": "markdown", 
   "metadata": {}
  }, 
  {
   "execution_count": null, 
   "cell_type": "code", 
   "source": [
    "drlm_backward_3_slope?"
   ], 
   "outputs": [], 
   "metadata": {}
  }, 
  {
   "source": [
    "Let's change the parameters a little bit, so that they do NOT satisfy\n", 
    "the known sufficient conditions from the literature about this class of\n", 
    "functions:"
   ], 
   "cell_type": "markdown", 
   "metadata": {}
  }, 
  {
   "execution_count": null, 
   "cell_type": "code", 
   "source": [
    "h = drlm_backward_3_slope(f=1/12, bkpt=4/12)"
   ], 
   "outputs": [], 
   "metadata": {}
  }, 
  {
   "source": [
    "Let's run the extremality test:"
   ], 
   "cell_type": "markdown", 
   "metadata": {}
  }, 
  {
   "execution_count": null, 
   "cell_type": "code", 
   "source": [
    "extremality_test(h, show_plots=True)"
   ], 
   "outputs": [], 
   "metadata": {}
  }, 
  {
   "source": [
    "Indeed, it's not extreme. We see a perturbation in magenta and the two\n", 
    "perturbed functions in blue and red, whose average is the original\n", 
    "function (black).\n", 
    "\n", 
    "The extremality test stops when it has found one perturbation. To see\n", 
    "more perturbations, we use the following: :"
   ], 
   "cell_type": "markdown", 
   "metadata": {}
  }, 
  {
   "execution_count": null, 
   "cell_type": "code", 
   "source": [
    "extremality_test(h, show_plots=True, show_all_perturbations=True)"
   ], 
   "outputs": [], 
   "metadata": {}
  }, 
  {
   "source": [
    "Here's the Gomory fractional cut. :"
   ], 
   "cell_type": "markdown", 
   "metadata": {}
  }, 
  {
   "execution_count": null, 
   "cell_type": "code", 
   "source": [
    "gomory_fractional?"
   ], 
   "outputs": [], 
   "metadata": {}
  }, 
  {
   "execution_count": null, 
   "cell_type": "code", 
   "source": [
    "h = gomory_fractional()"
   ], 
   "outputs": [], 
   "metadata": {}
  }, 
  {
   "execution_count": null, 
   "cell_type": "code", 
   "source": [
    "plot_with_colored_slopes(h)"
   ], 
   "outputs": [], 
   "metadata": {}
  }, 
  {
   "source": [
    "It is not even minimal: :"
   ], 
   "cell_type": "markdown", 
   "metadata": {}
  }, 
  {
   "execution_count": null, 
   "cell_type": "code", 
   "source": [
    "minimality_test(h, True)"
   ], 
   "outputs": [], 
   "metadata": {}
  }, 
  {
   "source": [
    "Let's consider an interesting discontinuous function. It was defined by\n", 
    "Letchford and Lodi:"
   ], 
   "cell_type": "markdown", 
   "metadata": {}
  }, 
  {
   "execution_count": null, 
   "cell_type": "code", 
   "source": [
    "ll_strong_fractional?"
   ], 
   "outputs": [], 
   "metadata": {}
  }, 
  {
   "source": [
    "The docstring suggests a few things to try with this function. In\n", 
    "particular it tells us that it fails to be minimal if 0 &lt; f &lt; 1/2.\n", 
    "Let's verify that:"
   ], 
   "cell_type": "markdown", 
   "metadata": {}
  }, 
  {
   "execution_count": null, 
   "cell_type": "code", 
   "source": [
    "h = ll_strong_fractional(1/3)"
   ], 
   "outputs": [], 
   "metadata": {}
  }, 
  {
   "execution_count": null, 
   "cell_type": "code", 
   "source": [
    "extremality_test(h, True)"
   ], 
   "outputs": [], 
   "metadata": {}
  }, 
  {
   "source": [
    "There's many more functions to explore. Try some of the following to get\n", 
    "more information.\n", 
    "\n", 
    "Also consult the survey, which shows the graphs of these functions for\n", 
    "default parameters next to their names:"
   ], 
   "cell_type": "markdown", 
   "metadata": {}
  }, 
  {
   "execution_count": null, 
   "cell_type": "code", 
   "source": [
    "gj_2_slope?"
   ], 
   "outputs": [], 
   "metadata": {}
  }, 
  {
   "execution_count": null, 
   "cell_type": "code", 
   "source": [
    "gj_2_slope_repeat?"
   ], 
   "outputs": [], 
   "metadata": {}
  }, 
  {
   "execution_count": null, 
   "cell_type": "code", 
   "source": [
    "dg_2_step_mir?"
   ], 
   "outputs": [], 
   "metadata": {}
  }, 
  {
   "execution_count": null, 
   "cell_type": "code", 
   "source": [
    "kf_n_step_mir?"
   ], 
   "outputs": [], 
   "metadata": {}
  }, 
  {
   "execution_count": null, 
   "cell_type": "code", 
   "source": [
    "gj_forward_3_slope?"
   ], 
   "outputs": [], 
   "metadata": {}
  }, 
  {
   "execution_count": null, 
   "cell_type": "code", 
   "source": [
    "drlm_backward_3_slope?"
   ], 
   "outputs": [], 
   "metadata": {}
  }, 
  {
   "execution_count": null, 
   "cell_type": "code", 
   "source": [
    "dg_2_step_mir_limit?"
   ], 
   "outputs": [], 
   "metadata": {}
  }, 
  {
   "execution_count": null, 
   "cell_type": "code", 
   "source": [
    "drlm_2_slope_limit?"
   ], 
   "outputs": [], 
   "metadata": {}
  }, 
  {
   "execution_count": null, 
   "cell_type": "code", 
   "source": [
    "drlm_3_slope_limit?"
   ], 
   "outputs": [], 
   "metadata": {}
  }, 
  {
   "execution_count": null, 
   "cell_type": "code", 
   "source": [
    "bccz_counterexample?"
   ], 
   "outputs": [], 
   "metadata": {}
  }, 
  {
   "execution_count": null, 
   "cell_type": "code", 
   "source": [
    "bhk_irrational?"
   ], 
   "outputs": [], 
   "metadata": {}
  }, 
  {
   "execution_count": null, 
   "cell_type": "code", 
   "source": [
    "chen_4_slope?"
   ], 
   "outputs": [], 
   "metadata": {}
  }, 
  {
   "execution_count": null, 
   "cell_type": "code", 
   "source": [
    "rlm_dpl1_extreme_3a?"
   ], 
   "outputs": [], 
   "metadata": {}
  }, 
  {
   "execution_count": null, 
   "cell_type": "code", 
   "source": [
    "mlr_cpl3_g_3_slope?"
   ], 
   "outputs": [], 
   "metadata": {}
  }, 
  {
   "source": [
    "Many more `mlr_cpl3_...` functions:"
   ], 
   "cell_type": "markdown", 
   "metadata": {}
  }, 
  {
   "execution_count": null, 
   "cell_type": "code", 
   "source": [
    "not_extreme_1?"
   ], 
   "outputs": [], 
   "metadata": {}
  }, 
  {
   "execution_count": null, 
   "cell_type": "code", 
   "source": [
    "drlm_not_extreme_2?"
   ], 
   "outputs": [], 
   "metadata": {}
  }, 
  {
   "execution_count": null, 
   "cell_type": "code", 
   "source": [
    "hildebrand_5_slope_28_1?"
   ], 
   "outputs": [], 
   "metadata": {}
  }, 
  {
   "execution_count": null, 
   "cell_type": "code", 
   "source": [
    "hildebrand_2_sided_discont_1_slope_1?"
   ], 
   "outputs": [], 
   "metadata": {}
  }, 
  {
   "execution_count": null, 
   "cell_type": "code", 
   "source": [
    "hildebrand_2_sided_discont_2_slope_1?"
   ], 
   "outputs": [], 
   "metadata": {}
  }, 
  {
   "execution_count": null, 
   "cell_type": "code", 
   "source": [
    "hildebrand_discont_3_slope_1?"
   ], 
   "outputs": [], 
   "metadata": {}
  }, 
  {
   "execution_count": null, 
   "cell_type": "code", 
   "source": [
    "gomory_fractional?"
   ], 
   "outputs": [], 
   "metadata": {}
  }, 
  {
   "source": [
    "See the extreme function with the world-record number of different\n", 
    "slopes:"
   ], 
   "cell_type": "markdown", 
   "metadata": {}
  }, 
  {
   "execution_count": null, 
   "cell_type": "code", 
   "source": [
    "extreme_function_with_world_record_number_of_slopes?"
   ], 
   "outputs": [], 
   "metadata": {}
  }, 
  {
   "execution_count": null, 
   "cell_type": "code", 
   "source": [
    "h = extreme_function_with_world_record_number_of_slopes()"
   ], 
   "outputs": [], 
   "metadata": {}
  }, 
  {
   "execution_count": null, 
   "cell_type": "code", 
   "source": [
    "plot_with_colored_slopes(h, thickness=4).show(figsize=30)"
   ], 
   "outputs": [], 
   "metadata": {}
  }, 
  {
   "source": [
    "Use tab completion to see more example functions in the module\n", 
    "`extreme_functions` :"
   ], 
   "cell_type": "markdown", 
   "metadata": {}
  }, 
  {
   "execution_count": null, 
   "cell_type": "code", 
   "source": [
    "h = igp.extreme_functions."
   ], 
   "outputs": [], 
   "metadata": {}
  }, 
  {
   "source": [
    "Also see the live manual at\n", 
    "<http://mkoeppe.github.io/cutgeneratingfunctionology/doc/html/extreme_functions.html>\n", 
    "\n", 
    "## Procedures\n", 
    "\n", 
    "There are also \"procedures\", operations that can be applied to extreme\n", 
    "functions.\n", 
    "\n", 
    "First, the multiplicative homomorphism:"
   ], 
   "cell_type": "markdown", 
   "metadata": {}
  }, 
  {
   "execution_count": null, 
   "cell_type": "code", 
   "source": [
    "multiplicative_homomorphism?"
   ], 
   "outputs": [], 
   "metadata": {}
  }, 
  {
   "execution_count": null, 
   "cell_type": "code", 
   "source": [
    "h = multiplicative_homomorphism(gmic(f=4/5), 3)"
   ], 
   "outputs": [], 
   "metadata": {}
  }, 
  {
   "source": [
    "Note, this function has several points where it takes value 1, and hence\n", 
    "several candidates for \"f\". If we don't provide the f value that we\n", 
    "mean, it will warn and pick the first one from the left. So let's\n", 
    "provide the f value:"
   ], 
   "cell_type": "markdown", 
   "metadata": {}
  }, 
  {
   "execution_count": null, 
   "cell_type": "code", 
   "source": [
    "extremality_test(h, True, f=4/15)"
   ], 
   "outputs": [], 
   "metadata": {}
  }, 
  {
   "source": [
    "A special case of the above:"
   ], 
   "cell_type": "markdown", 
   "metadata": {}
  }, 
  {
   "execution_count": null, 
   "cell_type": "code", 
   "source": [
    "automorphism?"
   ], 
   "outputs": [], 
   "metadata": {}
  }, 
  {
   "execution_count": null, 
   "cell_type": "code", 
   "source": [
    "h = automorphism(gmic(f=4/5))"
   ], 
   "outputs": [], 
   "metadata": {}
  }, 
  {
   "execution_count": null, 
   "cell_type": "code", 
   "source": [
    "extremality_test(h, True)"
   ], 
   "outputs": [], 
   "metadata": {}
  }, 
  {
   "source": [
    "We can restrict to a finite group problem:"
   ], 
   "cell_type": "markdown", 
   "metadata": {}
  }, 
  {
   "execution_count": null, 
   "cell_type": "code", 
   "source": [
    "restrict_to_finite_group?"
   ], 
   "outputs": [], 
   "metadata": {}
  }, 
  {
   "execution_count": null, 
   "cell_type": "code", 
   "source": [
    "hr = restrict_to_finite_group(gmic(f=4/5))"
   ], 
   "outputs": [], 
   "metadata": {}
  }, 
  {
   "execution_count": null, 
   "cell_type": "code", 
   "source": [
    "extremality_test(hr, True)"
   ], 
   "outputs": [], 
   "metadata": {}
  }, 
  {
   "source": [
    "For the finite group problems, automorphisms are more interesting!"
   ], 
   "cell_type": "markdown", 
   "metadata": {}
  }, 
  {
   "execution_count": null, 
   "cell_type": "code", 
   "source": [
    "ha = automorphism(hr, 2)"
   ], 
   "outputs": [], 
   "metadata": {}
  }, 
  {
   "execution_count": null, 
   "cell_type": "code", 
   "source": [
    "extremality_test(ha, True)"
   ], 
   "outputs": [], 
   "metadata": {}
  }, 
  {
   "source": [
    "We can interpolate to get a function for the infinite group problem:"
   ], 
   "cell_type": "markdown", 
   "metadata": {}
  }, 
  {
   "execution_count": null, 
   "cell_type": "code", 
   "source": [
    "hi = interpolate_to_infinite_group(ha)"
   ], 
   "outputs": [], 
   "metadata": {}
  }, 
  {
   "execution_count": null, 
   "cell_type": "code", 
   "source": [
    "extremality_test(hi, True)"
   ], 
   "outputs": [], 
   "metadata": {}
  }, 
  {
   "source": [
    "The docstring has more interesting examples:"
   ], 
   "cell_type": "markdown", 
   "metadata": {}
  }, 
  {
   "execution_count": null, 
   "cell_type": "code", 
   "source": [
    "interpolate_to_infinite_group?"
   ], 
   "outputs": [], 
   "metadata": {}
  }, 
  {
   "source": [
    "There's also this: :"
   ], 
   "cell_type": "markdown", 
   "metadata": {}
  }, 
  {
   "execution_count": null, 
   "cell_type": "code", 
   "source": [
    "projected_sequential_merge?"
   ], 
   "outputs": [], 
   "metadata": {}
  }, 
  {
   "source": [
    "The module `procedures` has a catalog of all procedures. Use tab\n", 
    "completion to explore them:"
   ], 
   "cell_type": "markdown", 
   "metadata": {}
  }, 
  {
   "execution_count": null, 
   "cell_type": "code", 
   "source": [
    "igp.procedures."
   ], 
   "outputs": [], 
   "metadata": {}
  }, 
  {
   "source": [
    "Also see the live manual at\n", 
    "<http://mkoeppe.github.io/cutgeneratingfunctionology/doc/html/procedures.html>\n", 
    "\n", 
    "## Customizing the graphics\n", 
    "\n", 
    "Sometimes, for complicated functions, the graphics do not show enough\n", 
    "detail. :"
   ], 
   "cell_type": "markdown", 
   "metadata": {}
  }, 
  {
   "execution_count": null, 
   "cell_type": "code", 
   "source": [
    "h = bhk_irrational(delta=[1/200, 3/200])"
   ], 
   "outputs": [], 
   "metadata": {}
  }, 
  {
   "execution_count": null, 
   "cell_type": "code", 
   "source": [
    "extremality_test(h, True)"
   ], 
   "outputs": [], 
   "metadata": {}
  }, 
  {
   "source": [
    ":-(\n", 
    "\n", 
    "There are two ways to see more.\n", 
    "\n", 
    "Approach 1: Use specific plotting functions to zoom in to some areas of\n", 
    "interest.\n", 
    "\n", 
    "The 2d diagram, showing non-subadditive vertices and additive faces:"
   ], 
   "cell_type": "markdown", 
   "metadata": {}
  }, 
  {
   "execution_count": null, 
   "cell_type": "code", 
   "source": [
    "plot_2d_diagram(h).show(xmin=0.15, xmax=0.35, ymin=0.15, ymax=0.35)"
   ], 
   "outputs": [], 
   "metadata": {}
  }, 
  {
   "source": [
    "The diagram of covered intervals:"
   ], 
   "cell_type": "markdown", 
   "metadata": {}
  }, 
  {
   "execution_count": null, 
   "cell_type": "code", 
   "source": [
    "plot_covered_intervals(h).show(xmin=0.15, xmax=0.35, ymin=0.22, ymax=0.55)"
   ], 
   "outputs": [], 
   "metadata": {}
  }, 
  {
   "source": [
    "The completion diagram (to be explained in a forthcoming paper):"
   ], 
   "cell_type": "markdown", 
   "metadata": {}
  }, 
  {
   "execution_count": null, 
   "cell_type": "code", 
   "source": [
    "plot_completion_diagram(h).show(xmin=0.28, xmax=0.52, ymin=0.25, ymax=0.35)"
   ], 
   "outputs": [], 
   "metadata": {}
  }, 
  {
   "source": [
    "The perturbation diagram. 1 is the index of the perturbation shown:"
   ], 
   "cell_type": "markdown", 
   "metadata": {}
  }, 
  {
   "execution_count": null, 
   "cell_type": "code", 
   "source": [
    "plot_perturbation_diagram(h, 1).show(xmin=0.28, xmax=0.35, ymin=0.33, ymax=0.4)"
   ], 
   "outputs": [], 
   "metadata": {}
  }, 
  {
   "source": [
    "Approach 2: Increase the plotting figure size (the default is 10):"
   ], 
   "cell_type": "markdown", 
   "metadata": {}
  }, 
  {
   "execution_count": null, 
   "cell_type": "code", 
   "source": [
    "igp.show_plots_figsize = 40"
   ], 
   "outputs": [], 
   "metadata": {}
  }, 
  {
   "execution_count": null, 
   "cell_type": "code", 
   "source": [
    "h = bhk_irrational(delta=[1/200, 3/200])"
   ], 
   "outputs": [], 
   "metadata": {}
  }, 
  {
   "execution_count": null, 
   "cell_type": "code", 
   "source": [
    "extremality_test(h, True)"
   ], 
   "outputs": [], 
   "metadata": {}
  }, 
  {
   "source": [
    "## Defining new functions\n", 
    "\n", 
    "Of course, we can define functions from scratch:"
   ], 
   "cell_type": "markdown", 
   "metadata": {}
  }, 
  {
   "execution_count": null, 
   "cell_type": "code", 
   "source": [
    "h = piecewise_function_from_breakpoints_and_values([0, 1/5, 2/5, 4/5, 1], [0, 1/5, 3/5, 1, 0]);"
   ], 
   "outputs": [], 
   "metadata": {}
  }, 
  {
   "execution_count": null, 
   "cell_type": "code", 
   "source": [
    "extremality_test(h, True)"
   ], 
   "outputs": [], 
   "metadata": {}
  }, 
  {
   "source": [
    "Here's another way:"
   ], 
   "cell_type": "markdown", 
   "metadata": {}
  }, 
  {
   "execution_count": null, 
   "cell_type": "code", 
   "source": [
    "slopes = [10/3,0,10/3,0,10/3,-10/3,0,-10/3,0,-10/3]"
   ], 
   "outputs": [], 
   "metadata": {}
  }, 
  {
   "execution_count": null, 
   "cell_type": "code", 
   "source": [
    "interval_lengths = [1/10,1/10,1/10,1/10,1/10,1/10,1/10,1/10,1/10,1/10]"
   ], 
   "outputs": [], 
   "metadata": {}
  }, 
  {
   "execution_count": null, 
   "cell_type": "code", 
   "source": [
    "h = piecewise_function_from_interval_lengths_and_slopes(interval_lengths, slopes)"
   ], 
   "outputs": [], 
   "metadata": {}
  }, 
  {
   "execution_count": null, 
   "cell_type": "code", 
   "source": [
    "extremality_test(h, True, show_all_perturbations=True)"
   ], 
   "outputs": [], 
   "metadata": {}
  }
 ], 
 "metadata": {
  "kernelspec": {
   "display_name": "sagemath", 
   "name": "sagemath"
  }
 }
}
