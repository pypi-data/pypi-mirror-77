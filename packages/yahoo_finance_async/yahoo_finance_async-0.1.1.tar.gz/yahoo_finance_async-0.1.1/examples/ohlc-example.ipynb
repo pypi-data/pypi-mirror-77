{
 "metadata": {
  "language_info": {
   "codemirror_mode": {
    "name": "ipython",
    "version": 3
   },
   "file_extension": ".py",
   "mimetype": "text/x-python",
   "name": "python",
   "nbconvert_exporter": "python",
   "pygments_lexer": "ipython3",
   "version": "3.7.8-final"
  },
  "orig_nbformat": 2,
  "kernelspec": {
   "name": "python_defaultSpec_1598476105066",
   "display_name": "Python 3.7.8 64-bit ('yahoo': venv)"
  }
 },
 "nbformat": 4,
 "nbformat_minor": 2,
 "cells": [
  {
   "cell_type": "markdown",
   "metadata": {},
   "source": [
    "# Example of how to use the OHLC object\n",
    "\n",
    "This is an async library so there is a bit more boilerplate code to get the methods and coroutines running in your code.  You should *await* the response.  "
   ]
  },
  {
   "cell_type": "code",
   "execution_count": 1,
   "metadata": {},
   "outputs": [],
   "source": [
    "import sys; sys.path.insert(0, '..')\n",
    "import asyncio"
   ]
  },
  {
   "cell_type": "markdown",
   "metadata": {},
   "source": [
    "## Getting started"
   ]
  },
  {
   "cell_type": "markdown",
   "metadata": {},
   "source": [
    "Let's suppose you want to get the last five days of daily candles on Microsoft *MSFT* ..."
   ]
  },
  {
   "cell_type": "code",
   "execution_count": 2,
   "metadata": {
    "tags": []
   },
   "outputs": [
    {
     "output_type": "execute_result",
     "data": {
      "text/plain": "{'candles': [{'datetime': datetime.datetime(2020, 8, 20, 13, 30),\n   'open': 209.5399932861328,\n   'high': 215.0,\n   'low': 208.91000366210938,\n   'close': 214.5800018310547,\n   'volume': 26981500.0},\n  {'datetime': datetime.datetime(2020, 8, 21, 13, 30),\n   'open': 213.86000061035156,\n   'high': 216.25,\n   'low': 212.85000610351562,\n   'close': 213.02000427246094,\n   'volume': 36249300.0},\n  {'datetime': datetime.datetime(2020, 8, 24, 13, 30),\n   'open': 214.7899932861328,\n   'high': 215.52000427246094,\n   'low': 212.42999267578125,\n   'close': 213.69000244140625,\n   'volume': 25460100.0},\n  {'datetime': datetime.datetime(2020, 8, 25, 13, 30),\n   'open': 213.10000610351562,\n   'high': 216.61000061035156,\n   'low': 213.10000610351562,\n   'close': 216.47000122070312,\n   'volume': 23003700.0},\n  {'datetime': datetime.datetime(2020, 8, 26, 20, 0, 1),\n   'open': 217.8800048828125,\n   'high': 222.08999633789062,\n   'low': 217.36000061035156,\n   'close': 221.14999389648438,\n   'volume': 35970522.0}],\n 'meta': {'currency': 'USD',\n  'symbol': 'MSFT',\n  'exchangeName': 'NMS',\n  'instrumentType': 'EQUITY',\n  'firstTradeDate': 511108200,\n  'regularMarketTime': 1598472001,\n  'gmtoffset': -14400,\n  'timezone': 'EDT',\n  'exchangeTimezoneName': 'America/New_York',\n  'regularMarketPrice': 221.15,\n  'chartPreviousClose': 209.7,\n  'priceHint': 2,\n  'currentTradingPeriod': {'pre': {'timezone': 'EDT',\n    'start': 1598428800,\n    'end': 1598448600,\n    'gmtoffset': -14400},\n   'regular': {'timezone': 'EDT',\n    'start': 1598448600,\n    'end': 1598472000,\n    'gmtoffset': -14400},\n   'post': {'timezone': 'EDT',\n    'start': 1598472000,\n    'end': 1598486400,\n    'gmtoffset': -14400}},\n  'dataGranularity': '1d',\n  'range': '5d',\n  'validRanges': ['1d',\n   '5d',\n   '1mo',\n   '3mo',\n   '6mo',\n   '1y',\n   '2y',\n   '5y',\n   '10y',\n   'ytd',\n   'max']}}"
     },
     "metadata": {},
     "execution_count": 2
    }
   ],
   "source": [
    "# Import\n",
    "from yahoo_finance_async import OHLC, Interval, History\n",
    "\n",
    "# Fetch coroutine\n",
    "response = await OHLC.fetch('MSFT', interval=Interval.DAY, history=History.FIVE_DAYS)\n",
    "response"
   ]
  },
  {
   "cell_type": "markdown",
   "metadata": {},
   "source": [
    "You will see that the main OHLC candles are returned as a list of candle dictionaries under the `candles` key in the response dictionary.  \n",
    " \n",
    "**Note** that the most recent candle may have a slightly different timestamp as in the example below of the last candle which should be printing the open time 13:30 UTC but seems to be out of sync until it is closed.  This is somethign that the Yahoo API gives and I have not tried to fix it."
   ]
  },
  {
   "cell_type": "code",
   "execution_count": 3,
   "metadata": {},
   "outputs": [
    {
     "output_type": "execute_result",
     "data": {
      "text/plain": "[{'datetime': datetime.datetime(2020, 8, 20, 13, 30),\n  'open': 209.5399932861328,\n  'high': 215.0,\n  'low': 208.91000366210938,\n  'close': 214.5800018310547,\n  'volume': 26981500.0},\n {'datetime': datetime.datetime(2020, 8, 21, 13, 30),\n  'open': 213.86000061035156,\n  'high': 216.25,\n  'low': 212.85000610351562,\n  'close': 213.02000427246094,\n  'volume': 36249300.0},\n {'datetime': datetime.datetime(2020, 8, 24, 13, 30),\n  'open': 214.7899932861328,\n  'high': 215.52000427246094,\n  'low': 212.42999267578125,\n  'close': 213.69000244140625,\n  'volume': 25460100.0},\n {'datetime': datetime.datetime(2020, 8, 25, 13, 30),\n  'open': 213.10000610351562,\n  'high': 216.61000061035156,\n  'low': 213.10000610351562,\n  'close': 216.47000122070312,\n  'volume': 23003700.0},\n {'datetime': datetime.datetime(2020, 8, 26, 20, 0, 1),\n  'open': 217.8800048828125,\n  'high': 222.08999633789062,\n  'low': 217.36000061035156,\n  'close': 221.14999389648438,\n  'volume': 35970522.0}]"
     },
     "metadata": {},
     "execution_count": 3
    }
   ],
   "source": [
    "response['candles']"
   ]
  },
  {
   "cell_type": "markdown",
   "metadata": {},
   "source": [
    "The meta data for the API call is returned under the `meta` key in the response dictionary.  This may be useful to confirm that you have indeed requested what you wanted.  "
   ]
  },
  {
   "cell_type": "code",
   "execution_count": 4,
   "metadata": {},
   "outputs": [
    {
     "output_type": "execute_result",
     "data": {
      "text/plain": "{'currency': 'USD',\n 'symbol': 'MSFT',\n 'exchangeName': 'NMS',\n 'instrumentType': 'EQUITY',\n 'firstTradeDate': 511108200,\n 'regularMarketTime': 1598472001,\n 'gmtoffset': -14400,\n 'timezone': 'EDT',\n 'exchangeTimezoneName': 'America/New_York',\n 'regularMarketPrice': 221.15,\n 'chartPreviousClose': 209.7,\n 'priceHint': 2,\n 'currentTradingPeriod': {'pre': {'timezone': 'EDT',\n   'start': 1598428800,\n   'end': 1598448600,\n   'gmtoffset': -14400},\n  'regular': {'timezone': 'EDT',\n   'start': 1598448600,\n   'end': 1598472000,\n   'gmtoffset': -14400},\n  'post': {'timezone': 'EDT',\n   'start': 1598472000,\n   'end': 1598486400,\n   'gmtoffset': -14400}},\n 'dataGranularity': '1d',\n 'range': '5d',\n 'validRanges': ['1d',\n  '5d',\n  '1mo',\n  '3mo',\n  '6mo',\n  '1y',\n  '2y',\n  '5y',\n  '10y',\n  'ytd',\n  'max']}"
     },
     "metadata": {},
     "execution_count": 4
    }
   ],
   "source": [
    "response['meta']"
   ]
  },
  {
   "cell_type": "markdown",
   "metadata": {},
   "source": [
    "That's it.  Very simple."
   ]
  },
  {
   "cell_type": "markdown",
   "metadata": {},
   "source": [
    "## Requesting different symbols"
   ]
  },
  {
   "cell_type": "markdown",
   "metadata": {},
   "source": [
    "The Yahoo Finance API has a huge number of different stocks available on it.  \n",
    "\n",
    "You can look up the stock symbols at https://finance.yahoo.com/lookup"
   ]
  },
  {
   "cell_type": "markdown",
   "metadata": {},
   "source": [
    "## Different candle periods and history"
   ]
  },
  {
   "cell_type": "markdown",
   "metadata": {},
   "source": [
    "The `Interval` object contains the different API options you can use for different candle lengths"
   ]
  },
  {
   "cell_type": "code",
   "execution_count": 5,
   "metadata": {},
   "outputs": [
    {
     "output_type": "execute_result",
     "data": {
      "text/plain": "<enum 'Interval'>"
     },
     "metadata": {},
     "execution_count": 5
    }
   ],
   "source": [
    "Interval"
   ]
  },
  {
   "cell_type": "code",
   "execution_count": 6,
   "metadata": {},
   "outputs": [
    {
     "output_type": "execute_result",
     "data": {
      "text/plain": "[('MINUTE', '1m'),\n ('TWO_MINUTE', '2m'),\n ('FIVE_MINUTE', '5m'),\n ('FIFTEEN_MINUTE', '15m'),\n ('THIRTY_MINUTE', '30m'),\n ('HOUR', '1h'),\n ('DAY', '1d'),\n ('FIVE_DAY', '5d'),\n ('WEEK', '1wk'),\n ('MONTH', '1mo'),\n ('THREE_MONTH', '3mo')]"
     },
     "metadata": {},
     "execution_count": 6
    }
   ],
   "source": [
    "[(e.name, e.value) for e in Interval]"
   ]
  },
  {
   "cell_type": "markdown",
   "metadata": {},
   "source": [
    "Similarly the `History` object shows the available look-back periods for collecting candle data.  Note that some long history with short candle intervals may throw errors or return vast amounts of data.  If in doubt and you want a lot of data, use the `History.MAX` option."
   ]
  },
  {
   "cell_type": "code",
   "execution_count": 7,
   "metadata": {},
   "outputs": [
    {
     "output_type": "execute_result",
     "data": {
      "text/plain": "<enum 'History'>"
     },
     "metadata": {},
     "execution_count": 7
    }
   ],
   "source": [
    "History"
   ]
  },
  {
   "cell_type": "code",
   "execution_count": 8,
   "metadata": {},
   "outputs": [
    {
     "output_type": "execute_result",
     "data": {
      "text/plain": "[('DAY', '1d'),\n ('FIVE_DAYS', '5d'),\n ('MONTH', '1mo'),\n ('QUARTER', '3mo'),\n ('HALF_YEAR', '6mo'),\n ('YEAR', '1y'),\n ('TWO_YEARS', '2y'),\n ('FIVE_YEARS', '5y'),\n ('TEN_YEARS', '10y'),\n ('YTD', 'ytd'),\n ('MAX', 'max')]"
     },
     "metadata": {},
     "execution_count": 8
    }
   ],
   "source": [
    "[(e.name, e.value) for e in History]"
   ]
  },
  {
   "cell_type": "code",
   "execution_count": null,
   "metadata": {},
   "outputs": [],
   "source": []
  }
 ]
}