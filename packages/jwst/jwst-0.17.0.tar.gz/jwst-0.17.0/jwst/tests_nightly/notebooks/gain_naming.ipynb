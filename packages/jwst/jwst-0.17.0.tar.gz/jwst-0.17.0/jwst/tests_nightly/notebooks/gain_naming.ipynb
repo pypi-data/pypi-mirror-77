{
 "cells": [
  {
   "cell_type": "markdown",
   "metadata": {},
   "source": [
    "# Abstract"
   ]
  },
  {
   "cell_type": "markdown",
   "metadata": {},
   "source": [
    "Testing how to test gain_step naming"
   ]
  },
  {
   "cell_type": "markdown",
   "metadata": {},
   "source": [
    "# Environment"
   ]
  },
  {
   "cell_type": "code",
   "execution_count": null,
   "metadata": {},
   "outputs": [],
   "source": [
    "import os"
   ]
  },
  {
   "cell_type": "code",
   "execution_count": null,
   "metadata": {},
   "outputs": [],
   "source": [
    "from jwst.pipeline import Detector1Pipeline"
   ]
  },
  {
   "cell_type": "markdown",
   "metadata": {},
   "source": [
    "# Library"
   ]
  },
  {
   "cell_type": "markdown",
   "metadata": {},
   "source": [
    "# Main"
   ]
  },
  {
   "cell_type": "code",
   "execution_count": null,
   "metadata": {},
   "outputs": [],
   "source": [
    "TEST_BIGDATA = '/Users/eisenham/Documents/ssbdev/testdata/pandokia/jwcalibdev/data4/jwst_test_data'"
   ]
  },
  {
   "cell_type": "code",
   "execution_count": null,
   "metadata": {},
   "outputs": [],
   "source": [
    "data_path = os.path.join(TEST_BIGDATA, 'miri/test_sloperpipeline')"
   ]
  },
  {
   "cell_type": "code",
   "execution_count": null,
   "metadata": {},
   "outputs": [],
   "source": [
    "exposure = os.path.join(data_path, 'jw00001001001_01101_00001_MIRIMAGE_uncal.fits')"
   ]
  },
  {
   "cell_type": "code",
   "execution_count": null,
   "metadata": {},
   "outputs": [],
   "source": [
    "%rm -f *gain_scale*.fits"
   ]
  },
  {
   "cell_type": "code",
   "execution_count": null,
   "metadata": {},
   "outputs": [],
   "source": [
    "pipeline = Detector1Pipeline()"
   ]
  },
  {
   "cell_type": "code",
   "execution_count": null,
   "metadata": {},
   "outputs": [],
   "source": [
    "pipeline.group_scale.skip = True\n",
    "pipeline.dq_init.skip = True\n",
    "pipeline.saturation.skip = True\n",
    "pipeline.ipc.skip = True\n",
    "pipeline.superbias.skip = True\n",
    "pipeline.refpix.skip = True\n",
    "pipeline.rscd.skip = True\n",
    "pipeline.firstframe.skip = True\n",
    "pipeline.lastframe.skip = True\n",
    "pipeline.linearity.skip = True\n",
    "pipeline.dark_current.skip = True\n",
    "pipeline.persistence.skip = True\n",
    "pipeline.jump.skip = True\n",
    "pipeline.ramp_fit.skip = False\n",
    "\n",
    "pipeline.gain_scale.skip = False\n",
    "pipeline.gain_scale.save_results = True\n",
    "\n",
    "pipeline.save_results = True"
   ]
  },
  {
   "cell_type": "code",
   "execution_count": null,
   "metadata": {},
   "outputs": [],
   "source": [
    "results = pipeline.run(exposure)"
   ]
  },
  {
   "cell_type": "code",
   "execution_count": null,
   "metadata": {},
   "outputs": [],
   "source": [
    "%ls"
   ]
  },
  {
   "cell_type": "code",
   "execution_count": null,
   "metadata": {},
   "outputs": [],
   "source": []
  }
 ],
 "metadata": {
  "kernelspec": {
   "display_name": "Python 3",
   "language": "python",
   "name": "python3"
  },
  "language_info": {
   "codemirror_mode": {
    "name": "ipython",
    "version": 3
   },
   "file_extension": ".py",
   "mimetype": "text/x-python",
   "name": "python",
   "nbconvert_exporter": "python",
   "pygments_lexer": "ipython3",
   "version": "3.6.6"
  }
 },
 "nbformat": 4,
 "nbformat_minor": 2
}
