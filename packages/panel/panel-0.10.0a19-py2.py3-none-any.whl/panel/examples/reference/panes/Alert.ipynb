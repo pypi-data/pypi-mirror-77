{
 "cells": [
  {
   "cell_type": "code",
   "execution_count": null,
   "metadata": {},
   "outputs": [],
   "source": [
    "import panel as pn\n",
    "pn.extension()"
   ]
  },
  {
   "cell_type": "markdown",
   "metadata": {},
   "source": [
    "# Alert Pane\n",
    "\n",
    "The ``Alert`` pane allows providing **contextual feedback messages** for typical user actions with the handful of available and flexible alert messages.\n",
    "\n",
    "It's heavily inspired by the [Bootstrap Alert](https://getbootstrap.com/docs/4.0/components/alerts/).\n",
    "\n",
    "#### Parameters:\n",
    "\n",
    "For layout and styling related parameters see the [customization user guide](../../user_guide/Customization.ipynb).\n",
    "\n",
    "* **``text``** (str): The contextual feedback message.\n",
    "* **``alert_type``** (str): The type of Alert and one of `primary`, `secondary`, `success`, `danger`, `warning`, `info`, `light`, `dark`.\n",
    "\n",
    "___"
   ]
  },
  {
   "cell_type": "code",
   "execution_count": null,
   "metadata": {},
   "outputs": [],
   "source": [
    "alert_primary=pn.pane.Alert(text=f\"\"\"\\\n",
    "            This is a **primary** alert with [an example link](https://panel.holoviz.org/).\n",
    "            Give it a click if you like.\"\"\", alert_type=\"primary\")\n",
    "alert_secondary=pn.pane.Alert(text=f\"\"\"\\\n",
    "            This is a **secondary** alert with [an example link](https://panel.holoviz.org/).\n",
    "            Give it a click if you like.\"\"\", alert_type=\"secondary\")\n",
    "alert_success=pn.pane.Alert(text=f\"\"\"\\\n",
    "            This is a **success** alert with [an example link](https://panel.holoviz.org/).\n",
    "            Give it a click if you like.\"\"\", alert_type=\"success\")\n",
    "alert_danger=pn.pane.Alert(text=f\"\"\"\\\n",
    "            This is a **danger** alert with [an example link](https://panel.holoviz.org/).\n",
    "            Give it a click if you like.\"\"\", alert_type=\"danger\")\n",
    "alert_warning=pn.pane.Alert(text=f\"\"\"\\\n",
    "            This is a **warning** alert with [an example link](https://panel.holoviz.org/).\n",
    "            Give it a click if you like.\"\"\", alert_type=\"warning\")\n",
    "alert_info=pn.pane.Alert(text=f\"\"\"\\\n",
    "            This is a **info** alert with [an example link](https://panel.holoviz.org/).\n",
    "            Give it a click if you like.\"\"\", alert_type=\"info\")\n",
    "alert_light=pn.pane.Alert(text=f\"\"\"\\\n",
    "            This is a **light** alert with [an example link](https://panel.holoviz.org/).\n",
    "            Give it a click if you like.\"\"\", alert_type=\"light\")\n",
    "alert_dark=pn.pane.Alert(text=f\"\"\"\\\n",
    "            This is a **dark** alert with [an example link](https://panel.holoviz.org/).\n",
    "            Give it a click if you like.\"\"\", alert_type=\"dark\")\n",
    "\n",
    "pn.Column(\n",
    "    alert_primary,\n",
    "    alert_secondary,\n",
    "    alert_success,\n",
    "    alert_danger,\n",
    "    alert_warning,\n",
    "    alert_info,\n",
    "    alert_light,\n",
    "    alert_dark,\n",
    "    sizing_mode=\"stretch_width\",\n",
    ")"
   ]
  },
  {
   "cell_type": "markdown",
   "metadata": {},
   "source": [
    "## Additional Content"
   ]
  },
  {
   "cell_type": "code",
   "execution_count": null,
   "metadata": {},
   "outputs": [],
   "source": [
    "text = \"\"\"\\\n",
    "#### Well done!\n",
    "\n",
    "Aww yeah, you successfully read this important alert message. This example text is going to run a bit longer so that you can see how spacing within an alert works with this kind of content.\n",
    "<hr>\n",
    "\n",
    "Did you notice the use of the divider?\n",
    "\"\"\"\n",
    "pn.pane.Alert(text=text,alert_type=\"success\")"
   ]
  },
  {
   "cell_type": "code",
   "execution_count": null,
   "metadata": {},
   "outputs": [],
   "source": []
  }
 ],
 "metadata": {
  "kernelspec": {
   "display_name": "panel",
   "language": "python",
   "name": "panel"
  },
  "language_info": {
   "codemirror_mode": {
    "name": "ipython",
    "version": 3
   },
   "file_extension": ".py",
   "mimetype": "text/x-python",
   "name": "python",
   "nbconvert_exporter": "python",
   "pygments_lexer": "ipython3",
   "version": "3.7.4"
  }
 },
 "nbformat": 4,
 "nbformat_minor": 4
}
