{
 "cells": [
  {
   "cell_type": "markdown",
   "metadata": {},
   "source": [
    "# Signature Examples"
   ]
  },
  {
   "cell_type": "code",
   "execution_count": 1,
   "metadata": {},
   "outputs": [
    {
     "name": "stdout",
     "output_type": "stream",
     "text": [
      ">> clustergrammer2 backend version 0.16.0\n"
     ]
    }
   ],
   "source": [
    "from clustergrammer2 import Network, CGM2\n",
    "import pandas as pd\n",
    "df = {}"
   ]
  },
  {
   "cell_type": "code",
   "execution_count": 2,
   "metadata": {},
   "outputs": [],
   "source": [
    "net = Network(CGM2)"
   ]
  },
  {
   "cell_type": "code",
   "execution_count": 3,
   "metadata": {},
   "outputs": [
    {
     "data": {
      "text/plain": [
       "(38, 29)"
      ]
     },
     "execution_count": 3,
     "metadata": {},
     "output_type": "execute_result"
    }
   ],
   "source": [
    "df['data'] = pd.read_csv('rc_two_cat_clean.csv', index_col=0)\n",
    "df['meta_col'] = pd.read_csv('meta_col.csv', index_col=0)\n",
    "df['data'].shape"
   ]
  },
  {
   "cell_type": "code",
   "execution_count": 4,
   "metadata": {},
   "outputs": [],
   "source": [
    "col_cats = ['Category', 'Gender']"
   ]
  },
  {
   "cell_type": "code",
   "execution_count": 5,
   "metadata": {},
   "outputs": [
    {
     "data": {
      "text/html": [
       "<div>\n",
       "<style scoped>\n",
       "    .dataframe tbody tr th:only-of-type {\n",
       "        vertical-align: middle;\n",
       "    }\n",
       "\n",
       "    .dataframe tbody tr th {\n",
       "        vertical-align: top;\n",
       "    }\n",
       "\n",
       "    .dataframe thead th {\n",
       "        text-align: right;\n",
       "    }\n",
       "</style>\n",
       "<table border=\"1\" class=\"dataframe\">\n",
       "  <thead>\n",
       "    <tr style=\"text-align: right;\">\n",
       "      <th></th>\n",
       "      <th>color</th>\n",
       "    </tr>\n",
       "  </thead>\n",
       "  <tbody>\n",
       "    <tr>\n",
       "      <th>Cat</th>\n",
       "      <td>red</td>\n",
       "    </tr>\n",
       "    <tr>\n",
       "      <th>Dog</th>\n",
       "      <td>yellow</td>\n",
       "    </tr>\n",
       "    <tr>\n",
       "      <th>Shark</th>\n",
       "      <td>black</td>\n",
       "    </tr>\n",
       "    <tr>\n",
       "      <th>Snake</th>\n",
       "      <td>blue</td>\n",
       "    </tr>\n",
       "    <tr>\n",
       "      <th>Lizard</th>\n",
       "      <td>green</td>\n",
       "    </tr>\n",
       "  </tbody>\n",
       "</table>\n",
       "</div>"
      ],
      "text/plain": [
       "         color\n",
       "Cat        red\n",
       "Dog     yellow\n",
       "Shark    black\n",
       "Snake     blue\n",
       "Lizard   green"
      ]
     },
     "execution_count": 5,
     "metadata": {},
     "output_type": "execute_result"
    }
   ],
   "source": [
    "df['meta_cat_col'] = pd.DataFrame()\n",
    "df['meta_cat_col'].loc['Cat', 'color'] = 'red'\n",
    "df['meta_cat_col'].loc['Dog', 'color'] = 'yellow'\n",
    "df['meta_cat_col'].loc['Shark', 'color'] = 'black'\n",
    "df['meta_cat_col'].loc['Snake', 'color'] = 'blue'\n",
    "df['meta_cat_col'].loc['Lizard', 'color'] = 'green'\n",
    "df['meta_cat_col']"
   ]
  },
  {
   "cell_type": "code",
   "execution_count": 6,
   "metadata": {},
   "outputs": [
    {
     "data": {
      "application/vnd.jupyter.widget-view+json": {
       "model_id": "9242ad10502c4677a88a476be3233473",
       "version_major": 2,
       "version_minor": 0
      },
      "text/plain": [
       "CGM2(manual_cat='{\"col\": {\"col_cat_colors\": {\"Category: five\": \"#393b79\", \"Category: four\": \"#ff7f0e\", \"Catego…"
      ]
     },
     "metadata": {},
     "output_type": "display_data"
    }
   ],
   "source": [
    "n1 = Network(CGM2)\n",
    "n1.load_df(df['data'], meta_col=df['meta_col'], col_cats=col_cats)\n",
    "n1.set_global_cat_colors(df['meta_cat_col'])\n",
    "n1.set_manual_category(col='Category', preferred_cats=df['meta_cat_col'])\n",
    "n1.widget()"
   ]
  },
  {
   "cell_type": "code",
   "execution_count": 7,
   "metadata": {},
   "outputs": [],
   "source": [
    "df['sig'], df['diff'] = net.generate_signatures(df['data'], df['meta_col'], 'Category', num_top_dims=50)"
   ]
  },
  {
   "cell_type": "code",
   "execution_count": 8,
   "metadata": {},
   "outputs": [
    {
     "data": {
      "text/plain": [
       "(38, 5)"
      ]
     },
     "execution_count": 8,
     "metadata": {},
     "output_type": "execute_result"
    }
   ],
   "source": [
    "df['sig'].shape"
   ]
  },
  {
   "cell_type": "code",
   "execution_count": 9,
   "metadata": {},
   "outputs": [
    {
     "data": {
      "application/vnd.jupyter.widget-view+json": {
       "model_id": "1a5978a95e19491f9f4140a80737d5d6",
       "version_major": 2,
       "version_minor": 0
      },
      "text/plain": [
       "CGM2(network='{\"row_nodes\": [{\"name\": \"AAK1\", \"ini\": 38, \"clust\": 18, \"rank\": 19, \"rankvar\": 13}, {\"name\": \"CA…"
      ]
     },
     "metadata": {},
     "output_type": "display_data"
    }
   ],
   "source": [
    "n2 = Network(CGM2)\n",
    "n2.load_df(df['sig'])\n",
    "n2.widget()"
   ]
  },
  {
   "cell_type": "code",
   "execution_count": 10,
   "metadata": {},
   "outputs": [],
   "source": [
    "df['sim'] = net.predict_cats_from_sigs(df['data'], df['meta_col'], df['sig'], predict='Prediction')"
   ]
  },
  {
   "cell_type": "code",
   "execution_count": 11,
   "metadata": {},
   "outputs": [
    {
     "data": {
      "text/html": [
       "<div>\n",
       "<style scoped>\n",
       "    .dataframe tbody tr th:only-of-type {\n",
       "        vertical-align: middle;\n",
       "    }\n",
       "\n",
       "    .dataframe tbody tr th {\n",
       "        vertical-align: top;\n",
       "    }\n",
       "\n",
       "    .dataframe thead th {\n",
       "        text-align: right;\n",
       "    }\n",
       "</style>\n",
       "<table border=\"1\" class=\"dataframe\">\n",
       "  <thead>\n",
       "    <tr style=\"text-align: right;\">\n",
       "      <th></th>\n",
       "      <th>H1650</th>\n",
       "      <th>H23</th>\n",
       "      <th>CAL-12T</th>\n",
       "      <th>H358</th>\n",
       "      <th>H1975</th>\n",
       "      <th>HCC15</th>\n",
       "      <th>H1355</th>\n",
       "      <th>HCC827</th>\n",
       "      <th>H2405</th>\n",
       "      <th>HCC78</th>\n",
       "      <th>...</th>\n",
       "      <th>H460</th>\n",
       "      <th>H2106</th>\n",
       "      <th>H441</th>\n",
       "      <th>H1944</th>\n",
       "      <th>H1437</th>\n",
       "      <th>H1734</th>\n",
       "      <th>LOU-NH91</th>\n",
       "      <th>HCC44</th>\n",
       "      <th>A549</th>\n",
       "      <th>H1781</th>\n",
       "    </tr>\n",
       "  </thead>\n",
       "  <tbody>\n",
       "    <tr>\n",
       "      <th>five</th>\n",
       "      <td>0.121167</td>\n",
       "      <td>0.036964</td>\n",
       "      <td>-0.110731</td>\n",
       "      <td>-0.107954</td>\n",
       "      <td>0.100290</td>\n",
       "      <td>-0.126095</td>\n",
       "      <td>-0.063123</td>\n",
       "      <td>0.029794</td>\n",
       "      <td>0.370141</td>\n",
       "      <td>0.501370</td>\n",
       "      <td>...</td>\n",
       "      <td>-0.160114</td>\n",
       "      <td>-0.281236</td>\n",
       "      <td>0.184263</td>\n",
       "      <td>0.083446</td>\n",
       "      <td>-0.216584</td>\n",
       "      <td>0.049588</td>\n",
       "      <td>0.445524</td>\n",
       "      <td>-0.021025</td>\n",
       "      <td>-0.094985</td>\n",
       "      <td>0.194000</td>\n",
       "    </tr>\n",
       "    <tr>\n",
       "      <th>four</th>\n",
       "      <td>-0.063141</td>\n",
       "      <td>0.054537</td>\n",
       "      <td>-0.026041</td>\n",
       "      <td>-0.126970</td>\n",
       "      <td>0.115162</td>\n",
       "      <td>0.058225</td>\n",
       "      <td>0.092505</td>\n",
       "      <td>0.135291</td>\n",
       "      <td>-0.104177</td>\n",
       "      <td>-0.064787</td>\n",
       "      <td>...</td>\n",
       "      <td>0.092061</td>\n",
       "      <td>0.439343</td>\n",
       "      <td>-0.050518</td>\n",
       "      <td>-0.051733</td>\n",
       "      <td>0.480398</td>\n",
       "      <td>-0.044320</td>\n",
       "      <td>-0.011915</td>\n",
       "      <td>0.196399</td>\n",
       "      <td>0.319996</td>\n",
       "      <td>-0.110086</td>\n",
       "    </tr>\n",
       "    <tr>\n",
       "      <th>one</th>\n",
       "      <td>0.226660</td>\n",
       "      <td>-0.008979</td>\n",
       "      <td>0.011027</td>\n",
       "      <td>0.526220</td>\n",
       "      <td>0.234505</td>\n",
       "      <td>-0.098671</td>\n",
       "      <td>-0.020071</td>\n",
       "      <td>0.717681</td>\n",
       "      <td>0.037199</td>\n",
       "      <td>0.295746</td>\n",
       "      <td>...</td>\n",
       "      <td>0.005295</td>\n",
       "      <td>-0.068144</td>\n",
       "      <td>0.699844</td>\n",
       "      <td>0.028312</td>\n",
       "      <td>-0.170840</td>\n",
       "      <td>0.733166</td>\n",
       "      <td>-0.053984</td>\n",
       "      <td>-0.060687</td>\n",
       "      <td>-0.045212</td>\n",
       "      <td>0.743316</td>\n",
       "    </tr>\n",
       "    <tr>\n",
       "      <th>three</th>\n",
       "      <td>-0.112177</td>\n",
       "      <td>0.140425</td>\n",
       "      <td>-0.004293</td>\n",
       "      <td>0.111011</td>\n",
       "      <td>0.259278</td>\n",
       "      <td>0.212176</td>\n",
       "      <td>0.540128</td>\n",
       "      <td>0.291518</td>\n",
       "      <td>-0.145957</td>\n",
       "      <td>-0.054862</td>\n",
       "      <td>...</td>\n",
       "      <td>0.574384</td>\n",
       "      <td>-0.260220</td>\n",
       "      <td>-0.066502</td>\n",
       "      <td>0.648816</td>\n",
       "      <td>0.185804</td>\n",
       "      <td>-0.050504</td>\n",
       "      <td>-0.050192</td>\n",
       "      <td>0.064952</td>\n",
       "      <td>0.525788</td>\n",
       "      <td>-0.014074</td>\n",
       "    </tr>\n",
       "    <tr>\n",
       "      <th>two</th>\n",
       "      <td>0.254211</td>\n",
       "      <td>0.469264</td>\n",
       "      <td>0.468497</td>\n",
       "      <td>0.177394</td>\n",
       "      <td>0.602618</td>\n",
       "      <td>0.552905</td>\n",
       "      <td>0.445596</td>\n",
       "      <td>0.151927</td>\n",
       "      <td>-0.116680</td>\n",
       "      <td>0.013736</td>\n",
       "      <td>...</td>\n",
       "      <td>-0.064721</td>\n",
       "      <td>-0.225310</td>\n",
       "      <td>0.099650</td>\n",
       "      <td>0.027130</td>\n",
       "      <td>0.186236</td>\n",
       "      <td>0.051429</td>\n",
       "      <td>0.018110</td>\n",
       "      <td>0.169236</td>\n",
       "      <td>0.183301</td>\n",
       "      <td>0.104978</td>\n",
       "    </tr>\n",
       "  </tbody>\n",
       "</table>\n",
       "<p>5 rows × 29 columns</p>\n",
       "</div>"
      ],
      "text/plain": [
       "          H1650       H23   CAL-12T      H358     H1975     HCC15     H1355  \\\n",
       "five   0.121167  0.036964 -0.110731 -0.107954  0.100290 -0.126095 -0.063123   \n",
       "four  -0.063141  0.054537 -0.026041 -0.126970  0.115162  0.058225  0.092505   \n",
       "one    0.226660 -0.008979  0.011027  0.526220  0.234505 -0.098671 -0.020071   \n",
       "three -0.112177  0.140425 -0.004293  0.111011  0.259278  0.212176  0.540128   \n",
       "two    0.254211  0.469264  0.468497  0.177394  0.602618  0.552905  0.445596   \n",
       "\n",
       "         HCC827     H2405     HCC78  ...      H460     H2106      H441  \\\n",
       "five   0.029794  0.370141  0.501370  ... -0.160114 -0.281236  0.184263   \n",
       "four   0.135291 -0.104177 -0.064787  ...  0.092061  0.439343 -0.050518   \n",
       "one    0.717681  0.037199  0.295746  ...  0.005295 -0.068144  0.699844   \n",
       "three  0.291518 -0.145957 -0.054862  ...  0.574384 -0.260220 -0.066502   \n",
       "two    0.151927 -0.116680  0.013736  ... -0.064721 -0.225310  0.099650   \n",
       "\n",
       "          H1944     H1437     H1734  LOU-NH91     HCC44      A549     H1781  \n",
       "five   0.083446 -0.216584  0.049588  0.445524 -0.021025 -0.094985  0.194000  \n",
       "four  -0.051733  0.480398 -0.044320 -0.011915  0.196399  0.319996 -0.110086  \n",
       "one    0.028312 -0.170840  0.733166 -0.053984 -0.060687 -0.045212  0.743316  \n",
       "three  0.648816  0.185804 -0.050504 -0.050192  0.064952  0.525788 -0.014074  \n",
       "two    0.027130  0.186236  0.051429  0.018110  0.169236  0.183301  0.104978  \n",
       "\n",
       "[5 rows x 29 columns]"
      ]
     },
     "execution_count": 11,
     "metadata": {},
     "output_type": "execute_result"
    }
   ],
   "source": [
    "df['sim']"
   ]
  },
  {
   "cell_type": "code",
   "execution_count": 12,
   "metadata": {},
   "outputs": [
    {
     "data": {
      "text/html": [
       "<div>\n",
       "<style scoped>\n",
       "    .dataframe tbody tr th:only-of-type {\n",
       "        vertical-align: middle;\n",
       "    }\n",
       "\n",
       "    .dataframe tbody tr th {\n",
       "        vertical-align: top;\n",
       "    }\n",
       "\n",
       "    .dataframe thead th {\n",
       "        text-align: right;\n",
       "    }\n",
       "</style>\n",
       "<table border=\"1\" class=\"dataframe\">\n",
       "  <thead>\n",
       "    <tr style=\"text-align: right;\">\n",
       "      <th></th>\n",
       "      <th>Category</th>\n",
       "      <th>Gender</th>\n",
       "      <th>Prediction</th>\n",
       "    </tr>\n",
       "  </thead>\n",
       "  <tbody>\n",
       "    <tr>\n",
       "      <th>H1650</th>\n",
       "      <td>two</td>\n",
       "      <td>Male</td>\n",
       "      <td>two</td>\n",
       "    </tr>\n",
       "    <tr>\n",
       "      <th>H23</th>\n",
       "      <td>two</td>\n",
       "      <td>Male</td>\n",
       "      <td>two</td>\n",
       "    </tr>\n",
       "    <tr>\n",
       "      <th>CAL-12T</th>\n",
       "      <td>two</td>\n",
       "      <td>Male</td>\n",
       "      <td>two</td>\n",
       "    </tr>\n",
       "    <tr>\n",
       "      <th>H358</th>\n",
       "      <td>one</td>\n",
       "      <td>Male</td>\n",
       "      <td>one</td>\n",
       "    </tr>\n",
       "    <tr>\n",
       "      <th>H1975</th>\n",
       "      <td>two</td>\n",
       "      <td>Female</td>\n",
       "      <td>two</td>\n",
       "    </tr>\n",
       "  </tbody>\n",
       "</table>\n",
       "</div>"
      ],
      "text/plain": [
       "        Category  Gender Prediction\n",
       "H1650        two    Male        two\n",
       "H23          two    Male        two\n",
       "CAL-12T      two    Male        two\n",
       "H358         one    Male        one\n",
       "H1975        two  Female        two"
      ]
     },
     "execution_count": 12,
     "metadata": {},
     "output_type": "execute_result"
    }
   ],
   "source": [
    "df['meta_col'].head()"
   ]
  },
  {
   "cell_type": "code",
   "execution_count": 13,
   "metadata": {},
   "outputs": [],
   "source": [
    "col_cats = ['Category', 'Prediction', 'Gender']"
   ]
  },
  {
   "cell_type": "code",
   "execution_count": 14,
   "metadata": {},
   "outputs": [
    {
     "data": {
      "application/vnd.jupyter.widget-view+json": {
       "model_id": "70ca85c609404699a7c7eb71de69361c",
       "version_major": 2,
       "version_minor": 0
      },
      "text/plain": [
       "CGM2(manual_cat='{\"col\": {\"col_cat_colors\": {\"Category: five\": \"#393b79\", \"Category: four\": \"#ff7f0e\", \"Catego…"
      ]
     },
     "metadata": {},
     "output_type": "display_data"
    }
   ],
   "source": [
    "n1 = Network(CGM2)\n",
    "n1.load_df(df['data'], meta_col=df['meta_col'], col_cats=col_cats)\n",
    "n1.set_global_cat_colors(df['meta_cat_col'])\n",
    "n1.set_manual_category(col='Category', preferred_cats=df['meta_cat_col'])\n",
    "n1.widget()"
   ]
  },
  {
   "cell_type": "code",
   "execution_count": 15,
   "metadata": {},
   "outputs": [],
   "source": [
    "df['conf'], ser_correct, fraction_correct = n2.assess_prediction(df['meta_col'], 'Category', 'Prediction')"
   ]
  },
  {
   "cell_type": "code",
   "execution_count": 16,
   "metadata": {},
   "outputs": [
    {
     "data": {
      "text/plain": [
       "five     1.000000\n",
       "four     0.857143\n",
       "one      1.000000\n",
       "three    1.000000\n",
       "two      1.000000\n",
       "dtype: float64"
      ]
     },
     "execution_count": 16,
     "metadata": {},
     "output_type": "execute_result"
    }
   ],
   "source": [
    "ser_correct"
   ]
  },
  {
   "cell_type": "code",
   "execution_count": 17,
   "metadata": {},
   "outputs": [
    {
     "data": {
      "text/plain": [
       "0.9655172413793104"
      ]
     },
     "execution_count": 17,
     "metadata": {},
     "output_type": "execute_result"
    }
   ],
   "source": [
    "fraction_correct"
   ]
  },
  {
   "cell_type": "code",
   "execution_count": 18,
   "metadata": {},
   "outputs": [
    {
     "data": {
      "application/vnd.jupyter.widget-view+json": {
       "model_id": "be5b236005ad4e0da4b6141e39476006",
       "version_major": 2,
       "version_minor": 0
      },
      "text/plain": [
       "CGM2(network='{\"row_nodes\": [{\"name\": \"five\", \"ini\": 5, \"clust\": 3, \"rank\": 1, \"rankvar\": 3}, {\"name\": \"four\",…"
      ]
     },
     "metadata": {},
     "output_type": "display_data"
    }
   ],
   "source": [
    "net.load_df(df['conf'])\n",
    "net.widget()"
   ]
  },
  {
   "cell_type": "code",
   "execution_count": null,
   "metadata": {},
   "outputs": [],
   "source": []
  }
 ],
 "metadata": {
  "kernelspec": {
   "display_name": "Python 3",
   "language": "python",
   "name": "python3"
  },
  "language_info": {
   "codemirror_mode": {
    "name": "ipython",
    "version": 3
   },
   "file_extension": ".py",
   "mimetype": "text/x-python",
   "name": "python",
   "nbconvert_exporter": "python",
   "pygments_lexer": "ipython3",
   "version": "3.6.5"
  }
 },
 "nbformat": 4,
 "nbformat_minor": 2
}
