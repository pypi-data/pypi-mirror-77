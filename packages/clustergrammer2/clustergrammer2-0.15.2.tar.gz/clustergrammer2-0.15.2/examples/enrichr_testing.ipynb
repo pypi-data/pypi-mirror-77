{
 "cells": [
  {
   "cell_type": "code",
   "execution_count": 1,
   "metadata": {},
   "outputs": [],
   "source": [
    "import requests\n",
    "import json"
   ]
  },
  {
   "cell_type": "markdown",
   "metadata": {},
   "source": [
    "### Post List"
   ]
  },
  {
   "cell_type": "code",
   "execution_count": 20,
   "metadata": {},
   "outputs": [
    {
     "data": {
      "text/plain": [
       "'TP53\\nACE2'"
      ]
     },
     "execution_count": 20,
     "metadata": {},
     "output_type": "execute_result"
    }
   ],
   "source": [
    "input_genes = '\\n'.join(['TP53', 'ACE2'])\n",
    "input_genes"
   ]
  },
  {
   "cell_type": "code",
   "execution_count": 21,
   "metadata": {},
   "outputs": [],
   "source": [
    "post_url = 'http://amp.pharm.mssm.edu/Enrichr/addList'"
   ]
  },
  {
   "cell_type": "code",
   "execution_count": 22,
   "metadata": {},
   "outputs": [],
   "source": [
    "params = {'list':input_genes, 'description':''}"
   ]
  },
  {
   "cell_type": "code",
   "execution_count": 23,
   "metadata": {},
   "outputs": [],
   "source": [
    "post_response = requests.post(post_url, files=params)"
   ]
  },
  {
   "cell_type": "code",
   "execution_count": 24,
   "metadata": {},
   "outputs": [],
   "source": [
    "inst_dict = json.loads( post_response.text )\n",
    "user_list_id = str(inst_dict['userListId'])"
   ]
  },
  {
   "cell_type": "code",
   "execution_count": 25,
   "metadata": {},
   "outputs": [
    {
     "data": {
      "text/plain": [
       "'27328724'"
      ]
     },
     "execution_count": 25,
     "metadata": {},
     "output_type": "execute_result"
    }
   ],
   "source": [
    "user_list_id"
   ]
  },
  {
   "cell_type": "markdown",
   "metadata": {},
   "source": [
    "### Get List"
   ]
  },
  {
   "cell_type": "code",
   "execution_count": 8,
   "metadata": {},
   "outputs": [],
   "source": [
    "get_url = 'http://amp.pharm.mssm.edu/Enrichr/view?userListId=' + str(user_list_id)\n",
    "response = requests.get(get_url)"
   ]
  },
  {
   "cell_type": "code",
   "execution_count": 9,
   "metadata": {},
   "outputs": [
    {
     "data": {
      "text/plain": [
       "<Response [200]>"
      ]
     },
     "execution_count": 9,
     "metadata": {},
     "output_type": "execute_result"
    }
   ],
   "source": [
    "response"
   ]
  },
  {
   "cell_type": "code",
   "execution_count": 10,
   "metadata": {},
   "outputs": [
    {
     "name": "stdout",
     "output_type": "stream",
     "text": [
      "{'genes': ['ACE2', 'TP53'], 'description': None}\n"
     ]
    }
   ],
   "source": [
    "if not response.ok:\n",
    "    raise Exception('Error getting gene list')\n",
    "    \n",
    "data = json.loads(response.text)\n",
    "print(data)"
   ]
  },
  {
   "cell_type": "markdown",
   "metadata": {},
   "source": [
    "### Enrichment Results"
   ]
  },
  {
   "cell_type": "code",
   "execution_count": 11,
   "metadata": {},
   "outputs": [
    {
     "data": {
      "text/plain": [
       "'27328253'"
      ]
     },
     "execution_count": 11,
     "metadata": {},
     "output_type": "execute_result"
    }
   ],
   "source": [
    "user_list_id"
   ]
  },
  {
   "cell_type": "code",
   "execution_count": 12,
   "metadata": {},
   "outputs": [],
   "source": [
    "lib = 'KEGG_2015'\n",
    "\n",
    "# define the get url\n",
    "get_url = 'http://amp.pharm.mssm.edu/Enrichr/enrich'\n",
    "\n",
    "# get parameters\n",
    "params = {'backgroundType':lib,'userListId':user_list_id}\n",
    "\n",
    "get_response = requests.get( get_url, params=params )\n",
    "\n"
   ]
  },
  {
   "cell_type": "code",
   "execution_count": 13,
   "metadata": {},
   "outputs": [
    {
     "data": {
      "text/plain": [
       "<Response [200]>"
      ]
     },
     "execution_count": 13,
     "metadata": {},
     "output_type": "execute_result"
    }
   ],
   "source": [
    "get_response"
   ]
  },
  {
   "cell_type": "code",
   "execution_count": 14,
   "metadata": {},
   "outputs": [
    {
     "data": {
      "text/plain": [
       "'{\"KEGG_2015\":[[1,\"renin angiotensin system\",0.0016992869527882334,588.2352941176471,3751.4979737915687,[\"ACE2\"],0.3041723645490938,0,0],[2,\"amyotrophic lateral sclerosis\",0.001899109329170248,526.3157894736842,3298.089619389264,[\"TP53\"],0.1699702849607372,0,0],[3,\"thyroid cancer\",0.002897922564739808,344.8275862068965,2015.0900536835345,[\"TP53\"],0.17290937969614187,0,0],[4,\"huntingtons disease\",0.00309762542370701,322.5806451612903,1863.5869204405342,[\"TP53\"],0.1386187377108887,0,0],[5,\"bladder cancer\",0.003996041440723076,250.0,1380.612761924571,[\"TP53\"],0.1430582835778861,0,0],[6,\"endometrial cancer\",0.005193300748193329,192.30769230769232,1011.61265416241,[\"TP53\"],0.15493347232110097,0,0],[7,\"non small cell lung cancer\",0.005293039910401261,188.67924528301884,988.9363294172715,[\"TP53\"],0.13535059199454652,0,0],[8,\"basal cell carcinoma\",0.005492503256038262,181.8181818181818,946.2493019800623,[\"TP53\"],0.12289476035385612,0,0],[9,\"glioma\",0.006190467675512963,161.29032258064515,820.1201035072553,[\"TP53\"],0.12312152376853559,0,0],[10,\"melanoma\",0.007087490920053819,140.8450704225352,697.1019564859495,[\"TP53\"],0.12686608746896336,0,0],[11,\"pancreatic cancer\",0.007286774475902416,136.98630136986299,674.2046972053784,[\"TP53\"],0.11857569374423022,0,0],[12,\"chronic myeloid leukemia\",0.007486038050232215,133.33333333333334,652.6287448880709,[\"TP53\"],0.1116667342492972,0,0],[13,\"apoptosis\",0.008083708881011413,123.45679012345678,594.8030236838762,[\"TP53\"],0.11130645305392638,0,0],[14,\"colorectal cancer\",0.008382476852548074,119.04761904761904,569.2395048844836,[\"TP53\"],0.10717595404329323,0,0],[15,\"small cell lung cancer\",0.008482056184046008,117.6470588235294,561.1532216513878,[\"TP53\"],0.10121920379628237,0,0],[16,\"prostate cancer\",0.008581630520246299,116.27906976744185,553.2710867688753,[\"TP53\"],0.09600699144525547,0,0],[17,\"cell cycle\",0.01037311415769714,96.15384615384616,439.28249974230516,[\"TP53\"],0.10922279024869341,0,0],[18,\"mapk signaling pathway\",0.02464668600494879,40.32258064516129,149.31906570651125,[\"TP53\"],0.24509759971587963,0,0]]}'"
      ]
     },
     "execution_count": 14,
     "metadata": {},
     "output_type": "execute_result"
    }
   ],
   "source": [
    "get_response.text"
   ]
  },
  {
   "cell_type": "code",
   "execution_count": 15,
   "metadata": {},
   "outputs": [],
   "source": [
    "# load as dictionary\n",
    "resp_json = json.loads( get_response.text )\n",
    "\n",
    "# get the key\n",
    "only_key = list(resp_json.keys())[0]\n",
    "\n",
    "# get response_list\n",
    "response_list = resp_json[only_key]"
   ]
  },
  {
   "cell_type": "code",
   "execution_count": 16,
   "metadata": {},
   "outputs": [
    {
     "data": {
      "text/plain": [
       "[[1,\n",
       "  'renin angiotensin system',\n",
       "  0.0016992869527882334,\n",
       "  588.2352941176471,\n",
       "  3751.4979737915687,\n",
       "  ['ACE2'],\n",
       "  0.3041723645490938,\n",
       "  0,\n",
       "  0],\n",
       " [2,\n",
       "  'amyotrophic lateral sclerosis',\n",
       "  0.001899109329170248,\n",
       "  526.3157894736842,\n",
       "  3298.089619389264,\n",
       "  ['TP53'],\n",
       "  0.1699702849607372,\n",
       "  0,\n",
       "  0],\n",
       " [3,\n",
       "  'thyroid cancer',\n",
       "  0.002897922564739808,\n",
       "  344.8275862068965,\n",
       "  2015.0900536835345,\n",
       "  ['TP53'],\n",
       "  0.17290937969614187,\n",
       "  0,\n",
       "  0],\n",
       " [4,\n",
       "  'huntingtons disease',\n",
       "  0.00309762542370701,\n",
       "  322.5806451612903,\n",
       "  1863.5869204405342,\n",
       "  ['TP53'],\n",
       "  0.1386187377108887,\n",
       "  0,\n",
       "  0],\n",
       " [5,\n",
       "  'bladder cancer',\n",
       "  0.003996041440723076,\n",
       "  250.0,\n",
       "  1380.612761924571,\n",
       "  ['TP53'],\n",
       "  0.1430582835778861,\n",
       "  0,\n",
       "  0],\n",
       " [6,\n",
       "  'endometrial cancer',\n",
       "  0.005193300748193329,\n",
       "  192.30769230769232,\n",
       "  1011.61265416241,\n",
       "  ['TP53'],\n",
       "  0.15493347232110097,\n",
       "  0,\n",
       "  0],\n",
       " [7,\n",
       "  'non small cell lung cancer',\n",
       "  0.005293039910401261,\n",
       "  188.67924528301884,\n",
       "  988.9363294172715,\n",
       "  ['TP53'],\n",
       "  0.13535059199454652,\n",
       "  0,\n",
       "  0],\n",
       " [8,\n",
       "  'basal cell carcinoma',\n",
       "  0.005492503256038262,\n",
       "  181.8181818181818,\n",
       "  946.2493019800623,\n",
       "  ['TP53'],\n",
       "  0.12289476035385612,\n",
       "  0,\n",
       "  0],\n",
       " [9,\n",
       "  'glioma',\n",
       "  0.006190467675512963,\n",
       "  161.29032258064515,\n",
       "  820.1201035072553,\n",
       "  ['TP53'],\n",
       "  0.12312152376853559,\n",
       "  0,\n",
       "  0],\n",
       " [10,\n",
       "  'melanoma',\n",
       "  0.007087490920053819,\n",
       "  140.8450704225352,\n",
       "  697.1019564859495,\n",
       "  ['TP53'],\n",
       "  0.12686608746896336,\n",
       "  0,\n",
       "  0],\n",
       " [11,\n",
       "  'pancreatic cancer',\n",
       "  0.007286774475902416,\n",
       "  136.98630136986299,\n",
       "  674.2046972053784,\n",
       "  ['TP53'],\n",
       "  0.11857569374423022,\n",
       "  0,\n",
       "  0],\n",
       " [12,\n",
       "  'chronic myeloid leukemia',\n",
       "  0.007486038050232215,\n",
       "  133.33333333333334,\n",
       "  652.6287448880709,\n",
       "  ['TP53'],\n",
       "  0.1116667342492972,\n",
       "  0,\n",
       "  0],\n",
       " [13,\n",
       "  'apoptosis',\n",
       "  0.008083708881011413,\n",
       "  123.45679012345678,\n",
       "  594.8030236838762,\n",
       "  ['TP53'],\n",
       "  0.11130645305392638,\n",
       "  0,\n",
       "  0],\n",
       " [14,\n",
       "  'colorectal cancer',\n",
       "  0.008382476852548074,\n",
       "  119.04761904761904,\n",
       "  569.2395048844836,\n",
       "  ['TP53'],\n",
       "  0.10717595404329323,\n",
       "  0,\n",
       "  0],\n",
       " [15,\n",
       "  'small cell lung cancer',\n",
       "  0.008482056184046008,\n",
       "  117.6470588235294,\n",
       "  561.1532216513878,\n",
       "  ['TP53'],\n",
       "  0.10121920379628237,\n",
       "  0,\n",
       "  0],\n",
       " [16,\n",
       "  'prostate cancer',\n",
       "  0.008581630520246299,\n",
       "  116.27906976744185,\n",
       "  553.2710867688753,\n",
       "  ['TP53'],\n",
       "  0.09600699144525547,\n",
       "  0,\n",
       "  0],\n",
       " [17,\n",
       "  'cell cycle',\n",
       "  0.01037311415769714,\n",
       "  96.15384615384616,\n",
       "  439.28249974230516,\n",
       "  ['TP53'],\n",
       "  0.10922279024869341,\n",
       "  0,\n",
       "  0],\n",
       " [18,\n",
       "  'mapk signaling pathway',\n",
       "  0.02464668600494879,\n",
       "  40.32258064516129,\n",
       "  149.31906570651125,\n",
       "  ['TP53'],\n",
       "  0.24509759971587963,\n",
       "  0,\n",
       "  0]]"
      ]
     },
     "execution_count": 16,
     "metadata": {},
     "output_type": "execute_result"
    }
   ],
   "source": [
    "response_list"
   ]
  },
  {
   "cell_type": "markdown",
   "metadata": {},
   "source": [
    "### Alternate Enrichr"
   ]
  },
  {
   "cell_type": "code",
   "execution_count": 26,
   "metadata": {},
   "outputs": [
    {
     "ename": "Exception",
     "evalue": "Error fetching enrichment results",
     "output_type": "error",
     "traceback": [
      "\u001b[0;31m---------------------------------------------------------------------------\u001b[0m",
      "\u001b[0;31mException\u001b[0m                                 Traceback (most recent call last)",
      "\u001b[0;32m<ipython-input-26-26e1e58b3bee>\u001b[0m in \u001b[0;36m<module>\u001b[0;34m()\u001b[0m\n\u001b[1;32m      7\u001b[0m  )\n\u001b[1;32m      8\u001b[0m \u001b[0;32mif\u001b[0m \u001b[0;32mnot\u001b[0m \u001b[0mresponse\u001b[0m\u001b[0;34m.\u001b[0m\u001b[0mok\u001b[0m\u001b[0;34m:\u001b[0m\u001b[0;34m\u001b[0m\u001b[0m\n\u001b[0;32m----> 9\u001b[0;31m     \u001b[0;32mraise\u001b[0m \u001b[0mException\u001b[0m\u001b[0;34m(\u001b[0m\u001b[0;34m'Error fetching enrichment results'\u001b[0m\u001b[0;34m)\u001b[0m\u001b[0;34m\u001b[0m\u001b[0m\n\u001b[0m\u001b[1;32m     10\u001b[0m \u001b[0;34m\u001b[0m\u001b[0m\n\u001b[1;32m     11\u001b[0m \u001b[0mdata\u001b[0m \u001b[0;34m=\u001b[0m \u001b[0mjson\u001b[0m\u001b[0;34m.\u001b[0m\u001b[0mloads\u001b[0m\u001b[0;34m(\u001b[0m\u001b[0mresponse\u001b[0m\u001b[0;34m.\u001b[0m\u001b[0mtext\u001b[0m\u001b[0;34m)\u001b[0m\u001b[0;34m\u001b[0m\u001b[0m\n",
      "\u001b[0;31mException\u001b[0m: Error fetching enrichment results"
     ]
    }
   ],
   "source": [
    "ENRICHR_URL = 'http://amp.pharm.mssm.edu/Enrichr/enrich'\n",
    "query_string = '?userListId=%s&backgroundType=%s'\n",
    "user_list_id = 363320\n",
    "gene_set_library = 'KEGG_2015'\n",
    "response = requests.get(\n",
    "    ENRICHR_URL + query_string % (user_list_id, gene_set_library)\n",
    " )\n",
    "if not response.ok:\n",
    "    raise Exception('Error fetching enrichment results')\n",
    "\n",
    "data = json.loads(response.text)"
   ]
  },
  {
   "cell_type": "code",
   "execution_count": null,
   "metadata": {},
   "outputs": [],
   "source": []
  }
 ],
 "metadata": {
  "kernelspec": {
   "display_name": "Python 3",
   "language": "python",
   "name": "python3"
  },
  "language_info": {
   "codemirror_mode": {
    "name": "ipython",
    "version": 3
   },
   "file_extension": ".py",
   "mimetype": "text/x-python",
   "name": "python",
   "nbconvert_exporter": "python",
   "pygments_lexer": "ipython3",
   "version": "3.6.5"
  }
 },
 "nbformat": 4,
 "nbformat_minor": 2
}
