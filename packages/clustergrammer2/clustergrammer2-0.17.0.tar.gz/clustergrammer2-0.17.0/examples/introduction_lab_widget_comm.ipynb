{
 "cells": [
  {
   "cell_type": "markdown",
   "metadata": {},
   "source": [
    "# Introduction \n",
    "Demonstrating widget two-way communication."
   ]
  },
  {
   "cell_type": "code",
   "execution_count": 1,
   "metadata": {},
   "outputs": [
    {
     "name": "stdout",
     "output_type": "stream",
     "text": [
      ">> clustergrammer2 backend version 0.13.2\n"
     ]
    }
   ],
   "source": [
    "import ipywidgets as widgets\n",
    "from clustergrammer2 import Network, CGM2\n",
    "import json\n",
    "import pandas as pd\n",
    "df = {}\n",
    "net = {}"
   ]
  },
  {
   "cell_type": "markdown",
   "metadata": {},
   "source": [
    "\n",
    "### Load Data"
   ]
  },
  {
   "cell_type": "code",
   "execution_count": 2,
   "metadata": {},
   "outputs": [
    {
     "data": {
      "text/plain": [
       "(38, 29)"
      ]
     },
     "execution_count": 2,
     "metadata": {},
     "output_type": "execute_result"
    }
   ],
   "source": [
    "df['clean'] = pd.read_csv('rc_two_cat_clean.csv', index_col=0)\n",
    "df['meta_col'] = pd.read_csv('meta_col.csv', index_col=0)\n",
    "df['clean'].shape"
   ]
  },
  {
   "cell_type": "code",
   "execution_count": 3,
   "metadata": {},
   "outputs": [
    {
     "data": {
      "text/html": [
       "<div>\n",
       "<style scoped>\n",
       "    .dataframe tbody tr th:only-of-type {\n",
       "        vertical-align: middle;\n",
       "    }\n",
       "\n",
       "    .dataframe tbody tr th {\n",
       "        vertical-align: top;\n",
       "    }\n",
       "\n",
       "    .dataframe thead th {\n",
       "        text-align: right;\n",
       "    }\n",
       "</style>\n",
       "<table border=\"1\" class=\"dataframe\">\n",
       "  <thead>\n",
       "    <tr style=\"text-align: right;\">\n",
       "      <th></th>\n",
       "      <th>color</th>\n",
       "    </tr>\n",
       "  </thead>\n",
       "  <tbody>\n",
       "    <tr>\n",
       "      <th>Cat</th>\n",
       "      <td>red</td>\n",
       "    </tr>\n",
       "    <tr>\n",
       "      <th>Dog</th>\n",
       "      <td>yellow</td>\n",
       "    </tr>\n",
       "    <tr>\n",
       "      <th>Shark</th>\n",
       "      <td>black</td>\n",
       "    </tr>\n",
       "    <tr>\n",
       "      <th>Snake</th>\n",
       "      <td>blue</td>\n",
       "    </tr>\n",
       "    <tr>\n",
       "      <th>Lizard</th>\n",
       "      <td>green</td>\n",
       "    </tr>\n",
       "  </tbody>\n",
       "</table>\n",
       "</div>"
      ],
      "text/plain": [
       "         color\n",
       "Cat        red\n",
       "Dog     yellow\n",
       "Shark    black\n",
       "Snake     blue\n",
       "Lizard   green"
      ]
     },
     "execution_count": 3,
     "metadata": {},
     "output_type": "execute_result"
    }
   ],
   "source": [
    "df['meta_cat_col'] = pd.DataFrame()\n",
    "df['meta_cat_col'].loc['Cat', 'color'] = 'red'\n",
    "df['meta_cat_col'].loc['Dog', 'color'] = 'yellow'\n",
    "df['meta_cat_col'].loc['Shark', 'color'] = 'black'\n",
    "df['meta_cat_col'].loc['Snake', 'color'] = 'blue'\n",
    "df['meta_cat_col'].loc['Lizard', 'color'] = 'green'\n",
    "df['meta_cat_col']"
   ]
  },
  {
   "cell_type": "code",
   "execution_count": 4,
   "metadata": {},
   "outputs": [],
   "source": [
    "viz_cats = ['Category', 'Gender']"
   ]
  },
  {
   "cell_type": "markdown",
   "metadata": {},
   "source": [
    "### Heatmap 1"
   ]
  },
  {
   "cell_type": "code",
   "execution_count": 5,
   "metadata": {},
   "outputs": [
    {
     "data": {
      "application/vnd.jupyter.widget-view+json": {
       "model_id": "0eae790cf5c042dc854a9c81a0bcc405",
       "version_major": 2,
       "version_minor": 0
      },
      "text/plain": [
       "CGM2(manual_cat='{\"col\": {\"col_cat_colors\": {\"Category: five\": \"#393b79\", \"Category: four\": \"#ff7f0e\", \"Catego…"
      ]
     },
     "metadata": {},
     "output_type": "display_data"
    }
   ],
   "source": [
    "n1 = Network(CGM2)\n",
    "n1.load_df(df['clean'], meta_col=df['meta_col'], col_cats=viz_cats)\n",
    "n1.normalize(axis='row', norm_type='zscore')\n",
    "n1.set_manual_category(col='Category', preferred_cats=df['meta_cat_col'])\n",
    "n1.widget()"
   ]
  },
  {
   "cell_type": "markdown",
   "metadata": {},
   "source": [
    "### Heatmap 2"
   ]
  },
  {
   "cell_type": "code",
   "execution_count": 6,
   "metadata": {},
   "outputs": [
    {
     "data": {
      "application/vnd.jupyter.widget-view+json": {
       "model_id": "40996c77978f48e89c3e0883005d2d1a",
       "version_major": 2,
       "version_minor": 0
      },
      "text/plain": [
       "CGM2(manual_cat='{\"col\": {\"col_cat_colors\": {\"Category: 1111111111111\": \"#393b79\", \"Category: five\": \"#ff7f0e\"…"
      ]
     },
     "metadata": {},
     "output_type": "display_data"
    }
   ],
   "source": [
    "n2 = Network(CGM2)\n",
    "n2.load_df(df['clean'], meta_col=df['meta_col'], col_cats=viz_cats)\n",
    "n2.set_manual_category(col='Category', preferred_cats=df['meta_cat_col'])\n",
    "n2.widget(link_net=n1)"
   ]
  },
  {
   "cell_type": "markdown",
   "metadata": {},
   "source": [
    "### Heatmap 3"
   ]
  },
  {
   "cell_type": "code",
   "execution_count": 7,
   "metadata": {},
   "outputs": [
    {
     "data": {
      "application/vnd.jupyter.widget-view+json": {
       "model_id": "53499f8e16a84414a98142b0daa15405",
       "version_major": 2,
       "version_minor": 0
      },
      "text/plain": [
       "CGM2(manual_cat='{\"col\": {\"col_cat_colors\": {\"Category: 1111111111111\": \"#393b79\", \"Category: 222222222222\": \"…"
      ]
     },
     "metadata": {},
     "output_type": "display_data"
    }
   ],
   "source": [
    "n3 = Network(CGM2)\n",
    "n3.load_df(df['clean'], meta_col=df['meta_col'], col_cats=viz_cats)\n",
    "n3.set_manual_category(col='Category', preferred_cats=df['meta_cat_col'])\n",
    "n3.widget(link_net=n2)"
   ]
  },
  {
   "cell_type": "code",
   "execution_count": 13,
   "metadata": {},
   "outputs": [
    {
     "data": {
      "text/plain": [
       "five                 5\n",
       "3333333333333        5\n",
       "Lizard               5\n",
       "four                 4\n",
       "222222222222         3\n",
       "two                  3\n",
       "11111111111111111    2\n",
       "three                2\n",
       "Name: Category, dtype: int64"
      ]
     },
     "execution_count": 13,
     "metadata": {},
     "output_type": "execute_result"
    }
   ],
   "source": [
    "df['meta_col']['Category'].value_counts()"
   ]
  },
  {
   "cell_type": "code",
   "execution_count": null,
   "metadata": {},
   "outputs": [],
   "source": [
    "# net1 = Network(Clustergrammer2)\n",
    "# net2 = Network(Clustergrammer2)"
   ]
  },
  {
   "cell_type": "code",
   "execution_count": null,
   "metadata": {},
   "outputs": [],
   "source": [
    "# sliders1, slider2 = widgets.IntSlider(description='Slider 1'),\\\n",
    "#                     widgets.IntSlider(description='Slider 2')\n",
    "# l = widgets.link((sliders1, 'value'), (slider2, 'value'))\n",
    "# display(sliders1, slider2)"
   ]
  },
  {
   "cell_type": "code",
   "execution_count": null,
   "metadata": {},
   "outputs": [],
   "source": [
    "# def update_value(new_value):\n",
    "#     w1.value = new_value"
   ]
  },
  {
   "cell_type": "code",
   "execution_count": null,
   "metadata": {},
   "outputs": [],
   "source": [
    "# w1.observe(update_value, )"
   ]
  },
  {
   "cell_type": "code",
   "execution_count": null,
   "metadata": {},
   "outputs": [],
   "source": [
    "# net2.load_df(df['clean'], meta_col=df['meta_col'], col_cats=viz_cats)\n",
    "net2.load_df(df['clean'], meta_col=net1.meta_col, col_cats=viz_cats)\n",
    "net2.set_manual_category(col='Category', preferred_cats=df['meta_cat_col'])\n",
    "w2 = net2.widget()\n",
    "w2"
   ]
  },
  {
   "cell_type": "markdown",
   "metadata": {},
   "source": [
    "# Downsample Example"
   ]
  },
  {
   "cell_type": "code",
   "execution_count": 15,
   "metadata": {},
   "outputs": [],
   "source": [
    "nds = Network(CGM2)"
   ]
  },
  {
   "cell_type": "code",
   "execution_count": 16,
   "metadata": {},
   "outputs": [
    {
     "data": {
      "application/vnd.jupyter.widget-view+json": {
       "model_id": "a9373231fa02412f8500be61c5aae0e1",
       "version_major": 2,
       "version_minor": 0
      },
      "text/plain": [
       "CGM2(manual_cat='{\"col\": {\"col_cat_colors\": {\"Gender: Female\": \"#393b79\", \"Gender: Male\": \"#ff7f0e\"}, \"Gender\"…"
      ]
     },
     "metadata": {},
     "output_type": "display_data"
    }
   ],
   "source": [
    "nds.load_df(df['clean'], meta_col=df['meta_col'], col_cats=['Gender', 'Category'])\n",
    "nds.downsample(axis='col', num_samples=5, random_state=99, ds_name='DS-Clusters', ds_cluster_name='default')\n",
    "nds.set_manual_category(col='Gender')\n",
    "nds.widget()"
   ]
  },
  {
   "cell_type": "code",
   "execution_count": null,
   "metadata": {},
   "outputs": [],
   "source": [
    "df['meta_ds_col'] = net.meta_ds_col\n",
    "df['meta_ds_col']"
   ]
  },
  {
   "cell_type": "code",
   "execution_count": null,
   "metadata": {},
   "outputs": [],
   "source": [
    "df['meta_col']"
   ]
  },
  {
   "cell_type": "code",
   "execution_count": null,
   "metadata": {},
   "outputs": [],
   "source": [
    "df['ds'] = net.export_df()\n",
    "df['ds'].head()"
   ]
  },
  {
   "cell_type": "markdown",
   "metadata": {},
   "source": [
    "# Start with Downsampled Data"
   ]
  },
  {
   "cell_type": "code",
   "execution_count": null,
   "metadata": {},
   "outputs": [],
   "source": [
    "net.load_df(df['ds'], meta_col=df['meta_col'], \n",
    "            is_downsampled=True, meta_ds_col=df['meta_ds_col'], \n",
    "            col_cats=['Category', 'Gender', 'number in clust'])\n",
    "\n",
    "net.set_manual_category(col='Category', preferred_cats=df['meta_cat_col'])\n",
    "net.widget()"
   ]
  },
  {
   "cell_type": "code",
   "execution_count": null,
   "metadata": {},
   "outputs": [],
   "source": [
    "net.get_manual_category()"
   ]
  },
  {
   "cell_type": "code",
   "execution_count": null,
   "metadata": {},
   "outputs": [],
   "source": [
    "df['meta_ds_col']"
   ]
  },
  {
   "cell_type": "code",
   "execution_count": null,
   "metadata": {},
   "outputs": [],
   "source": [
    "df['meta_col']"
   ]
  },
  {
   "cell_type": "markdown",
   "metadata": {},
   "source": [
    "### Load Subset of Cells to Relabel"
   ]
  },
  {
   "cell_type": "code",
   "execution_count": null,
   "metadata": {},
   "outputs": [],
   "source": [
    "keep_clusters = df['meta_ds_col'][df['meta_ds_col']['Category'] == 'New Category'].index.tolist()\n",
    "keep_clusters"
   ]
  },
  {
   "cell_type": "code",
   "execution_count": null,
   "metadata": {},
   "outputs": [],
   "source": [
    "net.load_df(df['ds'][keep_clusters], meta_col=df['meta_col'],\n",
    "            is_downsampled=True, meta_ds_col=df['meta_ds_col'], \n",
    "            col_cats=['Category', 'Gender', 'number in clust'])\n",
    "\n",
    "net.set_manual_category(col='Category', preferred_cats=df['meta_cat_col'])\n",
    "net.widget()"
   ]
  },
  {
   "cell_type": "code",
   "execution_count": null,
   "metadata": {},
   "outputs": [],
   "source": [
    "net.get_manual_category()"
   ]
  },
  {
   "cell_type": "code",
   "execution_count": null,
   "metadata": {},
   "outputs": [],
   "source": [
    "df['meta_ds_col']"
   ]
  },
  {
   "cell_type": "code",
   "execution_count": null,
   "metadata": {},
   "outputs": [],
   "source": [
    "df['meta_col']"
   ]
  },
  {
   "cell_type": "code",
   "execution_count": null,
   "metadata": {},
   "outputs": [],
   "source": [
    "# df['meta_col']['Granular Cell Type'] = df['meta_col']['Category']"
   ]
  },
  {
   "cell_type": "code",
   "execution_count": null,
   "metadata": {},
   "outputs": [],
   "source": [
    "# df['meta_col'].to_csv('meta_col_v2.csv')"
   ]
  },
  {
   "cell_type": "code",
   "execution_count": null,
   "metadata": {},
   "outputs": [],
   "source": []
  },
  {
   "cell_type": "code",
   "execution_count": null,
   "metadata": {},
   "outputs": [],
   "source": []
  },
  {
   "cell_type": "code",
   "execution_count": null,
   "metadata": {},
   "outputs": [],
   "source": []
  },
  {
   "cell_type": "code",
   "execution_count": null,
   "metadata": {},
   "outputs": [],
   "source": [
    "# # net.load_df(df['clean'], meta_col=df['meta_col'], meta_row=df['meta_row'], col_cats=['Gender', 'Category'])\n",
    "# net.load_df(df['ini'])\n",
    "# # net.downsample(axis='col', num_samples=5, random_state=99)\n",
    "# # net.set_manual_category(col='Gender')\n",
    "# # net.widget()"
   ]
  },
  {
   "cell_type": "code",
   "execution_count": null,
   "metadata": {},
   "outputs": [],
   "source": []
  },
  {
   "cell_type": "code",
   "execution_count": null,
   "metadata": {},
   "outputs": [],
   "source": [
    "# new_tuples = [x for x in cols]\n",
    "# new_tuples"
   ]
  },
  {
   "cell_type": "code",
   "execution_count": null,
   "metadata": {},
   "outputs": [],
   "source": [
    "# a = widgets.Text()\n",
    "# display(a)\n",
    "# mylink = widgets.jslink((a, 'value'), (net.widget_instance, 'value'))"
   ]
  },
  {
   "cell_type": "code",
   "execution_count": null,
   "metadata": {},
   "outputs": [],
   "source": [
    "# net.load_df(df['ini'])\n",
    "# net.cluster(sim_mat=True)\n",
    "# net.widget('sim_col')"
   ]
  },
  {
   "cell_type": "code",
   "execution_count": null,
   "metadata": {},
   "outputs": [],
   "source": [
    "# # destroy-viz \n",
    "# net.widget_instance.value = 'destroy-viz'"
   ]
  },
  {
   "cell_type": "markdown",
   "metadata": {},
   "source": [
    "### Random Matrix Example"
   ]
  },
  {
   "cell_type": "code",
   "execution_count": null,
   "metadata": {},
   "outputs": [],
   "source": [
    "# import numpy as np\n",
    "# import pandas as pd\n",
    "\n",
    "# # generate random matrix\n",
    "# num_rows = 100\n",
    "# num_cols = 100\n",
    "# np.random.seed(seed=100)\n",
    "# mat = np.random.rand(num_rows, num_cols)\n",
    "\n",
    "# # make row and col labels\n",
    "# rows = range(num_rows)\n",
    "# cols = range(num_cols)\n",
    "# rows = [str(i) for i in rows]\n",
    "# cols = [str(i) for i in cols]\n",
    "\n",
    "# # make dataframe \n",
    "# df['rand'] = pd.DataFrame(data=mat, columns=cols, index=rows)"
   ]
  },
  {
   "cell_type": "code",
   "execution_count": null,
   "metadata": {},
   "outputs": [],
   "source": [
    "# net.load_df(df['rand'])\n",
    "# net.widget()"
   ]
  },
  {
   "cell_type": "code",
   "execution_count": null,
   "metadata": {},
   "outputs": [],
   "source": []
  }
 ],
 "metadata": {
  "kernelspec": {
   "display_name": "Python 3",
   "language": "python",
   "name": "python3"
  },
  "language_info": {
   "codemirror_mode": {
    "name": "ipython",
    "version": 3
   },
   "file_extension": ".py",
   "mimetype": "text/x-python",
   "name": "python",
   "nbconvert_exporter": "python",
   "pygments_lexer": "ipython3",
   "version": "3.6.5"
  },
  "widgets": {
   "application/vnd.jupyter.widget-state+json": {
    "state": {
     "0eae790cf5c042dc854a9c81a0bcc405": {
      "model_module": "clustergrammer2",
      "model_module_version": "0.13.2",
      "model_name": "ExampleModel",
      "state": {
       "layout": "IPY_MODEL_c6de05c323ee4b07b93944d551931a88",
       "manual_cat": "{\"col\":{\"Category\":{\"H1650\":\"Lizard\",\"H23\":\"two\",\"CAL-12T\":\"two\",\"H358\":\"Lizard\",\"H1975\":\"two\",\"HCC15\":\"11111111111111111\",\"H1355\":\"three\",\"HCC827\":\"222222222222\",\"H2405\":\"five\",\"HCC78\":\"Lizard\",\"H1666\":\"3333333333333\",\"H661\":\"five\",\"H838\":\"five\",\"H1703\":\"five\",\"CALU-3\":\"four\",\"H2342\":\"four\",\"H2228\":\"222222222222\",\"H1299\":\"three\",\"H1792\":\"3333333333333\",\"H460\":\"3333333333333\",\"H2106\":\"four\",\"H441\":\"Lizard\",\"H1944\":\"3333333333333\",\"H1437\":\"four\",\"H1734\":\"222222222222\",\"LOU-NH91\":\"five\",\"HCC44\":\"11111111111111111\",\"A549\":\"3333333333333\",\"H1781\":\"Lizard\"}},\"col_cat_colors\":{\"Category: five\":\"#393b79\",\"Category: four\":\"#ff7f0e\",\"Category: one\":\"#98df8a\",\"Category: three\":\"#404040\",\"Category: two\":\"#c5b0d5\",\"Category: 1111111111111\":\"white\",\"Category: Lizard\":\"green\",\"Category: 11111111111111111\":\"white\"}}",
       "mat_string": "ini_mat_string",
       "network": "{\"row_nodes\": [{\"name\": \"CDK4\", \"ini\": 38, \"clust\": 29, \"rank\": 5, \"rankvar\": 5}, {\"name\": \"LMTK3\", \"ini\": 37, \"clust\": 6, \"rank\": 22, \"rankvar\": 20}, {\"name\": \"LRRK2\", \"ini\": 36, \"clust\": 15, \"rank\": 16, \"rankvar\": 6}, {\"name\": \"UHMK1\", \"ini\": 35, \"clust\": 17, \"rank\": 0, \"rankvar\": 27}, {\"name\": \"EGFR\", \"ini\": 34, \"clust\": 28, \"rank\": 9, \"rankvar\": 28}, {\"name\": \"STK32A\", \"ini\": 33, \"clust\": 32, \"rank\": 35, \"rankvar\": 21}, {\"name\": \"NRK\", \"ini\": 32, \"clust\": 30, \"rank\": 32, \"rankvar\": 0}, {\"name\": \"ERBB2\", \"ini\": 31, \"clust\": 34, \"rank\": 17, \"rankvar\": 2}, {\"name\": \"ERBB4\", \"ini\": 30, \"clust\": 23, \"rank\": 36, \"rankvar\": 22}, {\"name\": \"AAK1\", \"ini\": 29, \"clust\": 36, \"rank\": 10, \"rankvar\": 29}, {\"name\": \"SRPK3\", \"ini\": 28, \"clust\": 3, \"rank\": 27, \"rankvar\": 7}, {\"name\": \"STK39\", \"ini\": 27, \"clust\": 35, \"rank\": 37, \"rankvar\": 30}, {\"name\": \"GRK4\", \"ini\": 26, \"clust\": 2, \"rank\": 4, \"rankvar\": 8}, {\"name\": \"TBK1\", \"ini\": 25, \"clust\": 27, \"rank\": 23, \"rankvar\": 9}, {\"name\": \"INSRR\", \"ini\": 24, \"clust\": 13, \"rank\": 12, \"rankvar\": 15}, {\"name\": \"IRAK1\", \"ini\": 23, \"clust\": 25, \"rank\": 24, \"rankvar\": 31}, {\"name\": \"KDR\", \"ini\": 22, \"clust\": 33, \"rank\": 20, \"rankvar\": 23}, {\"name\": \"NPR1\", \"ini\": 21, \"clust\": 8, \"rank\": 11, \"rankvar\": 16}, {\"name\": \"PAK3\", \"ini\": 20, \"clust\": 26, \"rank\": 28, \"rankvar\": 10}, {\"name\": \"PDGFRA\", \"ini\": 19, \"clust\": 18, \"rank\": 2, \"rankvar\": 32}, {\"name\": \"PDK4\", \"ini\": 18, \"clust\": 14, \"rank\": 29, \"rankvar\": 24}, {\"name\": \"ULK4\", \"ini\": 17, \"clust\": 21, \"rank\": 13, \"rankvar\": 17}, {\"name\": \"PRKCE\", \"ini\": 16, \"clust\": 7, \"rank\": 26, \"rankvar\": 18}, {\"name\": \"PRKG2\", \"ini\": 15, \"clust\": 1, \"rank\": 30, \"rankvar\": 36}, {\"name\": \"MAPK4\", \"ini\": 14, \"clust\": 10, \"rank\": 21, \"rankvar\": 11}, {\"name\": \"MAPK11\", \"ini\": 13, \"clust\": 19, \"rank\": 25, \"rankvar\": 25}, {\"name\": \"STK31\", \"ini\": 12, \"clust\": 24, \"rank\": 33, \"rankvar\": 26}, {\"name\": \"GRK1\", \"ini\": 11, \"clust\": 11, \"rank\": 14, \"rankvar\": 33}, {\"name\": \"ROS1\", \"ini\": 10, \"clust\": 37, \"rank\": 1, \"rankvar\": 12}, {\"name\": \"MAP2K4\", \"ini\": 9, \"clust\": 20, \"rank\": 8, \"rankvar\": 19}, {\"name\": \"SRC\", \"ini\": 8, \"clust\": 16, \"rank\": 31, \"rankvar\": 13}, {\"name\": \"TGFBR1\", \"ini\": 7, \"clust\": 9, \"rank\": 18, \"rankvar\": 37}, {\"name\": \"CAMK2B\", \"ini\": 6, \"clust\": 4, \"rank\": 6, \"rankvar\": 1}, {\"name\": \"STK24\", \"ini\": 5, \"clust\": 31, \"rank\": 34, \"rankvar\": 3}, {\"name\": \"DCLK3\", \"ini\": 4, \"clust\": 0, \"rank\": 19, \"rankvar\": 14}, {\"name\": \"LATS1\", \"ini\": 3, \"clust\": 12, \"rank\": 15, \"rankvar\": 4}, {\"name\": \"NEK9\", \"ini\": 2, \"clust\": 5, \"rank\": 7, \"rankvar\": 34}, {\"name\": \"MYLK3\", \"ini\": 1, \"clust\": 22, \"rank\": 3, \"rankvar\": 35}], \"col_nodes\": [{\"name\": \"H1650\", \"ini\": 29, \"clust\": 9, \"rank\": 7, \"rankvar\": 6, \"cat-0\": \"Category: two\", \"cat_0_index\": 24, \"cat-1\": \"Gender: Male\", \"cat_1_index\": 10}, {\"name\": \"H23\", \"ini\": 28, \"clust\": 17, \"rank\": 18, \"rankvar\": 7, \"cat-0\": \"Category: two\", \"cat_0_index\": 25, \"cat-1\": \"Gender: Male\", \"cat_1_index\": 11}, {\"name\": \"CAL-12T\", \"ini\": 27, \"clust\": 21, \"rank\": 13, \"rankvar\": 26, \"cat-0\": \"Category: two\", \"cat_0_index\": 26, \"cat-1\": \"Gender: Male\", \"cat_1_index\": 12}, {\"name\": \"H358\", \"ini\": 26, \"clust\": 10, \"rank\": 4, \"rankvar\": 1, \"cat-0\": \"Category: one\", \"cat_0_index\": 13, \"cat-1\": \"Gender: Male\", \"cat_1_index\": 13}, {\"name\": \"H1975\", \"ini\": 25, \"clust\": 0, \"rank\": 2, \"rankvar\": 17, \"cat-0\": \"Category: two\", \"cat_0_index\": 27, \"cat-1\": \"Gender: Female\", \"cat_1_index\": 0}, {\"name\": \"HCC15\", \"ini\": 24, \"clust\": 19, \"rank\": 25, \"rankvar\": 24, \"cat-0\": \"Category: two\", \"cat_0_index\": 28, \"cat-1\": \"Gender: Male\", \"cat_1_index\": 14}, {\"name\": \"H1355\", \"ini\": 23, \"clust\": 22, \"rank\": 10, \"rankvar\": 5, \"cat-0\": \"Category: three\", \"cat_0_index\": 19, \"cat-1\": \"Gender: Male\", \"cat_1_index\": 15}, {\"name\": \"HCC827\", \"ini\": 22, \"clust\": 5, \"rank\": 28, \"rankvar\": 25, \"cat-0\": \"Category: one\", \"cat_0_index\": 14, \"cat-1\": \"Gender: Female\", \"cat_1_index\": 1}, {\"name\": \"H2405\", \"ini\": 21, \"clust\": 7, \"rank\": 0, \"rankvar\": 8, \"cat-0\": \"Category: five\", \"cat_0_index\": 0, \"cat-1\": \"Gender: Male\", \"cat_1_index\": 16}, {\"name\": \"HCC78\", \"ini\": 20, \"clust\": 11, \"rank\": 16, \"rankvar\": 22, \"cat-0\": \"Category: five\", \"cat_0_index\": 1, \"cat-1\": \"Gender: Male\", \"cat_1_index\": 17}, {\"name\": \"H1666\", \"ini\": 19, \"clust\": 24, \"rank\": 20, \"rankvar\": 21, \"cat-0\": \"Category: four\", \"cat_0_index\": 6, \"cat-1\": \"Gender: Female\", \"cat_1_index\": 2}, {\"name\": \"H661\", \"ini\": 18, \"clust\": 1, \"rank\": 3, \"rankvar\": 27, \"cat-0\": \"Category: five\", \"cat_0_index\": 2, \"cat-1\": \"Gender: Male\", \"cat_1_index\": 18}, {\"name\": \"H838\", \"ini\": 17, \"clust\": 2, \"rank\": 5, \"rankvar\": 19, \"cat-0\": \"Category: five\", \"cat_0_index\": 3, \"cat-1\": \"Gender: Male\", \"cat_1_index\": 19}, {\"name\": \"H1703\", \"ini\": 16, \"clust\": 15, \"rank\": 9, \"rankvar\": 23, \"cat-0\": \"Category: five\", \"cat_0_index\": 4, \"cat-1\": \"Gender: Male\", \"cat_1_index\": 20}, {\"name\": \"CALU-3\", \"ini\": 15, \"clust\": 8, \"rank\": 11, \"rankvar\": 13, \"cat-0\": \"Category: four\", \"cat_0_index\": 7, \"cat-1\": \"Gender: Male\", \"cat_1_index\": 21}, {\"name\": \"H2342\", \"ini\": 14, \"clust\": 6, \"rank\": 26, \"rankvar\": 10, \"cat-0\": \"Category: four\", \"cat_0_index\": 8, \"cat-1\": \"Gender: Female\", \"cat_1_index\": 3}, {\"name\": \"H2228\", \"ini\": 13, \"clust\": 3, \"rank\": 1, \"rankvar\": 2, \"cat-0\": \"Category: one\", \"cat_0_index\": 15, \"cat-1\": \"Gender: Female\", \"cat_1_index\": 4}, {\"name\": \"H1299\", \"ini\": 12, \"clust\": 18, \"rank\": 12, \"rankvar\": 0, \"cat-0\": \"Category: three\", \"cat_0_index\": 20, \"cat-1\": \"Gender: Male\", \"cat_1_index\": 22}, {\"name\": \"H1792\", \"ini\": 11, \"clust\": 27, \"rank\": 24, \"rankvar\": 12, \"cat-0\": \"Category: three\", \"cat_0_index\": 21, \"cat-1\": \"Gender: Male\", \"cat_1_index\": 23}, {\"name\": \"H460\", \"ini\": 10, \"clust\": 28, \"rank\": 6, \"rankvar\": 18, \"cat-0\": \"Category: three\", \"cat_0_index\": 22, \"cat-1\": \"Gender: Male\", \"cat_1_index\": 24}, {\"name\": \"H2106\", \"ini\": 9, \"clust\": 14, \"rank\": 23, \"rankvar\": 28, \"cat-0\": \"Category: four\", \"cat_0_index\": 9, \"cat-1\": \"Gender: Male\", \"cat_1_index\": 25}, {\"name\": \"H441\", \"ini\": 8, \"clust\": 12, \"rank\": 27, \"rankvar\": 14, \"cat-0\": \"Category: one\", \"cat_0_index\": 16, \"cat-1\": \"Gender: Male\", \"cat_1_index\": 26}, {\"name\": \"H1944\", \"ini\": 7, \"clust\": 25, \"rank\": 21, \"rankvar\": 15, \"cat-0\": \"Category: three\", \"cat_0_index\": 23, \"cat-1\": \"Gender: Female\", \"cat_1_index\": 5}, {\"name\": \"H1437\", \"ini\": 6, \"clust\": 23, \"rank\": 19, \"rankvar\": 16, \"cat-0\": \"Category: four\", \"cat_0_index\": 10, \"cat-1\": \"Gender: Male\", \"cat_1_index\": 27}, {\"name\": \"H1734\", \"ini\": 5, \"clust\": 4, \"rank\": 17, \"rankvar\": 11, \"cat-0\": \"Category: one\", \"cat_0_index\": 17, \"cat-1\": \"Gender: Female\", \"cat_1_index\": 6}, {\"name\": \"LOU-NH91\", \"ini\": 4, \"clust\": 16, \"rank\": 14, \"rankvar\": 20, \"cat-0\": \"Category: five\", \"cat_0_index\": 5, \"cat-1\": \"Gender: Female\", \"cat_1_index\": 7}, {\"name\": \"HCC44\", \"ini\": 3, \"clust\": 20, \"rank\": 15, \"rankvar\": 3, \"cat-0\": \"Category: four\", \"cat_0_index\": 11, \"cat-1\": \"Gender: Female\", \"cat_1_index\": 8}, {\"name\": \"A549\", \"ini\": 2, \"clust\": 26, \"rank\": 22, \"rankvar\": 4, \"cat-0\": \"Category: four\", \"cat_0_index\": 12, \"cat-1\": \"Gender: Male\", \"cat_1_index\": 28}, {\"name\": \"H1781\", \"ini\": 1, \"clust\": 13, \"rank\": 8, \"rankvar\": 9, \"cat-0\": \"Category: one\", \"cat_0_index\": 18, \"cat-1\": \"Gender: Female\", \"cat_1_index\": 9}], \"links\": [], \"mat\": [[-1.006079467702982, 0.1204806517083029, -0.32917791042601363, -0.0253756008221292, 0.46651233116603513, -0.44209157347224276, 0.36001164291109566, 3.2883487944789276, -0.790600672061539, -1.1670267396137932, -1.0522302379593245, -0.545378696702922, -0.2322896067293929, -0.3864416726593541, -0.20240485908343472, 0.8231048929679589, 0.22130451277092425, 0.18696041205317088, 2.42801916111287, -0.037394620547619745, -0.6973364776526131, -0.6760023636304658, -0.15945349859412167, -1.287386815311945, 1.5560102683203645, 0.015919428209351744, -0.40628933537319034, 0.015919428209351744, -0.039631375565270334], [-0.1460424563311885, -0.3058799226423749, 4.182012781251698, 0.7860186846731315, 0.0010137715831114592, -0.06410725742097088, 0.1061011255264013, -0.4910959448274979, 0.8102864593677751, 0.6561057466170409, 0.005633554957787698, -0.6066510139365415, -0.4688512911732257, -0.682095769726281, -0.80499312387063, -0.42766770625957196, -0.6947366475732082, -0.31702765954772977, -0.4841323900738205, -0.8447525378781788, -0.663364958400185, 0.6637904613506573, 0.1298752198803053, 1.663922614309402, -0.07567002436601288, -0.7160883202470584, -0.7062522238424644, 0.069891853605088, -0.5752430250054589], [-0.5879888200904614, -0.4537669703023949, -0.2696863797068729, -0.36378607246224043, -0.5718411127205967, -0.08945383713156181, 1.689126628447207, -0.4174387134204385, 0.2449559127053731, 0.8352509887336667, -0.34500910973158555, -0.5155085055486489, -0.011467470259481524, -0.6409074339528849, -0.30881579655213454, -0.45987726202242374, -0.45851664974056505, 0.5820662584027703, -0.2905760301615262, -0.28606099809525515, -0.6027037151888038, -0.2858306481733139, 4.135697161328093, -0.5316226909219277, -0.4542422824195916, -0.22972925041329906, -0.39147276695278854, 1.6529616784374772, -0.5737561120857908], [0.5112112123340978, -0.5067804396262787, -0.10232349149677201, 0.09819333940242551, 1.1392082173698574, 0.19566221041246842, 0.5585725414737005, -0.4181338436416596, 0.3103084494644647, 0.09892593418219893, 0.5081264628031233, -0.6703682986282078, 0.13935808704788546, 1.1531965668717634, 0.7486001412917892, -0.5647420403780706, -0.6365511586941078, 0.34048428455291346, 0.12179478703549658, -0.0073002120052926165, -4.144971439862822, 0.39035755863228927, 1.33084725389205, -1.1992389561806747, 0.012630139375546547, 1.0789621697752674, -0.2214587314249763, -0.4994721029039344, 0.23490135892545366], [1.0101100809788468, -0.4171416507982109, 0.48756214217698324, -0.6190514875580053, 0.36420625344090746, -0.2196326931020327, -0.4605858732945462, 3.207052985693016, 0.7656850344735497, -0.449252278688273, 0.35187754973198193, -1.1341526311536576, -1.5093886223648774, 0.23130319275549624, -0.26009067054159274, 1.686148087506634, 0.726686671999922, -0.6106931219498708, 0.46586344018145254, -0.9345497219803549, -1.9236688757819074, -0.056341167353587025, -1.0323742687923831, -0.5660132746070609, -0.1897353568121881, 0.6545366738256704, 0.5615967897870838, 0.248285225079315, -0.3782424328523123], [-0.6860750804187221, -0.8188742989418079, -0.5926662553670005, 0.04638230798102539, 1.5282874354569613, -0.7158988757579811, -0.8432144842324217, 0.3165201917132984, -0.15267897199549224, 2.0645548948221117, -0.5805209284998073, -0.8600798606655612, -0.6366867773422301, -0.6921835597365491, 0.2434912519503298, -0.5950552372245421, 1.928901851947716, -0.8187988569038428, -0.10012059998814951, -0.7288710116343156, 0.6366643893061378, 1.7507188294762475, -0.7136379157102354, -0.6258849203449859, 1.3992465778448857, -0.44346116787812867, -0.7006398706503815, -0.5833069313521606, 1.9738878741456034], [0.5348048503493602, -0.30449984563554094, -0.5103717416751861, -0.10989147706912065, -0.3901531152572012, -0.2781410898644846, -0.45988277737067795, 3.1278198424256365, -0.3894583914326396, -0.01622387042659007, -0.49428374502929645, 0.1000679950258187, -0.44710257979575035, -0.52183396608602, -0.4671244843259687, 2.2900218101498506, -0.5420474200464832, -0.531460032760951, -0.49841206122909354, -0.4253746000446548, -0.07737312506135449, 0.5845397676365464, -0.49543232585939045, -0.4964172321259315, 2.8164221517829375, -0.5050912705973073, -0.4254961047267876, -0.5305394522948528, -0.5370657086548652], [0.6983739667467712, -0.9207196389436664, -0.20851115460664904, -0.060677140915420695, 0.14731281659222192, -0.7982471438968901, -0.05202430637938764, -0.2598424566975924, -0.25579110439821673, 0.2314922655793506, 0.329500458660819, 0.06084086940645907, -0.2914688629017357, -0.4537798018940949, 3.950831585835585, 1.016868052940088, -0.4733215679380476, -0.917444889324961, -0.5341569320194144, -0.7441417625715689, -1.343227360338583, 1.135182467071389, -0.7333057609448035, 0.5097669836048323, 0.06566188373010468, 0.012824231304186263, -1.0348291150983397, -0.3831392793225896, 1.3059726967201537], [-0.340161966453267, -0.27218249978936065, -0.25113046213550283, -0.42441914495541316, -0.18998816195960966, -0.4620053361789318, -0.18178331000666817, -0.3525968359608708, -0.17251623994534404, -0.1773999306170092, -0.2033683434464788, 4.807034370525246, -0.29610064186568036, -0.39501894967517276, 1.5924483357753954, 0.032261878371525846, -0.30925832356931765, -0.24639510465265885, 0.11014574596178593, -0.3761479162670701, -0.30265622678378173, -0.31698674889609135, 0.3339646017737283, -0.12986282659970233, -0.213460047025223, -0.09018865373450247, -0.3349438973846326, -0.3127680438164318, -0.524515320688958], [3.549986803787365, 0.8450903634491618, -0.7584512748591773, 0.8750709265609781, -0.31197707519796786, -0.08911943176445067, -0.21858482096616721, -0.009986917346825799, -0.831360003019888, 1.605002231573318, -0.34748989219453674, -0.38519787933375266, -0.7957514350581172, -0.42212922348974946, -1.0462916286236856, -0.41025970117532856, 0.4596482777623261, 0.7439742306166655, -0.1842139185875648, -1.0872374031131014, -0.4092951027069176, 0.742055674033988, -0.8378426706107112, -0.18581685376846424, -0.3993157674504938, -0.5550274473987734, -1.2503360615890258, 0.2909428920892114, 1.4239131083816843], [-0.43958103417107325, -0.5524399634991058, 0.4250644996071644, -0.3485128961290129, -0.5585547852601506, 0.0481367245961601, -0.3895352538393767, 0.400586522353477, -0.5071589413086109, -0.20271904588584577, -0.3028091704560599, -0.28623747227522717, -0.8439730276241629, -0.6939823370317523, 0.1960325888987542, -0.008074200100534525, -0.3580984857788365, 0.22834639357976136, -0.2189499937566895, -0.2487707114643272, 4.803482278358259, -0.09461337317208064, -0.33259394383785845, -0.06311478189361738, 0.1347175927570124, 0.0003525499985404234, 0.947131940139585, -0.053440050388749764, -0.6806916224156412], [-0.5017249709093291, -0.0733682873722417, -3.639610637360947, 0.3947120476341157, -0.38493427518521195, -0.5412457180498813, -0.8604381451900159, -0.4663462472811082, 0.14662502071660183, 1.4832760065869481, 0.3873300722305134, -0.12350607351391905, 0.20215322160197885, -0.1479442509249817, 1.9899342741958883, 0.30653496170415245, -0.1368276918816519, 0.14247729437328963, -0.4489950597049777, 0.4040627670219406, 1.5213226393510317, 1.243050103121611, -0.966478975615444, 0.02215165904852901, -0.6006282898547172, 0.26837180194997107, -0.3451535825619179, -0.09838339797316326, 0.8235837338429387], [-0.47034135398991744, -0.10992837439111362, -0.6957830325681597, -0.5956090203516835, 0.5885635385486688, 1.3592913297286362, 0.16149304796753372, -0.34177913298086104, -0.401523478741874, -0.9395157924745218, -0.15756953938921894, -0.44772954627517475, -0.9949085492264989, -0.8003626441871952, -0.8205620455675195, -0.19597772177122832, 0.16222088424074046, -0.14210750711709366, 0.6879711359458215, -0.2892154231400771, 4.163191510444157, -0.6343232541235219, -0.23451706949419332, 0.7490091295070814, 1.0951225582206503, 0.48122432011456917, -0.38574768022861694, -0.13711038001648485, -0.6534759086829052], [-0.12044540461955035, 0.27960435099568753, -1.4218780417650634, -0.538434209085145, -1.1114882174915848, -0.036574103227136966, -0.29527914748212925, 3.85772341380528, 0.0363868122413064, -0.4107447971827871, -0.43459743028522035, -0.7245355435702274, 1.194939977257011, -0.2153751353910158, 0.4889498466708584, -0.2951229546037159, -0.19443311573259484, 0.06025166910141347, 0.39625027324801365, 0.31358097519662365, 0.1876816653666288, -0.7398152451903834, 2.030080937969042, 0.0024427849790491494, -0.8907121470098085, -0.5060004950771032, -0.5049832064641834, 0.19463834410996894, -0.6021118567632332], [0.3075849040379152, -0.5252457859454592, 0.6723691365916672, -1.2839210288873004, -0.5987057498452468, 3.73175734921683, 0.061422753230664935, 0.5121215512770214, -0.20476048209188435, -1.0176638068169581, -1.1065082877521848, 0.0184851998668828, 0.047202308326364455, -0.6798703023451578, -0.5382133712861387, 0.6096176655668746, -0.7918630822746489, -0.8292268922642411, -0.8138621046113225, -0.48945544892883786, -0.8764261392065751, 0.4096337312418903, 0.75981278238323, 0.3797574803913294, 0.17900900591686592, 1.49912789909545, 0.888758620496615, 0.36658273028081795, -0.6875206356644648], [-0.005483818543246407, 0.4341310336272661, 0.24781142037523188, 0.25734604132355227, 0.5140017260539307, -0.06729223075866393, -0.673997133348489, 0.8790491030842494, -0.2736177967574045, 0.2806241719031833, -0.4448834081501839, -4.597576649302626, -0.9527798756267253, 0.5422822445230849, 0.16663023572062308, 0.3149725864973243, -0.2529120143953255, 0.5134171833427942, 0.3599094205578227, 0.48246434031772795, -0.11652982232957756, 0.6093983766133324, 0.030699285034212372, 0.14303776729994566, -0.6488780083963825, 0.9759976296946478, 0.11049432026021676, 0.2683559800613202, 0.9033278913181587], [-0.5942546533511724, -0.36968806016440064, -0.5570916126137505, 0.06627120896627688, -0.23184413603255793, -0.4328073644747507, -0.28161523454224413, -0.6667634803254232, -0.502863366389309, 0.3327078033566577, -0.46109793794345494, -0.6385495948021513, -0.4657921188129699, -0.43371831451709836, -0.3266433509339238, -0.38824285570335104, 0.33031539727494885, -0.22729751889107996, 1.9131292871727754, -0.5366022102197798, -0.66596291331904, 4.075137706376136, -0.4533444053077237, -0.29511216593812495, 1.554600764103182, 0.6846447203360972, -0.3964472154203812, -0.39583023285154545, 0.3647618549681583], [0.12618520586854198, 0.09485535972800908, -0.03745952305842158, -0.2432021710410786, -0.23391549811997162, -0.5496476848413788, 2.1524890570308033, -0.5309200261939507, -0.7572567790828363, -0.8148197489821147, -0.4237183995507951, -0.6093328191426832, 0.36445398826152087, -0.43904677457664726, -0.34845945997358635, -0.05193844470350006, -0.5291123656991321, -0.32717462269009623, 0.20201583619656788, 1.1165672203240231, -0.44353359413283755, -0.6046916874803269, -0.28503261466094054, 4.1514884139906085, -0.6305559311642781, -0.4412747532140306, 0.2754200868075822, 0.19767745044976456, -0.3800597203488161], [-0.4950977938953632, -0.11543004215734261, 0.038372804926209036, -0.569851439605977, -0.4387271466540003, -0.5259379022989875, -0.18785464024360926, 1.3066535960072878, -0.301548427002792, 0.25643100573671224, 0.07374796532431838, -0.5309882012880232, -0.4172537651994749, -0.6804262809948803, -0.021433187677188315, -0.2908622722627499, 0.33544175574434243, -0.10562716705040828, -0.08397800885488439, 4.58483343868593, -0.48423146741518586, -0.23812911433230394, -0.6201852392156765, -0.1813267148612213, 1.067581232161892, 0.05331057091108084, -0.045443253757130125, -0.4940024822620495, -0.8880378224685234], [-0.352879315468835, -0.015965336172802148, -0.26589569491902876, -0.17594015330943424, -0.3300700478823463, -0.3308773241113679, -0.11165973835428074, -0.25194173752284166, 0.07891959325906699, -0.3966211684120796, -0.16009027790407168, -0.04640773494990938, -0.4023935521314113, 4.801184355117825, -0.2857621678079322, -0.14523067759722272, -0.5002525978956336, -0.17757119215211623, 1.7047484588379918, -0.2695798203070798, -0.2600254924001804, -0.4030227766543557, -0.2603222448276347, -0.4171190648405614, -0.22228738169135925, -0.20352823348783639, -0.2590115884810485, -0.0616734469529765, -0.2787236409805393], [-0.6989165718988112, -0.12003514849002278, -0.7753163892532229, -0.12915429828741345, -0.2150480055051053, 4.397408652690643, 0.8829719448367263, -0.27691677668137143, 0.3172853236100076, -0.6629309407025153, -0.09035248029680736, -0.6304046131750045, -0.6336885217110247, -0.6872728567020482, -0.3417137346256935, -0.08067122081688374, -0.24304082107849445, -0.6902658473919328, 0.7468552947837449, 0.15884908735893105, -0.4753410391821365, -0.6337328985721189, 1.236168865149428, 0.2600289567703865, 0.5998183467212058, -0.6691521929648516, 0.3277977739624539, -0.2655625697353328, -0.607667318812735], [-0.6627219231377142, 0.45718247979821824, -0.48167081130625305, -0.5807883731932352, 0.9539732452664217, -0.07230567699803526, -0.30501136388817435, -0.4911143898615847, 0.0405470902070415, -0.9720891622936041, -0.9540648317932952, 2.6147026003464533, 3.3518844654282156, 0.6042457109933812, -0.3619104262937042, 0.01013306436063858, -1.0364810642176505, 0.5236301606890267, -0.37253195213100077, -0.5334554359279751, -0.6996334116304561, -0.600936008581492, -0.14380277133201413, -0.1738366539297087, -0.09971606469114477, 0.631996227227659, 0.42437254556211523, 0.26226611308561826, -1.3328633817577473], [-0.03511888902545936, 0.6010644353370534, 4.168295423394786, 0.3178141582742093, -0.3487917961812933, 1.0245464843471348, 0.21855892002865518, 0.6976406162620442, -0.4187188468888596, -0.6174848519674345, 0.2590999279269983, -1.1561245126486612, 0.5199374213759101, -0.5004420987788041, -0.36872641377100046, 0.12081115390799277, -0.45304997362980814, 0.34574094282408135, 0.6789338335677247, -0.8522196325511519, -1.5634566943403485, 0.1376038674492096, -0.43890738749451425, -0.1274522953633245, -1.1484666236276633, -0.3442983108607698, -0.38287542788992773, -0.15754868107230002, -0.17636474860447918], [-0.41853969450414624, -0.4079154386406671, -0.1781776550086024, 1.3724306238644508, -0.24599099752629322, -1.2342350095549735, 0.012868943904920183, 0.15514063187586652, 0.007089156163886392, -0.15490169741945145, -0.17885838993593584, -0.6932447025857529, -0.35824026029153133, -0.7336349565463651, -0.3479037944637325, -0.6120269765736792, -0.9559363130871453, 0.6739895382814165, 1.260201654391434, -0.5148940812672682, 4.054191061795099, 0.6505752196018109, 0.49544521125828367, -0.8054423109117779, -0.7566618647067315, -0.48678103323546223, -0.05172889619839464, -0.2959834828606677, 0.749165514181411], [0.23044233237673553, -0.41730283637081456, 0.4561957424667903, -0.7421089137787311, 0.28686930104353997, 0.8451775350446418, 0.11046197692553207, -0.9572903300959746, -0.7098692682601118, -0.647761656449762, 3.2761021842835163, -1.6450618384184843, -0.6486116655961821, -0.8855404231563042, -0.4786553060944189, 0.4289081614745526, -1.2026091372330432, -0.07031682436550732, -0.3616310107024304, -0.13926625402610282, -0.7231203087827415, 0.17661092839537787, -0.11263135927963407, 2.227008343832789, -0.6136626154675114, 0.7601044877782482, 1.0011125325510761, 0.0924296331309399, 0.46401658877401436], [0.9900741147033018, -0.5728183550151915, -0.7196515888960756, -0.6041819289632865, -0.5043355586715413, -0.39974370327729164, -0.8350884320537036, -0.8862857357904894, -0.053423185556287486, -0.7345771801077968, -0.17378386193977544, 1.2363813279803304, -0.7144409718972172, 3.634870066531566, -0.21698546603951763, -0.13615955816413833, -0.697901687389351, 0.9423667253273827, -1.0238691261852808, -0.5446336568201271, -0.05421647760195654, 1.0664741374395441, 0.3511914610436188, -0.4052781997476996, -0.6611691236456984, 1.8453414592654782, -0.04013126238257519, -0.15843594268539746, 0.07041171053917696], [-0.5605035842604639, -0.5804666059999171, -0.6251765724479764, -0.2786946398641322, -0.09004906035982257, -0.6022824957099696, -0.275436034334161, 2.0637040284127552, -0.08431238093192363, 0.39309088922366453, 0.1473820168901535, 3.2024326645030063, 0.21797430746751748, -0.8792002829735188, -0.45357920652256306, -0.4711382425677338, 0.767188432040951, -0.9702664164321761, -0.8307969263004414, -0.619602368022217, -0.8682059012186892, 1.1043475291355074, 0.020868961539493955, -0.9127254464344671, 0.6726115306570108, -0.7610742044509541, -0.27453462090319525, -0.40280890925035157, 1.9512535391146153], [-0.6674290748163513, 0.3721056351541463, -0.16062958702004138, -0.7761113842925478, -1.000103663589037, 1.878613134017835, -0.14214339182855876, -0.3343374728554428, -1.3120895853157593, -0.6688784960882227, 2.9546020056017497, -1.0606149809148668, -0.5473457299135215, -0.06483012322837375, 0.11623823124966277, 0.46608320017369664, 0.08264647457071121, -0.14427298846448594, 0.16425942267528057, -0.37891325260499886, 0.5712553191695895, -0.827833053987942, -0.10768927007477853, 0.5086063079613266, -0.24585799230607414, 2.4974553210458956, -0.13136180241718606, 0.2638484352804847, -1.30527163718219], [-0.35581170777139887, 0.14218096522378332, 0.031122981156921296, -0.48990380006638395, -0.26262680164307234, -0.6282432686944914, -0.021578140149677728, -0.4387135503021525, 0.8157445065556288, 4.854051646192245, 0.43575693030890383, -0.5109702092826063, -0.28738348184037826, -0.21566498661034203, -0.02785226933018579, 0.028788706587554697, -0.14270303129125794, -0.01814636695593321, -0.33907958350008527, -0.4744028803917583, -0.6617899687702644, -0.2231881472281987, -0.43791577449473573, -0.365655772214001, -0.5511787842372948, 0.7183166801902193, -0.10184932761178354, -0.3611120153815973, -0.1101925484476588], [-0.060490039487908355, 0.290567284763961, 0.21321710523176804, 0.4741130837946678, 0.6391407542764354, -0.07839805964369782, 0.6283937150276004, 1.2510383900482334, -4.240137430208027, 0.3271248078085124, -0.9628805962788065, 0.417888467512927, 0.7136897786264498, 0.07795783131371781, -1.159640588962832, 0.3215180444655522, -0.4283843533635032, 0.237278537183124, -0.5991167608582311, 0.1461163029607707, -0.8802365008678336, 0.8602861599326046, 0.8596983179126036, -0.23189156159766006, -0.343218550304776, 0.22385281039466054, 0.21976909154527327, 0.9805098217151597, 0.10223413705925391], [-0.3861510216827104, -0.6562449139140344, -0.35134352499672267, -0.796823061176622, -0.3309014230828342, 0.674950850944692, -1.1420169615693878, -0.32452262847794533, -0.34129723591286976, -0.30892141968856635, 1.0904488044744616, -0.6053044341091858, -0.5598889149984426, -0.5056279671119195, 0.6658307972024577, 0.1759893028434421, -0.09999904427813612, 0.06834870431194251, 2.329143309343528, 1.7769643890623987, -1.1505328395513048, 0.20850742458052315, 0.8285062873902206, -0.27166226875445665, -1.1868033397720612, -0.6199494477114076, -0.6932519093487848, 2.9477191145230957, -0.4351666285393685], [-0.021137897723014595, 0.6587007071394761, -0.6482914839084776, 0.017436616423876585, 0.31134422089418695, -1.485612515628661, -0.9818834059867247, 0.045705970957733835, -0.17571313471810782, -1.291679564122356, 3.306879481322006, -0.024587633182305894, 1.3897030511616129, -0.2974025381371259, -0.745993889460319, -0.14777038235791123, -0.3586254099100762, -0.755995007505322, -0.04817604835018758, 0.7209721444659106, 0.6102464763162844, -0.8517517659725324, 0.12043663820298761, 0.1089733296553239, 0.32748417194520985, -1.14123520069467, 1.2038244970923235, 1.3855506914349958, -1.2314021193541367], [-0.037670235376778556, -0.17344076234044165, 0.06831076386294113, -0.5952251198983479, -0.18373604714421948, 0.34473333166185904, -0.3073939765730173, -0.22829522851564868, -0.27424549168696266, -0.3834094403138998, -0.21640952813407457, -0.0019770870208295353, -0.3946420098836433, -0.2946748993232445, 0.24932753108035344, 0.24456052808311268, -0.09844528440101136, -0.2526582613718602, -0.3245556119185212, -0.17811446132561184, 5.067849554250784, -0.23498557310070556, -0.372463145657253, -0.2206273082172516, -0.15116647405213138, -0.3513551611562736, -0.012813112721048733, -0.061878468229488934, -0.6245990205767854], [0.222094293403528, -0.045947325350243734, 0.743344927982145, 0.5389919434326887, -4.6990645687665635, -0.1863040369758336, -0.7135609601945909, 0.2065072422508122, 0.9328726342954952, 0.5564175054520999, 0.10049624707687638, -0.22787927387411638, -0.8397215887500873, 0.3059992165046197, -0.1755000421164013, -0.3504075626733459, 0.23815745337213123, -0.10439144383102847, -0.21337628428356972, -0.018303747679589866, 0.022546339766183997, 0.5506309586773005, 0.5655807577720856, 0.2072397163961413, 0.6866807217447578, 0.39924318563411726, 0.7927210156899742, 0.056635690348028046, 0.44829698469638685], [-0.4116662946754283, 2.7805557678353283, 0.25689544017306415, 0.22568619857542685, -0.7807579881362187, 0.37441479521103915, 1.4076857341621982, -0.143227098322779, 0.1233675478150343, -0.20661498002153866, -0.1585725402383218, -0.8986038419557932, -0.5135709314830863, -0.37049379254779696, -0.14003279621560777, 0.015892236857189518, -0.7466506488694398, 0.2449529904512171, -0.934293185104373, -1.3531103014629438, 3.1568977531601843, 0.8922216212458143, -0.5566418384328045, -0.14415610546101082, -0.8586498189637944, -0.5622057817816224, -0.15515271776268394, 0.10164023412577787, -0.6458096581770307], [-0.7940203786645527, 2.921512308249805, -0.4074768619838458, -0.3222598687262709, -0.5681881691948393, 2.241333807491755, -0.020162995213887737, -0.6530510884706281, -0.6361057779238525, -0.33772668122022337, -0.9675070573782764, 0.44926493352377606, -0.20321445575699235, 1.5787585246650953, -1.08671036782233, 0.04831443339006578, -0.6541180947371427, 1.232158380735552, -0.6547018384493571, -0.17012528581553138, -1.1672574128698505, 0.17714951285416655, -0.2055518227664287, -0.7701179927334127, 0.10115997479972635, -0.828655033849503, 1.4973980669187625, -0.012995389615212719, 0.21289663056343244], [-0.1330162920896956, -0.33535530786876416, 1.0364415616875031, 0.49604686245341056, 1.2190667126646553, -0.553855802694596, 0.11852023208518545, -0.12136083916623518, -0.17749313297037428, -0.37643246155756227, -0.43605519726336356, -0.177203583352188, -1.5502594893782171, -0.6641410814009157, -0.3821787976065048, 0.5958564943387668, 1.141323355584603, 0.3523452500700738, 1.3486567420135656, -0.3455197964168571, 0.7006749043520274, 0.23035986007564443, 0.0367851231790829, 0.8130331287806488, -0.2016366746139572, -3.883725613728397, 0.9420138069816151, -0.26936824170918916, 0.5764782775500342], [-0.4251056430495833, -0.11224368134809899, -0.08128882066018324, -0.28014428374749006, -0.408100687667827, -0.25856148791455597, -0.3334460407838696, -0.6406157918851336, -0.26433213703380215, -0.46417349253535145, -0.4178960505617473, 1.6536994001778962, 2.9464073212102773, -0.47764735661375485, -0.18526599280988407, 3.6137158926011157, -0.44183741533033116, -0.40712967144034967, -0.5632293167004835, -0.4457282417984836, 0.28325473486923014, -0.3716551230617952, -0.1616857162763781, -0.11855393402736196, -0.42360719439205435, -0.2564098346908538, -0.224525882362713, -0.18137787085665333, -0.5525156813097817]], \"cat_colors\": {\"row\": {}, \"col\": {\"cat-0\": {\"Category: five\": \"#393b79\", \"Category: four\": \"#ff7f0e\", \"Category: one\": \"#98df8a\", \"Category: three\": \"#404040\", \"Category: two\": \"#c5b0d5\"}, \"cat-1\": {\"Gender: Female\": \"#bcbd22\", \"Gender: Male\": \"#ff9896\"}}}, \"matrix_colors\": {\"pos\": \"red\", \"neg\": \"blue\"}, \"linkage\": {\"row\": [[10.0, 32.0, 0.0587187732686536, 2.0], [12.0, 38.0, 0.20724278772593313, 3.0], [1.0, 22.0, 0.30111776640343924, 2.0], [14.0, 20.0, 0.34985130292800115, 2.0], [23.0, 39.0, 0.36391526136856434, 4.0], [24.0, 27.0, 0.393907381398496, 2.0], [19.0, 25.0, 0.4047060718684996, 2.0], [21.0, 37.0, 0.4083096503602388, 2.0], [0.0, 6.0, 0.4193739238489065, 2.0], [34.0, 42.0, 0.46584388531061777, 5.0], [5.0, 16.0, 0.47513471728610945, 2.0], [4.0, 46.0, 0.4843738657265286, 3.0], [8.0, 26.0, 0.48581693120437264, 2.0], [7.0, 11.0, 0.6072694909433703, 2.0], [13.0, 49.0, 0.6561572686402233, 4.0], [35.0, 41.0, 0.674464160867214, 3.0], [31.0, 43.0, 0.7060511637192803, 3.0], [2.0, 30.0, 0.7120297689103119, 2.0], [48.0, 51.0, 0.7384771159098513, 4.0], [45.0, 50.0, 0.7428269704937988, 4.0], [9.0, 28.0, 0.7581131259636598, 2.0], [3.0, 44.0, 0.7597475887396085, 3.0], [36.0, 40.0, 0.7926724523389908, 3.0], [18.0, 52.0, 0.812064718797579, 5.0], [17.0, 54.0, 0.8145910281960326, 4.0], [56.0, 58.0, 0.8187306153079845, 6.0], [15.0, 61.0, 0.8354954816327327, 6.0], [29.0, 57.0, 0.8776971752213993, 5.0], [53.0, 55.0, 0.9103980688424942, 5.0], [62.0, 66.0, 0.9369674952154667, 9.0], [33.0, 63.0, 0.9644561642773973, 7.0], [60.0, 67.0, 0.9843014404965729, 12.0], [59.0, 65.0, 0.9980592359452665, 8.0], [64.0, 68.0, 1.0015172561542534, 13.0], [47.0, 69.0, 1.0266315037903582, 17.0], [70.0, 71.0, 1.0472845419724655, 21.0], [72.0, 73.0, 1.0689901170109724, 38.0]], \"col\": [[21.0, 28.0, 0.4426428499400912, 2.0], [22.0, 27.0, 0.5426218450697265, 2.0], [1.0, 17.0, 0.5518040028017892, 2.0], [11.0, 12.0, 0.5822765005677673, 2.0], [6.0, 23.0, 0.6244208243586691, 2.0], [9.0, 29.0, 0.6316674774147533, 3.0], [16.0, 24.0, 0.6537063645869744, 2.0], [3.0, 34.0, 0.6840018898211463, 4.0], [7.0, 15.0, 0.7231516240752922, 2.0], [5.0, 26.0, 0.738996863597565, 2.0], [13.0, 25.0, 0.743030518137443, 2.0], [2.0, 33.0, 0.788140266015867, 3.0], [8.0, 14.0, 0.8001703019388298, 2.0], [0.0, 36.0, 0.8251166286195738, 5.0], [18.0, 19.0, 0.8440534195679754, 2.0], [30.0, 43.0, 0.8690930007606128, 4.0], [31.0, 38.0, 0.8738832327768651, 4.0], [35.0, 37.0, 0.8743235275935569, 4.0], [10.0, 44.0, 0.9175334377004637, 5.0], [39.0, 45.0, 0.9302687094442872, 6.0], [4.0, 32.0, 0.9501061689399998, 3.0], [41.0, 42.0, 0.9546430808295154, 7.0], [40.0, 47.0, 1.0006326273488555, 8.0], [46.0, 50.0, 1.0028475131487988, 11.0], [48.0, 51.0, 1.008541900506356, 14.0], [49.0, 52.0, 1.0509938402118721, 14.0], [20.0, 53.0, 1.0577430014258487, 15.0], [54.0, 55.0, 1.0951214828962115, 29.0]]}, \"views\": [], \"manual_category\": {\"col\": \"Category\", \"row\": null, \"col_cats\": [{\"name\": \"Cat\", \"color\": \"red\"}, {\"name\": \"Dog\", \"color\": \"yellow\"}, {\"name\": \"Shark\", \"color\": \"black\"}, {\"name\": \"Snake\", \"color\": \"blue\"}, {\"name\": \"Lizard\", \"color\": \"green\"}]}, \"pre_zscore\": {\"mean\": [0.3864664525517242, 0.3545865537586207, -0.07464863193103448, 0.29120936041379325, 0.42624373096551726, 0.6689093822068964, 0.4999497118620689, 0.2202077337931035, -0.15209044806896552, 0.09357450031034487, -0.10127379858620693, -0.11813990503448286, -0.25505249824137927, 0.4868087429310345, 0.03598581565517242, 0.149259903, 0.10632666775862071, 0.3290821664137931, -0.021498732620689673, -0.2480811060689655, 0.1961901105862069, 0.057713646862068965, 0.03735113886206897, 0.28454396920689656, -0.06830576993103446, 0.0672652242413793, 0.7727608358275861, 0.050484769103448256, 0.4118599702758622, 0.20104733944827588, 0.16868156665517234, 0.022035909413793124, -0.23530053441379312, -0.7290811687931036, -0.16791900413793104, 0.37222124444827587, -0.20806850293103443, 0.4163305945517242], \"std\": [1.172144011888206, 1.2117436134962365, 1.0599308996607837, 1.0941410205624689, 0.9763019928271904, 1.540573440682067, 1.698913954397381, 0.9829041529204027, 0.8843334458214982, 0.9818282228460999, 1.0953328259981547, 0.9342728230487625, 0.9324871883751532, 1.3251244365459822, 0.9594826386812811, 1.4727084669761903, 1.0612228498376577, 1.4305164091443472, 1.0764507233735456, 0.8012672450222037, 1.2010538529736567, 1.1340830107198516, 0.8775691292434286, 1.1235239581373522, 1.0968823146512852, 1.7100095827330841, 1.5100784537254006, 1.2016430514719911, 2.035413940738454, 1.35123038669225, 1.1988713344271862, 1.0833485767536994, 1.0999741353288675, 1.8505895513773463, 1.2200627458657183, 1.344391354594248, 0.9756738819741866, 1.8454325986451834]}}",
       "value": "col-dendro -> 5,26"
      }
     },
     "40996c77978f48e89c3e0883005d2d1a": {
      "model_module": "clustergrammer2",
      "model_module_version": "0.13.2",
      "model_name": "ExampleModel",
      "state": {
       "layout": "IPY_MODEL_feace699980f45e1bb9fc0c2eff2b438",
       "manual_cat": "{\"col\":{\"Category\":{\"H1650\":\"Lizard\",\"H23\":\"two\",\"CAL-12T\":\"two\",\"H358\":\"Lizard\",\"H1975\":\"two\",\"HCC15\":\"11111111111111111\",\"H1355\":\"three\",\"HCC827\":\"222222222222\",\"H2405\":\"five\",\"HCC78\":\"Lizard\",\"H1666\":\"3333333333333\",\"H661\":\"five\",\"H838\":\"five\",\"H1703\":\"five\",\"CALU-3\":\"four\",\"H2342\":\"four\",\"H2228\":\"222222222222\",\"H1299\":\"three\",\"H1792\":\"3333333333333\",\"H460\":\"3333333333333\",\"H2106\":\"four\",\"H441\":\"Lizard\",\"H1944\":\"3333333333333\",\"H1437\":\"four\",\"H1734\":\"222222222222\",\"LOU-NH91\":\"five\",\"HCC44\":\"11111111111111111\",\"A549\":\"3333333333333\",\"H1781\":\"Lizard\"}},\"col_cat_colors\":{\"Category: five\":\"#393b79\",\"Category: four\":\"#ff7f0e\",\"Category: one\":\"#98df8a\",\"Category: three\":\"#404040\",\"Category: two\":\"#c5b0d5\",\"Category: 1111111111111\":\"white\",\"Category: Lizard\":\"green\",\"Category: 11111111111111111\":\"white\"}}",
       "mat_string": "ini_mat_string",
       "network": "{\"row_nodes\": [{\"name\": \"CDK4\", \"ini\": 38, \"clust\": 14, \"rank\": 30, \"rankvar\": 20}, {\"name\": \"LMTK3\", \"ini\": 37, \"clust\": 20, \"rank\": 28, \"rankvar\": 24}, {\"name\": \"LRRK2\", \"ini\": 36, \"clust\": 26, \"rank\": 9, \"rankvar\": 10}, {\"name\": \"UHMK1\", \"ini\": 35, \"clust\": 25, \"rank\": 26, \"rankvar\": 14}, {\"name\": \"EGFR\", \"ini\": 34, \"clust\": 13, \"rank\": 33, \"rankvar\": 7}, {\"name\": \"STK32A\", \"ini\": 33, \"clust\": 32, \"rank\": 36, \"rankvar\": 32}, {\"name\": \"NRK\", \"ini\": 32, \"clust\": 15, \"rank\": 35, \"rankvar\": 33}, {\"name\": \"ERBB2\", \"ini\": 31, \"clust\": 34, \"rank\": 24, \"rankvar\": 9}, {\"name\": \"ERBB4\", \"ini\": 30, \"clust\": 30, \"rank\": 6, \"rankvar\": 2}, {\"name\": \"AAK1\", \"ini\": 29, \"clust\": 36, \"rank\": 18, \"rankvar\": 8}, {\"name\": \"SRPK3\", \"ini\": 28, \"clust\": 4, \"rank\": 8, \"rankvar\": 15}, {\"name\": \"STK39\", \"ini\": 27, \"clust\": 35, \"rank\": 7, \"rankvar\": 4}, {\"name\": \"GRK4\", \"ini\": 26, \"clust\": 3, \"rank\": 1, \"rankvar\": 3}, {\"name\": \"TBK1\", \"ini\": 25, \"clust\": 12, \"rank\": 34, \"rankvar\": 26}, {\"name\": \"INSRR\", \"ini\": 24, \"clust\": 23, \"rank\": 13, \"rankvar\": 5}, {\"name\": \"IRAK1\", \"ini\": 23, \"clust\": 11, \"rank\": 20, \"rankvar\": 30}, {\"name\": \"KDR\", \"ini\": 22, \"clust\": 33, \"rank\": 19, \"rankvar\": 11}, {\"name\": \"NPR1\", \"ini\": 21, \"clust\": 16, \"rank\": 27, \"rankvar\": 29}, {\"name\": \"PAK3\", \"ini\": 20, \"clust\": 9, \"rank\": 11, \"rankvar\": 12}, {\"name\": \"PDGFRA\", \"ini\": 19, \"clust\": 7, \"rank\": 2, \"rankvar\": 0}, {\"name\": \"PDK4\", \"ini\": 18, \"clust\": 24, \"rank\": 22, \"rankvar\": 22}, {\"name\": \"ULK4\", \"ini\": 17, \"clust\": 28, \"rank\": 16, \"rankvar\": 19}, {\"name\": \"PRKCE\", \"ini\": 16, \"clust\": 21, \"rank\": 14, \"rankvar\": 1}, {\"name\": \"PRKG2\", \"ini\": 15, \"clust\": 2, \"rank\": 25, \"rankvar\": 18}, {\"name\": \"MAPK4\", \"ini\": 14, \"clust\": 18, \"rank\": 10, \"rankvar\": 16}, {\"name\": \"MAPK11\", \"ini\": 13, \"clust\": 8, \"rank\": 17, \"rankvar\": 34}, {\"name\": \"STK31\", \"ini\": 12, \"clust\": 31, \"rank\": 37, \"rankvar\": 31}, {\"name\": \"GRK1\", \"ini\": 11, \"clust\": 19, \"rank\": 15, \"rankvar\": 23}, {\"name\": \"ROS1\", \"ini\": 10, \"clust\": 37, \"rank\": 31, \"rankvar\": 37}, {\"name\": \"MAP2K4\", \"ini\": 9, \"clust\": 10, \"rank\": 23, \"rankvar\": 28}, {\"name\": \"SRC\", \"ini\": 8, \"clust\": 27, \"rank\": 21, \"rankvar\": 21}, {\"name\": \"TGFBR1\", \"ini\": 7, \"clust\": 17, \"rank\": 12, \"rankvar\": 13}, {\"name\": \"CAMK2B\", \"ini\": 6, \"clust\": 5, \"rank\": 3, \"rankvar\": 17}, {\"name\": \"STK24\", \"ini\": 5, \"clust\": 6, \"rank\": 0, \"rankvar\": 36}, {\"name\": \"DCLK3\", \"ini\": 4, \"clust\": 1, \"rank\": 5, \"rankvar\": 25}, {\"name\": \"LATS1\", \"ini\": 3, \"clust\": 22, \"rank\": 29, \"rankvar\": 27}, {\"name\": \"NEK9\", \"ini\": 2, \"clust\": 0, \"rank\": 4, \"rankvar\": 6}, {\"name\": \"MYLK3\", \"ini\": 1, \"clust\": 29, \"rank\": 32, \"rankvar\": 35}], \"col_nodes\": [{\"name\": \"H1650\", \"ini\": 29, \"clust\": 12, \"rank\": 6, \"rankvar\": 4, \"cat-0\": \"Category: 1111111111111\", \"cat_0_index\": 0, \"cat-1\": \"Gender: Male\", \"cat_1_index\": 10}, {\"name\": \"H23\", \"ini\": 28, \"clust\": 2, \"rank\": 17, \"rankvar\": 8, \"cat-0\": \"Category: two\", \"cat_0_index\": 25, \"cat-1\": \"Gender: Male\", \"cat_1_index\": 11}, {\"name\": \"CAL-12T\", \"ini\": 27, \"clust\": 4, \"rank\": 10, \"rankvar\": 19, \"cat-0\": \"Category: two\", \"cat_0_index\": 26, \"cat-1\": \"Gender: Male\", \"cat_1_index\": 12}, {\"name\": \"H358\", \"ini\": 26, \"clust\": 25, \"rank\": 4, \"rankvar\": 0, \"cat-0\": \"Category: 1111111111111\", \"cat_0_index\": 1, \"cat-1\": \"Gender: Male\", \"cat_1_index\": 13}, {\"name\": \"H1975\", \"ini\": 25, \"clust\": 22, \"rank\": 0, \"rankvar\": 24, \"cat-0\": \"Category: two\", \"cat_0_index\": 27, \"cat-1\": \"Gender: Female\", \"cat_1_index\": 0}, {\"name\": \"HCC15\", \"ini\": 24, \"clust\": 1, \"rank\": 24, \"rankvar\": 20, \"cat-0\": \"Category: two\", \"cat_0_index\": 28, \"cat-1\": \"Gender: Male\", \"cat_1_index\": 14}, {\"name\": \"H1355\", \"ini\": 23, \"clust\": 5, \"rank\": 9, \"rankvar\": 6, \"cat-0\": \"Category: three\", \"cat_0_index\": 20, \"cat-1\": \"Gender: Male\", \"cat_1_index\": 15}, {\"name\": \"HCC827\", \"ini\": 22, \"clust\": 23, \"rank\": 28, \"rankvar\": 25, \"cat-0\": \"Category: one\", \"cat_0_index\": 17, \"cat-1\": \"Gender: Female\", \"cat_1_index\": 1}, {\"name\": \"H2405\", \"ini\": 21, \"clust\": 20, \"rank\": 1, \"rankvar\": 12, \"cat-0\": \"Category: five\", \"cat_0_index\": 5, \"cat-1\": \"Gender: Male\", \"cat_1_index\": 16}, {\"name\": \"HCC78\", \"ini\": 20, \"clust\": 21, \"rank\": 25, \"rankvar\": 27, \"cat-0\": \"Category: 1111111111111\", \"cat_0_index\": 2, \"cat-1\": \"Gender: Male\", \"cat_1_index\": 17}, {\"name\": \"H1666\", \"ini\": 19, \"clust\": 7, \"rank\": 18, \"rankvar\": 15, \"cat-0\": \"Category: four\", \"cat_0_index\": 10, \"cat-1\": \"Gender: Female\", \"cat_1_index\": 2}, {\"name\": \"H661\", \"ini\": 18, \"clust\": 16, \"rank\": 3, \"rankvar\": 26, \"cat-0\": \"Category: five\", \"cat_0_index\": 6, \"cat-1\": \"Gender: Male\", \"cat_1_index\": 18}, {\"name\": \"H838\", \"ini\": 17, \"clust\": 17, \"rank\": 7, \"rankvar\": 23, \"cat-0\": \"Category: five\", \"cat_0_index\": 7, \"cat-1\": \"Gender: Male\", \"cat_1_index\": 19}, {\"name\": \"H1703\", \"ini\": 16, \"clust\": 14, \"rank\": 11, \"rankvar\": 21, \"cat-0\": \"Category: five\", \"cat_0_index\": 8, \"cat-1\": \"Gender: Male\", \"cat_1_index\": 20}, {\"name\": \"CALU-3\", \"ini\": 15, \"clust\": 19, \"rank\": 8, \"rankvar\": 7, \"cat-0\": \"Category: four\", \"cat_0_index\": 11, \"cat-1\": \"Gender: Male\", \"cat_1_index\": 21}, {\"name\": \"H2342\", \"ini\": 14, \"clust\": 18, \"rank\": 26, \"rankvar\": 22, \"cat-0\": \"Category: four\", \"cat_0_index\": 12, \"cat-1\": \"Gender: Female\", \"cat_1_index\": 3}, {\"name\": \"H2228\", \"ini\": 13, \"clust\": 26, \"rank\": 2, \"rankvar\": 5, \"cat-0\": \"Category: one\", \"cat_0_index\": 18, \"cat-1\": \"Gender: Female\", \"cat_1_index\": 4}, {\"name\": \"H1299\", \"ini\": 12, \"clust\": 15, \"rank\": 12, \"rankvar\": 1, \"cat-0\": \"Category: three\", \"cat_0_index\": 21, \"cat-1\": \"Gender: Male\", \"cat_1_index\": 22}, {\"name\": \"H1792\", \"ini\": 11, \"clust\": 10, \"rank\": 20, \"rankvar\": 9, \"cat-0\": \"Category: three\", \"cat_0_index\": 22, \"cat-1\": \"Gender: Male\", \"cat_1_index\": 23}, {\"name\": \"H460\", \"ini\": 10, \"clust\": 11, \"rank\": 5, \"rankvar\": 11, \"cat-0\": \"Category: three\", \"cat_0_index\": 23, \"cat-1\": \"Gender: Male\", \"cat_1_index\": 24}, {\"name\": \"H2106\", \"ini\": 9, \"clust\": 0, \"rank\": 22, \"rankvar\": 28, \"cat-0\": \"Category: four\", \"cat_0_index\": 13, \"cat-1\": \"Gender: Male\", \"cat_1_index\": 25}, {\"name\": \"H441\", \"ini\": 8, \"clust\": 27, \"rank\": 27, \"rankvar\": 14, \"cat-0\": \"Category: 1111111111111\", \"cat_0_index\": 3, \"cat-1\": \"Gender: Male\", \"cat_1_index\": 26}, {\"name\": \"H1944\", \"ini\": 7, \"clust\": 8, \"rank\": 23, \"rankvar\": 10, \"cat-0\": \"Category: three\", \"cat_0_index\": 24, \"cat-1\": \"Gender: Female\", \"cat_1_index\": 5}, {\"name\": \"H1437\", \"ini\": 6, \"clust\": 6, \"rank\": 16, \"rankvar\": 17, \"cat-0\": \"Category: four\", \"cat_0_index\": 14, \"cat-1\": \"Gender: Male\", \"cat_1_index\": 27}, {\"name\": \"H1734\", \"ini\": 5, \"clust\": 24, \"rank\": 19, \"rankvar\": 18, \"cat-0\": \"Category: one\", \"cat_0_index\": 19, \"cat-1\": \"Gender: Female\", \"cat_1_index\": 6}, {\"name\": \"LOU-NH91\", \"ini\": 4, \"clust\": 13, \"rank\": 15, \"rankvar\": 16, \"cat-0\": \"Category: five\", \"cat_0_index\": 9, \"cat-1\": \"Gender: Female\", \"cat_1_index\": 7}, {\"name\": \"HCC44\", \"ini\": 3, \"clust\": 3, \"rank\": 14, \"rankvar\": 2, \"cat-0\": \"Category: four\", \"cat_0_index\": 15, \"cat-1\": \"Gender: Female\", \"cat_1_index\": 8}, {\"name\": \"A549\", \"ini\": 2, \"clust\": 9, \"rank\": 21, \"rankvar\": 3, \"cat-0\": \"Category: four\", \"cat_0_index\": 16, \"cat-1\": \"Gender: Male\", \"cat_1_index\": 28}, {\"name\": \"H1781\", \"ini\": 1, \"clust\": 28, \"rank\": 13, \"rankvar\": 13, \"cat-0\": \"Category: 1111111111111\", \"cat_0_index\": 4, \"cat-1\": \"Gender: Female\", \"cat_1_index\": 9}], \"links\": [], \"mat\": [[-0.792803571, 0.527687127, 0.000622536, 0.356722594, 0.933286088, -0.131728538, 0.8084519440000001, 4.240884801, -0.5402313910000001, -0.981456952, -0.84689892, -0.25279592100000003, 0.114189581, -0.06649884, 0.149218809, 1.351263924, 0.6458672120000001, 0.60561098, 3.232454573, 0.342634572, -0.430912324, -0.40590567, 0.199563989, -1.122536294, 2.210334571, 0.405126315, -0.08976315900000001, 0.405126315, 0.340012773], [0.17762054, -0.016061488999999998, 5.422113832999999, 1.307039675, 0.355814985, 0.276904994, 0.483153915, -0.24049582100000005, 1.336445996, 1.149618502, 0.361412978, -0.380518938, -0.213541004, -0.471938639, -0.620858723, -0.163637058, -0.487256142, -0.029569688, -0.232057778, -0.6690369389999999, -0.449241698, 1.158930406, 0.5119620220000001, 2.370834155, 0.262893885, -0.513128895, -0.501210068, 0.439277561, -0.342460508], [-0.6978761509999999, -0.555610265, -0.360497559, -0.460236731, -0.6807606970000001, -0.169463518, 1.715708875, -0.5171048229999999, 0.184987709, 0.8106597, -0.440334448, -0.621052026, -0.08680335800000001, -0.753966225, -0.401972037, -0.562086752, -0.560644597, 0.542301381, -0.382639145, -0.377853523, -0.713472923, -0.377609368, 4.308904581, -0.638131949, -0.556114063, -0.318145763, -0.489582714, 1.6773765269999998, -0.6827904640000001], [0.8505465179999999, -0.263279907, 0.179253031, 0.398646721, 1.537663802, 0.505291411, 0.902366491, -0.16628803, 0.6307305639999999, 0.399448283, 0.8471713670000001, -0.442268094, 0.44368676, 1.552969029, 1.110283483, -0.326698072, -0.405267374, 0.663747183, 0.424470033, 0.283221899, -4.243973921, 0.718315578, 1.747343933, -1.020927175, 0.305028514, 1.47174613, 0.048902278, -0.255283556, 0.5482245729999999], [1.412416216, 0.018987506, 0.902251622, -0.17813747, 0.781819022, 0.211815895, -0.023427175, 3.557295952, 1.1737835559999998, -0.012362163999999998, 0.769782484, -0.681031743, -1.0473753890000002, 0.652065499, 0.17231669100000002, 2.072433469, 1.135709377, -0.169977181, 0.881067136, -0.486159025, -1.451838026, 0.371237737, -0.581665325, -0.126356157, 0.241004724, 1.06526919, 0.974531796, 0.668645091, 0.05696489], [-0.388039665, -0.5926266139999999, -0.24413651, 0.740364734, 3.023348415, -0.433985412, -0.6301244570000001, 1.156531983, 0.433696213, 3.84950782, -0.225425742, -0.656106808, -0.311953357, -0.397450226, 1.044025538, -0.247816912, 3.640524345, -0.59251039, 0.514666245, -0.45396994, 1.649737631, 3.366020313, -0.430502237, -0.295312303, 2.824551497, -0.014275115, -0.410477794, -0.229717784, 3.709828616], [1.408537135, -0.017369325, -0.367127962, 0.313253548, -0.16288686, 0.027411933, -0.281351556, 5.813846489, -0.161706584, 0.472386752, -0.33979584, 0.669956625, -0.2596391, -0.386601295, -0.293654593, 4.390499721, -0.420942214, -0.402955154, -0.346809494, -0.222725132, 0.36849943, 1.49303248, -0.34174718, -0.343420451, 5.284808607, -0.358156896, -0.222931558, -0.4013911670000001, -0.412478715], [0.906642406, -0.6847714229999999, 0.015261253999999997, 0.16056792, 0.365002113, -0.564392699, 0.16907282699999998, -0.035192496000000004, -0.031210405, 0.447742443, 0.544075103, 0.280008477, -0.066278222, -0.225814318, 4.103496507, 1.2196915659999998, -0.245022001, -0.681552658, -0.304817333, -0.511212295, -1.100056017, 1.335983295, -0.500561544, 0.721259819, 0.284747072, 0.232812724, -0.796930101, -0.156381455, 1.503853721], [-0.452907052, -0.392790536, -0.374173515, -0.527418493, -0.320103334, -0.560657219, -0.312847509, -0.463903623, -0.304652329, -0.30897114, -0.331935876, 4.0989308210000015, -0.413942149, -0.5014189170000001, 1.256164876, -0.12356019, -0.425577927, -0.36998588, -0.054684881, -0.484730631, -0.419739472, -0.432412432, 0.143245619, -0.266932489, -0.34086030700000003, -0.231847291, -0.448292539, -0.42868169, -0.615936889], [3.579051735, 0.92330807, -0.651094367, 0.952743833, -0.212733397, 0.006074527, -0.121038246, 0.083769063, -0.7226782140000001, 1.669410989, -0.247600883, -0.284623649, -0.687716717, -0.320883885, -0.93370415, -0.309230053, 0.544870152, 0.824029397, -0.087291924, -0.973905867, -0.308282983, 0.8221457040000001, -0.72904308, -0.08886573099999999, -0.29848499, -0.451367112, -1.134040733, 0.379230443, 1.491612577], [-0.582761335, -0.706379425, 0.364313301, -0.483011414, -0.71307719, -0.048548064, -0.527944549, 0.337501769, -0.656781635, -0.323318624, -0.432950623, -0.414799098, -1.02570516, -0.861415433, 0.113447131, -0.110117735, -0.493510825, 0.148841502, -0.341096914, -0.373760525, 5.16013802, -0.204906932, -0.465574863, -0.17040549100000002, 0.046286803, -0.100887639, 0.936150906, -0.15980844, -0.846857677], [-0.58688791, -0.186685902, -3.51852921, 0.250628834, -0.477773537, -0.62381107, -0.92202388, -0.55383453, 0.018847867, 1.267644557, 0.243732055, -0.233528273, 0.07072635599999999, -0.256360198, 1.7410016069999998, 0.16824737899999995, -0.245974299, 0.014972759, -0.537623787, 0.259364957, 1.303190492, 1.043208024, -1.0210949459999998, -0.097444212, -0.6792905929999999, 0.132592576, -0.440607517, -0.21005684, 0.651311995], [-0.693639785, -0.357559299, -0.903861262, -0.8104502790000001, 0.293775461, 1.012469252, -0.1044623, -0.573757161, -0.629467998, -1.131138938, -0.401984075, -0.672554564, -1.182791974, -1.00138041, -1.020216093, -0.437799213, -0.103783602, -0.387565928, 0.3864717720000001, -0.524742175, 3.627070248, -0.846550806, -0.473736661, 0.443388919, 0.7661352570000001, 0.193683015, -0.614757268, -0.382906171, -0.8644104109999999], [0.327203594, 0.857319301, -1.3973565959999998, -0.226683585, -0.986051455, 0.438343505, 0.095527129, 5.598772307999999, 0.5350257970000001, -0.057479225, -0.089086932, -0.473291011, 2.070252907, 0.201409888, 1.134728133, 0.095734104, 0.22916067, 0.566649702, 1.011889663, 0.902342556, 0.7355103040000001, -0.493538517, 3.176918602, 0.490045737, -0.693495689, -0.183704878, -0.182356844, 0.7447287690000001, -0.311064392], [0.331108191, -0.4679783970000001, 0.6811123290000001, -1.195914121, -0.538461957, 3.616542204, 0.094919881, 0.527357553, -0.16047831199999998, -0.940444939, -1.025689676, 0.053722044, 0.081275611, -0.616337936, -0.48042057, 0.6209033820000001, -0.7237930640000001, -0.759642991, -0.7449007440000001, -0.43363819, -0.8049298490000001, 0.429022269, 0.765012989, 0.400356525, 0.207741849, 1.4743730080000002, 0.888734282, 0.387715581, -0.623678298], [0.14118383699999998, 0.788608352, 0.51421388, 0.528255597, 0.906234597, 0.050158065, -0.8433413820000001, 1.44384296, -0.253699343, 0.562537497, -0.505923659, -6.621630156, -1.253907087, 0.947883556, 0.394657662, 0.613122698, -0.223205762, 0.905373736, 0.679301554, 0.8597892220000001, -0.022354553, 1.046726052, 0.194471, 0.359912834, -0.8063482340000001, 1.586619876, 0.311985824, 0.544470027, 1.479598537], [-0.5243099489999999, -0.285994749, -0.484871681, 0.176655189, -0.139711627, -0.35297839700000005, -0.192529854, -0.601257973, -0.427323427, 0.459403791, -0.383001, -0.571316753, -0.387982572, -0.35394511799999995, -0.24031472, -0.305685522, 0.456864915, -0.134886653, 2.136583182, -0.463127859, -0.6004083929999999, 4.430955918, -0.374772774, -0.206853106, 1.756104521, 0.8328872890000001, -0.314392176, -0.31373742, 0.493420283], [0.509592174, 0.464774315, 0.275495704, -0.01882253, -0.005537792, -0.457197866, 3.408253083, -0.430407643, -0.754186082, -0.836530855, -0.277053957, -0.54257843, 0.8504395770000001, -0.298981449, -0.16939480899999998, 0.254783369, -0.427821755, -0.1389465, 0.618069135, 1.926349897, -0.305399918, -0.535939215, -0.07866166599999999, 6.267854465, -0.57293844, -0.302168609, 0.72307512, 0.611863003, -0.2145995], [-0.554447111, -0.145753485, 0.019807701, -0.634915727, -0.493766887, -0.587644968, -0.22371499600000005, 1.3850494759999998, -0.346100755, 0.254536609, 0.057887318, -0.593081366, -0.47065185, -0.753944095, -0.044570503, -0.33459763600000003, 0.33958778799999995, -0.135201173, -0.111896921, 4.913848539, -0.542750046, -0.27783299, -0.689097582, -0.216688006, 1.127699857, 0.03588747, -0.070416156, -0.553268062, -0.977427689], [-0.530831743, -0.260873607, -0.461134617, -0.389056188, -0.512555424, -0.513202268, -0.3375503970000001, -0.449953768, -0.184845421, -0.565880657, -0.376356202, -0.285266104, -0.5705058789999999, 3.598950655, -0.477052971, -0.364449691, -0.648917127, -0.390363086, 1.117877995, -0.464086586, -0.456431016, -0.571010056, -0.456668794, -0.58230495, -0.426192704, -0.411161613, -0.455618608, -0.297498019, -0.47141323], [-0.6432463310000001, 0.052021433, -0.7350066259999999, 0.041068843, -0.062094125, 5.477714716, 1.256686967, -0.136401851, 0.5772668710000001, -0.60002565, 0.087671916, -0.5609597789999999, -0.56490393, -0.629261602, -0.214226487, 0.09929963, -0.095715004, -0.632856345, 1.09320354, 0.386976419, -0.374720076, -0.564957229, 1.680895489, 0.508498891, 0.916604247, -0.607497709, 0.58989289, -0.122764837, -0.533651064], [-0.693868027, 0.57619653, -0.488541037, -0.60094858, 1.139598497, -0.024286993, -0.288194559, -0.499250839, 0.103697413, -1.044716157, -1.02427507, 3.0230034439999995, 3.859028873, 0.7429784420000001, -0.352722819, 0.069205383, -1.117741919, 0.651553716, -0.364768511, -0.5472691, -0.735728719, -0.623797671, -0.105370633, -0.13943154900000002, -0.055372648, 0.774449831, 0.538987341, 0.35514519, -1.45386407], [0.006531886, 0.564826732, 3.695318524, 0.316255033, -0.268737774, 0.936461505, 0.22915170000000004, 0.649579007, -0.330103595, -0.504534505, 0.264729237, -0.977228043, 0.493632169, -0.401821398, -0.286231779, 0.14337127800000002, -0.360231532, 0.34076271700000005, 0.6331625120000001, -0.710530502, -1.334690191, 0.158108045, -0.347820435, -0.07449706099999999, -0.970507716, -0.26479443, -0.298648517, -0.10090872, -0.11742112], [-0.185695405, -0.173758799, 0.084357105, 1.826502656, 0.00816719, -1.102148634, 0.29900253600000004, 0.458848186, 0.292508806, 0.110508201, 0.083592283, -0.494333063, -0.117947546, -0.539712481, -0.106334279, -0.403083002, -0.789473381, 1.041787363, 1.70041072, -0.293951867, 4.8395247580000005, 1.015480815, 0.841188534, -0.620389764, -0.565583764, -0.262366184, 0.226425315, -0.048000565, 1.126249373], [0.184462349, -0.526037871, 0.432087272, -0.882311913, 0.246356093, 0.8587545209999999, 0.052858019000000006, -1.118340603, -0.8469488159999999, -0.778824075, 3.525192777, -1.872745007, -0.779756435, -1.039639399, -0.59333431, 0.402156007, -1.387426464, -0.145435051, -0.46497243, -0.221064461, -0.861483648, 0.125415634, -0.191849116, 2.374460297, -0.74142144, 0.7654394, 1.029796862, 0.03307866, 0.44066582], [1.760301448, -0.912259652, -1.163345889, -0.965891664, -0.7951534140000001, -0.616300339, -1.360743997, -1.448291877, -0.024088935, -1.188868793, -0.229906845, 2.1814891430000003, -1.154435684, 6.28292787, -0.303782002, -0.165568925, -1.126153349, 1.678721355, -1.683560793, -0.864063548, -0.025445472, 1.890946219, 0.667805988, -0.625764381, -1.063340313, 3.222816803, -0.0013596189999999998, -0.20366175600000005, 0.187669924], [-0.07364355, -0.103789279, -0.17130483600000002, 0.351910065, 0.63677969, -0.136732984, 0.356830815, 3.889115824, 0.645442526, 1.3663589180000002, 0.995319244, 5.608685402000001, 1.101919141, -0.554900568, 0.087820649, 0.061305127, 1.931275557, -0.692417574, -0.481807702, -0.16288735, -0.538298189, 2.440412245, 0.804274605, -0.605526195, 1.788457016, -0.376520922, 0.35819202, 0.164487781, 3.719306763], [-0.7515267409999999, 0.49762292, -0.142534658, -0.882124083, -1.151282849, 2.307907188, -0.12032085, -0.35126953200000005, -1.526178564, -0.7532684279999999, 3.600861739, -1.223995853, -0.607229424, -0.027417898, 0.190161632, 0.6105504079999999, 0.149796331, -0.122879865, 0.247865963, -0.404833708, 0.736929754, -0.944275068, -0.078919294, 0.661648005, -0.244948779, 3.051534602, -0.107365228, 0.367536408, -1.5179858240000002], [-0.31236414, 0.7012570890000001, 0.47520812, -0.585297054, -0.122694283, -0.8668751370000001, 0.367939523, -0.481103706, 2.072237711, 10.29186436, 1.298805701, -0.6281759170000001, -0.173084375, -0.02710755, 0.35516907299999995, 0.470456905, 0.121400231, 0.3749246020000001, -0.27830734100000004, -0.553746266, -0.935156558, -0.042420296, -0.479479902, -0.332400886, -0.7100170109999999, 1.873931755, 0.204554429, -0.32315246, 0.187572521], [0.11931136, 0.593670684, 0.489152771, 0.841683345, 1.064673748, 0.095113499, 1.050152022, 1.891488427, -5.5283552, 0.64306832, -1.100026181, 0.765710935, 1.165406655, 0.30638633, -1.365894262, 0.635492291, -0.377798616, 0.521665309, -0.6084974329999999, 0.398484128, -0.988354968, 1.36349214, 1.36269783, -0.112291585, -0.262719995, 0.503524059, 0.498006014, 1.525942005, 0.339189212], [-0.294263824, -0.618071649, -0.252534114, -0.78660676, -0.228026664, 0.977860794, -1.200449832, -0.22037931, -0.240489906, -0.201675468, 1.47598938, -0.557000568, -0.502553204, -0.437501309, 0.966927023, 0.379670097, 0.048795579000000006, 0.250622869, 2.961024714, 2.299033235, -1.210659274, 0.418655141, 1.161954005, -0.15700654, -1.254142937, -0.574558055, -0.662438275, 3.702617515, -0.35302723], [-0.000863802, 0.735638383, -0.680289747, 0.040925843, 0.359330228, -1.587400295, -1.041686081, 0.071551408, -0.168322665, -1.377303308, 3.604539089, -0.004601068, 1.527568732, -0.300154707, -0.7861355090000001, -0.138050924, -0.366480418, -0.7969702059999999, -0.030155544, 0.8031000559999999, 0.6831455609999999, -0.900708154, 0.15251077, 0.140092011, 0.376815421, -1.214319621, 1.326197465, 1.523070279, -1.312001824], [-0.276736819, -0.426080887, -0.160160461, -0.8900327709999999, -0.437405434, 0.143897214, -0.573425958, -0.486419381, -0.536963482, -0.657041002, -0.473345418, -0.237475279, -0.669396538, -0.559435302, 0.038953301, 0.033709721, -0.343587801, -0.513218087, -0.5923033129999999, -0.431221835, 5.339202897, -0.4937785870000001, -0.645000361, -0.477984867, -0.401579746, -0.621782124, -0.249394627, -0.303365249, -0.922343302], [-0.31807579, -0.8141108090000001, 0.6465451879999999, 0.26837169, -9.425120961000001, -1.073853473, -2.049589626, -0.346921024, 0.997283181, 0.30061925300000003, -0.543103864, -1.150792172, -2.283061167, -0.162802216, -1.053859713, -1.377541743, -0.288349474, -0.922266884, -1.123953091, -0.7629538929999999, -0.6873571479999999, 0.28991073, 0.317576672, -0.345565515, 0.541683, 0.009754099, 0.73792006, -0.6242717520000001, 0.100532547], [-0.670177714, 3.224533501, 0.145509552, 0.107432319, -1.120492739, 0.288890539, 1.5495459180000002, -0.342665051, -0.017402855, -0.420002244, -0.361387453, -1.264272075, -0.794507765, -0.619944678, -0.338767802, -0.14852947800000002, -1.078879645, 0.130939014, -1.307815313, -1.818798474, 3.683694337, 0.920647357, -0.847056974, -0.34379849799999995, -1.21552566, -0.8538453340000001, -0.357215055, -0.043911541, -0.955847309], [-0.695252888, 4.299877134, -0.175587126, -0.061022137, -0.391646018, 3.385451038, 0.345114288, -0.505734993, -0.482953864, -0.081815586, -0.928486879, 0.976209137, 0.099021487, 2.494690556, -1.0887427790000002, 0.437174751, -0.507169467, 2.028724319, -0.507954247, 0.143506281, -1.19702953, 0.610379518, 0.095879151, -0.6631187270000001, 0.50821984, -0.741815419, 2.38531026, 0.354750355, 0.658437634], [-0.337849025, -0.535265918, 0.8031604590000001, 0.275911465, 0.981343049, -0.748451144, -0.092431408, -0.326477104, -0.381243917, -0.575343824, -0.63351617, -0.380961411, -1.7206161969999998, -0.85605361, -0.5809503739999999, 0.373293116, 0.905490886, 0.135705555, 1.107780656, -0.545183144, 0.475561701, 0.016687596000000002, -0.172178219, 0.585186686, -0.40480014, -3.997318149, 0.711029765, -0.470884061, 0.354386296], [-0.3681732170000001, 0.209192446, 0.266317555, -0.100656799, -0.336791718, -0.060827204, -0.199021599, -0.765882671, -0.071476548, -0.4402703, -0.35486840000000003, 3.468121376, 5.853726714, -0.465135408, 0.074434692, 7.085199705, -0.399050575, -0.334999773, -0.623071147, -0.406230833, 0.939058116, -0.269533885, 0.117950503, 0.1975473, -0.365407931, -0.056856473, 0.0019832120000000003, 0.08160995900000001, -0.603299855]], \"cat_colors\": {\"row\": {}, \"col\": {\"cat-0\": {\"Category: 1111111111111\": \"#393b79\", \"Category: five\": \"#ff7f0e\", \"Category: four\": \"#98df8a\", \"Category: one\": \"#404040\", \"Category: three\": \"#c5b0d5\", \"Category: two\": \"#1f77b4\"}, \"cat-1\": {\"Gender: Female\": \"#404040\", \"Gender: Male\": \"#c5b0d5\"}}}, \"matrix_colors\": {\"pos\": \"red\", \"neg\": \"blue\"}, \"linkage\": {\"row\": [[10.0, 32.0, 0.06437833343185051, 2.0], [12.0, 38.0, 0.2057807442266179, 3.0], [1.0, 22.0, 0.3184649733304905, 2.0], [14.0, 20.0, 0.35286480263576503, 2.0], [0.0, 6.0, 0.38141103654356634, 2.0], [24.0, 27.0, 0.3983748338497144, 2.0], [21.0, 37.0, 0.41251201230340906, 2.0], [4.0, 42.0, 0.4280836846680854, 3.0], [23.0, 39.0, 0.4439773648803776, 4.0], [19.0, 25.0, 0.44469985873569506, 2.0], [34.0, 46.0, 0.47192829840745887, 5.0], [5.0, 16.0, 0.481392788883786, 2.0], [13.0, 45.0, 0.5783791523832629, 4.0], [8.0, 26.0, 0.6304208889713055, 2.0], [7.0, 11.0, 0.6486014022424014, 2.0], [35.0, 41.0, 0.6616192942892254, 3.0], [31.0, 43.0, 0.7067760299202304, 3.0], [2.0, 30.0, 0.7258002494276479, 2.0], [44.0, 51.0, 0.7356875405517835, 4.0], [49.0, 52.0, 0.7446240746552134, 4.0], [9.0, 28.0, 0.7447191434616063, 2.0], [3.0, 55.0, 0.7802198882820968, 3.0], [15.0, 50.0, 0.8059197227352338, 5.0], [57.0, 58.0, 0.806353333078685, 6.0], [17.0, 54.0, 0.8197475004085518, 4.0], [36.0, 48.0, 0.8203610288766509, 6.0], [29.0, 60.0, 0.8349918231940446, 6.0], [33.0, 47.0, 0.8573166828064163, 3.0], [18.0, 64.0, 0.8591812432193459, 7.0], [53.0, 59.0, 0.8886580619077051, 6.0], [40.0, 67.0, 0.9258089052724395, 8.0], [62.0, 68.0, 0.9445721069232892, 12.0], [66.0, 69.0, 0.9695585706485049, 19.0], [56.0, 61.0, 1.0346030568948974, 10.0], [63.0, 65.0, 1.0490938859226466, 9.0], [70.0, 71.0, 1.0516300653631991, 29.0], [72.0, 73.0, 1.077937499286203, 38.0]], \"col\": [[21.0, 28.0, 0.33495654474169223, 2.0], [7.0, 24.0, 0.43670067947117863, 2.0], [13.0, 17.0, 0.47003117161447217, 2.0], [12.0, 15.0, 0.4773320251610442, 2.0], [22.0, 27.0, 0.5039955054106007, 2.0], [16.0, 29.0, 0.5174208070138897, 3.0], [6.0, 23.0, 0.518359229708024, 2.0], [3.0, 34.0, 0.6162342952793853, 4.0], [11.0, 32.0, 0.6370563097214351, 3.0], [1.0, 26.0, 0.642006199728167, 2.0], [25.0, 31.0, 0.6824323936662635, 3.0], [8.0, 9.0, 0.6865267596302415, 2.0], [5.0, 38.0, 0.7015046147077053, 3.0], [18.0, 19.0, 0.71112121299911, 2.0], [30.0, 36.0, 0.711931891516018, 6.0], [33.0, 42.0, 0.776694078140187, 4.0], [2.0, 35.0, 0.77846802632298, 3.0], [14.0, 40.0, 0.788045561696172, 3.0], [0.0, 39.0, 0.8007546150665158, 4.0], [4.0, 43.0, 0.826261789523282, 7.0], [46.0, 48.0, 0.8877432884510226, 10.0], [41.0, 45.0, 0.8911875257155764, 6.0], [10.0, 44.0, 0.8992700084070453, 5.0], [50.0, 51.0, 0.9563776630475814, 11.0], [37.0, 49.0, 0.967462644994954, 13.0], [47.0, 53.0, 1.003047869675411, 17.0], [52.0, 54.0, 1.0176858645294644, 28.0], [20.0, 55.0, 1.1036425640386107, 29.0]]}, \"views\": [], \"manual_category\": {\"col\": \"Category\", \"row\": null, \"col_cats\": [{\"name\": \"Cat\", \"color\": \"red\"}, {\"name\": \"Dog\", \"color\": \"yellow\"}, {\"name\": \"Shark\", \"color\": \"black\"}, {\"name\": \"Snake\", \"color\": \"blue\"}, {\"name\": \"Lizard\", \"color\": \"green\"}]}}",
       "value": "col-dendro -> 3,7,16,21,24,28"
      }
     },
     "44e3d9ed5ec44569bba63c580ac5a89c": {
      "model_module": "@jupyter-widgets/base",
      "model_module_version": "1.2.0",
      "model_name": "LayoutModel",
      "state": {}
     },
     "53499f8e16a84414a98142b0daa15405": {
      "model_module": "clustergrammer2",
      "model_module_version": "0.13.2",
      "model_name": "ExampleModel",
      "state": {
       "layout": "IPY_MODEL_44e3d9ed5ec44569bba63c580ac5a89c",
       "manual_cat": "{\"col\":{\"Category\":{\"H1650\":\"Lizard\",\"H23\":\"two\",\"CAL-12T\":\"two\",\"H358\":\"Lizard\",\"H1975\":\"two\",\"HCC15\":\"11111111111111111\",\"H1355\":\"three\",\"HCC827\":\"222222222222\",\"H2405\":\"five\",\"HCC78\":\"Lizard\",\"H1666\":\"3333333333333\",\"H661\":\"five\",\"H838\":\"five\",\"H1703\":\"five\",\"CALU-3\":\"four\",\"H2342\":\"four\",\"H2228\":\"222222222222\",\"H1299\":\"three\",\"H1792\":\"3333333333333\",\"H460\":\"3333333333333\",\"H2106\":\"four\",\"H441\":\"Lizard\",\"H1944\":\"3333333333333\",\"H1437\":\"four\",\"H1734\":\"222222222222\",\"LOU-NH91\":\"five\",\"HCC44\":\"11111111111111111\",\"A549\":\"3333333333333\",\"H1781\":\"Lizard\"}},\"col_cat_colors\":{\"Category: five\":\"#393b79\",\"Category: four\":\"#ff7f0e\",\"Category: one\":\"#98df8a\",\"Category: three\":\"#404040\",\"Category: two\":\"#c5b0d5\",\"Category: 1111111111111\":\"white\",\"Category: Lizard\":\"green\",\"Category: 11111111111111111\":\"white\"}}",
       "mat_string": "ini_mat_string",
       "network": "{\"row_nodes\": [{\"name\": \"CDK4\", \"ini\": 38, \"clust\": 14, \"rank\": 30, \"rankvar\": 20}, {\"name\": \"LMTK3\", \"ini\": 37, \"clust\": 20, \"rank\": 28, \"rankvar\": 24}, {\"name\": \"LRRK2\", \"ini\": 36, \"clust\": 26, \"rank\": 9, \"rankvar\": 10}, {\"name\": \"UHMK1\", \"ini\": 35, \"clust\": 25, \"rank\": 26, \"rankvar\": 14}, {\"name\": \"EGFR\", \"ini\": 34, \"clust\": 13, \"rank\": 33, \"rankvar\": 7}, {\"name\": \"STK32A\", \"ini\": 33, \"clust\": 32, \"rank\": 36, \"rankvar\": 32}, {\"name\": \"NRK\", \"ini\": 32, \"clust\": 15, \"rank\": 35, \"rankvar\": 33}, {\"name\": \"ERBB2\", \"ini\": 31, \"clust\": 34, \"rank\": 24, \"rankvar\": 9}, {\"name\": \"ERBB4\", \"ini\": 30, \"clust\": 30, \"rank\": 6, \"rankvar\": 2}, {\"name\": \"AAK1\", \"ini\": 29, \"clust\": 36, \"rank\": 18, \"rankvar\": 8}, {\"name\": \"SRPK3\", \"ini\": 28, \"clust\": 4, \"rank\": 8, \"rankvar\": 15}, {\"name\": \"STK39\", \"ini\": 27, \"clust\": 35, \"rank\": 7, \"rankvar\": 4}, {\"name\": \"GRK4\", \"ini\": 26, \"clust\": 3, \"rank\": 1, \"rankvar\": 3}, {\"name\": \"TBK1\", \"ini\": 25, \"clust\": 12, \"rank\": 34, \"rankvar\": 26}, {\"name\": \"INSRR\", \"ini\": 24, \"clust\": 23, \"rank\": 13, \"rankvar\": 5}, {\"name\": \"IRAK1\", \"ini\": 23, \"clust\": 11, \"rank\": 20, \"rankvar\": 30}, {\"name\": \"KDR\", \"ini\": 22, \"clust\": 33, \"rank\": 19, \"rankvar\": 11}, {\"name\": \"NPR1\", \"ini\": 21, \"clust\": 16, \"rank\": 27, \"rankvar\": 29}, {\"name\": \"PAK3\", \"ini\": 20, \"clust\": 9, \"rank\": 11, \"rankvar\": 12}, {\"name\": \"PDGFRA\", \"ini\": 19, \"clust\": 7, \"rank\": 2, \"rankvar\": 0}, {\"name\": \"PDK4\", \"ini\": 18, \"clust\": 24, \"rank\": 22, \"rankvar\": 22}, {\"name\": \"ULK4\", \"ini\": 17, \"clust\": 28, \"rank\": 16, \"rankvar\": 19}, {\"name\": \"PRKCE\", \"ini\": 16, \"clust\": 21, \"rank\": 14, \"rankvar\": 1}, {\"name\": \"PRKG2\", \"ini\": 15, \"clust\": 2, \"rank\": 25, \"rankvar\": 18}, {\"name\": \"MAPK4\", \"ini\": 14, \"clust\": 18, \"rank\": 10, \"rankvar\": 16}, {\"name\": \"MAPK11\", \"ini\": 13, \"clust\": 8, \"rank\": 17, \"rankvar\": 34}, {\"name\": \"STK31\", \"ini\": 12, \"clust\": 31, \"rank\": 37, \"rankvar\": 31}, {\"name\": \"GRK1\", \"ini\": 11, \"clust\": 19, \"rank\": 15, \"rankvar\": 23}, {\"name\": \"ROS1\", \"ini\": 10, \"clust\": 37, \"rank\": 31, \"rankvar\": 37}, {\"name\": \"MAP2K4\", \"ini\": 9, \"clust\": 10, \"rank\": 23, \"rankvar\": 28}, {\"name\": \"SRC\", \"ini\": 8, \"clust\": 27, \"rank\": 21, \"rankvar\": 21}, {\"name\": \"TGFBR1\", \"ini\": 7, \"clust\": 17, \"rank\": 12, \"rankvar\": 13}, {\"name\": \"CAMK2B\", \"ini\": 6, \"clust\": 5, \"rank\": 3, \"rankvar\": 17}, {\"name\": \"STK24\", \"ini\": 5, \"clust\": 6, \"rank\": 0, \"rankvar\": 36}, {\"name\": \"DCLK3\", \"ini\": 4, \"clust\": 1, \"rank\": 5, \"rankvar\": 25}, {\"name\": \"LATS1\", \"ini\": 3, \"clust\": 22, \"rank\": 29, \"rankvar\": 27}, {\"name\": \"NEK9\", \"ini\": 2, \"clust\": 0, \"rank\": 4, \"rankvar\": 6}, {\"name\": \"MYLK3\", \"ini\": 1, \"clust\": 29, \"rank\": 32, \"rankvar\": 35}], \"col_nodes\": [{\"name\": \"H1650\", \"ini\": 29, \"clust\": 12, \"rank\": 6, \"rankvar\": 4, \"cat-0\": \"Category: 1111111111111\", \"cat_0_index\": 0, \"cat-1\": \"Gender: Male\", \"cat_1_index\": 10}, {\"name\": \"H23\", \"ini\": 28, \"clust\": 2, \"rank\": 17, \"rankvar\": 8, \"cat-0\": \"Category: two\", \"cat_0_index\": 25, \"cat-1\": \"Gender: Male\", \"cat_1_index\": 11}, {\"name\": \"CAL-12T\", \"ini\": 27, \"clust\": 4, \"rank\": 10, \"rankvar\": 19, \"cat-0\": \"Category: two\", \"cat_0_index\": 26, \"cat-1\": \"Gender: Male\", \"cat_1_index\": 12}, {\"name\": \"H358\", \"ini\": 26, \"clust\": 25, \"rank\": 4, \"rankvar\": 0, \"cat-0\": \"Category: 222222222222\", \"cat_0_index\": 2, \"cat-1\": \"Gender: Male\", \"cat_1_index\": 13}, {\"name\": \"H1975\", \"ini\": 25, \"clust\": 22, \"rank\": 0, \"rankvar\": 24, \"cat-0\": \"Category: two\", \"cat_0_index\": 27, \"cat-1\": \"Gender: Female\", \"cat_1_index\": 0}, {\"name\": \"HCC15\", \"ini\": 24, \"clust\": 1, \"rank\": 24, \"rankvar\": 20, \"cat-0\": \"Category: two\", \"cat_0_index\": 28, \"cat-1\": \"Gender: Male\", \"cat_1_index\": 14}, {\"name\": \"H1355\", \"ini\": 23, \"clust\": 5, \"rank\": 9, \"rankvar\": 6, \"cat-0\": \"Category: three\", \"cat_0_index\": 20, \"cat-1\": \"Gender: Male\", \"cat_1_index\": 15}, {\"name\": \"HCC827\", \"ini\": 22, \"clust\": 23, \"rank\": 28, \"rankvar\": 25, \"cat-0\": \"Category: 222222222222\", \"cat_0_index\": 3, \"cat-1\": \"Gender: Female\", \"cat_1_index\": 1}, {\"name\": \"H2405\", \"ini\": 21, \"clust\": 20, \"rank\": 1, \"rankvar\": 12, \"cat-0\": \"Category: five\", \"cat_0_index\": 8, \"cat-1\": \"Gender: Male\", \"cat_1_index\": 16}, {\"name\": \"HCC78\", \"ini\": 20, \"clust\": 21, \"rank\": 25, \"rankvar\": 27, \"cat-0\": \"Category: 1111111111111\", \"cat_0_index\": 1, \"cat-1\": \"Gender: Male\", \"cat_1_index\": 17}, {\"name\": \"H1666\", \"ini\": 19, \"clust\": 7, \"rank\": 18, \"rankvar\": 15, \"cat-0\": \"Category: four\", \"cat_0_index\": 13, \"cat-1\": \"Gender: Female\", \"cat_1_index\": 2}, {\"name\": \"H661\", \"ini\": 18, \"clust\": 16, \"rank\": 3, \"rankvar\": 26, \"cat-0\": \"Category: five\", \"cat_0_index\": 9, \"cat-1\": \"Gender: Male\", \"cat_1_index\": 18}, {\"name\": \"H838\", \"ini\": 17, \"clust\": 17, \"rank\": 7, \"rankvar\": 23, \"cat-0\": \"Category: five\", \"cat_0_index\": 10, \"cat-1\": \"Gender: Male\", \"cat_1_index\": 19}, {\"name\": \"H1703\", \"ini\": 16, \"clust\": 14, \"rank\": 11, \"rankvar\": 21, \"cat-0\": \"Category: five\", \"cat_0_index\": 11, \"cat-1\": \"Gender: Male\", \"cat_1_index\": 20}, {\"name\": \"CALU-3\", \"ini\": 15, \"clust\": 19, \"rank\": 8, \"rankvar\": 7, \"cat-0\": \"Category: four\", \"cat_0_index\": 14, \"cat-1\": \"Gender: Male\", \"cat_1_index\": 21}, {\"name\": \"H2342\", \"ini\": 14, \"clust\": 18, \"rank\": 26, \"rankvar\": 22, \"cat-0\": \"Category: four\", \"cat_0_index\": 15, \"cat-1\": \"Gender: Female\", \"cat_1_index\": 3}, {\"name\": \"H2228\", \"ini\": 13, \"clust\": 26, \"rank\": 2, \"rankvar\": 5, \"cat-0\": \"Category: 222222222222\", \"cat_0_index\": 4, \"cat-1\": \"Gender: Female\", \"cat_1_index\": 4}, {\"name\": \"H1299\", \"ini\": 12, \"clust\": 15, \"rank\": 12, \"rankvar\": 1, \"cat-0\": \"Category: three\", \"cat_0_index\": 21, \"cat-1\": \"Gender: Male\", \"cat_1_index\": 22}, {\"name\": \"H1792\", \"ini\": 11, \"clust\": 10, \"rank\": 20, \"rankvar\": 9, \"cat-0\": \"Category: three\", \"cat_0_index\": 22, \"cat-1\": \"Gender: Male\", \"cat_1_index\": 23}, {\"name\": \"H460\", \"ini\": 10, \"clust\": 11, \"rank\": 5, \"rankvar\": 11, \"cat-0\": \"Category: three\", \"cat_0_index\": 23, \"cat-1\": \"Gender: Male\", \"cat_1_index\": 24}, {\"name\": \"H2106\", \"ini\": 9, \"clust\": 0, \"rank\": 22, \"rankvar\": 28, \"cat-0\": \"Category: four\", \"cat_0_index\": 16, \"cat-1\": \"Gender: Male\", \"cat_1_index\": 25}, {\"name\": \"H441\", \"ini\": 8, \"clust\": 27, \"rank\": 27, \"rankvar\": 14, \"cat-0\": \"Category: 222222222222\", \"cat_0_index\": 5, \"cat-1\": \"Gender: Male\", \"cat_1_index\": 26}, {\"name\": \"H1944\", \"ini\": 7, \"clust\": 8, \"rank\": 23, \"rankvar\": 10, \"cat-0\": \"Category: three\", \"cat_0_index\": 24, \"cat-1\": \"Gender: Female\", \"cat_1_index\": 5}, {\"name\": \"H1437\", \"ini\": 6, \"clust\": 6, \"rank\": 16, \"rankvar\": 17, \"cat-0\": \"Category: four\", \"cat_0_index\": 17, \"cat-1\": \"Gender: Male\", \"cat_1_index\": 27}, {\"name\": \"H1734\", \"ini\": 5, \"clust\": 24, \"rank\": 19, \"rankvar\": 18, \"cat-0\": \"Category: 222222222222\", \"cat_0_index\": 6, \"cat-1\": \"Gender: Female\", \"cat_1_index\": 6}, {\"name\": \"LOU-NH91\", \"ini\": 4, \"clust\": 13, \"rank\": 15, \"rankvar\": 16, \"cat-0\": \"Category: five\", \"cat_0_index\": 12, \"cat-1\": \"Gender: Female\", \"cat_1_index\": 7}, {\"name\": \"HCC44\", \"ini\": 3, \"clust\": 3, \"rank\": 14, \"rankvar\": 2, \"cat-0\": \"Category: four\", \"cat_0_index\": 18, \"cat-1\": \"Gender: Female\", \"cat_1_index\": 8}, {\"name\": \"A549\", \"ini\": 2, \"clust\": 9, \"rank\": 21, \"rankvar\": 3, \"cat-0\": \"Category: four\", \"cat_0_index\": 19, \"cat-1\": \"Gender: Male\", \"cat_1_index\": 28}, {\"name\": \"H1781\", \"ini\": 1, \"clust\": 28, \"rank\": 13, \"rankvar\": 13, \"cat-0\": \"Category: 222222222222\", \"cat_0_index\": 7, \"cat-1\": \"Gender: Female\", \"cat_1_index\": 9}], \"links\": [], \"mat\": [[-0.792803571, 0.527687127, 0.000622536, 0.356722594, 0.933286088, -0.131728538, 0.8084519440000001, 4.240884801, -0.5402313910000001, -0.981456952, -0.84689892, -0.25279592100000003, 0.114189581, -0.06649884, 0.149218809, 1.351263924, 0.6458672120000001, 0.60561098, 3.232454573, 0.342634572, -0.430912324, -0.40590567, 0.199563989, -1.122536294, 2.210334571, 0.405126315, -0.08976315900000001, 0.405126315, 0.340012773], [0.17762054, -0.016061488999999998, 5.422113832999999, 1.307039675, 0.355814985, 0.276904994, 0.483153915, -0.24049582100000005, 1.336445996, 1.149618502, 0.361412978, -0.380518938, -0.213541004, -0.471938639, -0.620858723, -0.163637058, -0.487256142, -0.029569688, -0.232057778, -0.6690369389999999, -0.449241698, 1.158930406, 0.5119620220000001, 2.370834155, 0.262893885, -0.513128895, -0.501210068, 0.439277561, -0.342460508], [-0.6978761509999999, -0.555610265, -0.360497559, -0.460236731, -0.6807606970000001, -0.169463518, 1.715708875, -0.5171048229999999, 0.184987709, 0.8106597, -0.440334448, -0.621052026, -0.08680335800000001, -0.753966225, -0.401972037, -0.562086752, -0.560644597, 0.542301381, -0.382639145, -0.377853523, -0.713472923, -0.377609368, 4.308904581, -0.638131949, -0.556114063, -0.318145763, -0.489582714, 1.6773765269999998, -0.6827904640000001], [0.8505465179999999, -0.263279907, 0.179253031, 0.398646721, 1.537663802, 0.505291411, 0.902366491, -0.16628803, 0.6307305639999999, 0.399448283, 0.8471713670000001, -0.442268094, 0.44368676, 1.552969029, 1.110283483, -0.326698072, -0.405267374, 0.663747183, 0.424470033, 0.283221899, -4.243973921, 0.718315578, 1.747343933, -1.020927175, 0.305028514, 1.47174613, 0.048902278, -0.255283556, 0.5482245729999999], [1.412416216, 0.018987506, 0.902251622, -0.17813747, 0.781819022, 0.211815895, -0.023427175, 3.557295952, 1.1737835559999998, -0.012362163999999998, 0.769782484, -0.681031743, -1.0473753890000002, 0.652065499, 0.17231669100000002, 2.072433469, 1.135709377, -0.169977181, 0.881067136, -0.486159025, -1.451838026, 0.371237737, -0.581665325, -0.126356157, 0.241004724, 1.06526919, 0.974531796, 0.668645091, 0.05696489], [-0.388039665, -0.5926266139999999, -0.24413651, 0.740364734, 3.023348415, -0.433985412, -0.6301244570000001, 1.156531983, 0.433696213, 3.84950782, -0.225425742, -0.656106808, -0.311953357, -0.397450226, 1.044025538, -0.247816912, 3.640524345, -0.59251039, 0.514666245, -0.45396994, 1.649737631, 3.366020313, -0.430502237, -0.295312303, 2.824551497, -0.014275115, -0.410477794, -0.229717784, 3.709828616], [1.408537135, -0.017369325, -0.367127962, 0.313253548, -0.16288686, 0.027411933, -0.281351556, 5.813846489, -0.161706584, 0.472386752, -0.33979584, 0.669956625, -0.2596391, -0.386601295, -0.293654593, 4.390499721, -0.420942214, -0.402955154, -0.346809494, -0.222725132, 0.36849943, 1.49303248, -0.34174718, -0.343420451, 5.284808607, -0.358156896, -0.222931558, -0.4013911670000001, -0.412478715], [0.906642406, -0.6847714229999999, 0.015261253999999997, 0.16056792, 0.365002113, -0.564392699, 0.16907282699999998, -0.035192496000000004, -0.031210405, 0.447742443, 0.544075103, 0.280008477, -0.066278222, -0.225814318, 4.103496507, 1.2196915659999998, -0.245022001, -0.681552658, -0.304817333, -0.511212295, -1.100056017, 1.335983295, -0.500561544, 0.721259819, 0.284747072, 0.232812724, -0.796930101, -0.156381455, 1.503853721], [-0.452907052, -0.392790536, -0.374173515, -0.527418493, -0.320103334, -0.560657219, -0.312847509, -0.463903623, -0.304652329, -0.30897114, -0.331935876, 4.0989308210000015, -0.413942149, -0.5014189170000001, 1.256164876, -0.12356019, -0.425577927, -0.36998588, -0.054684881, -0.484730631, -0.419739472, -0.432412432, 0.143245619, -0.266932489, -0.34086030700000003, -0.231847291, -0.448292539, -0.42868169, -0.615936889], [3.579051735, 0.92330807, -0.651094367, 0.952743833, -0.212733397, 0.006074527, -0.121038246, 0.083769063, -0.7226782140000001, 1.669410989, -0.247600883, -0.284623649, -0.687716717, -0.320883885, -0.93370415, -0.309230053, 0.544870152, 0.824029397, -0.087291924, -0.973905867, -0.308282983, 0.8221457040000001, -0.72904308, -0.08886573099999999, -0.29848499, -0.451367112, -1.134040733, 0.379230443, 1.491612577], [-0.582761335, -0.706379425, 0.364313301, -0.483011414, -0.71307719, -0.048548064, -0.527944549, 0.337501769, -0.656781635, -0.323318624, -0.432950623, -0.414799098, -1.02570516, -0.861415433, 0.113447131, -0.110117735, -0.493510825, 0.148841502, -0.341096914, -0.373760525, 5.16013802, -0.204906932, -0.465574863, -0.17040549100000002, 0.046286803, -0.100887639, 0.936150906, -0.15980844, -0.846857677], [-0.58688791, -0.186685902, -3.51852921, 0.250628834, -0.477773537, -0.62381107, -0.92202388, -0.55383453, 0.018847867, 1.267644557, 0.243732055, -0.233528273, 0.07072635599999999, -0.256360198, 1.7410016069999998, 0.16824737899999995, -0.245974299, 0.014972759, -0.537623787, 0.259364957, 1.303190492, 1.043208024, -1.0210949459999998, -0.097444212, -0.6792905929999999, 0.132592576, -0.440607517, -0.21005684, 0.651311995], [-0.693639785, -0.357559299, -0.903861262, -0.8104502790000001, 0.293775461, 1.012469252, -0.1044623, -0.573757161, -0.629467998, -1.131138938, -0.401984075, -0.672554564, -1.182791974, -1.00138041, -1.020216093, -0.437799213, -0.103783602, -0.387565928, 0.3864717720000001, -0.524742175, 3.627070248, -0.846550806, -0.473736661, 0.443388919, 0.7661352570000001, 0.193683015, -0.614757268, -0.382906171, -0.8644104109999999], [0.327203594, 0.857319301, -1.3973565959999998, -0.226683585, -0.986051455, 0.438343505, 0.095527129, 5.598772307999999, 0.5350257970000001, -0.057479225, -0.089086932, -0.473291011, 2.070252907, 0.201409888, 1.134728133, 0.095734104, 0.22916067, 0.566649702, 1.011889663, 0.902342556, 0.7355103040000001, -0.493538517, 3.176918602, 0.490045737, -0.693495689, -0.183704878, -0.182356844, 0.7447287690000001, -0.311064392], [0.331108191, -0.4679783970000001, 0.6811123290000001, -1.195914121, -0.538461957, 3.616542204, 0.094919881, 0.527357553, -0.16047831199999998, -0.940444939, -1.025689676, 0.053722044, 0.081275611, -0.616337936, -0.48042057, 0.6209033820000001, -0.7237930640000001, -0.759642991, -0.7449007440000001, -0.43363819, -0.8049298490000001, 0.429022269, 0.765012989, 0.400356525, 0.207741849, 1.4743730080000002, 0.888734282, 0.387715581, -0.623678298], [0.14118383699999998, 0.788608352, 0.51421388, 0.528255597, 0.906234597, 0.050158065, -0.8433413820000001, 1.44384296, -0.253699343, 0.562537497, -0.505923659, -6.621630156, -1.253907087, 0.947883556, 0.394657662, 0.613122698, -0.223205762, 0.905373736, 0.679301554, 0.8597892220000001, -0.022354553, 1.046726052, 0.194471, 0.359912834, -0.8063482340000001, 1.586619876, 0.311985824, 0.544470027, 1.479598537], [-0.5243099489999999, -0.285994749, -0.484871681, 0.176655189, -0.139711627, -0.35297839700000005, -0.192529854, -0.601257973, -0.427323427, 0.459403791, -0.383001, -0.571316753, -0.387982572, -0.35394511799999995, -0.24031472, -0.305685522, 0.456864915, -0.134886653, 2.136583182, -0.463127859, -0.6004083929999999, 4.430955918, -0.374772774, -0.206853106, 1.756104521, 0.8328872890000001, -0.314392176, -0.31373742, 0.493420283], [0.509592174, 0.464774315, 0.275495704, -0.01882253, -0.005537792, -0.457197866, 3.408253083, -0.430407643, -0.754186082, -0.836530855, -0.277053957, -0.54257843, 0.8504395770000001, -0.298981449, -0.16939480899999998, 0.254783369, -0.427821755, -0.1389465, 0.618069135, 1.926349897, -0.305399918, -0.535939215, -0.07866166599999999, 6.267854465, -0.57293844, -0.302168609, 0.72307512, 0.611863003, -0.2145995], [-0.554447111, -0.145753485, 0.019807701, -0.634915727, -0.493766887, -0.587644968, -0.22371499600000005, 1.3850494759999998, -0.346100755, 0.254536609, 0.057887318, -0.593081366, -0.47065185, -0.753944095, -0.044570503, -0.33459763600000003, 0.33958778799999995, -0.135201173, -0.111896921, 4.913848539, -0.542750046, -0.27783299, -0.689097582, -0.216688006, 1.127699857, 0.03588747, -0.070416156, -0.553268062, -0.977427689], [-0.530831743, -0.260873607, -0.461134617, -0.389056188, -0.512555424, -0.513202268, -0.3375503970000001, -0.449953768, -0.184845421, -0.565880657, -0.376356202, -0.285266104, -0.5705058789999999, 3.598950655, -0.477052971, -0.364449691, -0.648917127, -0.390363086, 1.117877995, -0.464086586, -0.456431016, -0.571010056, -0.456668794, -0.58230495, -0.426192704, -0.411161613, -0.455618608, -0.297498019, -0.47141323], [-0.6432463310000001, 0.052021433, -0.7350066259999999, 0.041068843, -0.062094125, 5.477714716, 1.256686967, -0.136401851, 0.5772668710000001, -0.60002565, 0.087671916, -0.5609597789999999, -0.56490393, -0.629261602, -0.214226487, 0.09929963, -0.095715004, -0.632856345, 1.09320354, 0.386976419, -0.374720076, -0.564957229, 1.680895489, 0.508498891, 0.916604247, -0.607497709, 0.58989289, -0.122764837, -0.533651064], [-0.693868027, 0.57619653, -0.488541037, -0.60094858, 1.139598497, -0.024286993, -0.288194559, -0.499250839, 0.103697413, -1.044716157, -1.02427507, 3.0230034439999995, 3.859028873, 0.7429784420000001, -0.352722819, 0.069205383, -1.117741919, 0.651553716, -0.364768511, -0.5472691, -0.735728719, -0.623797671, -0.105370633, -0.13943154900000002, -0.055372648, 0.774449831, 0.538987341, 0.35514519, -1.45386407], [0.006531886, 0.564826732, 3.695318524, 0.316255033, -0.268737774, 0.936461505, 0.22915170000000004, 0.649579007, -0.330103595, -0.504534505, 0.264729237, -0.977228043, 0.493632169, -0.401821398, -0.286231779, 0.14337127800000002, -0.360231532, 0.34076271700000005, 0.6331625120000001, -0.710530502, -1.334690191, 0.158108045, -0.347820435, -0.07449706099999999, -0.970507716, -0.26479443, -0.298648517, -0.10090872, -0.11742112], [-0.185695405, -0.173758799, 0.084357105, 1.826502656, 0.00816719, -1.102148634, 0.29900253600000004, 0.458848186, 0.292508806, 0.110508201, 0.083592283, -0.494333063, -0.117947546, -0.539712481, -0.106334279, -0.403083002, -0.789473381, 1.041787363, 1.70041072, -0.293951867, 4.8395247580000005, 1.015480815, 0.841188534, -0.620389764, -0.565583764, -0.262366184, 0.226425315, -0.048000565, 1.126249373], [0.184462349, -0.526037871, 0.432087272, -0.882311913, 0.246356093, 0.8587545209999999, 0.052858019000000006, -1.118340603, -0.8469488159999999, -0.778824075, 3.525192777, -1.872745007, -0.779756435, -1.039639399, -0.59333431, 0.402156007, -1.387426464, -0.145435051, -0.46497243, -0.221064461, -0.861483648, 0.125415634, -0.191849116, 2.374460297, -0.74142144, 0.7654394, 1.029796862, 0.03307866, 0.44066582], [1.760301448, -0.912259652, -1.163345889, -0.965891664, -0.7951534140000001, -0.616300339, -1.360743997, -1.448291877, -0.024088935, -1.188868793, -0.229906845, 2.1814891430000003, -1.154435684, 6.28292787, -0.303782002, -0.165568925, -1.126153349, 1.678721355, -1.683560793, -0.864063548, -0.025445472, 1.890946219, 0.667805988, -0.625764381, -1.063340313, 3.222816803, -0.0013596189999999998, -0.20366175600000005, 0.187669924], [-0.07364355, -0.103789279, -0.17130483600000002, 0.351910065, 0.63677969, -0.136732984, 0.356830815, 3.889115824, 0.645442526, 1.3663589180000002, 0.995319244, 5.608685402000001, 1.101919141, -0.554900568, 0.087820649, 0.061305127, 1.931275557, -0.692417574, -0.481807702, -0.16288735, -0.538298189, 2.440412245, 0.804274605, -0.605526195, 1.788457016, -0.376520922, 0.35819202, 0.164487781, 3.719306763], [-0.7515267409999999, 0.49762292, -0.142534658, -0.882124083, -1.151282849, 2.307907188, -0.12032085, -0.35126953200000005, -1.526178564, -0.7532684279999999, 3.600861739, -1.223995853, -0.607229424, -0.027417898, 0.190161632, 0.6105504079999999, 0.149796331, -0.122879865, 0.247865963, -0.404833708, 0.736929754, -0.944275068, -0.078919294, 0.661648005, -0.244948779, 3.051534602, -0.107365228, 0.367536408, -1.5179858240000002], [-0.31236414, 0.7012570890000001, 0.47520812, -0.585297054, -0.122694283, -0.8668751370000001, 0.367939523, -0.481103706, 2.072237711, 10.29186436, 1.298805701, -0.6281759170000001, -0.173084375, -0.02710755, 0.35516907299999995, 0.470456905, 0.121400231, 0.3749246020000001, -0.27830734100000004, -0.553746266, -0.935156558, -0.042420296, -0.479479902, -0.332400886, -0.7100170109999999, 1.873931755, 0.204554429, -0.32315246, 0.187572521], [0.11931136, 0.593670684, 0.489152771, 0.841683345, 1.064673748, 0.095113499, 1.050152022, 1.891488427, -5.5283552, 0.64306832, -1.100026181, 0.765710935, 1.165406655, 0.30638633, -1.365894262, 0.635492291, -0.377798616, 0.521665309, -0.6084974329999999, 0.398484128, -0.988354968, 1.36349214, 1.36269783, -0.112291585, -0.262719995, 0.503524059, 0.498006014, 1.525942005, 0.339189212], [-0.294263824, -0.618071649, -0.252534114, -0.78660676, -0.228026664, 0.977860794, -1.200449832, -0.22037931, -0.240489906, -0.201675468, 1.47598938, -0.557000568, -0.502553204, -0.437501309, 0.966927023, 0.379670097, 0.048795579000000006, 0.250622869, 2.961024714, 2.299033235, -1.210659274, 0.418655141, 1.161954005, -0.15700654, -1.254142937, -0.574558055, -0.662438275, 3.702617515, -0.35302723], [-0.000863802, 0.735638383, -0.680289747, 0.040925843, 0.359330228, -1.587400295, -1.041686081, 0.071551408, -0.168322665, -1.377303308, 3.604539089, -0.004601068, 1.527568732, -0.300154707, -0.7861355090000001, -0.138050924, -0.366480418, -0.7969702059999999, -0.030155544, 0.8031000559999999, 0.6831455609999999, -0.900708154, 0.15251077, 0.140092011, 0.376815421, -1.214319621, 1.326197465, 1.523070279, -1.312001824], [-0.276736819, -0.426080887, -0.160160461, -0.8900327709999999, -0.437405434, 0.143897214, -0.573425958, -0.486419381, -0.536963482, -0.657041002, -0.473345418, -0.237475279, -0.669396538, -0.559435302, 0.038953301, 0.033709721, -0.343587801, -0.513218087, -0.5923033129999999, -0.431221835, 5.339202897, -0.4937785870000001, -0.645000361, -0.477984867, -0.401579746, -0.621782124, -0.249394627, -0.303365249, -0.922343302], [-0.31807579, -0.8141108090000001, 0.6465451879999999, 0.26837169, -9.425120961000001, -1.073853473, -2.049589626, -0.346921024, 0.997283181, 0.30061925300000003, -0.543103864, -1.150792172, -2.283061167, -0.162802216, -1.053859713, -1.377541743, -0.288349474, -0.922266884, -1.123953091, -0.7629538929999999, -0.6873571479999999, 0.28991073, 0.317576672, -0.345565515, 0.541683, 0.009754099, 0.73792006, -0.6242717520000001, 0.100532547], [-0.670177714, 3.224533501, 0.145509552, 0.107432319, -1.120492739, 0.288890539, 1.5495459180000002, -0.342665051, -0.017402855, -0.420002244, -0.361387453, -1.264272075, -0.794507765, -0.619944678, -0.338767802, -0.14852947800000002, -1.078879645, 0.130939014, -1.307815313, -1.818798474, 3.683694337, 0.920647357, -0.847056974, -0.34379849799999995, -1.21552566, -0.8538453340000001, -0.357215055, -0.043911541, -0.955847309], [-0.695252888, 4.299877134, -0.175587126, -0.061022137, -0.391646018, 3.385451038, 0.345114288, -0.505734993, -0.482953864, -0.081815586, -0.928486879, 0.976209137, 0.099021487, 2.494690556, -1.0887427790000002, 0.437174751, -0.507169467, 2.028724319, -0.507954247, 0.143506281, -1.19702953, 0.610379518, 0.095879151, -0.6631187270000001, 0.50821984, -0.741815419, 2.38531026, 0.354750355, 0.658437634], [-0.337849025, -0.535265918, 0.8031604590000001, 0.275911465, 0.981343049, -0.748451144, -0.092431408, -0.326477104, -0.381243917, -0.575343824, -0.63351617, -0.380961411, -1.7206161969999998, -0.85605361, -0.5809503739999999, 0.373293116, 0.905490886, 0.135705555, 1.107780656, -0.545183144, 0.475561701, 0.016687596000000002, -0.172178219, 0.585186686, -0.40480014, -3.997318149, 0.711029765, -0.470884061, 0.354386296], [-0.3681732170000001, 0.209192446, 0.266317555, -0.100656799, -0.336791718, -0.060827204, -0.199021599, -0.765882671, -0.071476548, -0.4402703, -0.35486840000000003, 3.468121376, 5.853726714, -0.465135408, 0.074434692, 7.085199705, -0.399050575, -0.334999773, -0.623071147, -0.406230833, 0.939058116, -0.269533885, 0.117950503, 0.1975473, -0.365407931, -0.056856473, 0.0019832120000000003, 0.08160995900000001, -0.603299855]], \"cat_colors\": {\"row\": {}, \"col\": {\"cat-0\": {\"Category: 1111111111111\": \"#393b79\", \"Category: 222222222222\": \"#ff7f0e\", \"Category: five\": \"#98df8a\", \"Category: four\": \"#404040\", \"Category: three\": \"#c5b0d5\", \"Category: two\": \"#1f77b4\"}, \"cat-1\": {\"Gender: Female\": \"#404040\", \"Gender: Male\": \"#c5b0d5\"}}}, \"matrix_colors\": {\"pos\": \"red\", \"neg\": \"blue\"}, \"linkage\": {\"row\": [[10.0, 32.0, 0.06437833343185051, 2.0], [12.0, 38.0, 0.2057807442266179, 3.0], [1.0, 22.0, 0.3184649733304905, 2.0], [14.0, 20.0, 0.35286480263576503, 2.0], [0.0, 6.0, 0.38141103654356634, 2.0], [24.0, 27.0, 0.3983748338497144, 2.0], [21.0, 37.0, 0.41251201230340906, 2.0], [4.0, 42.0, 0.4280836846680854, 3.0], [23.0, 39.0, 0.4439773648803776, 4.0], [19.0, 25.0, 0.44469985873569506, 2.0], [34.0, 46.0, 0.47192829840745887, 5.0], [5.0, 16.0, 0.481392788883786, 2.0], [13.0, 45.0, 0.5783791523832629, 4.0], [8.0, 26.0, 0.6304208889713055, 2.0], [7.0, 11.0, 0.6486014022424014, 2.0], [35.0, 41.0, 0.6616192942892254, 3.0], [31.0, 43.0, 0.7067760299202304, 3.0], [2.0, 30.0, 0.7258002494276479, 2.0], [44.0, 51.0, 0.7356875405517835, 4.0], [49.0, 52.0, 0.7446240746552134, 4.0], [9.0, 28.0, 0.7447191434616063, 2.0], [3.0, 55.0, 0.7802198882820968, 3.0], [15.0, 50.0, 0.8059197227352338, 5.0], [57.0, 58.0, 0.806353333078685, 6.0], [17.0, 54.0, 0.8197475004085518, 4.0], [36.0, 48.0, 0.8203610288766509, 6.0], [29.0, 60.0, 0.8349918231940446, 6.0], [33.0, 47.0, 0.8573166828064163, 3.0], [18.0, 64.0, 0.8591812432193459, 7.0], [53.0, 59.0, 0.8886580619077051, 6.0], [40.0, 67.0, 0.9258089052724395, 8.0], [62.0, 68.0, 0.9445721069232892, 12.0], [66.0, 69.0, 0.9695585706485049, 19.0], [56.0, 61.0, 1.0346030568948974, 10.0], [63.0, 65.0, 1.0490938859226466, 9.0], [70.0, 71.0, 1.0516300653631991, 29.0], [72.0, 73.0, 1.077937499286203, 38.0]], \"col\": [[21.0, 28.0, 0.33495654474169223, 2.0], [7.0, 24.0, 0.43670067947117863, 2.0], [13.0, 17.0, 0.47003117161447217, 2.0], [12.0, 15.0, 0.4773320251610442, 2.0], [22.0, 27.0, 0.5039955054106007, 2.0], [16.0, 29.0, 0.5174208070138897, 3.0], [6.0, 23.0, 0.518359229708024, 2.0], [3.0, 34.0, 0.6162342952793853, 4.0], [11.0, 32.0, 0.6370563097214351, 3.0], [1.0, 26.0, 0.642006199728167, 2.0], [25.0, 31.0, 0.6824323936662635, 3.0], [8.0, 9.0, 0.6865267596302415, 2.0], [5.0, 38.0, 0.7015046147077053, 3.0], [18.0, 19.0, 0.71112121299911, 2.0], [30.0, 36.0, 0.711931891516018, 6.0], [33.0, 42.0, 0.776694078140187, 4.0], [2.0, 35.0, 0.77846802632298, 3.0], [14.0, 40.0, 0.788045561696172, 3.0], [0.0, 39.0, 0.8007546150665158, 4.0], [4.0, 43.0, 0.826261789523282, 7.0], [46.0, 48.0, 0.8877432884510226, 10.0], [41.0, 45.0, 0.8911875257155764, 6.0], [10.0, 44.0, 0.8992700084070453, 5.0], [50.0, 51.0, 0.9563776630475814, 11.0], [37.0, 49.0, 0.967462644994954, 13.0], [47.0, 53.0, 1.003047869675411, 17.0], [52.0, 54.0, 1.0176858645294644, 28.0], [20.0, 55.0, 1.1036425640386107, 29.0]]}, \"views\": [], \"manual_category\": {\"col\": \"Category\", \"row\": null, \"col_cats\": [{\"name\": \"Cat\", \"color\": \"red\"}, {\"name\": \"Dog\", \"color\": \"yellow\"}, {\"name\": \"Shark\", \"color\": \"black\"}, {\"name\": \"Snake\", \"color\": \"blue\"}, {\"name\": \"Lizard\", \"color\": \"green\"}]}}",
       "value": "col-dendro -> 10,18,19,22,27"
      }
     },
     "6ca714c2679140a0b273674a8f7f701b": {
      "model_module": "@jupyter-widgets/base",
      "model_module_version": "1.2.0",
      "model_name": "LayoutModel",
      "state": {}
     },
     "a9373231fa02412f8500be61c5aae0e1": {
      "model_module": "clustergrammer2",
      "model_module_version": "0.13.2",
      "model_name": "ExampleModel",
      "state": {
       "layout": "IPY_MODEL_6ca714c2679140a0b273674a8f7f701b",
       "manual_cat": "{\"col\":{\"Gender\":{\"default-1\":\"Male\",\"default-2\":\"Cat\",\"default-3\":\"Shark\",\"default-4\":\"Male\",\"default-5\":\"Female\"}},\"col_cat_colors\":{\"Gender: Female\":\"#393b79\",\"Gender: Male\":\"#ff7f0e\",\"Gender: Cat\":\"white\",\"Gender: Shark\":\"white\"}}",
       "mat_string": "ini_mat_string",
       "network": "{\"row_nodes\": [{\"name\": \"CDK4\", \"ini\": 38, \"clust\": 24, \"rank\": 31, \"rankvar\": 33}, {\"name\": \"LMTK3\", \"ini\": 37, \"clust\": 36, \"rank\": 27, \"rankvar\": 13}, {\"name\": \"LRRK2\", \"ini\": 36, \"clust\": 30, \"rank\": 12, \"rankvar\": 17}, {\"name\": \"UHMK1\", \"ini\": 35, \"clust\": 34, \"rank\": 28, \"rankvar\": 20}, {\"name\": \"EGFR\", \"ini\": 34, \"clust\": 25, \"rank\": 32, \"rankvar\": 31}, {\"name\": \"STK32A\", \"ini\": 33, \"clust\": 35, \"rank\": 36, \"rankvar\": 32}, {\"name\": \"NRK\", \"ini\": 32, \"clust\": 27, \"rank\": 34, \"rankvar\": 34}, {\"name\": \"ERBB2\", \"ini\": 31, \"clust\": 37, \"rank\": 25, \"rankvar\": 4}, {\"name\": \"ERBB4\", \"ini\": 30, \"clust\": 0, \"rank\": 8, \"rankvar\": 1}, {\"name\": \"AAK1\", \"ini\": 29, \"clust\": 32, \"rank\": 26, \"rankvar\": 26}, {\"name\": \"SRPK3\", \"ini\": 28, \"clust\": 2, \"rank\": 11, \"rankvar\": 7}, {\"name\": \"STK39\", \"ini\": 27, \"clust\": 31, \"rank\": 21, \"rankvar\": 25}, {\"name\": \"GRK4\", \"ini\": 26, \"clust\": 5, \"rank\": 6, \"rankvar\": 11}, {\"name\": \"TBK1\", \"ini\": 25, \"clust\": 28, \"rank\": 33, \"rankvar\": 35}, {\"name\": \"INSRR\", \"ini\": 24, \"clust\": 18, \"rank\": 10, \"rankvar\": 14}, {\"name\": \"IRAK1\", \"ini\": 23, \"clust\": 21, \"rank\": 29, \"rankvar\": 22}, {\"name\": \"KDR\", \"ini\": 22, \"clust\": 29, \"rank\": 22, \"rankvar\": 10}, {\"name\": \"NPR1\", \"ini\": 21, \"clust\": 11, \"rank\": 13, \"rankvar\": 19}, {\"name\": \"PAK3\", \"ini\": 20, \"clust\": 26, \"rank\": 23, \"rankvar\": 24}, {\"name\": \"PDGFRA\", \"ini\": 19, \"clust\": 9, \"rank\": 4, \"rankvar\": 0}, {\"name\": \"PDK4\", \"ini\": 18, \"clust\": 12, \"rank\": 15, \"rankvar\": 8}, {\"name\": \"ULK4\", \"ini\": 17, \"clust\": 7, \"rank\": 18, \"rankvar\": 29}, {\"name\": \"PRKCE\", \"ini\": 16, \"clust\": 19, \"rank\": 20, \"rankvar\": 9}, {\"name\": \"PRKG2\", \"ini\": 15, \"clust\": 20, \"rank\": 24, \"rankvar\": 3}, {\"name\": \"MAPK4\", \"ini\": 14, \"clust\": 15, \"rank\": 7, \"rankvar\": 18}, {\"name\": \"MAPK11\", \"ini\": 13, \"clust\": 16, \"rank\": 1, \"rankvar\": 27}, {\"name\": \"STK31\", \"ini\": 12, \"clust\": 23, \"rank\": 35, \"rankvar\": 30}, {\"name\": \"GRK1\", \"ini\": 11, \"clust\": 10, \"rank\": 2, \"rankvar\": 21}, {\"name\": \"ROS1\", \"ini\": 10, \"clust\": 33, \"rank\": 37, \"rankvar\": 37}, {\"name\": \"MAP2K4\", \"ini\": 9, \"clust\": 22, \"rank\": 30, \"rankvar\": 28}, {\"name\": \"SRC\", \"ini\": 8, \"clust\": 13, \"rank\": 16, \"rankvar\": 5}, {\"name\": \"TGFBR1\", \"ini\": 7, \"clust\": 6, \"rank\": 9, \"rankvar\": 23}, {\"name\": \"CAMK2B\", \"ini\": 6, \"clust\": 1, \"rank\": 5, \"rankvar\": 2}, {\"name\": \"STK24\", \"ini\": 5, \"clust\": 3, \"rank\": 0, \"rankvar\": 36}, {\"name\": \"DCLK3\", \"ini\": 4, \"clust\": 4, \"rank\": 3, \"rankvar\": 6}, {\"name\": \"LATS1\", \"ini\": 3, \"clust\": 14, \"rank\": 19, \"rankvar\": 12}, {\"name\": \"NEK9\", \"ini\": 2, \"clust\": 8, \"rank\": 17, \"rankvar\": 16}, {\"name\": \"MYLK3\", \"ini\": 1, \"clust\": 17, \"rank\": 14, \"rankvar\": 15}], \"col_nodes\": [{\"name\": \"default-1\", \"ini\": 5, \"clust\": 0, \"rank\": 2, \"rankvar\": 0, \"cat-0\": \"Gender: Male\", \"cat_0_index\": 2, \"cat-1\": \"Category: 3333333333333\", \"cat_1_index\": 1}, {\"name\": \"default-2\", \"ini\": 4, \"clust\": 3, \"rank\": 1, \"rankvar\": 1, \"cat-0\": \"Gender: Male\", \"cat_0_index\": 3, \"cat-1\": \"Category: Lizard\", \"cat_1_index\": 2}, {\"name\": \"default-3\", \"ini\": 3, \"clust\": 4, \"rank\": 4, \"rankvar\": 3, \"cat-0\": \"Gender: Female\", \"cat_0_index\": 0, \"cat-1\": \"Category: 222222222222\", \"cat_1_index\": 0}, {\"name\": \"default-4\", \"ini\": 2, \"clust\": 2, \"rank\": 3, \"rankvar\": 4, \"cat-0\": \"Gender: Male\", \"cat_0_index\": 4, \"cat-1\": \"Category: Lizard\", \"cat_1_index\": 3}, {\"name\": \"default-5\", \"ini\": 1, \"clust\": 1, \"rank\": 0, \"rankvar\": 2, \"cat-0\": \"Gender: Female\", \"cat_0_index\": 1, \"cat-1\": \"Category: two\", \"cat_1_index\": 4}], \"links\": [], \"mat\": [[0.3728401811421607, 0.11419964526678868, 4.240884800999996, -0.9814569520000003, 0.9332860880000001], [0.12285444206259746, 0.65001677082336, -0.24049582100000017, 1.1496185019999996, 0.3558149849999999], [0.26592044884769883, -0.48497385834387247, -0.517104823, 0.8106597000000008, -0.6807606969999993], [0.48973678419968797, -0.03659110540893653, -0.16628802999999992, 0.39944828299999985, 1.5376638019999986], [0.3242056811507412, 0.26825827477606484, 3.5572959520000027, -0.012362163999999981, 0.7818190219999992], [-0.314276406993955, 1.4476518688270184, 1.1565319829999994, 3.8495078200000004, 3.023348414999998], [0.019078027183112304, 0.7148802560911943, 5.813846488999998, 0.4723867520000002, -0.16288686000000008], [-0.09152028869305773, 0.6390680484635485, -0.03519249600000001, 0.4477424430000002, 0.36500211300000024], [-0.31636881528529653, 0.15706316910033988, -0.4639036229999996, -0.3089711399999999, -0.32010333399999996], [-0.21236555110023408, 0.4151156760796968, 0.08376906299999998, 1.6694109890000028, -0.21273339700000002], [-0.29610928513416546, 0.16566590835066627, 0.33750176899999973, -0.323318624, -0.7130771900000009], [-0.23844873845748824, -0.02632681422471912, -0.5538345299999999, 1.267644557, -0.4777735369999999], [-0.26000046798127935, -0.2052659505756467, -0.5737571610000003, -1.1311389379999996, 0.293775461], [0.6856225277408353, -0.06880477525921083, 5.5987723079999965, -0.05747922499999999, -0.9860514549999989], [0.2912444365284712, -0.20675327610896274, 0.5273575530000008, -0.9404449390000005, -0.5384619569999999], [0.3264589565969188, -0.386429706642801, 1.4438429599999998, 0.5625374969999998, 0.9062345969999995], [-0.07361315653100624, 0.4060772114828848, -0.6012579730000004, 0.4594037909999998, -0.13971162699999995], [0.9288800503711003, -0.2411435918988765, -0.43040764300000006, -0.8365308550000005, -0.005537792000000001], [0.003624809576638057, -0.24100056464933373, 1.3850494760000003, 0.2545366089999998, -0.4937668870000004], [-0.023828473254875224, -0.4446634025599686, -0.44995376800000025, -0.5658806569999998, -0.5125554239999999], [0.5774026361587367, -0.2112598466020382, -0.13640185099999996, -0.6000256500000002, -0.062094124999999986], [0.34931785674941485, -0.24560396982336033, -0.49925083899999984, -1.0447161570000003, 1.1395984970000008], [0.08912774925175504, -0.021424192787039466, 0.6495790069999999, -0.5045345049999999, -0.2687377740000002], [0.037287853040366636, 0.6413450121400577, 0.45884818600000027, 0.1105082009999998, 0.00816719], [0.3779348264627535, -0.5410997041938852, -1.118340603, -0.7788240750000003, 0.24635609299999991], [0.3060744160897038, 0.15495313520982498, -1.448291877, -1.1888687930000004, -0.7951534139999993], [0.06153556068506241, 1.493788766281421, 3.8891158239999983, 1.3663589180000009, 0.636779689999999], [0.6602093292769111, -0.5703388912087795, -0.3512695320000003, -0.7532684280000003, -1.1512828489999996], [0.14867009516088142, -0.019590020182649614, -0.4811037059999994, 10.291864359999998, -0.12269428299999997], [0.466876380952223, -0.3428568464120719, 1.891488427000001, 0.6430683199999996, 1.064673747999999], [0.5909839134799139, -0.3315664547582962, -0.22037930999999994, -0.20167546800000005, -0.22802666400000002], [0.3099343761745321, -0.2802455120909329, 0.07155140800000002, -1.3773033080000006, 0.3593302280000001], [-0.4295480665664974, 0.0870879646198066, -0.4864193809999998, -0.6570410019999999, -0.4374054339999994], [-0.7420884649662638, -0.07523068286177167, -0.3469210239999998, 0.300619253, -9.42512096099999], [-0.16591494193896264, -0.05710960362006796, -0.3426650510000002, -0.42000224399999997, -1.1204927390000006], [0.8342939459313571, -0.07633407857825976, -0.505734993, -0.081815586, -0.3916460180000001], [-0.4750419268991809, 0.06625927835510846, -0.32647710399999985, -0.5753438239999996, 0.9813430490000002], [0.7443652720900934, 0.2600913030209041, -0.765882671, -0.44027029999999995, -0.3367917180000003]], \"cat_colors\": {\"row\": {}, \"col\": {\"cat-0\": {\"Gender: Female\": \"#393b79\", \"Gender: Male\": \"#ff7f0e\"}, \"cat-1\": {\"Category: 11111111111111111\": \"#ff7f0e\", \"Category: 222222222222\": \"#98df8a\", \"Category: 3333333333333\": \"#404040\", \"Category: Lizard\": \"#c5b0d5\", \"Category: five\": \"#1f77b4\", \"Category: four\": \"#FFDB58\", \"Category: three\": \"#e377c2\", \"Category: two\": \"#2ca02c\"}}}, \"matrix_colors\": {\"pos\": \"red\", \"neg\": \"blue\"}, \"linkage\": {\"row\": [[15.0, 29.0, 0.0035653932524085663, 2.0], [17.0, 20.0, 0.020220614827372918, 2.0], [0.0, 4.0, 0.02476270223260635, 2.0], [6.0, 13.0, 0.030294953210124764, 2.0], [8.0, 32.0, 0.04506382613563764, 2.0], [9.0, 28.0, 0.049336875881084485, 2.0], [18.0, 41.0, 0.0690822812697992, 3.0], [14.0, 22.0, 0.09290769287596612, 2.0], [30.0, 35.0, 0.10204202418604613, 2.0], [33.0, 34.0, 0.1023517118487145, 2.0], [40.0, 44.0, 0.12102150139994965, 5.0], [1.0, 7.0, 0.12536103144675337, 2.0], [11.0, 43.0, 0.13728020954197445, 3.0], [19.0, 27.0, 0.14557383308423621, 2.0], [25.0, 37.0, 0.14663330938526287, 2.0], [26.0, 48.0, 0.1549397974111602, 6.0], [5.0, 49.0, 0.1696262542818388, 3.0], [12.0, 31.0, 0.19839058763762074, 2.0], [21.0, 36.0, 0.20740031742679588, 2.0], [39.0, 46.0, 0.2082221709365872, 4.0], [38.0, 53.0, 0.2334570367175945, 8.0], [10.0, 47.0, 0.24126069628589153, 3.0], [24.0, 52.0, 0.29119330767726065, 3.0], [55.0, 56.0, 0.299177437226171, 4.0], [57.0, 60.0, 0.31229202563190556, 7.0], [2.0, 50.0, 0.3334650428751725, 4.0], [51.0, 62.0, 0.3517182727655364, 9.0], [16.0, 63.0, 0.39371020931603506, 5.0], [42.0, 59.0, 0.42986045281728563, 5.0], [23.0, 58.0, 0.4533223546189058, 9.0], [3.0, 54.0, 0.4690171765208932, 4.0], [45.0, 67.0, 0.6046531864752711, 11.0], [65.0, 68.0, 0.6380944213918298, 9.0], [61.0, 64.0, 0.6987474779187391, 13.0], [66.0, 71.0, 0.8106622412109665, 18.0], [69.0, 70.0, 1.1443317819350425, 20.0], [72.0, 73.0, 1.2849296817093987, 38.0]], \"col\": [[1.0, 2.0, 0.6295055341654135, 2.0], [0.0, 4.0, 0.7689229385324726, 2.0], [3.0, 5.0, 0.8131103700399618, 3.0], [6.0, 7.0, 0.9579526377301243, 5.0]]}, \"views\": [], \"manual_category\": {\"col\": \"Gender\", \"row\": null}}",
       "value": "col-dendro -> 2"
      }
     },
     "c6de05c323ee4b07b93944d551931a88": {
      "model_module": "@jupyter-widgets/base",
      "model_module_version": "1.2.0",
      "model_name": "LayoutModel",
      "state": {}
     },
     "feace699980f45e1bb9fc0c2eff2b438": {
      "model_module": "@jupyter-widgets/base",
      "model_module_version": "1.2.0",
      "model_name": "LayoutModel",
      "state": {}
     }
    },
    "version_major": 2,
    "version_minor": 0
   }
  }
 },
 "nbformat": 4,
 "nbformat_minor": 4
}
