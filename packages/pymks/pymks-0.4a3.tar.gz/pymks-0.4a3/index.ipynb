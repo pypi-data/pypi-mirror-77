{
 "cells": [
  {
   "cell_type": "markdown",
   "metadata": {},
   "source": [
    "# PyMKS Examples\n",
    "\n",
    "Start with the [introductory notebook](notebooks/intro.ipynb) if you are new to PyMKS.\n",
    "\n",
    "### Introduction\n",
    "\n",
    " - [Introduction](./notebooks/intro.ipynb)\n",
    "\n",
    "### 2-Point Statistics\n",
    "\n",
    " - [Checkerboard Microstructure](./notebooks/checkerboard.ipynb)\n",
    "\n",
    "### Homogenization\n",
    "   \n",
    " - [Effective Stiffness of Composite Material](./notebooks/stress.ipynb)\n",
    " - [Effective Stiffness of Fiber Composite](./notebooks/fiber.ipynb)\n",
    "\n",
    "### Localization\n",
    "   \n",
    " - [Linear Elasticity in 2D](./notebooks/elasticity.ipynb)\n",
    " - [Linear Elasticity in 2D for 3 Phases](./notebooks/multiphase.ipynb)\n",
    " - [Linear Elasticity in 3D](notebooks/elasticity3d.ipynb)\n",
    " - [Filter Example](notebooks/filter.ipynb)\n",
    " - [Cahn-Hilliard Example](notebooks/cahn_hilliard.ipynb)\n",
    " - [Cahn-Hilliard with Primitive and Legendre Bases](notebooks/cahn_hilliard_legendre.ipynb)\n",
    "\n",
    "### Technical Background\n",
    "\n",
    " - [Technical Overview](notebooks/tech_overview.ipynb)\n",
    " - [Derivation of MKS localization](notebooks/derivation.ipynb)\n"
   ]
  }
 ],
 "metadata": {
  "anaconda-cloud": {},
  "kernelspec": {
   "display_name": "Python 3",
   "language": "python",
   "name": "python3"
  },
  "language_info": {
   "codemirror_mode": {
    "name": "ipython",
    "version": 3
   },
   "file_extension": ".py",
   "mimetype": "text/x-python",
   "name": "python",
   "nbconvert_exporter": "python",
   "pygments_lexer": "ipython3",
   "version": "3.7.6"
  }
 },
 "nbformat": 4,
 "nbformat_minor": 1
}
