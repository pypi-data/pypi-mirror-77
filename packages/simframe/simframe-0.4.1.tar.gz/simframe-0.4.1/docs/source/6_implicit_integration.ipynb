{
 "cells": [
  {
   "cell_type": "markdown",
   "metadata": {},
   "source": [
    "In this tutorial you'll learn how to\n",
    "\n",
    "* set up implicit integration schemes\n",
    "\n",
    "For this notebook you need `matplotlib` in addition to the `simframe` requirements."
   ]
  },
  {
   "cell_type": "markdown",
   "metadata": {},
   "source": [
    "# Implicit Integration\n",
    "\n",
    "In this example we revisit the differential equation from the first tutorial and the last tutorial about adaptive scheme.\n",
    "\n",
    "For this tutorial we revisit the problem of the first tutorial.\n",
    "\n",
    "* $\\frac{\\mathrm{d}Y}{\\mathrm{d}x} = b\\ Y$\n",
    "\n",
    "* $Y \\left( 0 \\right) = A$.\n",
    "\n",
    "* $Y \\left( x \\right) = A\\ e^{bx}$\n",
    "\n",
    "But this time we increase the step size, such that the 1st-order Euler scheme is unstable."
   ]
  },
  {
   "cell_type": "markdown",
   "metadata": {},
   "source": [
    "**Analytic solution**"
   ]
  },
  {
   "cell_type": "code",
   "execution_count": 1,
   "metadata": {},
   "outputs": [],
   "source": [
    "import numpy as np"
   ]
  },
  {
   "cell_type": "code",
   "execution_count": 2,
   "metadata": {},
   "outputs": [],
   "source": [
    "def f(x, A, b):\n",
    "    return np.exp(b*x)"
   ]
  },
  {
   "cell_type": "markdown",
   "metadata": {},
   "source": [
    "**Model parameters**"
   ]
  },
  {
   "cell_type": "code",
   "execution_count": 3,
   "metadata": {},
   "outputs": [],
   "source": [
    "A  =   1.\n",
    "b  =  -1.\n",
    "dx =  10."
   ]
  },
  {
   "cell_type": "markdown",
   "metadata": {},
   "source": [
    "This time we chose a large step size and set up the frame."
   ]
  },
  {
   "cell_type": "code",
   "execution_count": 4,
   "metadata": {},
   "outputs": [],
   "source": [
    "from simframe import Frame"
   ]
  },
  {
   "cell_type": "code",
   "execution_count": 5,
   "metadata": {},
   "outputs": [],
   "source": [
    "sim_expl = Frame(description=\"Explicit integratioon\")"
   ]
  },
  {
   "cell_type": "code",
   "execution_count": 6,
   "metadata": {},
   "outputs": [],
   "source": [
    "sim_expl.addfield(\"Y\", A)\n",
    "sim_expl.addintegrationvariable(\"t\", 0.)"
   ]
  },
  {
   "cell_type": "code",
   "execution_count": 7,
   "metadata": {},
   "outputs": [],
   "source": [
    "def fdx(frame):\n",
    "    return dx\n",
    "sim_expl.t.updater = fdx\n",
    "sim_expl.t.snapshots = [10.]"
   ]
  },
  {
   "cell_type": "code",
   "execution_count": 8,
   "metadata": {},
   "outputs": [],
   "source": [
    "def diff_expl(frame, x, Y):\n",
    "    return b*Y\n",
    "sim_expl.Y.differentiator = diff_expl"
   ]
  },
  {
   "cell_type": "code",
   "execution_count": 9,
   "metadata": {},
   "outputs": [],
   "source": [
    "from simframe import Integrator\n",
    "from simframe import Instruction\n",
    "from simframe import schemes"
   ]
  },
  {
   "cell_type": "code",
   "execution_count": 10,
   "metadata": {},
   "outputs": [],
   "source": [
    "sim_expl.integrator = Integrator(sim_expl.t)\n",
    "sim_expl.integrator.instructions = [Instruction(schemes.expl_1_euler, sim_expl.Y)]"
   ]
  },
  {
   "cell_type": "code",
   "execution_count": 11,
   "metadata": {},
   "outputs": [],
   "source": [
    "from simframe import writers"
   ]
  },
  {
   "cell_type": "code",
   "execution_count": 12,
   "metadata": {},
   "outputs": [],
   "source": [
    "sim_expl.writer = writers.namespacewriter\n",
    "sim_expl.writer.dumping = False\n",
    "sim_expl.writer.verbosity = 0"
   ]
  },
  {
   "cell_type": "code",
   "execution_count": 13,
   "metadata": {},
   "outputs": [],
   "source": [
    "sim_expl.run()"
   ]
  },
  {
   "cell_type": "markdown",
   "metadata": {},
   "source": [
    "**Reading data and plotting**"
   ]
  },
  {
   "cell_type": "code",
   "execution_count": 14,
   "metadata": {},
   "outputs": [],
   "source": [
    "data_expl = sim_expl.writer.read.all()"
   ]
  },
  {
   "cell_type": "code",
   "execution_count": 15,
   "metadata": {},
   "outputs": [],
   "source": [
    "import matplotlib.pyplot as plt\n",
    "\n",
    "def plot(ls):\n",
    "    fig, ax = plt.subplots(dpi=150)\n",
    "    x = np.linspace(-1., 11, 100)\n",
    "    ax.set_xlim(x[0], x[-1])\n",
    "    ax.plot(x, f(x, A, b), label=\"Solution\")\n",
    "    for sim, d in ls:\n",
    "        ax.plot(sim.t, sim.Y, \"o\", label=d)\n",
    "    ax.legend()\n",
    "    plt.show()"
   ]
  },
  {
   "cell_type": "code",
   "execution_count": 16,
   "metadata": {},
   "outputs": [
    {
     "data": {
      "image/png": "[encoded data removed]",
      "text/plain": [
       "<Figure size 900x600 with 1 Axes>"
      ]
     },
     "metadata": {
      "needs_background": "light"
     },
     "output_type": "display_data"
    }
   ],
   "source": [
    "plot([(data_expl, \"Explicit Euler 1st-order\")])"
   ]
  },
  {
   "cell_type": "markdown",
   "metadata": {},
   "source": [
    "In this case the step width is way too large to produce a useful result.\n",
    "\n",
    "The only help would be to reduce the step size or to go for implicit integration.\n",
    "\n",
    "## Background: Implicit integration\n",
    "\n",
    "For explicit integration the derivative $f$ of the differential equation is evaluated at the current point in time or space:\n",
    "\n",
    "$\\frac{\\Delta Y}{\\Delta x} = \\frac{Y_{n+1} - Y_n}{\\Delta x} = f\\left( Y_n \\right)$,\n",
    "\n",
    "which leads to the simple 1st-order Euler scheme.\n",
    "\n",
    "$Y_{n+1} = Y_n + \\Delta x\\ f\\left( Y_n \\right)$.\n",
    "\n",
    "Implicit integration means that the derivative is evaluated at the future point in time or space:\n",
    "\n",
    "$\\frac{Y_{n+1} - Y_n}{\\Delta x} = f\\left( Y_{n+1} \\right)$.\n",
    "\n",
    "What looks ridiculous at first is mathematically sound.\n",
    "\n",
    "Imagine that the derivative can be written as a matrix equation.\n",
    "\n",
    "$f\\left( \\vec{Y} \\right) = \\mathbf{J} \\cdot \\vec{Y}$,\n",
    "\n",
    "with the Jacobian matrix $\\mathbf{J}$.\n",
    "\n",
    "Plugging this into our differential equation yields\n",
    "\n",
    "$\\vec{Y}_{n+1} - \\vec{Y_n} = \\Delta x\\ \\mathbf{J} \\cdot \\vec{Y}_{n+1}$\n",
    "\n",
    "$\\Leftrightarrow \\left( \\mathbb{1} - \\Delta x\\ \\mathbb{J} \\right) \\cdot \\vec{Y}_{n+1} = \\vec{Y}_n$\n",
    "\n",
    "$\\Leftrightarrow \\vec{Y}_{n+1} = \\left( \\mathbb{1} - \\Delta x\\ \\mathbb{J} \\right)^{-1} \\cdot \\vec{Y}_n$\n",
    "\n",
    "The solution can be found by inverting the matrix $\\mathbb{1} - \\Delta x\\ \\mathbb{J}$.\n",
    "\n",
    "In our simple case this translates to\n",
    "\n",
    "$\\mathbb{J} = \\begin{pmatrix} b \\end{pmatrix}$\n",
    "\n",
    "and\n",
    "\n",
    "$Y_{n+1} = \\frac{1}{1-\\Delta x\\ b} Y_n$\n",
    "\n",
    "For large step sizes $\\left( \\Delta\\ x \\rightarrow \\infty \\right)$ this goes to zero $\\left( Y_n \\rightarrow 0 \\right)$ as it should compared to the exact solution. The integration scheme is _\"unconditionally stable\"_."
   ]
  },
  {
   "cell_type": "markdown",
   "metadata": {},
   "source": [
    "## Setting up implicit integration\n",
    "\n",
    "Setting up implicit integration is similar to explicit integration. We therefore just copy our frame and reset the values."
   ]
  },
  {
   "cell_type": "code",
   "execution_count": 17,
   "metadata": {},
   "outputs": [],
   "source": [
    "import copy"
   ]
  },
  {
   "cell_type": "code",
   "execution_count": 18,
   "metadata": {},
   "outputs": [],
   "source": [
    "sim_impl = copy.deepcopy(sim_expl)\n",
    "sim_impl.t = 0\n",
    "sim_impl.Y = A\n",
    "sim_impl.writer.reset()"
   ]
  },
  {
   "cell_type": "markdown",
   "metadata": {},
   "source": [
    "The important difference is now, that instead of the derivative we have to provide the Jacobian $\\mathbb{J}$ to our field $Y$, which is in our case very simple. The function for the Jacobi matrix needs the parent frame object as first and the integration variable as second positional argument."
   ]
  },
  {
   "cell_type": "code",
   "execution_count": 19,
   "metadata": {},
   "outputs": [],
   "source": [
    "def jac_impl(sim, x):\n",
    "    return np.array([b])\n",
    "sim_impl.Y.jacobinator = jac_impl"
   ]
  },
  {
   "cell_type": "markdown",
   "metadata": {},
   "source": [
    "We can now use an implicit scheme in our instruction set."
   ]
  },
  {
   "cell_type": "code",
   "execution_count": 20,
   "metadata": {},
   "outputs": [],
   "source": [
    "sim_impl.integrator.instructions = [Instruction(schemes.impl_1_euler_direct, sim_impl.Y)]"
   ]
  },
  {
   "cell_type": "markdown",
   "metadata": {},
   "source": [
    "Now we can rerun the simulation."
   ]
  },
  {
   "cell_type": "code",
   "execution_count": 21,
   "metadata": {},
   "outputs": [],
   "source": [
    "sim_impl.run()"
   ]
  },
  {
   "cell_type": "code",
   "execution_count": 22,
   "metadata": {},
   "outputs": [],
   "source": [
    "data_impl = sim_impl.writer.read.all()"
   ]
  },
  {
   "cell_type": "code",
   "execution_count": 23,
   "metadata": {},
   "outputs": [
    {
     "data": {
      "image/png": "[encoded data removed]",
      "text/plain": [
       "<Figure size 900x600 with 1 Axes>"
      ]
     },
     "metadata": {
      "needs_background": "light"
     },
     "output_type": "display_data"
    }
   ],
   "source": [
    "plot([(data_expl, \"Explicit Euler 1st-order\"),(data_impl, \"Implicit Euler 1st-order\")])"
   ]
  },
  {
   "cell_type": "markdown",
   "metadata": {},
   "source": [
    "Since implicit schemes involve matrix inversions, it can be very costly. The method shown here uses `numpy.linalg.inv()` to compute the inverse matrix, which is basically Gaussian elimination with LU factorization. There are other methods that might be more suitable for your problem."
   ]
  },
  {
   "cell_type": "markdown",
   "metadata": {},
   "source": [
    "**Note:**\n",
    "If the jacobinator is set, but not the differentiator, `simframe` will try to calculated the derivative from the Jacobi matrix by assuming\n",
    "\n",
    "$\\vec{Y}' = \\mathbb{J} \\cdot \\vec{Y}$"
   ]
  },
  {
   "cell_type": "code",
   "execution_count": 24,
   "metadata": {},
   "outputs": [],
   "source": [
    "sim_impl.Y.differentiator = None    # unsetting the differentiator"
   ]
  },
  {
   "cell_type": "code",
   "execution_count": 25,
   "metadata": {},
   "outputs": [
    {
     "data": {
      "text/plain": [
       "-0.09090909090909091"
      ]
     },
     "execution_count": 25,
     "metadata": {},
     "output_type": "execute_result"
    }
   ],
   "source": [
    "sim_impl.Y.derivative()"
   ]
  },
  {
   "cell_type": "markdown",
   "metadata": {},
   "source": [
    "Only if both are not set, it will return `None`."
   ]
  },
  {
   "cell_type": "code",
   "execution_count": 26,
   "metadata": {},
   "outputs": [],
   "source": [
    "sim_impl.Y.jacobinator = None"
   ]
  },
  {
   "cell_type": "code",
   "execution_count": 27,
   "metadata": {},
   "outputs": [],
   "source": [
    "sim_impl.Y.derivative()"
   ]
  }
 ],
 "metadata": {
  "kernelspec": {
   "display_name": "Python 3",
   "language": "python",
   "name": "python3"
  },
  "language_info": {
   "codemirror_mode": {
    "name": "ipython",
    "version": 3
   },
   "file_extension": ".py",
   "mimetype": "text/x-python",
   "name": "python",
   "nbconvert_exporter": "python",
   "pygments_lexer": "ipython3",
   "version": "3.8.5"
  }
 },
 "nbformat": 4,
 "nbformat_minor": 4
}
