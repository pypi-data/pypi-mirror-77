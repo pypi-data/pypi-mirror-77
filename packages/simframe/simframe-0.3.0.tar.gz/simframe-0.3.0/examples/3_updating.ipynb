{
 "cells": [
  {
   "cell_type": "markdown",
   "metadata": {},
   "source": [
    "In this tutorial you'll learn how to\n",
    "\n",
    "* update groups and fields\n",
    "* use heartbeats\n",
    "\n",
    "For this notebook you need `astropy` and `matplotlib` in addition to the `simframe` requirements."
   ]
  },
  {
   "cell_type": "markdown",
   "metadata": {},
   "source": [
    "# Updating Groups and Fields\n",
    "\n",
    "In this example we revisit the orbital integration from the previous tutorial. But this time we also want to calculate the equilibrium temperature on Earth. That is not a quantity that we need to integrate. We can simply calculate it from the other quantities. But we have to tell `simframe` how to do it."
   ]
  },
  {
   "cell_type": "markdown",
   "metadata": {},
   "source": [
    "**Setting up the problem**\n",
    "\n",
    "The problem setup follows the previous example. Please have a look there for more details."
   ]
  },
  {
   "cell_type": "code",
   "execution_count": 1,
   "metadata": {},
   "outputs": [],
   "source": [
    "from simframe import Frame"
   ]
  },
  {
   "cell_type": "code",
   "execution_count": 2,
   "metadata": {},
   "outputs": [],
   "source": [
    "sim = Frame(description=\"Earth-Sun system\")"
   ]
  },
  {
   "cell_type": "code",
   "execution_count": 3,
   "metadata": {},
   "outputs": [],
   "source": [
    "sim.addgroup(\"Sun\")\n",
    "sim.addgroup(\"Earth\")"
   ]
  },
  {
   "cell_type": "code",
   "execution_count": 4,
   "metadata": {},
   "outputs": [],
   "source": [
    "import astropy.constants as c\n",
    "import astropy.units as u"
   ]
  },
  {
   "cell_type": "code",
   "execution_count": 5,
   "metadata": {},
   "outputs": [],
   "source": [
    "AU   = (1.*u.au).si.value\n",
    "day  = (1.*u.day).si.value\n",
    "G    = c.G.si.value\n",
    "year = (1.*u.year).si.value\n",
    "\n",
    "M_earth = c.M_earth.si.value\n",
    "M_sun   = c.M_sun.si.value"
   ]
  },
  {
   "cell_type": "markdown",
   "metadata": {},
   "source": [
    "**Earth**"
   ]
  },
  {
   "cell_type": "code",
   "execution_count": 6,
   "metadata": {},
   "outputs": [],
   "source": [
    "import numpy as np"
   ]
  },
  {
   "cell_type": "code",
   "execution_count": 7,
   "metadata": {},
   "outputs": [],
   "source": [
    "sim.Earth.addfield(\"M\", M_earth, description=\"Mass [kg]\", constant=True)\n",
    "sim.Earth.addfield(\"r\", np.zeros(3), description=\"Position [m]\")\n",
    "sim.Earth.addfield(\"v\", np.zeros(3), description=\"Velocity [m/s]\")"
   ]
  },
  {
   "cell_type": "markdown",
   "metadata": {},
   "source": [
    "**Sun**"
   ]
  },
  {
   "cell_type": "code",
   "execution_count": 8,
   "metadata": {},
   "outputs": [],
   "source": [
    "sim.Sun.addfield(\"M\", c.M_sun.si.value, description=\"Mass [kg]\", constant=True)\n",
    "sim.Sun.addfield(\"r\", np.zeros(3), description=\"Position [m]\")\n",
    "sim.Sun.addfield(\"v\", np.zeros(3), description=\"Velocity [m/s]\")"
   ]
  },
  {
   "cell_type": "markdown",
   "metadata": {},
   "source": [
    "**Integration variable**"
   ]
  },
  {
   "cell_type": "code",
   "execution_count": 9,
   "metadata": {},
   "outputs": [],
   "source": [
    "sim.addintegrationvariable(\"t\", 0., description=\"Time [s]\")"
   ]
  },
  {
   "cell_type": "code",
   "execution_count": 10,
   "metadata": {},
   "outputs": [],
   "source": [
    "dt = 1.*day"
   ]
  },
  {
   "cell_type": "code",
   "execution_count": 11,
   "metadata": {},
   "outputs": [],
   "source": [
    "def f_dt(frame):\n",
    "    return dt"
   ]
  },
  {
   "cell_type": "code",
   "execution_count": 12,
   "metadata": {},
   "outputs": [],
   "source": [
    "sim.t.updater = f_dt"
   ]
  },
  {
   "cell_type": "code",
   "execution_count": 13,
   "metadata": {},
   "outputs": [],
   "source": [
    "snapwidth = 5.*day\n",
    "tmax = 2.*year"
   ]
  },
  {
   "cell_type": "code",
   "execution_count": 14,
   "metadata": {},
   "outputs": [],
   "source": [
    "sim.t.snapshots = np.arange(snapwidth, tmax+1, snapwidth)"
   ]
  },
  {
   "cell_type": "markdown",
   "metadata": {},
   "source": [
    "**Writer**"
   ]
  },
  {
   "cell_type": "code",
   "execution_count": 15,
   "metadata": {},
   "outputs": [],
   "source": [
    "from simframe import writers"
   ]
  },
  {
   "cell_type": "code",
   "execution_count": 16,
   "metadata": {},
   "outputs": [],
   "source": [
    "sim.writer = writers.namespacewriter"
   ]
  },
  {
   "cell_type": "code",
   "execution_count": 17,
   "metadata": {},
   "outputs": [],
   "source": [
    "sim.writer.dumping = False\n",
    "sim.writer.verbosity = 0"
   ]
  },
  {
   "cell_type": "markdown",
   "metadata": {},
   "source": [
    "**Differential equations**"
   ]
  },
  {
   "cell_type": "code",
   "execution_count": 18,
   "metadata": {},
   "outputs": [],
   "source": [
    "def dr_Earth(frame, x, Y):\n",
    "    return frame.Earth.v\n",
    "\n",
    "def dr_Sun(frame, x, Y):\n",
    "    return frame.Sun.v"
   ]
  },
  {
   "cell_type": "code",
   "execution_count": 19,
   "metadata": {},
   "outputs": [],
   "source": [
    "# Gravitational acceleration\n",
    "def ag(M, r, R):\n",
    "    direction = r-R\n",
    "    distance = np.linalg.norm(direction)\n",
    "    return -G * M * direction / distance**3"
   ]
  },
  {
   "cell_type": "code",
   "execution_count": 20,
   "metadata": {},
   "outputs": [],
   "source": [
    "def dv_Earth(frame, x, Y):\n",
    "    return ag(frame.Sun.M, frame.Earth.r, frame.Sun.r)\n",
    "\n",
    "def dv_Sun(frame, x, Y):\n",
    "    return ag(frame.Earth.M, frame.Sun.r, frame.Earth.r)"
   ]
  },
  {
   "cell_type": "code",
   "execution_count": 21,
   "metadata": {},
   "outputs": [],
   "source": [
    "sim.Earth.v.differentiator = dv_Earth\n",
    "sim.Earth.r.differentiator = dr_Earth\n",
    "sim.Sun.v.differentiator   = dv_Sun\n",
    "sim.Sun.r.differentiator   = dr_Sun"
   ]
  },
  {
   "cell_type": "markdown",
   "metadata": {},
   "source": [
    "**Integrator**"
   ]
  },
  {
   "cell_type": "code",
   "execution_count": 22,
   "metadata": {},
   "outputs": [],
   "source": [
    "from simframe import Integrator"
   ]
  },
  {
   "cell_type": "code",
   "execution_count": 23,
   "metadata": {},
   "outputs": [],
   "source": [
    "integrator = Integrator(sim.t, description=\"Leapfrog integratior\")"
   ]
  },
  {
   "cell_type": "code",
   "execution_count": 24,
   "metadata": {},
   "outputs": [],
   "source": [
    "from simframe import schemes\n",
    "from simframe.integration import Instruction"
   ]
  },
  {
   "cell_type": "markdown",
   "metadata": {},
   "source": [
    "**Leapfrog integrator**"
   ]
  },
  {
   "cell_type": "code",
   "execution_count": 25,
   "metadata": {},
   "outputs": [],
   "source": [
    "instructions = [Instruction(schemes.expl_1_euler, sim.Sun.v,   fstep=0.5),\n",
    "                Instruction(schemes.expl_1_euler, sim.Earth.v, fstep=0.5),\n",
    "                Instruction(schemes.update,       sim.Sun.v             ),\n",
    "                Instruction(schemes.update,       sim.Earth.v           ),\n",
    "                Instruction(schemes.expl_1_euler, sim.Sun.r,   fstep=1.0),\n",
    "                Instruction(schemes.expl_1_euler, sim.Earth.r, fstep=1.0),\n",
    "                Instruction(schemes.update,       sim.Sun.r             ),\n",
    "                Instruction(schemes.update,       sim.Earth.r           ),\n",
    "                Instruction(schemes.expl_1_euler, sim.Sun.v,   fstep=0.5),\n",
    "                Instruction(schemes.expl_1_euler, sim.Earth.v, fstep=0.5),\n",
    "               ]"
   ]
  },
  {
   "cell_type": "code",
   "execution_count": 26,
   "metadata": {},
   "outputs": [],
   "source": [
    "integrator.instructions = instructions"
   ]
  },
  {
   "cell_type": "code",
   "execution_count": 27,
   "metadata": {},
   "outputs": [],
   "source": [
    "sim.integrator = integrator"
   ]
  },
  {
   "cell_type": "markdown",
   "metadata": {},
   "source": [
    "**Initial conditions**\n",
    "\n",
    "In this example we want to send the Earth on an eccentric orbit to have a seasonal change in the equilibrium temperature. For this we simply incline the initial velocities of Earth an Sun by an angle `alpha`."
   ]
  },
  {
   "cell_type": "code",
   "execution_count": 28,
   "metadata": {},
   "outputs": [],
   "source": [
    "r_Earth_ini = np.array([AU, 0., 0.])\n",
    "r_Sun_ini = np.zeros(3)\n",
    "# Center of mass\n",
    "COM_ini = (M_earth*r_Earth_ini + M_sun*r_Sun_ini) / (M_earth+M_sun)\n",
    "# Offset both positions\n",
    "r_Earth_ini -= COM_ini\n",
    "r_Sun_ini -= COM_ini"
   ]
  },
  {
   "cell_type": "code",
   "execution_count": 29,
   "metadata": {},
   "outputs": [],
   "source": [
    "mu = M_earth*M_sun / (M_earth+M_sun)"
   ]
  },
  {
   "cell_type": "code",
   "execution_count": 30,
   "metadata": {},
   "outputs": [],
   "source": [
    "alpha = 30. * u.deg\n",
    "v_Earth_ini = np.sqrt(G*M_sun/M_earth*mu/AU)\n",
    "v_Earth_ini = np.array([-np.sin(alpha)*v_Earth_ini, np.cos(alpha)*v_Earth_ini, 0.])\n",
    "v_Sun_ini   = np.sqrt(G*M_earth/M_sun*mu/AU)\n",
    "v_Sun_ini   = np.array([np.sin(alpha)*v_Sun_ini, -np.cos(alpha)*v_Sun_ini, 0.])"
   ]
  },
  {
   "cell_type": "code",
   "execution_count": 31,
   "metadata": {},
   "outputs": [],
   "source": [
    "sim.Earth.r = r_Earth_ini\n",
    "sim.Earth.v = v_Earth_ini\n",
    "sim.Sun.r   = r_Sun_ini\n",
    "sim.Sun.v   = v_Sun_ini"
   ]
  },
  {
   "cell_type": "markdown",
   "metadata": {},
   "source": [
    "**Starting**"
   ]
  },
  {
   "cell_type": "code",
   "execution_count": 32,
   "metadata": {},
   "outputs": [],
   "source": [
    "sim.run()"
   ]
  },
  {
   "cell_type": "markdown",
   "metadata": {},
   "source": [
    "**Reading and plotting**"
   ]
  },
  {
   "cell_type": "code",
   "execution_count": 33,
   "metadata": {},
   "outputs": [],
   "source": [
    "data = sim.writer.read.all()"
   ]
  },
  {
   "cell_type": "code",
   "execution_count": 34,
   "metadata": {
    "jupyter": {
     "source_hidden": true
    }
   },
   "outputs": [],
   "source": [
    "import matplotlib.pyplot as plt\n",
    "\n",
    "def plot_orbits(data):\n",
    "    fig, ax = plt.subplots(dpi=150)\n",
    "    ax.set_aspect(1)\n",
    "    ax.axis(\"off\")\n",
    "    fig.set_facecolor(\"#000000\")\n",
    "    imax = data.t.shape[0]\n",
    "    for i in range(imax):\n",
    "        alpha = np.maximum(i/imax-0.2, 0.2)\n",
    "        ax.plot(data.Sun.r[i, 0], data.Sun.r[i, 1], \"o\", c=\"#FFFF00\", markersize=4, alpha=alpha)\n",
    "        ax.plot(data.Earth.r[i, 0], data.Earth.r[i, 1], \"o\", c=\"#0000FF\", markersize=1, alpha=alpha)\n",
    "    ax.plot(data.Sun.r[-1, 0], data.Sun.r[-1, 1], \"o\", c=\"#FFFF00\", markersize=16)\n",
    "    ax.plot(data.Earth.r[-1, 0], data.Earth.r[-1, 1], \"o\", c=\"#0000FF\", markersize=4)\n",
    "    ax.set_xlim(-1.5*AU, 1.5*AU)\n",
    "    ax.set_ylim(-1.5*AU, 1.5*AU)\n",
    "    fig.tight_layout()"
   ]
  },
  {
   "cell_type": "code",
   "execution_count": 35,
   "metadata": {
    "jupyter": {
     "source_hidden": true
    }
   },
   "outputs": [
    {
     "data": {
      "image/png": "[encoded data removed]",
      "text/plain": [
       "<Figure size 900x600 with 1 Axes>"
      ]
     },
     "metadata": {},
     "output_type": "display_data"
    }
   ],
   "source": [
    "plot_orbits(data)"
   ]
  },
  {
   "cell_type": "markdown",
   "metadata": {},
   "source": [
    "The Earth is now on an eccentric orbit around the sound. By the spacing of the snapshots, which are constant in time, you can even tell that the Earth is faster around the perihelion and slower around the aphelion."
   ]
  },
  {
   "cell_type": "markdown",
   "metadata": {},
   "source": [
    "**Adding Temperature**\n",
    "\n",
    "To calculate the temperature Earth and Sun need additional fields for their temperatures and their radii. In additional to that, we give the Earth an additional field for the Earth-Sun distance."
   ]
  },
  {
   "cell_type": "code",
   "execution_count": 36,
   "metadata": {},
   "outputs": [],
   "source": [
    "R_Earth = c.R_earth.si.value\n",
    "R_Sun   = c.R_sun.si.value"
   ]
  },
  {
   "cell_type": "markdown",
   "metadata": {},
   "source": [
    "We initialize the Earth's temperature with zero and update it as soon as we have a function for it."
   ]
  },
  {
   "cell_type": "code",
   "execution_count": 37,
   "metadata": {},
   "outputs": [],
   "source": [
    "sim.Earth.addfield(\"d\", AU, description=\"Earth-Sun distance [m]\")\n",
    "sim.Earth.addfield(\"R\", R_Earth, description=\"Radius [m]\")\n",
    "sim.Earth.addfield(\"T\", 0., description=\"Temperature [K]\")"
   ]
  },
  {
   "cell_type": "code",
   "execution_count": 38,
   "metadata": {},
   "outputs": [
    {
     "data": {
      "text/plain": [
       "Group\n",
       "-----\n",
       "    d            : Field (Earth-Sun distance [m])\n",
       "    M            : Field (Mass [kg]), \u001b[95mconstant\u001b[0m\n",
       "    r            : Field (Position [m])\n",
       "    R            : Field (Radius [m])\n",
       "    T            : Field (Temperature [K])\n",
       "    v            : Field (Velocity [m/s])\n",
       "  -----"
      ]
     },
     "execution_count": 38,
     "metadata": {},
     "output_type": "execute_result"
    }
   ],
   "source": [
    "sim.Earth"
   ]
  },
  {
   "cell_type": "code",
   "execution_count": 39,
   "metadata": {},
   "outputs": [],
   "source": [
    "sim.Sun.addfield(\"R\", R_Sun, description=\"Radius [m]\", constant=True)\n",
    "sim.Sun.addfield(\"T\", 5778, description=\"Effective temperature [K]\", constant=True)"
   ]
  },
  {
   "cell_type": "code",
   "execution_count": 40,
   "metadata": {},
   "outputs": [
    {
     "data": {
      "text/plain": [
       "Group\n",
       "-----\n",
       "    M            : Field (Mass [kg]), \u001b[95mconstant\u001b[0m\n",
       "    r            : Field (Position [m])\n",
       "    R            : Field (Radius [m]), \u001b[95mconstant\u001b[0m\n",
       "    T            : Field (Effective temperature [K]), \u001b[95mconstant\u001b[0m\n",
       "    v            : Field (Velocity [m/s])\n",
       "  -----"
      ]
     },
     "execution_count": 40,
     "metadata": {},
     "output_type": "execute_result"
    }
   ],
   "source": [
    "sim.Sun"
   ]
  },
  {
   "cell_type": "markdown",
   "metadata": {},
   "source": [
    "## Updating fields"
   ]
  },
  {
   "cell_type": "markdown",
   "metadata": {},
   "source": [
    "The energy the sun is emitting per time, i.e., it's luminosity $L$, is given by\n",
    "\n",
    "$L_\\odot = 4\\pi R_\\odot^2 \\sigma_\\mathrm{SB} T_\\mathrm{eff}^4$.\n",
    "\n",
    "The energy flux arriving at Earth, i.e., the Solar constant $S$ is then given by\n",
    "\n",
    "$S = \\frac{L}{4\\pi d^2}$.\n",
    "\n",
    "Only one hemisphere of the Earth is illuminated at any time, so the energy that the Earth is receiving per unit time, neglecting any albedo effects, is given by\n",
    "\n",
    "$P_\\mathrm{in} = \\pi R_\\oplus^2 S$.\n",
    "\n",
    "We assume that the temperature on Earth is in euilibrium, i.e., there is no difference between day and night. The energy the Earth is emitting per unit time is then given by\n",
    "\n",
    "$P_\\mathrm{out} = 4\\pi R_\\oplus^2 \\sigma_\\mathrm{SB} T^4$.\n",
    "\n",
    "In equilibrium both are equal $\\left( P_\\mathrm{in} = P_\\mathrm{out} \\right)$ and we can solve for $T$\n",
    "\n",
    "$T = T_\\mathrm{eff} \\sqrt[4]{\\frac{R_\\odot^2}{4d^2}}$.\n",
    "\n",
    "So the equilibrium temperature on Earth depends on the Sun's effective temperature $T_\\mathrm{eff}$, the Sun's radius $R_\\odot$, and the Earth-Sun distance $d$. We can now write a function that takes the frame object as argument and returns Earth's temperature."
   ]
  },
  {
   "cell_type": "code",
   "execution_count": 41,
   "metadata": {},
   "outputs": [],
   "source": [
    "sigma_sb = c.sigma_sb.si.value"
   ]
  },
  {
   "cell_type": "code",
   "execution_count": 42,
   "metadata": {},
   "outputs": [],
   "source": [
    "def T(frame):\n",
    "    return frame.Sun.T * (frame.Sun.R**2 / (4.*frame.Earth.d**2))**0.25"
   ]
  },
  {
   "cell_type": "markdown",
   "metadata": {},
   "source": [
    "We can now assign this function to the updater of the temperature field"
   ]
  },
  {
   "cell_type": "code",
   "execution_count": 43,
   "metadata": {},
   "outputs": [],
   "source": [
    "sim.Earth.T.updater = T"
   ]
  },
  {
   "cell_type": "markdown",
   "metadata": {},
   "source": [
    "The function for calculating the Earth-Sun distance is pretty simple and can be simply assigned to the updater of the field."
   ]
  },
  {
   "cell_type": "code",
   "execution_count": 44,
   "metadata": {},
   "outputs": [],
   "source": [
    "def d(sim):\n",
    "    return np.linalg.norm(sim.Earth.r - sim.Sun.r)"
   ]
  },
  {
   "cell_type": "code",
   "execution_count": 45,
   "metadata": {},
   "outputs": [],
   "source": [
    "sim.Earth.d.updater = d"
   ]
  },
  {
   "cell_type": "markdown",
   "metadata": {},
   "source": [
    "Right now the temperature is zero as we initialized it."
   ]
  },
  {
   "cell_type": "code",
   "execution_count": 46,
   "metadata": {},
   "outputs": [
    {
     "data": {
      "text/plain": [
       "0.0"
      ]
     },
     "execution_count": 46,
     "metadata": {},
     "output_type": "execute_result"
    }
   ],
   "source": [
    "sim.Earth.T"
   ]
  },
  {
   "cell_type": "markdown",
   "metadata": {},
   "source": [
    "We can now use our the updater of the temperature field to calculate it's initial value"
   ]
  },
  {
   "cell_type": "code",
   "execution_count": 47,
   "metadata": {},
   "outputs": [],
   "source": [
    "sim.Earth.T.update()"
   ]
  },
  {
   "cell_type": "code",
   "execution_count": 48,
   "metadata": {},
   "outputs": [
    {
     "data": {
      "text/plain": [
       "278.6190681198289"
      ]
     },
     "execution_count": 48,
     "metadata": {},
     "output_type": "execute_result"
    }
   ],
   "source": [
    "sim.Earth.T"
   ]
  },
  {
   "cell_type": "markdown",
   "metadata": {},
   "source": [
    "## Updating groups\n",
    "\n",
    "But before we can rerun the simulation we have to tell `simframe` how to update groups. This is not done automatically, because for one, not all fields and groups need to be updated, and second, the order of update matters. In our case, we do not need to update the group of the Sun, because it's temperature is not changing, and we need to update the Earth-Sun distance before we update the Earth's temperature, because we need the distance for it.\n",
    "\n",
    "The only update operation that is performed once per time step is the update of the frame object `Frame.update()`. From here we have to delegate tasks down the tree structure.\n",
    "\n",
    "There are in principle two methods of updating groups. One is by writing a function and assigning it to the group's updater. Here we write a function that is calling Earth's updater and assign it to theupdater of the frame."
   ]
  },
  {
   "cell_type": "code",
   "execution_count": 49,
   "metadata": {},
   "outputs": [],
   "source": [
    "def update_Earth(frame):\n",
    "    frame.Earth.update()"
   ]
  },
  {
   "cell_type": "code",
   "execution_count": 50,
   "metadata": {},
   "outputs": [],
   "source": [
    "sim.updater = update_Earth"
   ]
  },
  {
   "cell_type": "markdown",
   "metadata": {},
   "source": [
    "The second method is by assigning a list of group attributes to an updater. The updater is then calling the updaters of these attributes in exactly that order."
   ]
  },
  {
   "cell_type": "code",
   "execution_count": 51,
   "metadata": {},
   "outputs": [],
   "source": [
    "sim.Earth.updater = [\"d\", \"T\"]    # Earth-Sun distance first, then temperature"
   ]
  },
  {
   "cell_type": "markdown",
   "metadata": {},
   "source": [
    "**Resetting to initial conditions**\n",
    "\n",
    "We can now reset to the initial conditions we have saved earlier, reset the namespace writer, and run the simulation again."
   ]
  },
  {
   "cell_type": "code",
   "execution_count": 52,
   "metadata": {},
   "outputs": [],
   "source": [
    "sim.Earth.r = r_Earth_ini\n",
    "sim.Earth.v = v_Earth_ini\n",
    "sim.Sun.r   = r_Sun_ini\n",
    "sim.Sun.v   = v_Sun_ini\n",
    "sim.t       = 0.\n",
    "sim.writer.reset()"
   ]
  },
  {
   "cell_type": "code",
   "execution_count": 53,
   "metadata": {},
   "outputs": [],
   "source": [
    "sim.run()"
   ]
  },
  {
   "cell_type": "markdown",
   "metadata": {},
   "source": [
    "**Reading and plotting**"
   ]
  },
  {
   "cell_type": "code",
   "execution_count": 54,
   "metadata": {},
   "outputs": [],
   "source": [
    "data_T = sim.writer.read.all()"
   ]
  },
  {
   "cell_type": "code",
   "execution_count": 55,
   "metadata": {
    "jupyter": {
     "source_hidden": true
    }
   },
   "outputs": [],
   "source": [
    "def plot_temperature(data):\n",
    "    fig, ax = plt.subplots(dpi=150)\n",
    "    ax.plot(data.t/year, (data.Earth.T*u.K).to(u.Celsius, equivalencies=u.temperature()), c=\"C3\", label=\"Temperature\")\n",
    "    ax.plot(-2., 0., label=\"Earth-Sun distance\", c=\"C0\")\n",
    "    ax.set_xlabel(\"Time [years]\")\n",
    "    ax.set_ylabel(\"Temperature [°C]\")\n",
    "    ax.set_xlim(data.t[0]/year, data.t[-1]/year)\n",
    "    ax.set_ylim(-100., 150.)\n",
    "    axr = ax.twinx()\n",
    "    axr.plot(data.t/year, data.Earth.d/AU, c=\"C0\")\n",
    "    axr.set_ylabel(\"Distance [AU]\")\n",
    "    axr.set_ylim(0., 2.0)\n",
    "    ax.legend()\n",
    "    fig.tight_layout()"
   ]
  },
  {
   "cell_type": "code",
   "execution_count": 56,
   "metadata": {},
   "outputs": [
    {
     "data": {
      "image/png": "[encoded data removed]",
      "text/plain": [
       "<Figure size 900x600 with 2 Axes>"
      ]
     },
     "metadata": {
      "needs_background": "light"
     },
     "output_type": "display_data"
    }
   ],
   "source": [
    "plot_temperature(data_T)"
   ]
  },
  {
   "cell_type": "markdown",
   "metadata": {},
   "source": [
    "## The heartbeat concept\n",
    "\n",
    "Every updater is actually performing three operations. The updater operation itself, a **\"systole\"**, that is executed before the update operation and a **\"diastole\"** that is executed after the update operation.\n",
    "\n",
    "In this simple case we want to print Earth's temperature before and after it's calculation."
   ]
  },
  {
   "cell_type": "code",
   "execution_count": 57,
   "metadata": {},
   "outputs": [],
   "source": [
    "def T_sys(frame):\n",
    "    msg = \"{:6s}: T = {:5.1f} K\".format(\"Before\", sim.Earth.T)\n",
    "    print(msg)"
   ]
  },
  {
   "cell_type": "code",
   "execution_count": 58,
   "metadata": {},
   "outputs": [],
   "source": [
    "def T_dia(frame):\n",
    "    msg = \"{:6s}: T = {:5.1f} K\".format(\"After\", sim.Earth.T)\n",
    "    print(msg)"
   ]
  },
  {
   "cell_type": "markdown",
   "metadata": {},
   "source": [
    "We can assign these functions to systole and diastole of the temperature updater."
   ]
  },
  {
   "cell_type": "code",
   "execution_count": 59,
   "metadata": {},
   "outputs": [],
   "source": [
    "sim.Earth.T.updater.systole = T_sys\n",
    "sim.Earth.T.updater.diastole = T_dia"
   ]
  },
  {
   "cell_type": "code",
   "execution_count": 60,
   "metadata": {},
   "outputs": [],
   "source": [
    "sim.Earth.T = 0."
   ]
  },
  {
   "cell_type": "code",
   "execution_count": 61,
   "metadata": {},
   "outputs": [
    {
     "name": "stdout",
     "output_type": "stream",
     "text": [
      "Before: T =   0.0 K\n",
      "After : T = 278.0 K\n"
     ]
    }
   ],
   "source": [
    "sim.Earth.T.update()"
   ]
  },
  {
   "cell_type": "markdown",
   "metadata": {},
   "source": [
    "Note: The updater of an integration variable is not directly setting its new value. Only the integrator is setting the new value of the integration variable after all integration instructions have been executed successfully. This has the consequence, that the diastole of an integration variable _DOES NOT_ have access to the updated value."
   ]
  }
 ],
 "metadata": {
  "kernelspec": {
   "display_name": "Python 3",
   "language": "python",
   "name": "python3"
  },
  "language_info": {
   "codemirror_mode": {
    "name": "ipython",
    "version": 3
   },
   "file_extension": ".py",
   "mimetype": "text/x-python",
   "name": "python",
   "nbconvert_exporter": "python",
   "pygments_lexer": "ipython3",
   "version": "3.8.5"
  }
 },
 "nbformat": 4,
 "nbformat_minor": 4
}
