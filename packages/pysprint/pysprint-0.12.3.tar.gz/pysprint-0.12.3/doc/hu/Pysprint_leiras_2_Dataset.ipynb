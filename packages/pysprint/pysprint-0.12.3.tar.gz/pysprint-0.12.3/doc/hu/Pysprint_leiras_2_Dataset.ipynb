{
 "cells": [
  {
   "cell_type": "markdown",
   "metadata": {},
   "source": [
    "<center><font size=\"5\"><b> PYSPRINT 0.12.1 </b></font> </center>"
   ]
  },
  {
   "cell_type": "markdown",
   "metadata": {},
   "source": [
    "### 4. Dataset osztály\n",
    "\n",
    "A `Dataset` osztály az alapját képezi az összes kiértékelési módszernek: minden általános műveletet amit interferogramokon végezhetünk ez az osztály valósítja meg. Az itt bemutatott funkciók minden módszer esetén használhatóak (az `SPPMethod` kivételével, mivel annak az elemein használhatóak). Ehhez most szintetikus adatokat fogok használni."
   ]
  },
  {
   "cell_type": "code",
   "execution_count": 1,
   "metadata": {},
   "outputs": [],
   "source": [
    "import numpy as np\n",
    "import matplotlib.pyplot as plt\n",
    "import pysprint as ps\n",
    "\n",
    "x = np.linspace(500, 1000, 2000)\n",
    "y = np.cos(x ** 2 - 6 * x ** 3)"
   ]
  },
  {
   "cell_type": "markdown",
   "metadata": {},
   "source": [
    "A `Dataset` alap konstruktora így néz ki:\n",
    "```python\n",
    "Dataset(x, y, ref=None, sam=None, meta=None, errors=\"raise\")\n",
    "```\n",
    "`x`, `y` : Értelemszerűen az interferogram `x` és `y` értékei `np.ndarray`-ként.\n",
    "\n",
    "`ref`, `sam` : A referencia- és tárgykar spektruma `np.ndarray`-ként (csak `y` értékek).\n",
    "\n",
    "`meta` : A további metaadatok az interferogramról. Itt bármilyen dictionaryt beállíthatunk.\n",
    "\n",
    "`errors` : Ha `raise`, akkor különböző hosszúságú `x` és `y` értékekre hibát ad. Ha `force`, akkor levágja a hosszabb adatsort, hogy egyező hosszúságú legyen az `x` és `y`.\n",
    "\n",
    "A másik konstruktor a fájlból való beolvasáshoz van, ez a `parse_raw`. Ennek a szignatúrája a következő:\n",
    "```python\n",
    "Dataset.parse_raw(\n",
    "        filename,\n",
    "        ref=None,\n",
    "        sam=None,\n",
    "        skiprows=0,\n",
    "        decimal=\".\",\n",
    "        sep=None,\n",
    "        delimiter=None,\n",
    "        comment=None,\n",
    "        usecols=None,\n",
    "        names=None,\n",
    "        swapaxes=False,\n",
    "        na_values=None,\n",
    "        skip_blank_lines=True,\n",
    "        keep_default_na=False,\n",
    "        meta_len=1,\n",
    "        errors=\"raise\"\n",
    "    )\n",
    "```\n",
    "Itt a hosszúsága miatt nem írom le a paraméterek jelentését, minden elolvasható a `help(ps.Dataset.parse_raw)` paranccsal. Most egyszerűen `np.ndarray`-ként adom meg az adatokat. Ekkor a kiíratásnál néhány fontos adatot láthatunk."
   ]
  },
  {
   "cell_type": "code",
   "execution_count": 2,
   "metadata": {},
   "outputs": [
    {
     "name": "stdout",
     "output_type": "stream",
     "text": [
      "Dataset\n",
      "----------\n",
      "Parameters\n",
      "----------\n",
      "Datapoints: 2000\n",
      "Predicted domain: wavelength\n",
      "Range: from 500.000 to 1000.000 nm\n",
      "Normalized: True\n",
      "Delay value: Not given\n",
      "SPP position(s): Not given\n",
      "----------------------------\n",
      "Metadata extracted from file\n",
      "----------------------------\n",
      "{\n",
      "    \"fontos_adat_amit_be_akarok_allitani\": 20\n",
      "}\n"
     ]
    }
   ],
   "source": [
    "d = ps.Dataset(x, y)\n",
    "d.meta = {\"fontos_adat_amit_be_akarok_allitani\": 20}\n",
    "print(d)"
   ]
  },
  {
   "cell_type": "markdown",
   "metadata": {},
   "source": [
    "Bár nem adtuk meg a tárgy- és a referencianyaláb spektrumát mégis kitalálta a program, hogy az interferogram normált. Minden betöltésnél ellenőrzésre kerül, hogy a megadott grafikon mekkora hányada esik kívül a [-1, 1] intervallumon, és ha az kellően kicsi, akkor normáltnak tekinti. A plottolás a plot metódussal lehetséges:"
   ]
  },
  {
   "cell_type": "code",
   "execution_count": 3,
   "metadata": {},
   "outputs": [
    {
     "data": {
      "image/png": "[encoded data removed]",
      "text/plain": [
       "<Figure size 432x288 with 1 Axes>"
      ]
     },
     "metadata": {
      "needs_background": "light"
     },
     "output_type": "display_data"
    }
   ],
   "source": [
    "d.plot()\n",
    "d.show() # <-- ekvivalens a plt.show függvénnyel, Jupyterben akár el is hagyható."
   ]
  },
  {
   "cell_type": "markdown",
   "metadata": {},
   "source": [
    "A teljes szignatúra a következőképpen néz ki:\n",
    "```python\n",
    "Dataset.plot(ax=None, title=None, xlim=None, ylim=None, **kwargs)\n",
    "```\n",
    "A rövidség miatt ezeket az argumentumokat itt nem részletezem. Ezekkel az opciókkal tetszőleges, akár bonyolult általunk generált grafikonokba is könnyen beágyazható és testreszabható. Alapértelmezetten a `plot` függvény nem fogja a `plt.show` függvényt meghívni, tehát Jupyter Notebookon kívül azt nekünk kell.\n",
    "\n",
    "A következő fontos dolog a `chdomain` és a `chrange` függvények. Ezekkel egyszerűen válthatunk frekvenciatartományból hullámhossztartományba, vagy fordítva."
   ]
  },
  {
   "cell_type": "code",
   "execution_count": 3,
   "metadata": {},
   "outputs": [
    {
     "name": "stdout",
     "output_type": "stream",
     "text": [
      "Dataset\n",
      "----------\n",
      "Parameters\n",
      "----------\n",
      "Datapoints: 2000\n",
      "Predicted domain: frequency\n",
      "Range: from 1.884 to 3.767 PHz\n",
      "Normalized: True\n",
      "Delay value: Not given\n",
      "SPP position(s): Not given\n",
      "----------------------------\n",
      "Metadata extracted from file\n",
      "----------------------------\n",
      "{\n",
      "    \"fontos_adat_amit_be_akarok_allitani\": 20\n",
      "}\n"
     ]
    }
   ],
   "source": [
    "d.chdomain()\n",
    "print(d)"
   ]
  },
  {
   "cell_type": "markdown",
   "metadata": {},
   "source": [
    "Látható, hogy a fenti cella futtatása után már `Range: from 1.884 to 3.767 PHz`. Vigyázat, a `chdomain` egy inplace operáció: ha mégegyszer lefuttatjuk a fenti cellát, akkor vissza fogja váltani az eredeti tartományba. Érdemes ezt a függvényt a betöltéssel együtt ugyanabba a cellába tenni valahogyan így:\n",
    "```pyhon\n",
    "d = ps.Dataset(x, y)\n",
    "d.chdomain()\n",
    "```\n",
    "Ekkor bármikor újra lefuttatjuk a cellát, akkor betöltődik újra az adatsor, és a váltás biztosan csak egyszer fog megtörténni. A függvénynek megadható az `inplace=False` opció is, erről bővebben az `FFTMethod` leírásában.\n",
    "\n",
    "A `chrange` függvény a mértékegység átváltásra való.\n",
    "```python\n",
    "Dataset.chrange(current_unit, target_unit=\"phz\")\n",
    "```\n",
    "Ha pl. pikométerben van az x tengelyünk, akkor nanométerbe való váltást így végezhetnénk:\n",
    "```python\n",
    "d.chrange(current_unit=\"pm\", target_unit=\"nm\")\n",
    "```\n",
    "Ez a függvény is támogatja az `inplace` argumentumot.\n",
    "\n",
    "\n",
    "Az állandó fázisú pont módszeréhez tartozó függvényekről. Kiíratásnál látható volt, hogy\n",
    "```python\n",
    "Delay value: Not given\n",
    "SPP position(s): Not given\n",
    "```\n",
    "Minden `Dataset` osztályon lehetőség van beállítani az állandó fázisú pontok helyét és a hozzá tartozó késleltetést. Ezt több módon is lehet. A legegyszerűbb:"
   ]
  },
  {
   "cell_type": "code",
   "execution_count": 4,
   "metadata": {},
   "outputs": [
    {
     "name": "stdout",
     "output_type": "stream",
     "text": [
      "Dataset\n",
      "----------\n",
      "Parameters\n",
      "----------\n",
      "Datapoints: 2000\n",
      "Predicted domain: frequency\n",
      "Range: from 1.884 to 3.767 PHz\n",
      "Normalized: True\n",
      "Delay value: 400 fs\n",
      "SPP position(s): (2, 3) PHz\n",
      "----------------------------\n",
      "Metadata extracted from file\n",
      "----------------------------\n",
      "{\n",
      "    \"fontos_adat_amit_be_akarok_allitani\": 20\n",
      "}\n"
     ]
    }
   ],
   "source": [
    "d.delay = 400 # fs\n",
    "d.positions = 2, 3 # PHz\n",
    "print(d)"
   ]
  },
  {
   "cell_type": "markdown",
   "metadata": {},
   "source": [
    "A `delay` mindig egy szám, a `positions` pedig tetszőleges mennyiségű szám lehet (tuple, lista, np.ndarray mind elfogadható.) Ezután a `plot` függvény is megváltozik: jelöli a megadott állandó fázisú pontok helyét."
   ]
  },
  {
   "cell_type": "code",
   "execution_count": 5,
   "metadata": {},
   "outputs": [
    {
     "data": {
      "image/png": "[encoded data removed]",
      "text/plain": [
       "<Figure size 432x288 with 1 Axes>"
      ]
     },
     "metadata": {
      "needs_background": "light"
     },
     "output_type": "display_data"
    }
   ],
   "source": [
    "d.plot()"
   ]
  },
  {
   "cell_type": "markdown",
   "metadata": {},
   "source": [
    "Alapértelmezetten a grafikonon nem létező helyre a program nem engedi beállítani az állandó fázisú pont helyét."
   ]
  },
  {
   "cell_type": "code",
   "execution_count": 6,
   "metadata": {},
   "outputs": [
    {
     "ename": "ValueError",
     "evalue": "Cannot set SPP position to 4000 since it's not in the dataset's range.",
     "output_type": "error",
     "traceback": [
      "\u001b[1;31m---------------------------------------------------------------------------\u001b[0m",
      "\u001b[1;31mValueError\u001b[0m                                Traceback (most recent call last)",
      "\u001b[1;32m<ipython-input-6-9a66e1c5490e>\u001b[0m in \u001b[0;36m<module>\u001b[1;34m\u001b[0m\n\u001b[1;32m----> 1\u001b[1;33m \u001b[0md\u001b[0m\u001b[1;33m.\u001b[0m\u001b[0mpositions\u001b[0m \u001b[1;33m=\u001b[0m \u001b[1;36m4000\u001b[0m\u001b[1;33m\u001b[0m\u001b[1;33m\u001b[0m\u001b[0m\n\u001b[0m",
      "\u001b[1;32mc:\\pyt\\pysprint\\pysprint\\core\\bases\\dataset.py\u001b[0m in \u001b[0;36mpositions\u001b[1;34m(self, value)\u001b[0m\n\u001b[0;32m    286\u001b[0m             \u001b[1;32mif\u001b[0m \u001b[0mvalue\u001b[0m \u001b[1;33m<\u001b[0m \u001b[0mnp\u001b[0m\u001b[1;33m.\u001b[0m\u001b[0mmin\u001b[0m\u001b[1;33m(\u001b[0m\u001b[0mself\u001b[0m\u001b[1;33m.\u001b[0m\u001b[0mx\u001b[0m\u001b[1;33m)\u001b[0m \u001b[1;32mor\u001b[0m \u001b[0mvalue\u001b[0m \u001b[1;33m>\u001b[0m \u001b[0mnp\u001b[0m\u001b[1;33m.\u001b[0m\u001b[0mmax\u001b[0m\u001b[1;33m(\u001b[0m\u001b[0mself\u001b[0m\u001b[1;33m.\u001b[0m\u001b[0mx\u001b[0m\u001b[1;33m)\u001b[0m\u001b[1;33m:\u001b[0m\u001b[1;33m\u001b[0m\u001b[1;33m\u001b[0m\u001b[0m\n\u001b[0;32m    287\u001b[0m                 raise ValueError(\n\u001b[1;32m--> 288\u001b[1;33m                     \u001b[1;34mf\"Cannot set SPP position to {value} since it's not in the dataset's range.\"\u001b[0m\u001b[1;33m\u001b[0m\u001b[1;33m\u001b[0m\u001b[0m\n\u001b[0m\u001b[0;32m    289\u001b[0m                 )\n\u001b[0;32m    290\u001b[0m         \u001b[1;31m# FIXME: maybe we don't need to distinguish between np.ndarray and Iterable\u001b[0m\u001b[1;33m\u001b[0m\u001b[1;33m\u001b[0m\u001b[1;33m\u001b[0m\u001b[0m\n",
      "\u001b[1;31mValueError\u001b[0m: Cannot set SPP position to 4000 since it's not in the dataset's range."
     ]
    }
   ],
   "source": [
    "d.positions = 4000"
   ]
  },
  {
   "cell_type": "markdown",
   "metadata": {},
   "source": [
    "Azonban a `set_SPP_data(delay, positions, force=False)` függvénnyel ezt is megtehetjük:"
   ]
  },
  {
   "cell_type": "code",
   "execution_count": 7,
   "metadata": {},
   "outputs": [
    {
     "name": "stdout",
     "output_type": "stream",
     "text": [
      "Dataset\n",
      "----------\n",
      "Parameters\n",
      "----------\n",
      "Datapoints: 2000\n",
      "Predicted domain: frequency\n",
      "Range: from 1.884 to 3.767 PHz\n",
      "Normalized: True\n",
      "Delay value: 400.0 fs\n",
      "SPP position(s): [4000, 2] PHz\n",
      "----------------------------\n",
      "Metadata extracted from file\n",
      "----------------------------\n",
      "{\n",
      "    \"fontos_adat_amit_be_akarok_allitani\": 20\n",
      "}\n"
     ]
    }
   ],
   "source": [
    "d.set_SPP_data(delay=400, positions=[4000, 2], force=True)\n",
    "print(d)"
   ]
  },
  {
   "cell_type": "markdown",
   "metadata": {},
   "source": [
    "Lekérdezni az állandó fázisú pontokhoz tartozó adatokat lehetséges az `emit` függvénnyel, vagy akár egyszerűen `Dataset.delay` vagy `Dataset.positions` kiíratásával is:"
   ]
  },
  {
   "cell_type": "code",
   "execution_count": 8,
   "metadata": {},
   "outputs": [
    {
     "name": "stdout",
     "output_type": "stream",
     "text": [
      "Az emit függvénnyel a delay:  [400. 400.]\n",
      "A Dataset.delay függvénnyel:  [400. 400.]\n",
      "Az emit függvénnyel a pozíciók:  [4000    2]\n",
      "A Dataset.positions függvénnyel a pozíciók:  [4000    2]\n"
     ]
    }
   ],
   "source": [
    "delay, positions = d.emit()\n",
    "\n",
    "print(\"Az emit függvénnyel a delay: \", delay)\n",
    "print(\"A Dataset.delay függvénnyel: \", d.delay)\n",
    "\n",
    "print(\"Az emit függvénnyel a pozíciók: \", positions)\n",
    "print(\"A Dataset.positions függvénnyel a pozíciók: \", d.positions)\n"
   ]
  },
  {
   "cell_type": "markdown",
   "metadata": {},
   "source": [
    "Ekkor a `delay` pontosan ugyan olyan hosszú np.ndarray lesz, amilyen a `positions` volt, hiszen illesztésnél így kell kezelni."
   ]
  },
  {
   "cell_type": "markdown",
   "metadata": {},
   "source": [
    "A `CosFitMethod`-nál hasznos `GD_lookup(reference_point, engine=\"cwt\", silent=False, **kwargs)` függvény elérhető már a `Dataset` osztályban is (így minden kiértékelési módszernél):"
   ]
  },
  {
   "cell_type": "code",
   "execution_count": 9,
   "metadata": {},
   "outputs": [
    {
     "name": "stdout",
     "output_type": "stream",
     "text": [
      "The predicted GD is ± 527.51273 fs based on reference point of 0.\n"
     ]
    }
   ],
   "source": [
    "d.GD_lookup(reference_point=0)"
   ]
  },
  {
   "cell_type": "markdown",
   "metadata": {},
   "source": [
    "A következő a `slice(start, stop)` függvény. Most az alsó határt szeretném 1.9 PHz-re állítani:"
   ]
  },
  {
   "cell_type": "code",
   "execution_count": 10,
   "metadata": {},
   "outputs": [
    {
     "name": "stdout",
     "output_type": "stream",
     "text": [
      "Dataset\n",
      "----------\n",
      "Parameters\n",
      "----------\n",
      "Datapoints: 1966\n",
      "Predicted domain: frequency\n",
      "Range: from 1.900 to 3.767 PHz\n",
      "Normalized: True\n",
      "Delay value: 400.0 fs\n",
      "SPP position(s): [4000    2] PHz\n",
      "----------------------------\n",
      "Metadata extracted from file\n",
      "----------------------------\n",
      "{\n",
      "    \"fontos_adat_amit_be_akarok_allitani\": 20\n",
      "}\n"
     ]
    }
   ],
   "source": [
    "d.slice(1.9, None) # A None változatlanul hagyja a határt. Például slice(None, 5) az alsó határt nem változtatja. \n",
    "print(d)"
   ]
  },
  {
   "cell_type": "markdown",
   "metadata": {},
   "source": [
    "A tárolt adatokat a `data` függvénnyel kaphatjuk meg. Ez `pandas.DataFrame` formájában kerül visszatérítésre."
   ]
  },
  {
   "cell_type": "code",
   "execution_count": 11,
   "metadata": {},
   "outputs": [
    {
     "data": {
      "text/html": [
       "<div>\n",
       "<style scoped>\n",
       "    .dataframe tbody tr th:only-of-type {\n",
       "        vertical-align: middle;\n",
       "    }\n",
       "\n",
       "    .dataframe tbody tr th {\n",
       "        vertical-align: top;\n",
       "    }\n",
       "\n",
       "    .dataframe thead th {\n",
       "        text-align: right;\n",
       "    }\n",
       "</style>\n",
       "<table border=\"1\" class=\"dataframe\">\n",
       "  <thead>\n",
       "    <tr style=\"text-align: right;\">\n",
       "      <th></th>\n",
       "      <th>x</th>\n",
       "      <th>y</th>\n",
       "    </tr>\n",
       "  </thead>\n",
       "  <tbody>\n",
       "    <tr>\n",
       "      <th>0</th>\n",
       "      <td>3.767303</td>\n",
       "      <td>-0.866605</td>\n",
       "    </tr>\n",
       "    <tr>\n",
       "      <th>1</th>\n",
       "      <td>3.765419</td>\n",
       "      <td>-0.151222</td>\n",
       "    </tr>\n",
       "    <tr>\n",
       "      <th>2</th>\n",
       "      <td>3.763538</td>\n",
       "      <td>-0.084169</td>\n",
       "    </tr>\n",
       "    <tr>\n",
       "      <th>3</th>\n",
       "      <td>3.761658</td>\n",
       "      <td>-0.634701</td>\n",
       "    </tr>\n",
       "    <tr>\n",
       "      <th>4</th>\n",
       "      <td>3.759780</td>\n",
       "      <td>-0.999558</td>\n",
       "    </tr>\n",
       "    <tr>\n",
       "      <th>...</th>\n",
       "      <td>...</td>\n",
       "      <td>...</td>\n",
       "    </tr>\n",
       "    <tr>\n",
       "      <th>1961</th>\n",
       "      <td>1.901727</td>\n",
       "      <td>0.574217</td>\n",
       "    </tr>\n",
       "    <tr>\n",
       "      <th>1962</th>\n",
       "      <td>1.901247</td>\n",
       "      <td>-0.833038</td>\n",
       "    </tr>\n",
       "    <tr>\n",
       "      <th>1963</th>\n",
       "      <td>1.900767</td>\n",
       "      <td>0.858355</td>\n",
       "    </tr>\n",
       "    <tr>\n",
       "      <th>1964</th>\n",
       "      <td>1.900287</td>\n",
       "      <td>0.986823</td>\n",
       "    </tr>\n",
       "    <tr>\n",
       "      <th>1965</th>\n",
       "      <td>1.899808</td>\n",
       "      <td>0.527666</td>\n",
       "    </tr>\n",
       "  </tbody>\n",
       "</table>\n",
       "<p>1966 rows × 2 columns</p>\n",
       "</div>"
      ],
      "text/plain": [
       "             x         y\n",
       "0     3.767303 -0.866605\n",
       "1     3.765419 -0.151222\n",
       "2     3.763538 -0.084169\n",
       "3     3.761658 -0.634701\n",
       "4     3.759780 -0.999558\n",
       "...        ...       ...\n",
       "1961  1.901727  0.574217\n",
       "1962  1.901247 -0.833038\n",
       "1963  1.900767  0.858355\n",
       "1964  1.900287  0.986823\n",
       "1965  1.899808  0.527666\n",
       "\n",
       "[1966 rows x 2 columns]"
      ]
     },
     "execution_count": 11,
     "metadata": {},
     "output_type": "execute_result"
    }
   ],
   "source": [
    "d.data"
   ]
  },
  {
   "cell_type": "markdown",
   "metadata": {},
   "source": [
    "Ebből konkrét értékeket `np.ndarray`-ként kinyerni a következőképpen lehet: "
   ]
  },
  {
   "cell_type": "code",
   "execution_count": 12,
   "metadata": {},
   "outputs": [
    {
     "name": "stdout",
     "output_type": "stream",
     "text": [
      "<class 'numpy.ndarray'>\n",
      "[3.76730313 3.76541948 3.76353771 ... 1.90076703 1.9002874  1.89980801]\n"
     ]
    }
   ],
   "source": [
    "x = d.data.x.values\n",
    "print(type(x))\n",
    "print(x)"
   ]
  },
  {
   "cell_type": "markdown",
   "metadata": {},
   "source": [
    "#### Interaktív funkciók\n",
    "\n",
    "Az interaktív funkciók működéséhez a\n",
    "```python\n",
    "ps.interactive()\n",
    "```\n",
    "függvényt kell lefuttatni. Innentől kezdve minden plot új ablakban nyílik meg.\n",
    "Két interaktív funkciója van egy `Dataset` objektumnak, a `normalize`, illetve az `open_SPP_panel`. Az interaktív elemek után Jupyterben ajánlott a `%matplotlib inline` sort lefuttatni, ezzel újra a munkafüzetben jeleníti meg a grafikonokat.\n",
    "\n",
    "A `normalize` függvénnyel elindítható a burkológörbék megtalálásán alapuló interaktív felület, az `open_SPP_panel`-ben pedig az állandó fázisú pontokhoz tartozó adatokat tudjuk rögzíteni."
   ]
  },
  {
   "cell_type": "code",
   "execution_count": 13,
   "metadata": {},
   "outputs": [],
   "source": [
    "ps.interactive()"
   ]
  },
  {
   "cell_type": "code",
   "execution_count": 14,
   "metadata": {},
   "outputs": [],
   "source": [
    "d.open_SPP_panel()"
   ]
  },
  {
   "cell_type": "code",
   "execution_count": 15,
   "metadata": {},
   "outputs": [
    {
     "name": "stdout",
     "output_type": "stream",
     "text": [
      "Dataset\n",
      "----------\n",
      "Parameters\n",
      "----------\n",
      "Datapoints: 1966\n",
      "Predicted domain: frequency\n",
      "Range: from 1.900 to 3.767 PHz\n",
      "Normalized: True\n",
      "Delay value: 6541.0 fs\n",
      "SPP position(s): [3.11849918 2.54596133] PHz\n",
      "----------------------------\n",
      "Metadata extracted from file\n",
      "----------------------------\n",
      "{\n",
      "    \"fontos_adat_amit_be_akarok_allitani\": 20\n",
      "}\n"
     ]
    }
   ],
   "source": [
    "print(d) # véletlenszerű adatokat rögzítettem"
   ]
  },
  {
   "cell_type": "markdown",
   "metadata": {},
   "source": [
    "Az alábbi cellában a `normalize` függvény használom `inplace=False` módon, vagyis magát `d`-t változatlanul hagyja és visszaad egy új objektumot, amin az általam beállított normálást már elvégzi (ezt neveztem itt `g`-nek). A visszaadott objektum minden tulajdonságát örökölni fogja `d`-nek, így pl. a beállított SPP adatokat is:"
   ]
  },
  {
   "cell_type": "code",
   "execution_count": 16,
   "metadata": {},
   "outputs": [],
   "source": [
    "g = d.normalize(inplace=False)"
   ]
  },
  {
   "cell_type": "code",
   "execution_count": 17,
   "metadata": {},
   "outputs": [
    {
     "data": {
      "text/plain": [
       "Dataset\n",
       "----------\n",
       "Parameters\n",
       "----------\n",
       "Datapoints: 1966\n",
       "Predicted domain: frequency\n",
       "Range: from 1.900 to 3.767 PHz\n",
       "Normalized: True\n",
       "Delay value: 6541.0 fs\n",
       "SPP position(s): [3.11849918 2.54596133] PHz\n",
       "----------------------------\n",
       "Metadata extracted from file\n",
       "----------------------------\n",
       "{\n",
       "    \"fontos_adat_amit_be_akarok_allitani\": 20\n",
       "}"
      ]
     },
     "execution_count": 17,
     "metadata": {},
     "output_type": "execute_result"
    }
   ],
   "source": [
    "g"
   ]
  },
  {
   "cell_type": "markdown",
   "metadata": {},
   "source": [
    "Az interaktív függvények után a `%matplotlib inline` sorral visszaállítom az inline plotokat:"
   ]
  },
  {
   "cell_type": "code",
   "execution_count": 18,
   "metadata": {},
   "outputs": [
    {
     "data": {
      "image/png": "[encoded data removed]",
      "text/plain": [
       "<Figure size 432x288 with 1 Axes>"
      ]
     },
     "metadata": {
      "needs_background": "light"
     },
     "output_type": "display_data"
    }
   ],
   "source": [
    "%matplotlib inline\n",
    "g.plot()"
   ]
  },
  {
   "cell_type": "markdown",
   "metadata": {},
   "source": [
    "A `ps.interactive()` fontos minden interaktív elem használata előtt. Most, hogy visszaállítottam az inline plottolást a `%matplotlib inline` paranccsal az újabb `normalize` hívás már hibát fog adni:"
   ]
  },
  {
   "cell_type": "code",
   "execution_count": 19,
   "metadata": {},
   "outputs": [
    {
     "ename": "AttributeError",
     "evalue": "'NoneType' object has no attribute 'add_tool'",
     "output_type": "error",
     "traceback": [
      "\u001b[1;31m---------------------------------------------------------------------------\u001b[0m",
      "\u001b[1;31mAttributeError\u001b[0m                            Traceback (most recent call last)",
      "\u001b[1;32m<ipython-input-19-18ed0b93affc>\u001b[0m in \u001b[0;36m<module>\u001b[1;34m\u001b[0m\n\u001b[1;32m----> 1\u001b[1;33m \u001b[0md\u001b[0m\u001b[1;33m.\u001b[0m\u001b[0mnormalize\u001b[0m\u001b[1;33m(\u001b[0m\u001b[1;33m)\u001b[0m\u001b[1;33m\u001b[0m\u001b[1;33m\u001b[0m\u001b[0m\n\u001b[0m",
      "\u001b[1;32mc:\\pyt\\pysprint\\pysprint\\utils\\misc.py\u001b[0m in \u001b[0;36mwrapper\u001b[1;34m(self, *args, **kwds)\u001b[0m\n\u001b[0;32m    114\u001b[0m         \u001b[0minplace\u001b[0m \u001b[1;33m=\u001b[0m \u001b[0mkwds\u001b[0m\u001b[1;33m.\u001b[0m\u001b[0mpop\u001b[0m\u001b[1;33m(\u001b[0m\u001b[1;34m\"inplace\"\u001b[0m\u001b[1;33m,\u001b[0m \u001b[1;32mTrue\u001b[0m\u001b[1;33m)\u001b[0m\u001b[1;33m\u001b[0m\u001b[1;33m\u001b[0m\u001b[0m\n\u001b[0;32m    115\u001b[0m         \u001b[1;32mif\u001b[0m \u001b[0minplace\u001b[0m\u001b[1;33m:\u001b[0m\u001b[1;33m\u001b[0m\u001b[1;33m\u001b[0m\u001b[0m\n\u001b[1;32m--> 116\u001b[1;33m             \u001b[0mmethod\u001b[0m\u001b[1;33m(\u001b[0m\u001b[0mself\u001b[0m\u001b[1;33m,\u001b[0m \u001b[1;33m*\u001b[0m\u001b[0margs\u001b[0m\u001b[1;33m,\u001b[0m \u001b[1;33m**\u001b[0m\u001b[0mkwds\u001b[0m\u001b[1;33m)\u001b[0m\u001b[1;33m\u001b[0m\u001b[1;33m\u001b[0m\u001b[0m\n\u001b[0m\u001b[0;32m    117\u001b[0m         \u001b[1;32melse\u001b[0m\u001b[1;33m:\u001b[0m\u001b[1;33m\u001b[0m\u001b[1;33m\u001b[0m\u001b[0m\n\u001b[0;32m    118\u001b[0m             \u001b[1;32mreturn\u001b[0m \u001b[0mmethod\u001b[0m\u001b[1;33m(\u001b[0m\u001b[0mcopy\u001b[0m\u001b[1;33m(\u001b[0m\u001b[0mself\u001b[0m\u001b[1;33m)\u001b[0m\u001b[1;33m,\u001b[0m \u001b[1;33m*\u001b[0m\u001b[0margs\u001b[0m\u001b[1;33m,\u001b[0m \u001b[1;33m**\u001b[0m\u001b[0mkwds\u001b[0m\u001b[1;33m)\u001b[0m\u001b[1;33m\u001b[0m\u001b[1;33m\u001b[0m\u001b[0m\n",
      "\u001b[1;32mc:\\pyt\\pysprint\\pysprint\\core\\bases\\dataset.py\u001b[0m in \u001b[0;36mnormalize\u001b[1;34m(self, filename, smoothing_level)\u001b[0m\n\u001b[0;32m    924\u001b[0m         \u001b[1;32mif\u001b[0m \u001b[0msmoothing_level\u001b[0m \u001b[1;33m!=\u001b[0m \u001b[1;36m0\u001b[0m\u001b[1;33m:\u001b[0m\u001b[1;33m\u001b[0m\u001b[1;33m\u001b[0m\u001b[0m\n\u001b[0;32m    925\u001b[0m             \u001b[0mx\u001b[0m\u001b[1;33m,\u001b[0m \u001b[0my\u001b[0m \u001b[1;33m=\u001b[0m \u001b[0msavgol\u001b[0m\u001b[1;33m(\u001b[0m\u001b[0mx\u001b[0m\u001b[1;33m,\u001b[0m \u001b[0my\u001b[0m\u001b[1;33m,\u001b[0m \u001b[1;33m[\u001b[0m\u001b[1;33m]\u001b[0m\u001b[1;33m,\u001b[0m \u001b[1;33m[\u001b[0m\u001b[1;33m]\u001b[0m\u001b[1;33m,\u001b[0m \u001b[0mwindow\u001b[0m\u001b[1;33m=\u001b[0m\u001b[0msmoothing_level\u001b[0m\u001b[1;33m)\u001b[0m\u001b[1;33m\u001b[0m\u001b[1;33m\u001b[0m\u001b[0m\n\u001b[1;32m--> 926\u001b[1;33m         \u001b[0m_l_env\u001b[0m \u001b[1;33m=\u001b[0m \u001b[0mDraggableEnvelope\u001b[0m\u001b[1;33m(\u001b[0m\u001b[0mx\u001b[0m\u001b[1;33m,\u001b[0m \u001b[0my\u001b[0m\u001b[1;33m,\u001b[0m \u001b[1;34m\"l\"\u001b[0m\u001b[1;33m)\u001b[0m\u001b[1;33m\u001b[0m\u001b[1;33m\u001b[0m\u001b[0m\n\u001b[0m\u001b[0;32m    927\u001b[0m         \u001b[0my_transform\u001b[0m \u001b[1;33m=\u001b[0m \u001b[0m_l_env\u001b[0m\u001b[1;33m.\u001b[0m\u001b[0mget_data\u001b[0m\u001b[1;33m(\u001b[0m\u001b[1;33m)\u001b[0m\u001b[1;33m\u001b[0m\u001b[1;33m\u001b[0m\u001b[0m\n\u001b[0;32m    928\u001b[0m         \u001b[0m_u_env\u001b[0m \u001b[1;33m=\u001b[0m \u001b[0mDraggableEnvelope\u001b[0m\u001b[1;33m(\u001b[0m\u001b[0mx\u001b[0m\u001b[1;33m,\u001b[0m \u001b[0my_transform\u001b[0m\u001b[1;33m,\u001b[0m \u001b[1;34m\"u\"\u001b[0m\u001b[1;33m)\u001b[0m\u001b[1;33m\u001b[0m\u001b[1;33m\u001b[0m\u001b[0m\n",
      "\u001b[1;32mc:\\pyt\\pysprint\\pysprint\\mpl_tools\\normalize.py\u001b[0m in \u001b[0;36m__init__\u001b[1;34m(self, x, y, mode)\u001b[0m\n\u001b[0;32m     48\u001b[0m \u001b[1;33m\u001b[0m\u001b[0m\n\u001b[0;32m     49\u001b[0m         \u001b[0mtm\u001b[0m \u001b[1;33m=\u001b[0m \u001b[0mself\u001b[0m\u001b[1;33m.\u001b[0m\u001b[0mfig\u001b[0m\u001b[1;33m.\u001b[0m\u001b[0mcanvas\u001b[0m\u001b[1;33m.\u001b[0m\u001b[0mmanager\u001b[0m\u001b[1;33m.\u001b[0m\u001b[0mtoolmanager\u001b[0m\u001b[1;33m\u001b[0m\u001b[1;33m\u001b[0m\u001b[0m\n\u001b[1;32m---> 50\u001b[1;33m         \u001b[0mtm\u001b[0m\u001b[1;33m.\u001b[0m\u001b[0madd_tool\u001b[0m\u001b[1;33m(\u001b[0m\u001b[1;34m\"Toggle recording\"\u001b[0m\u001b[1;33m,\u001b[0m \u001b[0mSelectButton\u001b[0m\u001b[1;33m)\u001b[0m\u001b[1;33m\u001b[0m\u001b[1;33m\u001b[0m\u001b[0m\n\u001b[0m\u001b[0;32m     51\u001b[0m         self.fig.canvas.manager.toolbar.add_tool(\n\u001b[0;32m     52\u001b[0m             \u001b[0mtm\u001b[0m\u001b[1;33m.\u001b[0m\u001b[0mget_tool\u001b[0m\u001b[1;33m(\u001b[0m\u001b[1;34m\"Toggle recording\"\u001b[0m\u001b[1;33m)\u001b[0m\u001b[1;33m,\u001b[0m \u001b[1;34m\"toolgroup\"\u001b[0m\u001b[1;33m\u001b[0m\u001b[1;33m\u001b[0m\u001b[0m\n",
      "\u001b[1;31mAttributeError\u001b[0m: 'NoneType' object has no attribute 'add_tool'"
     ]
    },
    {
     "data": {
      "image/png": "[encoded data removed]",
      "text/plain": [
       "<Figure size 432x288 with 1 Axes>"
      ]
     },
     "metadata": {
      "needs_background": "light"
     },
     "output_type": "display_data"
    }
   ],
   "source": [
    "d.normalize()"
   ]
  },
  {
   "cell_type": "markdown",
   "metadata": {},
   "source": [
    "Ezen kívül lehetőség van tetszőleges transzformációt végrehajtani az adatokon. Ehhez egy új adatsort használok a jobb láthatóság miatt."
   ]
  },
  {
   "cell_type": "code",
   "execution_count": 21,
   "metadata": {},
   "outputs": [
    {
     "data": {
      "image/png": "[encoded data removed]",
      "text/plain": [
       "<Figure size 432x288 with 1 Axes>"
      ]
     },
     "metadata": {
      "needs_background": "light"
     },
     "output_type": "display_data"
    }
   ],
   "source": [
    "x = np.linspace(1, 20, 20000)\n",
    "y = 9 * np.exp(-(x - 10)**4)\n",
    "\n",
    "f = ps.Dataset(x, y)\n",
    "f.plot()"
   ]
  },
  {
   "cell_type": "markdown",
   "metadata": {},
   "source": [
    "Tetszőleges változtatást a `Dataset.transform(func, axis=None, args=None, kwargs=None)` függvénnyel érhetünk el. Vonjunk gyököt az `y` értékekből! Ehhez használjuk a `np.sqrt` függvényt. Látható, hogy a görbe maximuma a transzformáció után 9 helyett 3-nál van."
   ]
  },
  {
   "cell_type": "code",
   "execution_count": 22,
   "metadata": {},
   "outputs": [
    {
     "data": {
      "image/png": "[encoded data removed]",
      "text/plain": [
       "<Figure size 432x288 with 1 Axes>"
      ]
     },
     "metadata": {
      "needs_background": "light"
     },
     "output_type": "display_data"
    }
   ],
   "source": [
    "f.transform(np.sqrt, axis=\"y\")\n",
    "f.plot()"
   ]
  },
  {
   "cell_type": "markdown",
   "metadata": {},
   "source": [
    "Lehetőség van bonyolult függvények alkalmazására is. Példaképpen készítek egyet:"
   ]
  },
  {
   "cell_type": "code",
   "execution_count": 23,
   "metadata": {},
   "outputs": [],
   "source": [
    "def fuggveny(a, n, k=0.5):\n",
    "    if a < n + k:\n",
    "        return a\n",
    "    else:\n",
    "        return -a"
   ]
  },
  {
   "cell_type": "markdown",
   "metadata": {},
   "source": [
    "Két kötelező argumentuma van, `a` és `n`, egy keyword argumentuma van, `k`. Ezt a következőképpen lehet alkalmazni.\n",
    "\n",
    "`axis=\"y\"` : Az első argumentum helyére az `y` értékeket szeretném behelyettesíteni.\n",
    "\n",
    "`args=(1,)` : A többi kötelező argumentum értéke. Ebben az esetben úgy fordítódik le, hogy `n` legyen 1. A zárójel és a vessző fontos, mivel `tuple`-ként kell beírni.\n",
    "\n",
    "`kwargs={\"k\": 0}` : A keyword argumentumok közül a `k` legyen `0`. Ez kötelezően `dictionary`."
   ]
  },
  {
   "cell_type": "code",
   "execution_count": 24,
   "metadata": {},
   "outputs": [
    {
     "data": {
      "image/png": "[encoded data removed]",
      "text/plain": [
       "<Figure size 432x288 with 1 Axes>"
      ]
     },
     "metadata": {
      "needs_background": "light"
     },
     "output_type": "display_data"
    }
   ],
   "source": [
    "f.transform(fuggveny, args=(1,), kwargs={\"k\": 0}, axis=\"y\")\n",
    "f.plot()"
   ]
  },
  {
   "cell_type": "markdown",
   "metadata": {},
   "source": [
    "Ez megfordította az előjelét azon `y` értékeknek, amik nagyobbak voltak, mint `1`."
   ]
  }
 ],
 "metadata": {
  "kernelspec": {
   "display_name": "Python 3",
   "language": "python",
   "name": "python3"
  },
  "language_info": {
   "codemirror_mode": {
    "name": "ipython",
    "version": 3
   },
   "file_extension": ".py",
   "mimetype": "text/x-python",
   "name": "python",
   "nbconvert_exporter": "python",
   "pygments_lexer": "ipython3",
   "version": "3.7.6"
  }
 },
 "nbformat": 4,
 "nbformat_minor": 4
}
