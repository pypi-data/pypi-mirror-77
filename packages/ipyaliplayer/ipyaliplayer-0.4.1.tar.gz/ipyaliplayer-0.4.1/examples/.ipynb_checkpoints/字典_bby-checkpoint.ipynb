{
 "cells": [
  {
   "cell_type": "markdown",
   "metadata": {
    "graffitiCellId": "id_zi2wxg1",
    "slideshow": {
     "slide_type": "slide"
    }
   },
   "source": [
    "## 字典\n",
    "\n",
    "本单元中，我们将介绍Python程序中的字典。\n",
    "\n",
    "本单元的内容包含以下四个内容：\n",
    "\n",
    "1. 一个萝卜一个坑\n",
    "2. 点到那里取哪里 II\n",
    "3. 添加、删除和修改\n",
    "4. 内容总结 "
   ]
  },
  {
   "cell_type": "markdown",
   "metadata": {
    "graffitiCellId": "id_3kfnz7r",
    "slideshow": {
     "slide_type": "slide"
    }
   },
   "source": [
    "### 一个萝卜一个坑"
   ]
  },
  {
   "cell_type": "code",
   "execution_count": 11,
   "metadata": {
    "graffitiCellId": "id_wgm8y7w"
   },
   "outputs": [
    {
     "data": {
      "application/vnd.jupyter.widget-view+json": {
       "model_id": "9bc2d4393c9045acaf545581c1a7f01a",
       "version_major": 2,
       "version_minor": 0
      },
      "text/plain": [
       "Player(value='9b64932021b64355853a1effb1fe8967')"
      ]
     },
     "metadata": {},
     "output_type": "display_data"
    }
   ],
   "source": [
    "#platform-desc\n",
    "\n",
    "from ipyaliplayer import Player\n",
    "Player(vid='9b64932021b64355853a1effb1fe8967', aspect_ratio=4/3)"
   ]
  },
  {
   "cell_type": "markdown",
   "metadata": {
    "graffitiCellId": "id_y4kpgm9",
    "slideshow": {
     "slide_type": "subslide"
    }
   },
   "source": [
    "在Python中，字典（list）是一种无序的集合，用来表示一系列具有映射关系数据的结构：\n",
    "\n",
    "***<插入相应讲解视频（PPT【P1-P6】，代码视频【一个萝卜一个坑】>***\n",
    "\n",
    "**本节核心知识点：**\n",
    "\n",
    "    1. 字典的定义\n",
    "    \n",
    "```python\n",
    "# 定义一个字典\n",
    "dic = {key1: value1, key2: value2} # 键必须唯一，值可以不唯一\n",
    "```"
   ]
  },
  {
   "cell_type": "code",
   "execution_count": null,
   "metadata": {
    "graffitiCellId": "id_meft97x"
   },
   "outputs": [],
   "source": [
    "#platform-edit\n",
    "# 请使用本节知识点，创建一个包含复仇者联盟英雄和他们身高的字典,并输出。\n",
    "# 其中元素包括：\n",
    "# “钢铁侠”：174\n",
    "# “黑寡妇”：160\n",
    "# “绿巨人”：173\n",
    "\n",
    "\n",
    "Marvel_dict = $$$\n",
    "print($$$)"
   ]
  },
  {
   "cell_type": "code",
   "execution_count": 3,
   "metadata": {
    "graffitiCellId": "id_fogp7iw"
   },
   "outputs": [
    {
     "name": "stdout",
     "output_type": "stream",
     "text": [
      "{'钢铁侠': 174, '黑寡妇': 160, '绿巨人': 173}\n"
     ]
    }
   ],
   "source": [
    "#platform-edit-answer\n",
    "\n",
    "# 请使用本节知识点，创建一个包含复仇者联盟英雄和他们身高的字典,并输出。\n",
    "# 其中元素包括：\n",
    "# “钢铁侠”：174\n",
    "# “黑寡妇”：160\n",
    "# “绿巨人”：173\n",
    "\n",
    "# 参考答案\n",
    "Marvel_dict = {\"钢铁侠\": 174, \"黑寡妇\": 160, \"绿巨人\": 173} \n",
    "print(Marvel_dict)"
   ]
  },
  {
   "cell_type": "markdown",
   "metadata": {
    "graffitiCellId": "id_er0t3jt"
   },
   "source": [
    "{'钢铁侠': 174, '黑寡妇': 160, '绿巨人': 173}"
   ]
  },
  {
   "cell_type": "markdown",
   "metadata": {
    "graffitiCellId": "id_gnsdnk8",
    "slideshow": {
     "slide_type": "slide"
    }
   },
   "source": [
    "### 点到那里取哪里 II"
   ]
  },
  {
   "cell_type": "code",
   "execution_count": 7,
   "metadata": {
    "graffitiCellId": "id_gmq9lmu"
   },
   "outputs": [
    {
     "data": {
      "application/vnd.jupyter.widget-view+json": {
       "model_id": "001f44fdf75a4a6d86c19330dc757024",
       "version_major": 2,
       "version_minor": 0
      },
      "text/plain": [
       "Player(value='cb98994df7ed4685a4b32bb9b6e65ac3')"
      ]
     },
     "metadata": {},
     "output_type": "display_data"
    }
   ],
   "source": [
    "#platform-desc\n",
    "\n",
    "from ipyaliplayer import Player\n",
    "Player(vid='cb98994df7ed4685a4b32bb9b6e65ac3', aspect_ratio=4/3)"
   ]
  },
  {
   "cell_type": "markdown",
   "metadata": {
    "graffitiCellId": "id_5q8to4q"
   },
   "source": [
    "**字典** 通过 key 直接获取对应 value 的内容:\n",
    "\n",
    "***<插入相应讲解视频（PPT【P7-8】，代码视频【点到那里取哪里II】>***\n",
    "\n",
    "**本节核心知识点：**\n",
    "\n",
    "    1. 字典元素的选取\n",
    "    \n",
    "```python\n",
    "字典名[键]\n",
    "```"
   ]
  },
  {
   "cell_type": "code",
   "execution_count": 5,
   "metadata": {
    "graffitiCellId": "id_pkx45bm"
   },
   "outputs": [],
   "source": [
    "#platform-lock\n",
    "\n",
    "# 已定义复仇者联盟英雄及其身高\n",
    "Marvel_dict = {\"钢铁侠\": 174, \"黑寡妇\": 160, \"绿巨人\": 173} "
   ]
  },
  {
   "cell_type": "code",
   "execution_count": null,
   "metadata": {
    "graffitiCellId": "id_2qvb3wh"
   },
   "outputs": [],
   "source": [
    "#platform-edit\n",
    "\n",
    "# 请所学过知识点，依次输出各英雄的称谓和身高\n",
    "\n",
    "$$$"
   ]
  },
  {
   "cell_type": "code",
   "execution_count": 8,
   "metadata": {
    "graffitiCellId": "id_3ikkm6n"
   },
   "outputs": [
    {
     "name": "stdout",
     "output_type": "stream",
     "text": [
      "钢铁侠 174\n",
      "黑寡妇 160\n",
      "绿巨人 173\n"
     ]
    }
   ],
   "source": [
    "#platform-edit-answer\n",
    "\n",
    "# 请使用本节知识点，依次输出各英雄的称谓和身高\n",
    "\n",
    "# 参考答案\n",
    "print(\"钢铁侠\", Marvel_dict[\"钢铁侠\"])\n",
    "print(\"黑寡妇\", Marvel_dict[\"黑寡妇\"])\n",
    "print(\"绿巨人\", Marvel_dict[\"绿巨人\"])"
   ]
  },
  {
   "cell_type": "markdown",
   "metadata": {
    "graffitiCellId": "id_hamilnn"
   },
   "source": [
    "钢铁侠 174\n",
    "黑寡妇 160\n",
    "绿巨人 173"
   ]
  },
  {
   "cell_type": "markdown",
   "metadata": {
    "graffitiCellId": "id_s9eobrs"
   },
   "source": [
    "### 添加、删除和修改"
   ]
  },
  {
   "cell_type": "code",
   "execution_count": 10,
   "metadata": {
    "graffitiCellId": "id_lwj1t5g"
   },
   "outputs": [
    {
     "data": {
      "application/vnd.jupyter.widget-view+json": {
       "model_id": "86e59b4a77d0468cab08dea43f8bab07",
       "version_major": 2,
       "version_minor": 0
      },
      "text/plain": [
       "Player(value='2fb14ebc441e46d9957fb7f80ebd4b1c')"
      ]
     },
     "metadata": {},
     "output_type": "display_data"
    }
   ],
   "source": [
    "#platform-desc\n",
    "\n",
    "from ipyaliplayer import Player\n",
    "Player(vid='2fb14ebc441e46d9957fb7f80ebd4b1c', aspect_ratio=4/3)"
   ]
  },
  {
   "cell_type": "markdown",
   "metadata": {
    "graffitiCellId": "id_ixmsg7s"
   },
   "source": [
    "作为使用频繁的数据类型，Python中为 **字典** 设计了很多实用的功能，快来看看吧：\n",
    "\n",
    "***<插入相应讲解视频（PPT【P9-15】，代码视频【添加、删除和修改】>***\n",
    "\n",
    "是不是很强大！\n",
    "\n",
    "**本节核心知识点：**\n",
    "\n",
    "    1. 字典元素添加\n",
    "    \n",
    "```python\n",
    "字典名[键] = 值\n",
    "```\n",
    "    2. 字典元素删除\n",
    "    \n",
    "```python\n",
    "del 字典名[键]\n",
    "```\n",
    "    3. 字典元素修改\n",
    "    \n",
    "```python\n",
    "字典名[键] = 新的值\n",
    "```"
   ]
  },
  {
   "cell_type": "code",
   "execution_count": 16,
   "metadata": {
    "graffitiCellId": "id_jym7ji6",
    "scrolled": true
   },
   "outputs": [
    {
     "data": {
      "application/vnd.jupyter.widget-view+json": {
       "model_id": "78eda470566247cfa4e2e450ae5c6890",
       "version_major": 2,
       "version_minor": 0
      },
      "text/html": [
       "<p>Failed to display Jupyter Widget of type <code>QuizWidget</code>.</p>\n",
       "<p>\n",
       "  If you're reading this message in the Jupyter Notebook or JupyterLab Notebook, it may mean\n",
       "  that the widgets JavaScript is still loading. If this message persists, it\n",
       "  likely means that the widgets JavaScript library is either not installed or\n",
       "  not enabled. See the <a href=\"https://ipywidgets.readthedocs.io/en/stable/user_install.html\">Jupyter\n",
       "  Widgets Documentation</a> for setup instructions.\n",
       "</p>\n",
       "<p>\n",
       "  If you're reading this message in another frontend (for example, a static\n",
       "  rendering on GitHub or <a href=\"https://nbviewer.jupyter.org/\">NBViewer</a>),\n",
       "  it may mean that your frontend doesn't currently support widgets.\n",
       "</p>\n"
      ],
      "text/plain": [
       "QuizWidget(quiz_id='__ipyquiz_quiz_id', value=[{'id': 'choice-1', 'type': 'SELECT', 'title': \"```\\nboyu = {'name' : 'Boyu', 'age' : 1, 'color' : 'blue', 'info' : ['167.5cm', '55kg'], 'AI' : True, 2333 : 666666}\\n\\n# 查询键 name 对应的值\\nprint(【1】)\\n\\n# 增加键值对\\n【2】\\n\\n# 删除键值对\\n【3】\\n\\n# 修改键值对\\n【4】\\n```\\n请从以下4个选项中选出一个最合适的选项，用来完善以上代码中空格【1】处的内容，注意阅读代码中的注释来推测每个空格中的内容：\", 'answer': '2', 'options': [{'value': '0', 'text': 'boyu[name]'}, {'value': '1', 'text': \"boyu('name')\"}, {'value': '2', 'text': \"boyu['name']\"}, {'value': '3', 'text': \"boyu['NAME']\"}]}, {'id': 'choice-2', 'type': 'SELECT', 'title': '请从以下4个选项中选出一个最合适的选项，用来完善以上代码中空格【2】处的内容，注意阅读代码中的注释来推测每个空格中的内容：', 'answer': '1', 'options': [{'value': '0', 'text': \"boyu['lesson'].append('Python')\"}, {'value': '1', 'text': \"boyu['lesson'] = 'Python'\"}, {'value': '2', 'text': \"boyu['lesson'].insert('Python')\"}, {'value': '3', 'text': \"boyu.append('lesson':'Python')\"}]}, {'id': 'choice-3', 'type': 'SELECT', 'title': '请从以下4个选项中选出一个最合适的选项，用来完善以上代码中空格【3】处的内容，注意阅读代码中的注释来推测每个空格中的内容：', 'answer': '1', 'options': [{'value': '0', 'text': 'boyu.erase(2333)'}, {'value': '1', 'text': 'del boyu[2333]'}, {'value': '2', 'text': 'del boyu(2333)'}, {'value': '3', 'text': 'boyu.del(2333)'}]}, {'id': 'choice-4', 'type': 'SELECT', 'title': '请从以下4个选项中选出一个最合适的选项，用来完善以上代码中空格【4】处的内容，注意阅读代码中的注释来推测每个空格中的内容：', 'answer': '1', 'options': [{'value': '0', 'text': \"boyu[lesson] = 'Python Basic'\"}, {'value': '1', 'text': \"boyu['lesson'] = 'Python Basic'\"}, {'value': '2', 'text': \"boyu[5] = 'Python Basic'\"}, {'value': '3', 'text': \"boyu('lesson') = 'Python Basic'\"}]}])"
      ]
     },
     "metadata": {},
     "output_type": "display_data"
    }
   ],
   "source": [
    "#platform-quiz\n",
    "import ipyquiz\n",
    "quizzes = []\n",
    "quizzes.append({\n",
    "    \"id\": \"choice-1\",\n",
    "    \"type\": \"SELECT\",\n",
    "    \"title\": \"```\\nboyu = {'name' : 'Boyu', 'age' : 1, 'color' : 'blue', 'info' : ['167.5cm', '55kg'], 'AI' : True, 2333 : 666666}\\n\\n# 查询键 name 对应的值\\nprint(【1】)\\n\\n# 增加键值对\\n【2】\\n\\n# 删除键值对\\n【3】\\n\\n# 修改键值对\\n【4】\\n```\\n请从以下4个选项中选出一个最合适的选项，用来完善以上代码中空格【1】处的内容，注意阅读代码中的注释来推测每个空格中的内容：\",\n",
    "    \"answer\": \"2\",\n",
    "    \"options\": [\n",
    "        {\n",
    "            \"value\": \"0\",\n",
    "            \"text\": \"boyu[name]\"\n",
    "        },\n",
    "        {\n",
    "            \"value\": \"1\",\n",
    "            \"text\": \"boyu('name')\"\n",
    "        },\n",
    "        {\n",
    "            \"value\": \"2\",\n",
    "            \"text\": \"boyu['name']\"\n",
    "        },\n",
    "        {\n",
    "            \"value\": \"3\",\n",
    "            \"text\": \"boyu['NAME']\"\n",
    "        },\n",
    "    ]\n",
    "})\n",
    "\n",
    "quizzes.append({\n",
    "    \"id\": \"choice-2\",\n",
    "    \"type\": \"SELECT\",\n",
    "    \"title\": \"请从以下4个选项中选出一个最合适的选项，用来完善以上代码中空格【2】处的内容，注意阅读代码中的注释来推测每个空格中的内容：\",\n",
    "    \"answer\": \"1\",\n",
    "    \"options\": [\n",
    "        {\n",
    "            \"value\": \"0\",\n",
    "            \"text\":\"boyu['lesson'].append('Python')\"\n",
    "        },\n",
    "        {\n",
    "            \"value\": \"1\",\n",
    "            \"text\":\"boyu['lesson'] = 'Python'\"\n",
    "        },\n",
    "        {\n",
    "            \"value\": \"2\",\n",
    "            \"text\":\"boyu['lesson'].insert('Python')\"\n",
    "        },\n",
    "        {\n",
    "            \"value\": \"3\",\n",
    "            \"text\":\"boyu.append('lesson':'Python')\"\n",
    "        },\n",
    "    ]\n",
    "})\n",
    "\n",
    "quizzes.append({\n",
    "    \"id\": \"choice-3\",\n",
    "    \"type\": \"SELECT\",\n",
    "    \"title\": \"请从以下4个选项中选出一个最合适的选项，用来完善以上代码中空格【3】处的内容，注意阅读代码中的注释来推测每个空格中的内容：\",\n",
    "    \"answer\": \"1\",\n",
    "    \"options\": [\n",
    "        {\n",
    "            \"value\": \"0\",\n",
    "            \"text\":\"boyu.erase(2333)\"\n",
    "        },\n",
    "        {\n",
    "            \"value\": \"1\",\n",
    "            \"text\":\"del boyu[2333]\"\n",
    "        },\n",
    "        {\n",
    "            \"value\": \"2\",\n",
    "            \"text\":\"del boyu(2333)\"\n",
    "        },\n",
    "        {\n",
    "            \"value\": \"3\",\n",
    "            \"text\":\"boyu.del(2333)\"\n",
    "        },\n",
    "    ]\n",
    "})\n",
    "\n",
    "quizzes.append({\n",
    "    \"id\": \"choice-4\",\n",
    "    \"type\": \"SELECT\",\n",
    "    \"title\": \"请从以下4个选项中选出一个最合适的选项，用来完善以上代码中空格【4】处的内容，注意阅读代码中的注释来推测每个空格中的内容：\",\n",
    "    \"answer\": \"1\",\n",
    "    \"options\": [\n",
    "        {\n",
    "            \"value\": \"0\",\n",
    "            \"text\":\"boyu[lesson] = 'Python Basic'\"\n",
    "        },\n",
    "        {\n",
    "            \"value\": \"1\",\n",
    "            \"text\":\"boyu['lesson'] = 'Python Basic'\"\n",
    "        },\n",
    "        {\n",
    "            \"value\": \"2\",\n",
    "            \"text\":\"boyu[5] = 'Python Basic'\"\n",
    "        },\n",
    "        {\n",
    "            \"value\": \"3\",\n",
    "            \"text\":\"boyu('lesson') = 'Python Basic'\"\n",
    "        },\n",
    "    ]\n",
    "})\n",
    "\n",
    "ipyquiz.QuizWidget(value=quizzes, quiz_id=\"__ipyquiz_quiz_id\")"
   ]
  },
  {
   "cell_type": "markdown",
   "metadata": {
    "graffitiCellId": "id_4ynkp0d"
   },
   "source": [
    "### 内容总结 【实践】"
   ]
  },
  {
   "cell_type": "code",
   "execution_count": 9,
   "metadata": {
    "graffitiCellId": "id_hrjyvu1"
   },
   "outputs": [
    {
     "data": {
      "application/vnd.jupyter.widget-view+json": {
       "model_id": "2369d29e963545f78c68ca491afc4ab0",
       "version_major": 2,
       "version_minor": 0
      },
      "text/plain": [
       "Player(value='cf6694b4c1724e09b97b93acce085f88')"
      ]
     },
     "metadata": {},
     "output_type": "display_data"
    }
   ],
   "source": [
    "#platform-desc\n",
    "\n",
    "from ipyaliplayer import Player\n",
    "Player(vid='cf6694b4c1724e09b97b93acce085f88', aspect_ratio=4/3)"
   ]
  },
  {
   "cell_type": "markdown",
   "metadata": {
    "graffitiCellId": "id_pogs4w5"
   },
   "source": [
    "下面我们来回顾一下本节学习的内容：\n",
    "\n",
    "***<插入相应讲解视频（PPT【P16-18】>***\n",
    "\n",
    "恭喜你已经熟悉了**字典**的书写和处理！\n",
    "\n",
    "开来把全部复仇者联盟放入字典吧吧！"
   ]
  },
  {
   "cell_type": "code",
   "execution_count": 27,
   "metadata": {
    "graffitiCellId": "id_w5gl719"
   },
   "outputs": [],
   "source": [
    "#platform-lock\n",
    "\n",
    "# 已定义复仇者联盟英雄及其身高\n",
    "Marvel_dict = {\"钢铁侠\": 174, \"黑寡妇\": 160, \"绿巨人\": 173} "
   ]
  },
  {
   "cell_type": "code",
   "execution_count": null,
   "metadata": {
    "graffitiCellId": "id_cw767u8"
   },
   "outputs": [],
   "source": [
    "#platform-edit\n",
    "\n",
    "# 请使用本节知识点，根据注释内容补全代码\n",
    "\n",
    "$$$  # 增加超级英雄 冬兵：183\n",
    "\n",
    "\n",
    "$$$ # 删除 黑寡妇，变成 小辣椒：175\n",
    "\n",
    "$$$ # 输出后三个超级超级英雄\n"
   ]
  },
  {
   "cell_type": "code",
   "execution_count": 28,
   "metadata": {
    "graffitiCellId": "id_h8ifmky",
    "scrolled": true
   },
   "outputs": [
    {
     "name": "stdout",
     "output_type": "stream",
     "text": [
      "{'钢铁侠': 174, '绿巨人': 173, '冬兵': 185, '小辣椒': 175}\n"
     ]
    }
   ],
   "source": [
    "#platform-edit-answer\n",
    "\n",
    "# 请使用本节知识点，根据注释内容补全代码\n",
    "\n",
    "# 参考答案\n",
    "\n",
    "Marvel_dict[\"冬兵\"] = 185  # 增加超级英雄 冬兵：183\n",
    "\n",
    "\n",
    "del Marvel_dict[\"黑寡妇\"] # 删除 黑寡妇，变成 小辣椒：175\n",
    "Marvel_dict[\"小辣椒\"] = 175\n",
    "\n",
    "print(Marvel_dict) # 输出所有超级英雄"
   ]
  },
  {
   "cell_type": "markdown",
   "metadata": {
    "graffitiCellId": "id_tn54m55"
   },
   "source": [
    "{'钢铁侠': 174, '绿巨人': 173, '冬兵': 185, '小辣椒': 175}"
   ]
  }
 ],
 "metadata": {
  "graffiti": {
   "firstAuthorId": "dev",
   "id": "id_tggy0sf",
   "language": "EN"
  },
  "kernelspec": {
   "display_name": "Python 3",
   "language": "python",
   "name": "python3"
  },
  "language_info": {
   "codemirror_mode": {
    "name": "ipython",
    "version": 3
   },
   "file_extension": ".py",
   "mimetype": "text/x-python",
   "name": "python",
   "nbconvert_exporter": "python",
   "pygments_lexer": "ipython3",
   "version": "3.7.1"
  }
 },
 "nbformat": 4,
 "nbformat_minor": 4
}
