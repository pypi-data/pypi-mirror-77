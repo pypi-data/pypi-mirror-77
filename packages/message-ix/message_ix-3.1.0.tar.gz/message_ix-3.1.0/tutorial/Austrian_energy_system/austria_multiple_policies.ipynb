{
 "cells": [
  {
   "cell_type": "markdown",
   "metadata": {},
   "source": [
    "# Austrian energy system Tutorial Part 4: Investigating Many Policy Scenarios\n",
    "\n",
    "**Pre-requisites**\n",
    "- You have the *MESSAGEix* framework installed and working\n",
    "- You have run Austrian energy system baseline scenario (``austria.ipynb``) and solved it successfully\n",
    "- You have completed tht tutorial on introducing one policy scenario (``austria_single_policy.ipynb``) \n",
    "\n",
    "**Answers**\n",
    "- Answers to the exercises below can be found in another Jupyter Notebook in this folder called ``austria_multiple_policies-answers.ipynb``\n",
    "\n",
    "**Introduction**\n",
    "\n",
    "In this notebook, we investigate a number of different scenarios. This has been streamlined with a few helper functions:\n",
    "\n",
    "- `make_scenario()`: provides a `Scenario` in which to develop the new scenario\n",
    "- `read_scenario()`: provides a `Scenario` use for investigating results\n",
    "\n",
    "These functions are used as follows:\n",
    "\n",
    "```\n",
    "with function(<arguments>) as ds:\n",
    "   <do things with the datastructure\n",
    "```\n",
    "\n",
    "All of the opening, closing, running, and committing actions are handled for you. Your job is to concentrate on identifying and updating the scenario variables and then investigating the results.\n",
    "\n",
    "You can, of course, get the `Scenario` as you have worked on previously as well."
   ]
  },
  {
   "cell_type": "markdown",
   "metadata": {},
   "source": [
    "## Setup and Helper Variables"
   ]
  },
  {
   "cell_type": "code",
   "execution_count": null,
   "metadata": {
    "collapsed": true
   },
   "outputs": [],
   "source": [
    "# load required packages \n",
    "import numpy as np\n",
    "import pandas as pd\n",
    "\n",
    "import matplotlib.pyplot as plt\n",
    "%matplotlib inline\n",
    "plt.style.use('ggplot')\n",
    "\n",
    "import ixmp as ix\n",
    "import message_ix\n",
    "\n",
    "from tools import Plots, make_scenario, read_scenario"
   ]
  },
  {
   "cell_type": "code",
   "execution_count": null,
   "metadata": {},
   "outputs": [],
   "source": [
    "# launch the IX modeling platform using the local default database                                                                                                                       \n",
    "mp = ix.Platform()"
   ]
  },
  {
   "cell_type": "code",
   "execution_count": null,
   "metadata": {
    "collapsed": true
   },
   "outputs": [],
   "source": [
    "country = 'Austria'\n",
    "horizon = range(2010, 2041, 10)\n",
    "\n",
    "plants = [\n",
    "    \"coal_ppl\", \n",
    "    \"gas_ppl\", \n",
    "    \"oil_ppl\", \n",
    "    \"bio_ppl\", \n",
    "    \"hydro_ppl\",\n",
    "    \"wind_ppl\", \n",
    "    \"solar_pv_ppl\", # actually primary -> final\n",
    "]\n",
    "\n",
    "lights = [\n",
    "    \"bulb\", \n",
    "    \"cfl\", \n",
    "]\n",
    "\n",
    "name = \"Austrian energy model\"\n",
    "base_scen = \"baseline\""
   ]
  },
  {
   "cell_type": "markdown",
   "metadata": {
    "collapsed": true
   },
   "source": [
    "# Wind Subsidies\n",
    "\n",
    "Rerun the wind subsidy scenario using this framework."
   ]
  },
  {
   "cell_type": "code",
   "execution_count": null,
   "metadata": {
    "collapsed": true
   },
   "outputs": [],
   "source": [
    "new_scen = 'wind_subsidies'\n",
    "\n",
    "subsidies = np.array([0.5, 0.5, 0.75, 1.0])\n",
    "inv_cost = pd.DataFrame({\n",
    "        'node_loc': country,\n",
    "        'year_vtg': horizon,\n",
    "        'technology': 'wind_ppl',\n",
    "        'value': 1100 * subsidies * 1e6,\n",
    "        'unit': 'USD/GWa',\n",
    "})\n",
    "\n",
    "with make_scenario(mp, country, name, base_scen, new_scen) as scenario:\n",
    "    scenario.add_par('inv_cost', inv_cost)"
   ]
  },
  {
   "cell_type": "code",
   "execution_count": null,
   "metadata": {},
   "outputs": [],
   "source": [
    "with read_scenario(mp, name, new_scen) as scenario, read_scenario(mp, name, base_scen) as base:\n",
    "    Plots(base, country).plot_new_capacity(baseyear=True, subset=plants)\n",
    "    Plots(scenario, country).plot_new_capacity(baseyear=True, subset=plants)"
   ]
  },
  {
   "cell_type": "markdown",
   "metadata": {},
   "source": [
    "# Demand-Side Learning\n",
    "\n",
    "This model does not use `cfl`s in the basline because they are too expensive. What happens if their cost reduces with time?"
   ]
  },
  {
   "cell_type": "code",
   "execution_count": null,
   "metadata": {
    "collapsed": true
   },
   "outputs": [],
   "source": [
    "new_scen = 'cheap_cfls'\n",
    "\n",
    "costs = np.array([1.0, 0.6, 0.3, 0.1])\n",
    "inv_cost = pd.DataFrame({\n",
    "        'node_loc': country,\n",
    "        'year_vtg': horizon,\n",
    "        'technology': 'cfl',\n",
    "        'value': 900 * costs * 1e6,\n",
    "        'unit': 'USD/GWa',\n",
    "})\n",
    "\n",
    "with make_scenario(mp, country, name, base_scen, new_scen) as scenario:\n",
    "    scenario.add_par('inv_cost', inv_cost)"
   ]
  },
  {
   "cell_type": "code",
   "execution_count": null,
   "metadata": {},
   "outputs": [],
   "source": [
    "with read_scenario(mp, name, new_scen) as scenario, read_scenario(mp, name, base_scen) as base:\n",
    "    Plots(base, country).plot_new_capacity(baseyear=True, subset=lights)\n",
    "    Plots(scenario, country).plot_new_capacity(baseyear=True, subset=lights)"
   ]
  },
  {
   "cell_type": "code",
   "execution_count": null,
   "metadata": {},
   "outputs": [],
   "source": [
    "with read_scenario(mp, name, new_scen) as scenario, read_scenario(mp, name, base_scen) as base:\n",
    "    Plots(base, country).plot_activity(baseyear=True, subset=lights)\n",
    "    Plots(scenario, country).plot_activity(baseyear=True, subset=lights)"
   ]
  },
  {
   "cell_type": "markdown",
   "metadata": {},
   "source": [
    "# Exercise: Economic Assumptions\n",
    "\n",
    "What is the effect of assuming a different interest rate? What if it is higher than the baseline? Lower? How does this affect prices?"
   ]
  },
  {
   "cell_type": "code",
   "execution_count": null,
   "metadata": {
    "collapsed": true
   },
   "outputs": [],
   "source": []
  },
  {
   "cell_type": "code",
   "execution_count": null,
   "metadata": {
    "collapsed": true
   },
   "outputs": [],
   "source": []
  },
  {
   "cell_type": "code",
   "execution_count": null,
   "metadata": {
    "collapsed": true
   },
   "outputs": [],
   "source": []
  },
  {
   "cell_type": "markdown",
   "metadata": {},
   "source": [
    "# Exercise: Carbon Tax\n",
    "\n",
    "What effect does a carbon tax have on the system? What if it is phased in over time? What is the effect on energy prices?\n",
    "\n",
    "Hints:\n",
    "\n",
    "- what emissions parameters are available from `scenario.par_list()`?\n",
    "- find out which fields are required using `scenario.idx_names(par_name)`\n",
    "- carbon taxes are normally provided in units of USD/tCO2\n",
    "- a normal proposed carbon tax is ~30 USD/tCO2"
   ]
  },
  {
   "cell_type": "code",
   "execution_count": null,
   "metadata": {
    "collapsed": true
   },
   "outputs": [],
   "source": []
  },
  {
   "cell_type": "code",
   "execution_count": null,
   "metadata": {
    "collapsed": true
   },
   "outputs": [],
   "source": []
  },
  {
   "cell_type": "code",
   "execution_count": null,
   "metadata": {
    "collapsed": true
   },
   "outputs": [],
   "source": []
  }
 ],
 "metadata": {
  "kernelspec": {
   "display_name": "Python 3",
   "language": "python",
   "name": "python3"
  },
  "language_info": {
   "codemirror_mode": {
    "name": "ipython",
    "version": 3
   },
   "file_extension": ".py",
   "mimetype": "text/x-python",
   "name": "python",
   "nbconvert_exporter": "python",
   "pygments_lexer": "ipython3",
   "version": "3.7.4"
  }
 },
 "nbformat": 4,
 "nbformat_minor": 1
}
