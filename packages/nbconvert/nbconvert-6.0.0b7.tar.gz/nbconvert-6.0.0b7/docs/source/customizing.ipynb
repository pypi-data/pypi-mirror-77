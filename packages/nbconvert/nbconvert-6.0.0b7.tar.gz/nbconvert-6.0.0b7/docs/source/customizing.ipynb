{
 "cells": [
  {
   "cell_type": "markdown",
   "metadata": {},
   "source": [
    "# Customizing nbconvert"
   ]
  },
  {
   "cell_type": "markdown",
   "metadata": {},
   "source": [
    "Under the hood, nbconvert uses [Jinja templates](http://jinja.pocoo.org/docs/latest/) to specify how the notebooks should be formatted. These templates can be fully customized, allowing you to use nbconvert to create notebooks in different formats with different styles as well."
   ]
  },
  {
   "cell_type": "markdown",
   "metadata": {},
   "source": [
    "## Converting a notebook to an (I)Python script and printing to stdout\n",
    "\n",
    "Out of the box, nbconvert can be used to convert notebooks to plain Python files. For example, the following command converts the `example.ipynb` notebook to Python and prints out the result:"
   ]
  },
  {
   "cell_type": "code",
   "execution_count": null,
   "metadata": {},
   "outputs": [],
   "source": [
    "!jupyter nbconvert --to python 'example.ipynb' --stdout"
   ]
  },
  {
   "cell_type": "markdown",
   "metadata": {},
   "source": [
    "From the code, you can see that non-code cells are also exported. If you wanted to change that behaviour, you would first look to nbconvert [configuration options page](./config_options.rst) to see if there is an option available that can give you your desired behaviour. \n",
    "\n",
    "In this case, if you wanted to remove non-code cells from the output, you could use the `TemplateExporter.exclude_markdown` traitlet directly, as below. "
   ]
  },
  {
   "cell_type": "code",
   "execution_count": null,
   "metadata": {},
   "outputs": [],
   "source": [
    "!jupyter nbconvert --to python 'example.ipynb' --stdout --TemplateExporter.exclude_markdown=True"
   ]
  },
  {
   "cell_type": "markdown",
   "metadata": {},
   "source": [
    "## Custom Templates \n",
    "\n",
    "As mentioned above, if you want to change this behavior, you can use a custom template.  The custom template inherits from the Python template and overwrites the markdown blocks so that they are empty. \n",
    "\n",
    "Below is an example of a custom template, which we write to a file called `simplepython.py.j2`. This template removes markdown cells from the output, and also changes how the execution count numbers are formatted:"
   ]
  },
  {
   "cell_type": "code",
   "execution_count": null,
   "metadata": {},
   "outputs": [],
   "source": [
    "%%writefile simplepython.py.j2\n",
    "\n",
    "{% extends 'python/index.py.j2'%}\n",
    "\n",
    "## remove markdown cells\n",
    "{% block markdowncell %}\n",
    "{% endblock markdowncell %}\n",
    "\n",
    "## change the appearance of execution count\n",
    "{% block in_prompt %}\n",
    "# [{{ cell.execution_count if cell.execution_count else ' ' }}]:\n",
    "{% endblock in_prompt %}"
   ]
  },
  {
   "cell_type": "markdown",
   "metadata": {},
   "source": [
    "Using this template, we see that the resulting Python code does not contain anything that was previously in a markdown cell, and only displays execution counts (i.e., `[#]:` not `In[#]:`):"
   ]
  },
  {
   "cell_type": "code",
   "execution_count": null,
   "metadata": {},
   "outputs": [],
   "source": [
    "!jupyter nbconvert --to python 'example.ipynb' --stdout --template-file=simplepython.py.j2"
   ]
  },
  {
   "cell_type": "markdown",
   "metadata": {},
   "source": [
    "### Saving Custom Templates\n",
    "\n",
    "By default, nbconvert finds templates from a few locations.\n",
    "\n",
    "The recommended place to save custom templates, so that they are globally accessible to nbconvert, is your jupyter data directories:\n",
    "\n",
    "- share/jupyter\n",
    "    - nbconvert\n",
    "        - templates\n",
    "            - base\n",
    "            - classic\n",
    "            - lab\n",
    "            - latex\n",
    "            - markdown\n",
    "\n",
    "The HTML and LaTeX/PDF exporters will search the lab and latex subdirectories for templates by default, respectively.\n",
    "\n",
    "To find your jupyter configuration directory you can use:\n",
    "\n",
    "```python\n",
    "from jupyter_core.paths import jupyter_path\n",
    "print(jupyter_path('nbconvert','templates'))\n",
    "```\n",
    "\n",
    "Additionally,\n",
    "\n",
    "```python\n",
    "TemplateExporter.template_path=['.']\n",
    "```\n",
    "\n",
    "defines an additional list of paths that nbconvert can look for user defined templates. It defaults to searching for custom templates in the current working directory and can be changed through configuration options."
   ]
  },
  {
   "cell_type": "markdown",
   "metadata": {},
   "source": [
    "## Template structure\n",
    "\n",
    "Nbconvert templates consist of a set of nested blocks. When defining a new\n",
    "template, you extend an existing template by overriding some of the blocks.\n",
    "\n",
    "All the templates shipped in nbconvert have the basic structure described here,\n",
    "though some may define additional blocks."
   ]
  },
  {
   "cell_type": "code",
   "execution_count": null,
   "metadata": {},
   "outputs": [],
   "source": [
    "from IPython.display import HTML\n",
    "with open('template_structure.html') as f:\n",
    "    display(HTML(f.read()))"
   ]
  },
  {
   "cell_type": "markdown",
   "metadata": {},
   "source": [
    "See also [template_structure.html](template_structure.html)."
   ]
  },
  {
   "cell_type": "markdown",
   "metadata": {},
   "source": [
    "### A few gotchas\n",
    "\n",
    "Jinja uses `%`, `{`, and `}` for syntax by default which does not play nicely with LaTeX. In LaTeX, we have the following replacements:\n",
    "\n",
    "| Syntax   | Default | LaTeX   |\n",
    "|----------|---------|---------|\n",
    "| block    | {% %}   | ((* *)) |\n",
    "| variable | {{ }}   | ((( ))) |\n",
    "| comment  | {# #}   | ((= =)) |"
   ]
  },
  {
   "cell_type": "markdown",
   "metadata": {
    "tags": [
     "Hard"
    ]
   },
   "source": [
    "## Templates using cell tags\n",
    "\n",
    "The notebook file format supports attaching arbitrary JSON metadata to each cell. In addition, every cell has a special `tags` metadata field that accepts a list of strings that indicate the cell's tags. To apply these, go to the `View → CellToolbar → Tags` option which will create a Tag editor at the top of every cell. \n",
    "\n",
    "First choose a notebook you want to convert to html, and apply the tags: `\"Easy\"`, `\"Medium\"`, or \n",
    "`\"Hard\"`.  \n",
    "\n",
    "With this in place, the notebook can be converted using a custom template.\n",
    "\n",
    "Design your template in the cells provided below.\n",
    "\n",
    "Hint: tags are located at `cell.metadata.tags`, the following Python code collects the value of the tag: \n",
    "\n",
    "```python\n",
    "cell['metadata'].get('tags', [])\n",
    "```\n",
    "\n",
    "Which you can then use inside a Jinja template as in the following:"
   ]
  },
  {
   "cell_type": "code",
   "execution_count": null,
   "metadata": {},
   "outputs": [],
   "source": [
    "%%writefile mytemplate.html.j2\n",
    "\n",
    "{% extends 'lab/index.html.j2'%}\n",
    "{% block any_cell %}\n",
    "{% if 'Hard' in cell['metadata'].get('tags', []) %}\n",
    "    <div style=\"border:thin solid red\">\n",
    "        {{ super() }}\n",
    "    </div>\n",
    "{% elif 'Medium' in cell['metadata'].get('tags', []) %}\n",
    "    <div style=\"border:thin solid orange\">\n",
    "        {{ super() }}\n",
    "    </div>\n",
    "{% elif 'Easy' in cell['metadata'].get('tags', []) %}\n",
    "    <div style=\"border:thin solid green\">\n",
    "        {{ super() }}\n",
    "    </div>\n",
    "{% else %}\n",
    "    {{ super() }}\n",
    "{% endif %}\n",
    "{% endblock any_cell %}"
   ]
  },
  {
   "cell_type": "markdown",
   "metadata": {},
   "source": [
    "Now, if we collect the result of using nbconvert with this template, and display the resulting html, we see the following:"
   ]
  },
  {
   "cell_type": "code",
   "execution_count": null,
   "metadata": {},
   "outputs": [],
   "source": [
    "example = !jupyter nbconvert --to html 'example.ipynb' --template-file=mytemplate.html.j2 --stdout\n",
    "example = example[3:] # have to remove the first three lines which are not proper html\n",
    "from IPython.display import HTML\n",
    "display(HTML('\\n'.join(example))) "
   ]
  },
  {
   "cell_type": "markdown",
   "metadata": {},
   "source": [
    "## Templates using custom cell metadata \n",
    "\n",
    "We demonstrated [above](#Templates-using-cell-tags) how to use cell tags in a template to apply custom styling to a notebook. But remember, the notebook file format supports attaching _arbitrary_ JSON metadata to each cell, not only cell tags. \n",
    "Here, we describe an exercise for using an `example.difficulty` metadata field (rather than cell tags) to do the same as before (to mark up different cells as being \"Easy\", \"Medium\" or \"Hard\").\n",
    "\n",
    "### How to edit cell metadata\n",
    "\n",
    "To edit the cell metadata from within the notebook, go to the menu item: `View → Cell Toolbar → Edit Metadata`. This will bring up a toolbar above each cell with a button that says \"Edit Metadata\". Click this button, and a field will pop up in which you will directly edit the cell metadata JSON. \n",
    "\n",
    "**NB**: Because it is JSON, you will need to ensure that what you write is valid JSON. \n",
    "\n",
    "### Template challenges: dealing with missing custom metadata fields\n",
    "\n",
    "One of the challenges of dealing with custom metadata is to handle the case where the metadata is not present on every cell. This can get somewhat tricky because of JSON objects tendency to be deeply nested coupled with Python's (and therefore Jinja's) approach to calling into dictionaries. Specifically, the following code will error:\n",
    "\n",
    "```python\n",
    "foo = {}\n",
    "foo[\"bar\"]\n",
    "```\n",
    "\n",
    "Accordingly, it is better to use the [{}.get()](https://docs.python.org/3.6/library/stdtypes.html#dict.get) method which allows you to set a default value to return if no key is found as the second argument. \n",
    "\n",
    "Hint: if your metadata items are located at `cell.metadata.example.difficulty`, the following Python code would get the value defaulting to an empty string (`''`) if nothing is found:\n",
    "\n",
    "```python\n",
    "cell['metadata'].get('example', {}).get('difficulty', '')\n",
    "```"
   ]
  },
  {
   "cell_type": "markdown",
   "metadata": {},
   "source": [
    "### Exercise: Write a template for handling custom metadata\n",
    "Now, write a template that will look for `Easy`, `Medium` and `Hard` metadata values for the `cell.metadata.example.difficulty` field and wrap them in a div with a green, orange, or red thin solid border (respectively). \n",
    "\n",
    "**NB**: This is the same design and logic as used in the previous cell tag example.\n",
    "\n",
    "#### How to get `example.ipynb`\n",
    "\n",
    "We have provided an example file in `example.ipynb` in the nbconvert documentation that has already been marked up with both tags and the above metadata for you to test with. You can get it from [this link to the raw file](example.ipynb) or by cloning the repository [from GitHub](https://github.com/jupyter/nbconvert) and navingating to `nbconvert/docs/source/example.ipynb`. \n",
    "\n",
    "#### Convert `example.ipynb` using cell tags \n",
    "\n",
    "First, make sure that you can reproduce the previous result using the cell tags template that we have provided above. \n",
    "\n",
    "**Easy**: If you want to make it easy on yourself, create a new file `my_template.html.j2` in the same directory as `example.ipynb` and copy the contents of the cell we use to write `mytemplate.html.j2` to the file system. \n",
    "\n",
    "Then run `jupyter nbconvert --to html 'example.ipynb' --template-file=mytemplate.html.j2` and see if your template file works. \n",
    "\n",
    "\n",
    "**Moderate**: If you want more of a challenge, try recreating the jinja template by modifying the following jinja template file:\n",
    "\n",
    "```python\n",
    "{% extends 'lab/base.html.j2'%}\n",
    "{% block any_cell %}\n",
    "    <div style=\"border:thin solid red\">\n",
    "        {{ super() }}\n",
    "    </div>\n",
    "{% endblock any_cell %}\n",
    "```\n",
    "\n",
    "**Moderate**: If you want custom config or a composition of files, you'll want to instead make a template directory. Create the directory `mytemplate` and add the following files to it:\n",
    "\n",
    "- `index.html.j2` -- copy the contents of the cell we use to write `mytemplate.html.j2` to the file system.\n",
    "- `conf.json` -- add the following contents to set the default configuration options\n",
    "```json\n",
    "{\n",
    "    \"base_template\": \"lab\",\n",
    "    \"mimetypes\": {\n",
    "        \"text/html\": true\n",
    "    }\n",
    "}\n",
    "```\n",
    "\n",
    "Then run `jupyter nbconvert --to html 'example.ipynb' --template=mytemplate` and see if your package works. This option allows for much more flexibility and combination of configuration and additional config files to support more advanced templates.\n",
    "\n",
    "\n",
    "**Hard**: If you want even more of a challenge, try recreating the jinja template from scratch. \n",
    "\n",
    "#### Write your template\n",
    "\n",
    "Once you've done at least the **Easy** version of the previous step, try modifying your template to use `cell.metadata.example.difficulty` fields rather than cell tags. \n",
    "\n",
    "#### Convert `example.ipynb` with formatting from custom metadata\n",
    "\n",
    "Once you've written your template, try converting `example.ipynb` using the following command (making sure that `your_template.html.j2` is in your local directory where you are running the command):\n",
    "\n",
    "```bash\n",
    "jupyter nbconvert --to html 'example.ipynb' --template=your_template.html.j2 --stdout\n",
    "```\n",
    "\n",
    "The resulting display should pick out different cells to be bordered with green, orange, or red.\n",
    "\n",
    "If you do that successfullly, the resulting html document should look like the following\n",
    "(see also [example-custom-metadata.html](example-custom-metadata.html)): "
   ]
  },
  {
   "cell_type": "code",
   "execution_count": null,
   "metadata": {},
   "outputs": [],
   "source": [
    "from IPython.display import IFrame\n",
    "\n",
    "IFrame('example-custom-metadata.html', width='100%', height=600)"
   ]
  }
 ],
 "metadata": {
  "kernelspec": {
   "display_name": "Python 3",
   "language": "python",
   "name": "python3"
  },
  "language_info": {
   "codemirror_mode": {
    "name": "ipython",
    "version": 3
   },
   "file_extension": ".py",
   "mimetype": "text/x-python",
   "name": "python",
   "nbconvert_exporter": "python",
   "pygments_lexer": "ipython3",
   "version": "3.8.5"
  }
 },
 "nbformat": 4,
 "nbformat_minor": 4
}
