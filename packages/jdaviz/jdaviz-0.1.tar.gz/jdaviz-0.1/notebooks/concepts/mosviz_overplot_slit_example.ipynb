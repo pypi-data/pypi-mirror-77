{
 "cells": [
  {
   "cell_type": "markdown",
   "metadata": {},
   "source": [
    "# Load jdaviz app in mosviz configuration"
   ]
  },
  {
   "cell_type": "code",
   "execution_count": null,
   "metadata": {
    "scrolled": false
   },
   "outputs": [],
   "source": [
    "from jdaviz.app import Application\n",
    "\n",
    "app = Application(configuration='mosviz')\n",
    "app"
   ]
  },
  {
   "cell_type": "code",
   "execution_count": null,
   "metadata": {},
   "outputs": [],
   "source": [
    "from astropy.utils.data import download_file\n",
    "\n",
    "# This file is originally from https://data.sdss.org/sas/dr14/manga/spectro/redux/v2_1_2/7495/stack/manga-7495-12704-LOGCUBE.fits.gz\n",
    "# but has been modified to correct some inconsistencies in the way units are parsed\n",
    "\n",
    "# Load cutout into the left image viewer\n",
    "cutout_image_file = \"/Users/javerbukh/Documents/data_for_mosviz/mosviz_nirspec_data_0.3/level3/mosviz_cutouts/227.fits\"\n",
    "app.load_data(cutout_image_file)"
   ]
  },
  {
   "cell_type": "markdown",
   "metadata": {},
   "source": [
    "### Set image viewer (top left) to visualize cutout 227.fits"
   ]
  },
  {
   "cell_type": "code",
   "execution_count": null,
   "metadata": {},
   "outputs": [],
   "source": [
    "fig_image = app.get_viewer(\"mos-image-viewer\").figure"
   ]
  },
  {
   "cell_type": "code",
   "execution_count": null,
   "metadata": {},
   "outputs": [],
   "source": [
    "import bqplot\n",
    "from regions import RectanglePixelRegion, PixCoord\n",
    "from ipywidgets import VBox\n",
    "import numpy as np\n",
    "from bqplot import *\n",
    "\n",
    "def region_to_vertices(region):\n",
    "    p = region.to_polygon()\n",
    "    return p.vertices.x, p.vertices.y"
   ]
  },
  {
   "cell_type": "markdown",
   "metadata": {},
   "source": [
    "# Extract slit data from files and visualize"
   ]
  },
  {
   "cell_type": "code",
   "execution_count": null,
   "metadata": {},
   "outputs": [],
   "source": [
    "# Load 2d spectrum data on the right image viewer\n",
    "spectrum_2d_file = \"/Users/javerbukh/Documents/data_for_mosviz/mosviz_nirspec_data_0.3/level3/f170lp-g235m_mos_observation-6-c0e0_s00227_cal.fits\"\n",
    "app.load_data(spectrum_2d_file)"
   ]
  },
  {
   "cell_type": "markdown",
   "metadata": {},
   "source": [
    "### Set 2D Spectrum viewer (top right) to visualize f170lp-g235m_mos_observation-6-c0e0_s00227_cal.fits"
   ]
  },
  {
   "cell_type": "code",
   "execution_count": null,
   "metadata": {},
   "outputs": [],
   "source": [
    "fig_2d = app.get_viewer(\"mos-2d-spectrum-viewer\").figure"
   ]
  },
  {
   "cell_type": "code",
   "execution_count": null,
   "metadata": {},
   "outputs": [],
   "source": [
    "from astropy.io import fits\n",
    "hdu = fits.open(spectrum_2d_file)\n",
    "header = hdu[1].header"
   ]
  },
  {
   "cell_type": "code",
   "execution_count": null,
   "metadata": {},
   "outputs": [],
   "source": [
    "# Code to create SkyRegions\n",
    "\n",
    "from regions import  RectangleSkyRegion,RectanglePixelRegion\n",
    "from astropy.coordinates import Angle, SkyCoord\n",
    "from astropy import units as u \n",
    "from astropy.wcs import WCS\n",
    "def jwst_header_to_skyregion(header):\n",
    "    s_region = header['S_REGION']\n",
    "    footprint = s_region.split(\"POLYGON ICRS\")[1].split()\n",
    "    ra = np.array(footprint[::2], dtype=np.float)\n",
    "    dec = np.array(footprint[1::2], dtype=np.float)\n",
    "        \n",
    "    # Find center of slit\n",
    "    cra = (max(ra) + min(ra))/2 \n",
    "    cdec = (max(dec) + min(dec))/2\n",
    "    \n",
    "    # Find center as skycoord\n",
    "    skycoord = SkyCoord(cra, cdec,\n",
    "                        unit=(u.Unit(u.deg),\n",
    "                              u.Unit(u.deg)))\n",
    "    \n",
    "    # Puts corners of slit into skycoord object\n",
    "    corners = SkyCoord(ra, dec, unit=\"deg\")\n",
    "    \n",
    "    # Compute length and width\n",
    "    length = corners[0].separation(corners[1])\n",
    "    width = corners[1].separation(corners[2])\n",
    "    length = Angle(length, u.deg)\n",
    "    width = Angle(width, u.deg)\n",
    "    \n",
    "    skyregion = RectangleSkyRegion(center=skycoord, width=width, height=length)\n",
    "    return skyregion"
   ]
  },
  {
   "cell_type": "code",
   "execution_count": null,
   "metadata": {},
   "outputs": [],
   "source": [
    "# Set WCS\n",
    "\n",
    "sky_region = jwst_header_to_skyregion(header)\n",
    "header_copy = header.copy()\n",
    "header_copy['WCSAXES'] = 2\n",
    "for key in header:\n",
    "    if '3' in key:\n",
    "        header_copy.remove(key)\n",
    "wcs_2d = WCS(header_copy)\n"
   ]
  },
  {
   "cell_type": "code",
   "execution_count": null,
   "metadata": {},
   "outputs": [],
   "source": [
    "# Use wcs of image viewer to scale slit dimensions correctly\n",
    "image_hdu = fits.open(cutout_image_file)\n",
    "wcs_image = WCS(image_hdu[0].header)\n",
    "\n",
    "pixel_region = sky_region.to_pixel(wcs_image)\n"
   ]
  },
  {
   "cell_type": "code",
   "execution_count": null,
   "metadata": {},
   "outputs": [],
   "source": [
    "# Create polygon region from the pixel region and set vertices\n",
    "pix_rec = pixel_region.to_polygon()\n",
    "\n",
    "x_coords = pix_rec.vertices.x\n",
    "y_coords = pix_rec.vertices.y\n",
    "\n",
    "# Create LinearScale that is the same size as the image viewer\n",
    "scales={'x': fig_image.interaction.x_scale, 'y':fig_image.interaction.y_scale}\n",
    "\n",
    "# Create slit\n",
    "patch2 = bqplot.Lines(x=x_coords, y=y_coords, scales=scales, fill='none', colors = [\"red\"], stroke_width=2, close_path=True)\n",
    "\n",
    "# Visualize slit on the figure\n",
    "fig_image.marks = fig_image.marks + [patch2]\n",
    "fig_image"
   ]
  },
  {
   "cell_type": "code",
   "execution_count": null,
   "metadata": {},
   "outputs": [],
   "source": []
  }
 ],
 "metadata": {
  "kernelspec": {
   "display_name": "Python 3",
   "language": "python",
   "name": "python3"
  },
  "language_info": {
   "codemirror_mode": {
    "name": "ipython",
    "version": 3
   },
   "file_extension": ".py",
   "mimetype": "text/x-python",
   "name": "python",
   "nbconvert_exporter": "python",
   "pygments_lexer": "ipython3",
   "version": "3.7.0"
  }
 },
 "nbformat": 4,
 "nbformat_minor": 2
}
