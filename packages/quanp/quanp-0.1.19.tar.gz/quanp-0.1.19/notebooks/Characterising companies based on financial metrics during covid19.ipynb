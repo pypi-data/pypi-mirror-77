{
 "cells": [
  {
   "cell_type": "markdown",
   "metadata": {},
   "source": [
    "# 1. Characterising companies based on financial metrics during covid19 \n",
    "\n",
    "## Instructions\n",
    "In 2020 August, the author started out as a demonstration to adopt the Single-Cell Genomic (SCG) analyses in the business and finance world. The SCG has a high number of features (Up to 56k genes/features) and also frequently known to have low signal with high background. Here, the author demonstrated the correlation of price performance with the common company financial metrics during covid19 period.\n",
    "\n",
    "## Packages\n",
    "You'll need to you install the quanp package (https://quanp.readthedocs.io/en/latest/installation.html) that should install all necessary packages/libraries required to execute the codes in this tutorial. Please create and use virtualenv with python version 3.6 to avoid dependency problem.\n",
    "\n",
    "### Install Packages"
   ]
  },
  {
   "cell_type": "code",
   "execution_count": 3,
   "metadata": {},
   "outputs": [],
   "source": [
    "import sys\n",
    "!conda install seaborn scikit-learn statsmodels numba pytables\n",
    "!conda install -c conda-forge python-igraph leidenalg\n",
    "!{sys.executable} -m pip install quanp"
   ]
  },
  {
   "cell_type": "markdown",
   "metadata": {},
   "source": [
    "### Import Packages"
   ]
  },
  {
   "cell_type": "code",
   "execution_count": 1,
   "metadata": {},
   "outputs": [],
   "source": [
    "import numpy as np\n",
    "import pandas as pd\n",
    "import matplotlib.pyplot as pl\n",
    "import quanp as qp\n",
    "\n",
    "from IPython.display import display\n",
    "from matplotlib import rcParams\n",
    "\n",
    "# setting visualization/logging parameters\n",
    "pd.set_option('display.max_columns', None)\n",
    "qp.set_figure_params(dpi=100, color_map = 'viridis_r')\n",
    "qp.settings.verbosity = 1\n",
    "qp.logging.print_versions()"
   ]
  },
  {
   "cell_type": "markdown",
   "metadata": {},
   "source": [
    "### Download data"
   ]
  },
  {
   "cell_type": "code",
   "execution_count": null,
   "metadata": {},
   "outputs": [
    {
     "name": "stderr",
     "output_type": "stream",
     "text": [
      "\r",
      "Downloading fundamentals...:   0%|          | 0/505 [00:00<?, ?ticker/s]"
     ]
    },
    {
     "name": "stdout",
     "output_type": "stream",
     "text": [
      "The metadata file has been initialized and saved as sp500_metadata.csv\n",
      "Total tickers to download: 505\n"
     ]
    },
    {
     "name": "stderr",
     "output_type": "stream",
     "text": [
      "Downloading fundamentals...:  15%|█▌        | 77/505 [02:05<11:14,  1.58s/ticker]"
     ]
    }
   ],
   "source": [
    "# S&P 500 metadata\n",
    "df_metadata = qp.datasets.get_wiki_sp500_metadata()\n",
    "\n",
    "# S&P 500 fundamentals\n",
    "df_fundamental = qp.datasets.download_tickers_fundamental()"
   ]
  },
  {
   "cell_type": "markdown",
   "metadata": {},
   "source": [
    "### Loading data"
   ]
  },
  {
   "cell_type": "code",
   "execution_count": null,
   "metadata": {},
   "outputs": [],
   "source": [
    "# Optional: The data retried in cell above were saved as csv file You may activated this cell to avoid \n",
    "# rerunning the downloading cell above.\n",
    "df_fundamental = pd.read_csv('data/metadata/sp500_metadata_fundamentalAdded.csv', index_col=0)\n",
    "print(df_fundamental.columns)"
   ]
  },
  {
   "cell_type": "code",
   "execution_count": null,
   "metadata": {},
   "outputs": [],
   "source": [
    "ls_fundamental_target = ['beta','bookValuePerShare','currentRatio', 'dividendYield','epsChangePercentTTM','epsChangeYear',\n",
    " 'epsTTM', 'grossMarginMRQ', 'grossMarginTTM', 'interestCoverage', \n",
    " 'ltDebtToEquity', 'marketCap', 'marketCapFloat', 'netProfitMarginMRQ', 'netProfitMarginTTM', \n",
    " 'operatingMarginMRQ', 'operatingMarginTTM', 'pbRatio', 'pcfRatio',\n",
    "    'peRatio', 'pegRatio', 'prRatio', 'quickRatio', 'returnOnAssets',\n",
    "    'returnOnEquity', 'returnOnInvestment', 'revChangeIn', 'revChangeTTM',\n",
    "    'revChangeYear', 'sharesOutstanding', 'shortIntDayToCover',\n",
    "    'shortIntToFloat', 'totalDebtToCapital', 'totalDebtToEquity',\n",
    "    'vol10DayAvg', 'vol1DayAvg', 'vol3MonthAvg']"
   ]
  },
  {
   "cell_type": "code",
   "execution_count": null,
   "metadata": {},
   "outputs": [],
   "source": [
    "# Loading pandas dataframe as anndata \n",
    "adata = qp.AnnData(df_fundamental[ls_fundamental_target])\n",
    "\n",
    "# log(x+1) transformation for all data\n",
    "qp.pp.log1p(adata)\n",
    "\n",
    "# Standardization scaling per feature\n",
    "qp.pp.scale(adata)"
   ]
  },
  {
   "cell_type": "code",
   "execution_count": null,
   "metadata": {},
   "outputs": [],
   "source": [
    "# add a new `.obs` column for all comapnanies called `GICS_Sector`\n",
    "adata.obs['GICS_Sector'] = df_fundamental['GICS Sector']\n",
    "adata"
   ]
  },
  {
   "cell_type": "markdown",
   "metadata": {},
   "source": [
    "### Principal component analysis (PCA)\n",
    "Reduce the dimensionality of the data by running PCA, which reveals the main axes of variation and denoises the data."
   ]
  },
  {
   "cell_type": "code",
   "execution_count": null,
   "metadata": {},
   "outputs": [],
   "source": [
    "qp.tl.pca(adata, svd_solver='auto')"
   ]
  },
  {
   "cell_type": "markdown",
   "metadata": {},
   "source": [
    "We can make a scatter plot using the first 2 principle components' (PCs') coordinates and try to see if these 2 PCs can separate the GICS_Sector well"
   ]
  },
  {
   "cell_type": "code",
   "execution_count": null,
   "metadata": {},
   "outputs": [],
   "source": [
    "qp.pl.pca(adata, color=['GICS_Sector'], size=50);"
   ]
  },
  {
   "cell_type": "markdown",
   "metadata": {},
   "source": [
    "For instance, it seems that the Information Technology, Financial, and Energy can be separated from low to high PC1."
   ]
  },
  {
   "cell_type": "code",
   "execution_count": null,
   "metadata": {},
   "outputs": [],
   "source": [
    "qp.pl.pca(adata, color=['GICS_Sector'], size=50, groups=['Financials', 'Energy', 'Information Technology']);"
   ]
  },
  {
   "cell_type": "markdown",
   "metadata": {},
   "source": [
    "Let us inspect the contribution of single PCs to the total variance in the data. This gives us information about how many PCs we should consider in order to compute the neighborhood relations of cells, e.g. used in the clustering function ```qp.tl.leiden()```, ```qp.tl.louvain()```, or ```tSNE qp.tl.tsne()```. In our experience, often, a rough estimate of the number of PCs does fine. The 'elbow' point seems to suggest at least up to PC8 will be useful to characterize the companies. We are going to do further dimensional reduction based on the first 8 PCs later. We will be looking at "
   ]
  },
  {
   "cell_type": "code",
   "execution_count": null,
   "metadata": {},
   "outputs": [],
   "source": [
    "qp.pl.pca_variance_ratio(adata, n_pcs=len(adata.var_names))"
   ]
  },
  {
   "cell_type": "code",
   "execution_count": null,
   "metadata": {},
   "outputs": [],
   "source": [
    "# Optional: save the anndata in h5ad for fast loading later\n",
    "adata.write('sp500_metadata_fundamental.h5ad')\n",
    "adata"
   ]
  },
  {
   "cell_type": "markdown",
   "metadata": {},
   "source": [
    "### Computing the T-distributed Stochastic Neighbor Embedding (tSNE)\n",
    "\n",
    "Let us further reduce the dimensionality of the signficant PCs identified above wholly in to 2 dimensions using the tSNE tool implemented as ```qp.tl.tsne(adata)```."
   ]
  },
  {
   "cell_type": "code",
   "execution_count": null,
   "metadata": {},
   "outputs": [],
   "source": [
    "qp.tl.tsne(adata, n_pcs=8) # only consider the first 8 pcs"
   ]
  },
  {
   "cell_type": "markdown",
   "metadata": {},
   "source": [
    "### Computing the neighborhood graph\n",
    "\n",
    "Before we view the tsne plots with Sector annotations, Let us compute the neighborhood graph of companies using the PCA representation of the data matrix. This will give rise to distances and connectivities in each company. Here, we consider 10 nearest neighbors with 8 PCs derived from the PCA"
   ]
  },
  {
   "cell_type": "code",
   "execution_count": null,
   "metadata": {},
   "outputs": [],
   "source": [
    "qp.pp.neighbors(adata, n_neighbors=10, n_pcs=8);"
   ]
  },
  {
   "cell_type": "markdown",
   "metadata": {},
   "source": [
    "### Clustering the neighborhood graph\n",
    "\n",
    "Here, we use Leiden graph-clustering method (community detection based on optimizing modularity) by Traag *et al.* (2018) to cluster the neighborhood graph of companies, which we already computed in the previous section."
   ]
  },
  {
   "cell_type": "code",
   "execution_count": null,
   "metadata": {},
   "outputs": [],
   "source": [
    "qp.tl.leiden(adata)"
   ]
  },
  {
   "cell_type": "markdown",
   "metadata": {},
   "source": [
    "We can now map and view the annotations of leiden clustering, GICS_Sector, or any financial metrics/features on the tsne plots. We see that Leiden Cluster 3 seems to correspond well Financials sector, and it is featured by low currentRatio."
   ]
  },
  {
   "cell_type": "code",
   "execution_count": null,
   "metadata": {
    "scrolled": false
   },
   "outputs": [],
   "source": [
    "rcParams['figure.figsize'] = 8,8\n",
    "qp.pl.tsne(adata, color=['leiden', 'GICS_Sector', 'currentRatio'], legend_loc='on data')"
   ]
  },
  {
   "cell_type": "markdown",
   "metadata": {},
   "source": [
    "### Embedding the neighborhood graph\n",
    "\n",
    "We can also embed the graph in 2 dimensions using UMAP (McInnes et al., 2018), see below. It is potentially more faithful to the global connectivity of the manifold than tSNE. Before running the UMAP, we compute the correlations between clusters as initiating positions for the UMAP."
   ]
  },
  {
   "cell_type": "code",
   "execution_count": null,
   "metadata": {},
   "outputs": [],
   "source": [
    "qp.tl.paga(adata)\n",
    "qp.pl.paga(adata, plot=True)"
   ]
  },
  {
   "cell_type": "code",
   "execution_count": null,
   "metadata": {},
   "outputs": [],
   "source": [
    "qp.tl.umap(adata, init_pos='paga')\n"
   ]
  },
  {
   "cell_type": "markdown",
   "metadata": {},
   "source": [
    "We can now map and view the annotations of leiden clustering, GICS_Sector, or any financial metrics/features on the umap plots. We see that Leiden Cluster 3 seems to correspond well Financials sector, and it is featured by low currentRatio."
   ]
  },
  {
   "cell_type": "code",
   "execution_count": null,
   "metadata": {
    "scrolled": false
   },
   "outputs": [],
   "source": [
    "rcParams['figure.figsize'] = 8,8\n",
    "\n",
    "qp.pl.umap(adata, color=['leiden', 'GICS_Sector'] + list(adata.var_names), legend_loc='on data', frameon=False, ncols=3)"
   ]
  },
  {
   "cell_type": "markdown",
   "metadata": {},
   "source": [
    "We run `qp.tl.dendrogram` to compute hierachical clustering. Multiple visualizations that can\n",
    "then include a dendrogram: `qp.pl.matrixplot`, `qp.pl.heatmap`, `qp.pl.dotplot` and `qp.pl.stacked_violin`. "
   ]
  },
  {
   "cell_type": "code",
   "execution_count": null,
   "metadata": {},
   "outputs": [],
   "source": [
    "qp.tl.dendrogram(adata, 'leiden', var_names=adata.var_names)"
   ]
  },
  {
   "cell_type": "code",
   "execution_count": null,
   "metadata": {},
   "outputs": [],
   "source": [
    "qp.pl.heatmap(adata, adata.var_names, 'leiden', dendrogram=True)"
   ]
  },
  {
   "cell_type": "code",
   "execution_count": null,
   "metadata": {},
   "outputs": [],
   "source": [
    "qp.pl.matrixplot(adata, adata.var_names, 'leiden', dendrogram=True, cmap='RdBu_r')"
   ]
  },
  {
   "cell_type": "code",
   "execution_count": null,
   "metadata": {},
   "outputs": [],
   "source": [
    "qp.pl.stacked_violin(adata, adata.var_names, 'leiden', dendrogram=True, cmap='RdBu_r')"
   ]
  },
  {
   "cell_type": "code",
   "execution_count": null,
   "metadata": {},
   "outputs": [],
   "source": [
    "qp.pl.tracksplot(adata, adata.var_names, 'leiden', dendrogram=True)"
   ]
  },
  {
   "cell_type": "markdown",
   "metadata": {},
   "source": [
    "## Visualizing the important features defining each cluster\n",
    "Instead of looking at all features of clusters as previously, we can identify features/metrics that are differentially characterizing each cluster. Here, we can see the  Cluster 3 (Mostly consisted of Financials Sector) are correlated significantly higher dividendYield, operatingMarginTTM, netProfitMarginTTM, epsTTM, and netProfitMarginMRQ. "
   ]
  },
  {
   "cell_type": "code",
   "execution_count": null,
   "metadata": {},
   "outputs": [],
   "source": [
    "qp.tl.rank_features_groups(adata, 'leiden', method='wilcoxon')\n",
    "qp.pl.rank_features_groups(adata, n_features=40, sharey=False)"
   ]
  },
  {
   "cell_type": "markdown",
   "metadata": {},
   "source": [
    "### Visualizing the top 5 positively enriched features using matrixplot"
   ]
  },
  {
   "cell_type": "code",
   "execution_count": null,
   "metadata": {},
   "outputs": [],
   "source": [
    "qp.pl.rank_features_groups_matrixplot(adata, n_features=5, use_raw=False, vmin=-3, vmax=3, cmap='bwr')"
   ]
  },
  {
   "cell_type": "code",
   "execution_count": null,
   "metadata": {},
   "outputs": [],
   "source": [
    "qp.pl.rank_features_groups_heatmap(adata, n_features=5, use_raw=False, vmin=-3, vmax=3, cmap='bwr')"
   ]
  },
  {
   "cell_type": "markdown",
   "metadata": {},
   "source": [
    "Lastly, we can cross-tabulate the Leiden and GICS_Sector to check correlation between Sector and Leiden definitions."
   ]
  },
  {
   "cell_type": "code",
   "execution_count": null,
   "metadata": {},
   "outputs": [],
   "source": [
    "df_crosstab_sectorVSleiden = pd.merge(pd.DataFrame(adata.obs['leiden']), pd.DataFrame(adata.obs['GICS_Sector']), \n",
    "                                      how='inner', left_index=True, right_index=True)\n",
    "pd.crosstab(df_crosstab_sectorVSleiden['leiden'], df_crosstab_sectorVSleiden['GICS_Sector'])"
   ]
  }
 ],
 "metadata": {
  "kernelspec": {
   "display_name": "quanp_py36",
   "language": "python",
   "name": "quanp_py36"
  },
  "language_info": {
   "codemirror_mode": {
    "name": "ipython",
    "version": 3
   },
   "file_extension": ".py",
   "mimetype": "text/x-python",
   "name": "python",
   "nbconvert_exporter": "python",
   "pygments_lexer": "ipython3",
   "version": "3.6.10"
  }
 },
 "nbformat": 4,
 "nbformat_minor": 2
}
