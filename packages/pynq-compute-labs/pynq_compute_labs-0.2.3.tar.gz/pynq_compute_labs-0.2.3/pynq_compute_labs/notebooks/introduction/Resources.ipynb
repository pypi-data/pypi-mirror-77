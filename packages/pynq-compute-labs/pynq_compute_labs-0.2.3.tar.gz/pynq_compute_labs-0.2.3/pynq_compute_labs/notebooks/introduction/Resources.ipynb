{
 "cells": [
  {
   "cell_type": "markdown",
   "metadata": {},
   "source": [
    "# Additional Resources\n",
    "\n",
    "PYNQ for Datacenter is still new so there aren't too many dedicated resources. The main one is our Alveo examples repository which also supports AWS F1.\n",
    "\n",
    "## PYNQ Alveo Examples\n",
    "\n",
    "The _pynq-alveo-examples_ package contains introductory material for pynq and expands on the concepts explained in this labs. It can be installed directly from PyPI. The overlays used in these labs are also taken from the Alveo examples so details on rebuilding them can be found in the package's [GitHub repository](https://github.com/Xilinx/Alveo-PYNQ)."
   ]
  },
  {
   "cell_type": "code",
   "execution_count": null,
   "metadata": {
    "scrolled": true
   },
   "outputs": [],
   "source": [
    "!pip install pynq-alveo-examples"
   ]
  },
  {
   "cell_type": "markdown",
   "metadata": {},
   "source": [
    "The notebooks are unpacked using `pynq get-notebooks` in the same was as for this lab. We're specifying the package to unpack to avoid copying the lab notebooks a second time."
   ]
  },
  {
   "cell_type": "code",
   "execution_count": null,
   "metadata": {},
   "outputs": [],
   "source": [
    "!pynq get-notebooks --from-package pynq_alveo_examples -p $PWD/examples all"
   ]
  },
  {
   "cell_type": "markdown",
   "metadata": {},
   "source": [
    "## PYNQ Community\n",
    "\n",
    "Other designs such as a five-point algorithm accelerator are listed on our [community page](http://www.pynq.io/community.html).\n",
    "\n",
    "We are always on the look-out for new projects to help promote so feel to post your designs on our forum listed below.\n",
    "\n",
    "## General PYNQ resources\n",
    "\n",
    "PYNQ for Datacenter is still new but there is a well-established community surrounding PYNQ on other platforms centered around our [forum](http://discuss.pynq.io).\n",
    "\n",
    "The documentation for all things PYNQ is on [ReadTheDocs](https://pynq.readthedocs.io).\n",
    "\n",
    "PYNQ is an open-source project and all of the code for the PYNQ library can be found on our [GitHub repository](https://github.com/Xilinx/PYNQ).\n",
    "\n",
    "Copyright (C) 2020 Xilinx, Inc"
   ]
  }
 ],
 "metadata": {
  "kernelspec": {
   "display_name": "Python 3",
   "language": "python",
   "name": "python3"
  },
  "language_info": {
   "codemirror_mode": {
    "name": "ipython",
    "version": 3
   },
   "file_extension": ".py",
   "mimetype": "text/x-python",
   "name": "python",
   "nbconvert_exporter": "python",
   "pygments_lexer": "ipython3",
   "version": "3.7.6"
  }
 },
 "nbformat": 4,
 "nbformat_minor": 4
}
