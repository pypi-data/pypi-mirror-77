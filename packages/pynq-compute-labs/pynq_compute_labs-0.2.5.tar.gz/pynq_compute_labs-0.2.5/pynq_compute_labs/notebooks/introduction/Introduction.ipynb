{
 "cells": [
  {
   "cell_type": "markdown",
   "metadata": {},
   "source": [
    "# Welcome to PYNQ for Datacenter\n",
    "\n",
    "PYNQ is a Python library which offers access to many of the features of an accelerator card and the design loaded on to it through a high-level programming language. If you're new to Jupyter you can check the [JupyterLab introduction](Jupyter.ipynb) to get a better feel for the environment before starting the main lab.\n",
    "\n",
    "This lab is split into 3 notebooks\n",
    " \n",
    "  1. [Introduction to PYNQ](FCCM-Lab/1-vadd.ipynb) : First we introduce the core PYNQ APIs using an example design that consists of the vector addition hardware kernel (vadd) used in the earlier lab sessions.\n",
    "  2. [Host code optimization](FCCM-Lab/2-optimization.ipynb) : Next we look at some host code optimization techniques and how they can be used in PYNQ.\n",
    "  3. [Data compression example](FCCM-Lab/3-compression.ipynb) : Finally we apply these techniques to a \"real-world\" application of data compression\n",
    "  \n",
    "There is an additional [resources ](Resources.ipynb) notebook where you can find links to more examples and designs to try out.\n",
    "\n",
    "## Common Problems\n",
    "\n",
    "### Device Busy when Programming Bitstream\n",
    "\n",
    "You may see this error if you try to access the accelerator when it is already in use by another application. Make sure that you've closed any other applications that are using a different bitstreams - that includes other notebooks. To shutdown running notebooks you can use the _Running Terminals and Kernels_ tab on the left of the JupyterLab interface. We recommend shutting down kernels from notebooks you are finished to make sure the card is fully freed."
   ]
  }
 ],
 "metadata": {
  "kernelspec": {
   "display_name": "Python 3",
   "language": "python",
   "name": "python3"
  },
  "language_info": {
   "codemirror_mode": {
    "name": "ipython",
    "version": 3
   },
   "file_extension": ".py",
   "mimetype": "text/x-python",
   "name": "python",
   "nbconvert_exporter": "python",
   "pygments_lexer": "ipython3",
   "version": "3.7.6"
  }
 },
 "nbformat": 4,
 "nbformat_minor": 4
}
