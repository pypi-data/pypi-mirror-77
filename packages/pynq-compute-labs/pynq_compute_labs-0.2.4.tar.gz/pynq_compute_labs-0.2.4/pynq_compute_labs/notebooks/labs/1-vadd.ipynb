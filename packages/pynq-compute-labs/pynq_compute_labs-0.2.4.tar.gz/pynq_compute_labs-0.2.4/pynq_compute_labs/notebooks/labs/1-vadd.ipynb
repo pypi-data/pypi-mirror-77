{
 "cells": [
  {
   "cell_type": "markdown",
   "metadata": {},
   "source": [
    "# First Steps with PYNQ\n",
    "\n",
    "Import PYNQ as you would do with any other Python package by executing the next Python code cell:"
   ]
  },
  {
   "cell_type": "code",
   "execution_count": null,
   "metadata": {},
   "outputs": [],
   "source": [
    "import pynq"
   ]
  },
  {
   "cell_type": "markdown",
   "metadata": {},
   "source": [
    "## Downloading and inspecting a design\n",
    "\n",
    "The PYNQ `Overlay` class represents a bitstream loaded on to the FPGA device of the accelerator card. When you create an Overlay instance the specified xclbin file will be automatically loaded onto the FPGA."
   ]
  },
  {
   "cell_type": "code",
   "execution_count": null,
   "metadata": {},
   "outputs": [],
   "source": [
    "ol = pynq.Overlay('intro.xclbin')"
   ]
  },
  {
   "cell_type": "markdown",
   "metadata": {},
   "source": [
    "The Overlay class provides information about the design. One advantage of a high-level language is that we can inspect the object directly to see what our design contains. We can do this by using built-in help system in Jupyter:"
   ]
  },
  {
   "cell_type": "code",
   "execution_count": null,
   "metadata": {
    "scrolled": true
   },
   "outputs": [],
   "source": [
    "ol?"
   ]
  },
  {
   "cell_type": "markdown",
   "metadata": {},
   "source": [
    "We can query the Overlay's `ip_dict` to get details of the hardware kernels in the design:"
   ]
  },
  {
   "cell_type": "code",
   "execution_count": null,
   "metadata": {},
   "outputs": [],
   "source": [
    "ol.ip_dict"
   ]
  },
  {
   "cell_type": "markdown",
   "metadata": {},
   "source": [
    "In the output above, you can expand vadd_1 and vmult_1 to see their attributes, or search for an attribute in the *Filter* search box. Try expanding vadd_1, and then try filtering for **addr**"
   ]
  },
  {
   "cell_type": "markdown",
   "metadata": {},
   "source": [
    "Another way to inspect the design is by using tab-completion. In the next cell, try placing the cursor after the `ol.` and pressing the tab key to see a list of attributes for the object which includes the hardware kernels and memory banks. (You **should not** execute this cell before editing, it is used for illustrating the tab-completion.)"
   ]
  },
  {
   "cell_type": "code",
   "execution_count": null,
   "metadata": {},
   "outputs": [],
   "source": [
    "ol."
   ]
  },
  {
   "cell_type": "markdown",
   "metadata": {},
   "source": [
    "## Managing Memory\n",
    "\n",
    "Before exploring the hardware kernels, we need some buffers on the card for them to use. In PYNQ all buffer management is performed by the `pynq.allocate` function. If you have used [NumPy](https://numpy.org/) in the past, then the API should be familiar. `allocate` takes two parameters: the shape of the array and the [data type to use](https://docs.scipy.org/doc/numpy/user/basics.types.html). NumPy represents basic types as a two-character string with the first character being the type and the second the length in bytes. For example, here are some common types:\n",
    "\n",
    "|NumPy type | Type |\n",
    "|---:|---|\n",
    "| `\"u4\"` | 32-bit unsigned integer |\n",
    "| `\"i8\"` | 64-bit signed integer   |\n",
    "| `\"f4\" `| single precision floating point   |\n",
    "\n",
    "For our vector addition kernel lets allocate three buffers of 1024x1024 unsigned integers:"
   ]
  },
  {
   "cell_type": "code",
   "execution_count": null,
   "metadata": {},
   "outputs": [],
   "source": [
    "in_a = pynq.allocate((1024,1024), 'u4')\n",
    "in_b = pynq.allocate((1024,1024), 'u4')\n",
    "out_c = pynq.allocate((1024,1024), 'u4')"
   ]
  },
  {
   "cell_type": "markdown",
   "metadata": {},
   "source": [
    "As buffers in PYNQ are NumPy arrays we can use standard NumPy operations to assign values to our input array. To keep things simple, we'll set our two input buffers to constant values. When copying data into the buffers we must use some form of indexing operation to make sure we copy into the contents of the buffer and not change the buffer object itself. For example, executing `in_a = 100` would result in our variable `in_a` being reassigned to the integer 100 which is not what we want."
   ]
  },
  {
   "cell_type": "code",
   "execution_count": null,
   "metadata": {},
   "outputs": [],
   "source": [
    "in_a[:] = 100\n",
    "in_b[:] = 200"
   ]
  },
  {
   "cell_type": "markdown",
   "metadata": {},
   "source": [
    "A PYNQ buffer is actually two buffers that are mirrors of each other - one in the host's memory, and one on the target FPGA device, or the memory attached to this device. So far we have only updated the host version of the buffer so any hardware kernsl on the device will not see the updated values. To update the device's version of the buffer we use the `.sync_to_device` function to replicate the changes."
   ]
  },
  {
   "cell_type": "code",
   "execution_count": null,
   "metadata": {},
   "outputs": [],
   "source": [
    "in_a.sync_to_device()\n",
    "in_b.sync_to_device()"
   ]
  },
  {
   "cell_type": "markdown",
   "metadata": {},
   "source": [
    "## Accelerator Objects\n",
    "\n",
    "To interact with the hardware kernel we use the corresponding attribute of the Overlay class. For this example we're going to be looking at the `vadd_1` kernel which has been discussed in depth in the rest of the workshop."
   ]
  },
  {
   "cell_type": "code",
   "execution_count": null,
   "metadata": {},
   "outputs": [],
   "source": [
    "vadd = ol.vadd_1"
   ]
  },
  {
   "cell_type": "markdown",
   "metadata": {},
   "source": [
    "The object representing the kernel has three main APIs\n",
    "\n",
    " * `.call` to call (execute) the hardware kernel\n",
    " * `.signature` to get the Python function signature of the kernel - this will match how the kernel was originally written\n",
    " * `.args` to get a dictionary describing the arguments in more details - for example which memory bank the argument is attached to\n",
    "\n",
    "Starting with `.signature` we can check that in this case, the vector add function takes 4 arguments - 2 input arrays, an output array and the number of elements in the array:\n"
   ]
  },
  {
   "cell_type": "code",
   "execution_count": null,
   "metadata": {},
   "outputs": [],
   "source": [
    "vadd.signature"
   ]
  },
  {
   "cell_type": "markdown",
   "metadata": {},
   "source": [
    "For more details we can refer to `.args` which, among other things, will also tell us what memory banks the arguments should be placed in. For this example only the default `bank0` is used."
   ]
  },
  {
   "cell_type": "code",
   "execution_count": null,
   "metadata": {},
   "outputs": [],
   "source": [
    "vadd.args"
   ]
  },
  {
   "cell_type": "markdown",
   "metadata": {},
   "source": [
    "Finally we can call the hardware kernel using the buffers we allocated previously. The `.call` function will block until the computation is complete."
   ]
  },
  {
   "cell_type": "code",
   "execution_count": null,
   "metadata": {},
   "outputs": [],
   "source": [
    "vadd.call(in_a, in_b, out_c, 1024*1024)"
   ]
  },
  {
   "cell_type": "markdown",
   "metadata": {},
   "source": [
    "Even though the computation has finished the result is still in the device buffer. To actually see the result in the notebook we need to bring the result back into host memory using `.sync_from_device`."
   ]
  },
  {
   "cell_type": "code",
   "execution_count": null,
   "metadata": {},
   "outputs": [],
   "source": [
    "out_c.sync_from_device()"
   ]
  },
  {
   "cell_type": "markdown",
   "metadata": {},
   "source": [
    "We can now print the buffer and see what looks like a sea of constant values (as expected)."
   ]
  },
  {
   "cell_type": "code",
   "execution_count": null,
   "metadata": {},
   "outputs": [],
   "source": [
    "out_c"
   ]
  },
  {
   "cell_type": "markdown",
   "metadata": {},
   "source": [
    "To be more rigorous we can use NumPy to verify in software that the output buffer is actually the result of adding the two input buffers."
   ]
  },
  {
   "cell_type": "code",
   "execution_count": null,
   "metadata": {},
   "outputs": [],
   "source": [
    "import numpy as np\n",
    "np.array_equal(in_a + in_b, out_c)"
   ]
  },
  {
   "cell_type": "markdown",
   "metadata": {},
   "source": [
    "## Exercises\n",
    "\n",
    "The overlay that's currently loaded also contains a `vmult_1` kernel which performs vector multiplication.\n",
    "\n",
    " 1. Call the vmult kernel and verify it does what's expected\n",
    " 2. Combine it with the `vadd` kernel to create a vector multiply-accumulate function\n",
    " 3. (Optional) Have a look at the NumPy random number class to create some more interesting test data than just constants\n",
    "\n",
    "New cells will automatically be added to the notebook after you run each one. Once you're finished shut down the kernel using the _Kernel_ menu to make sure the device is free for the other notebooks."
   ]
  },
  {
   "cell_type": "code",
   "execution_count": null,
   "metadata": {},
   "outputs": [],
   "source": []
  },
  {
   "cell_type": "markdown",
   "metadata": {},
   "source": [
    "Copyright (C) 2020 Xilinx, Inc"
   ]
  }
 ],
 "metadata": {
  "kernelspec": {
   "display_name": "Python 3",
   "language": "python",
   "name": "python3"
  },
  "language_info": {
   "codemirror_mode": {
    "name": "ipython",
    "version": 3
   },
   "file_extension": ".py",
   "mimetype": "text/x-python",
   "name": "python",
   "nbconvert_exporter": "python",
   "pygments_lexer": "ipython3",
   "version": "3.7.6"
  }
 },
 "nbformat": 4,
 "nbformat_minor": 4
}
