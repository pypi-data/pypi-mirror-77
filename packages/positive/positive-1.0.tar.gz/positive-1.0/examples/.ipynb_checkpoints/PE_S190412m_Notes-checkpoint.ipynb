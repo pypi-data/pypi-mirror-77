{
 "cells": [
  {
   "cell_type": "markdown",
   "metadata": {
    "heading_collapsed": true
   },
   "source": [
    "# Estimate Maximum Frequency needed to resolve HM constent using preliminary results for final mass and spin"
   ]
  },
  {
   "cell_type": "code",
   "execution_count": 23,
   "metadata": {
    "ExecuteTime": {
     "end_time": "2019-10-10T17:13:53.380603Z",
     "start_time": "2019-10-10T17:13:53.372576"
    },
    "collapsed": true,
    "hidden": true
   },
   "outputs": [],
   "source": [
    "from positive import *\n",
    "from nrutils.core.units import *\n",
    "from numpy import *"
   ]
  },
  {
   "cell_type": "code",
   "execution_count": 14,
   "metadata": {
    "ExecuteTime": {
     "end_time": "2019-10-10T17:12:24.609967Z",
     "start_time": "2019-10-10T17:12:24.600474"
    },
    "collapsed": false,
    "hidden": true
   },
   "outputs": [
    {
     "name": "stdout",
     "output_type": "stream",
     "text": [
      "m1,m2 =  0.788986140553 0.211013859447\n"
     ]
    }
   ],
   "source": [
    "\n",
    "M1,M2 = 32.33976896337232,8.64925137694713\n",
    "M = M1+M2\n",
    "\n",
    "m1 = M1/M\n",
    "m2 = M2/M\n",
    "\n",
    "print 'm1,m2 = ',m1,m2 \n",
    "chi1,chi2 = 0.3482097377216557,0.03449982868594995"
   ]
  },
  {
   "cell_type": "code",
   "execution_count": 26,
   "metadata": {
    "ExecuteTime": {
     "end_time": "2019-10-10T17:14:31.861923Z",
     "start_time": "2019-10-10T17:14:31.841761"
    },
    "collapsed": false,
    "hidden": true
   },
   "outputs": [],
   "source": [
    "mf = 39.7862247656272/M\n",
    "jf = 0.6635823840977887"
   ]
  },
  {
   "cell_type": "code",
   "execution_count": 27,
   "metadata": {
    "ExecuteTime": {
     "end_time": "2019-10-10T17:14:32.534131Z",
     "start_time": "2019-10-10T17:14:32.525689"
    },
    "collapsed": false,
    "hidden": true
   },
   "outputs": [
    {
     "name": "stdout",
     "output_type": "stream",
     "text": [
      "0.970655664256 0.663582384098\n"
     ]
    }
   ],
   "source": [
    "print mf,jf"
   ]
  },
  {
   "cell_type": "code",
   "execution_count": 19,
   "metadata": {
    "ExecuteTime": {
     "end_time": "2019-10-10T17:13:06.130688Z",
     "start_time": "2019-10-10T17:13:06.117403"
    },
    "collapsed": true,
    "hidden": true
   },
   "outputs": [],
   "source": [
    "?leaver"
   ]
  },
  {
   "cell_type": "code",
   "execution_count": 68,
   "metadata": {
    "ExecuteTime": {
     "end_time": "2019-10-10T20:30:50.694940Z",
     "start_time": "2019-10-10T20:30:50.681695"
    },
    "collapsed": true,
    "hidden": true
   },
   "outputs": [],
   "source": [
    "def calc_phys_rd_freq(l,m,verbose=True):\n",
    "    cw,sc = leaver(jf,l,m,Mf=mf)\n",
    "    frd = cw.real/(2*pi)\n",
    "    frd_phys = physf(frd,mf*M)\n",
    "    alert('frd_phys_%i%i = %1.4f (Hz)'%(l,m,frd_phys))"
   ]
  },
  {
   "cell_type": "code",
   "execution_count": 69,
   "metadata": {
    "ExecuteTime": {
     "end_time": "2019-10-10T20:30:51.147337Z",
     "start_time": "2019-10-10T20:30:51.026484"
    },
    "collapsed": false,
    "hidden": true
   },
   "outputs": [
    {
     "name": "stdout",
     "output_type": "stream",
     "text": [
      "\n",
      "# -~-~-~-~-~-~-~-~-~-~-~-~-~-~-~-~-~-~-~-~-~-~-~-~-~-~-~-~ #\n",
      "\u001b[1m(\u001b[0;36mnotebook\u001b[0m)>> Ringdown Frequencies for S190412m\u001b[0m\n",
      "# -~-~-~-~-~-~-~-~-~-~-~-~-~-~-~-~-~-~-~-~-~-~-~-~-~-~-~-~ #\n",
      "\n",
      "(\u001b[0;36mcalc_phys_rd_freq\u001b[0m)>> frd_phys_22 = 432.8073 (Hz)\n",
      "(\u001b[0;36mcalc_phys_rd_freq\u001b[0m)>> frd_phys_33 = 686.9019 (Hz)\n",
      "(\u001b[0;36mcalc_phys_rd_freq\u001b[0m)>> frd_phys_44 = 930.4125 (Hz)\n",
      "(\u001b[0;36mcalc_phys_rd_freq\u001b[0m)>> frd_phys_55 = 1168.7259 (Hz)\n"
     ]
    }
   ],
   "source": [
    "lmlist = [(2,2),(3,3),(4,4),(5,5)]\n",
    "alert('Ringdown Frequencies for S190412m',header=True)\n",
    "for l,m in lmlist:\n",
    "    calc_phys_rd_freq(l,m)"
   ]
  },
  {
   "cell_type": "code",
   "execution_count": 72,
   "metadata": {
    "ExecuteTime": {
     "end_time": "2019-10-10T20:41:50.970890Z",
     "start_time": "2019-10-10T20:41:50.957015"
    },
    "collapsed": false,
    "hidden": true,
    "scrolled": true
   },
   "outputs": [
    {
     "name": "stdout",
     "output_type": "stream",
     "text": [
      "N =  8192.0\n",
      "df =  0.125\n",
      "fmax = N*df = srate =  1024.0\n"
     ]
    }
   ],
   "source": [
    "# N = 1/(dt*df)\n",
    "# Ndf = 1/dt\n",
    "# Ndt = 1/df\n",
    "1.0/8\n",
    "srate = 1024.0 # 2048.0\n",
    "dt = 1.0/srate\n",
    "seglen = 8.0\n",
    "N = seglen/dt\n",
    "df = 1.0/seglen\n",
    "print 'N = ',N\n",
    "print 'df = ',df\n",
    "print 'fmax = N*df = srate = ',N*df"
   ]
  },
  {
   "cell_type": "markdown",
   "metadata": {},
   "source": [
    "# Config Requirements for higher modes\n",
    "---\n",
    "The estimated ringdown ferquency of the $\\ell=m=4$ multipole moment is: **~950 Hz**\n",
    "And the estimated ringdown ferquency of the $\\ell=m=5$ multipole moment is: **~1200 Hz**\n",
    "Therefore:\n",
    "* Given that there's very little physical reason to think that the l=m=5 mode should be important, therefore parameters should be chosen to accomodate the 44 multipole \n",
    "* the PSD should be computed to include this frequency\n",
    "* The segment lengh, *T*, should be such that the frequency domain *df* is small enough to resolve frequencies in the HM evolution -- this technically maters the most at low frequencies where the frequency domain phase evolves the fastest. The segment length (containting a chunk seglen (sec) to the left of trigtime+2) should also include as much of the signal as is physically reasonable (eg as estimate from the chirp time and accounting for the fact that higher multipoles have higher freuqncies ~m/2, meaning that if likelihood integrals start at 20Hz, this should include information at 20Hz from the highest mode of interest -- the seglen should be large enough to account for the relate HM chirp).\n",
    "\n",
    "# Condig Recommendations:\n",
    "```bash\n",
    "seglen = 8   # this is ~6 sec of inspiral to account for HMs chirp up to (4,4) in inspiral\n",
    "srate = 1024 # to resolve up to the (4,4) in the ringdown (only as an upper limit)\n",
    "```\n",
    "\n",
    "#### Other notes:\n",
    "* Dont set chirpmass bounds becuase ROQ isnt being used. Chirpmass bounds distort the q prior, which is perhaps best set to the default flat prior (as m1 and m2 are flat).\n",
    "* Carl says that we want to use the same spin prior for precessing and non-precessing runs. For precessing approxs, ```a_spin*-min and alignedspin-zprior``` lines should be commented out.\n"
   ]
  },
  {
   "cell_type": "markdown",
   "metadata": {},
   "source": [
    "# PE Experiments\n",
    "---"
   ]
  },
  {
   "cell_type": "markdown",
   "metadata": {},
   "source": [
    "## (A) Compare C01 with C01_60Hz\n",
    "\n",
    "\n",
    "*Using: C01_60HZ*\n",
    "\n",
    "\n",
    "* EXP1\n",
    "``` bash\n",
    "seglen = 4\n",
    "```\n",
    "\n",
    "* EXP1\n",
    "``` bash\n",
    "seglen = 8\n",
    "```"
   ]
  },
  {
   "cell_type": "markdown",
   "metadata": {
    "heading_collapsed": true
   },
   "source": [
    "## (B) Vary: seglen with PhenomPv2+HM (4 runs)\n",
    "\n",
    "\n",
    "*Using: C01_60HZ*\n",
    "\n",
    "\n",
    "* EXP1\n",
    "``` bash\n",
    "seglen = 4\n",
    "```\n",
    "\n",
    "* EXP1\n",
    "``` bash\n",
    "seglen = 8\n",
    "```\n"
   ]
  },
  {
   "cell_type": "markdown",
   "metadata": {
    "heading_collapsed": true
   },
   "source": [
    "## (C) Vary: Approximant (MCMC)\n",
    "* PhenomPv2\n",
    "* PhenomD\n",
    "* PhenomHM"
   ]
  },
  {
   "cell_type": "markdown",
   "metadata": {},
   "source": [
    "## Vary: Approximant (NEST)\n",
    "* PhenomHM\n",
    "* PhenomPv2\n",
    "* PhenomD\n",
    "### Fast Settings \n",
    "```\n",
    "nlive = 128\n",
    "neff = 64\n",
    "```\n",
    "### Production Settings \n",
    "```\n",
    "nlive = 1024\n",
    "neff = 300\n",
    "```"
   ]
  },
  {
   "cell_type": "code",
   "execution_count": null,
   "metadata": {
    "collapsed": true
   },
   "outputs": [],
   "source": []
  }
 ],
 "metadata": {
  "kernelspec": {
   "display_name": "Python 2",
   "language": "python",
   "name": "python2"
  },
  "language_info": {
   "codemirror_mode": {
    "name": "ipython",
    "version": 2
   },
   "file_extension": ".py",
   "mimetype": "text/x-python",
   "name": "python",
   "nbconvert_exporter": "python",
   "pygments_lexer": "ipython2",
   "version": "2.7.3"
  }
 },
 "nbformat": 4,
 "nbformat_minor": 0
}
