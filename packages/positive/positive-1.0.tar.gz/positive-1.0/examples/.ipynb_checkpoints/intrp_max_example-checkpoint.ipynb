{
 "cells": [
  {
   "cell_type": "markdown",
   "metadata": {},
   "source": [
    "# Interpolative Maximization\n",
    "* To be used as a fast proxy for more robust maximization\n",
    "* The user must take care that input data is well sampled so that the method returns reasonable results"
   ]
  },
  {
   "cell_type": "markdown",
   "metadata": {},
   "source": [
    "## Setup Environment"
   ]
  },
  {
   "cell_type": "code",
   "execution_count": 47,
   "metadata": {
    "ExecuteTime": {
     "end_time": "2017-07-02T20:38:41.104142Z",
     "start_time": "2017-07-02T20:38:40.990760"
    },
    "collapsed": false
   },
   "outputs": [
    {
     "name": "stdout",
     "output_type": "stream",
     "text": [
      "The autoreload extension is already loaded. To reload it, use:\n",
      "  %reload_ext autoreload\n"
     ]
    }
   ],
   "source": [
    "# Setup ipython environment\n",
    "%load_ext autoreload\n",
    "%autoreload 2\n",
    "# %matplotlib auto\n",
    "%matplotlib inline\n",
    "# Setup plotting backend\n",
    "import matplotlib as mpl\n",
    "from mpl_toolkits.mplot3d import axes3d\n",
    "mpl.rcParams['lines.linewidth'] = 0.8\n",
    "mpl.rcParams['font.family'] = 'serif'\n",
    "mpl.rcParams['font.size'] = 12\n",
    "mpl.rcParams['axes.labelsize'] = 20\n",
    "mpl.rcParams['axes.titlesize'] = 20\n",
    "mpl.rcParams['axes.formatter.useoffset'] = False\n",
    "from matplotlib.pyplot import *\n",
    "from mpl_toolkits.mplot3d import Axes3D\n",
    "#\n",
    "from numpy import *\n",
    "from numpy.fft import ifft,fftshift,fftfreq,fft\n",
    "from glob import glob as find\n",
    "from scipy.interpolate import UnivariateSpline as spline\n",
    "#\n",
    "from positive import *"
   ]
  },
  {
   "cell_type": "markdown",
   "metadata": {},
   "source": [
    "## Ceate sample data with one local max, and locally code the interpolative max algorithm"
   ]
  },
  {
   "cell_type": "code",
   "execution_count": 125,
   "metadata": {
    "ExecuteTime": {
     "end_time": "2017-07-03T11:53:28.718257Z",
     "start_time": "2017-07-03T11:53:27.849162"
    },
    "collapsed": false
   },
   "outputs": [
    {
     "name": "stdout",
     "output_type": "stream",
     "text": [
      "[12 13 14 15 16 17 18 19]\n",
      "7 1 4\n",
      "    intrp_max \t = \t 1.000006\n"
     ]
    },
    {
     "data": {
      "image/png": "[encoded data removed]",
      "text/plain": [
       "<matplotlib.figure.Figure at 0x114b83350>"
      ]
     },
     "metadata": {},
     "output_type": "display_data"
    },
    {
     "data": {
      "image/png": "[encoded data removed]",
      "text/plain": [
       "<matplotlib.figure.Figure at 0x1166040d0>"
      ]
     },
     "metadata": {},
     "output_type": "display_data"
    }
   ],
   "source": [
    "\n",
    "#\n",
    "N = 17\n",
    "t = 2*pi*linspace(0,1,N)\n",
    "\n",
    "#\n",
    "y = sin( t + pi/2 + 0.1 )\n",
    "\n",
    "#\n",
    "ts = linspace( min(t), max(t), 2e2 )\n",
    "ys = spline(t,y,s=0,k=4)(ts)\n",
    "\n",
    "#\n",
    "clr= rgb(3)\n",
    "plot( t,y, 'ok' )\n",
    "plot( ts,ys, color=clr[0], linestyle='--' )\n",
    "\n",
    "#\n",
    "dy = diff( lim(y) )*0.1\n",
    "ylim( array([-1,1])*dy + lim(y) )\n",
    "xlim( lim(t) )\n",
    "\n",
    "#\n",
    "xlabel('domain')\n",
    "ylabel('range')\n",
    "\n",
    "#\n",
    "k_max = argmax( y )\n",
    "t_max = t[k_max]\n",
    "y_max = y[k_max]\n",
    "\n",
    "#\n",
    "plot( t_max, y_max, 'o', mfc='none', mec='k', ms=16 )\n",
    "\n",
    "# Determine points to right and left of numerical max \n",
    "\n",
    "# This many points to right and left of numerical max will be taken\n",
    "pad = 4\n",
    "\n",
    "#\n",
    "a = k_max - pad\n",
    "b = k_max + pad\n",
    "\n",
    "#\n",
    "left = arange( a, k_max )\n",
    "right = arange( k_max, b )\n",
    "# \n",
    "space = hstack( [left,right] )\n",
    "#\n",
    "print space\n",
    "space = mod( space, len(y)-1 )\n",
    "#\n",
    "raw_kspace = range( len(space) )\n",
    "\n",
    "#\n",
    "plot( t[ space[0] ], y[ space[0] ], '>', mfc='none', mec='g', ms = 19 )\n",
    "plot( t[ space[-1] ], y[ space[-1] ], '<', mfc='none', mec='g', ms = 19 )\n",
    "\n",
    "#\n",
    "raw_suby = y[space]\n",
    "\n",
    "# -------------------------------------------- #\n",
    "# Enforce adjacent symmetry about numerical max\n",
    "# -------------------------------------------- #\n",
    "left_k  =  1 + argmin( abs(raw_suby[0] - raw_suby[1:]) )\n",
    "right_k =  argmin( abs(raw_suby[-1] - raw_suby[:-1]) )\n",
    "center_k = argmax(raw_suby)\n",
    "print left_k, right_k, center_k\n",
    "\n",
    "#\n",
    "figure()\n",
    "plot( raw_kspace, raw_suby, 'ok' )\n",
    "\n",
    "# IF the clostest point is on the other side of the peak AND there is an assymetry detected\n",
    "# THEN make more symmetric by removing points from left or right\n",
    "mask = range( len(raw_suby) )\n",
    "if (right_k < center_k) and (left_k != len(raw_suby)-1) :\n",
    "    mask = range( right_k, len(raw_suby) )\n",
    "elif (left_k > center_k) and (right_k != 0) :\n",
    "    mask = range( 0, left_k+1 )\n",
    "\n",
    "# Apply the mask\n",
    "kspace = array([ raw_kspace[v] for v in mask ])\n",
    "suby = array([ raw_suby[v] for v in mask ])\n",
    "\n",
    "\n",
    "# -------------------------------------------- #\n",
    "# Interpolate local space to estimate max\n",
    "# -------------------------------------------- #\n",
    "intrp_suby = spline( kspace, suby, k=4, s=0 )\n",
    "# Location of the max is determined analytically, given the local spline model\n",
    "kspace_maxes = intrp_suby.derivative().roots()\n",
    "kspace_max = kspace_maxes[ argmax( intrp_suby(kspace_maxes) ) ]\n",
    "\n",
    "#\n",
    "plot( kspace_max, intrp_suby(kspace_max), '*', ms=20, mec=clr[-1], mfc=clr[-1] )\n",
    "kspace_sm = linspace(min(kspace),max(kspace))\n",
    "plot( kspace_sm, intrp_suby(kspace_sm), color=clr[0], linestyle='--' )\n",
    "plot( kspace, suby, 'ow', ms=4 )\n",
    "\n",
    "#\n",
    "dy = diff( lim(suby) )*0.2\n",
    "ylim( array([-1,1])*dy + lim(raw_suby) )\n",
    "xlim( lim(raw_kspace) )\n",
    "xlabel('mapped index domain')\n",
    "ylabel('wrapped range')\n",
    "\n",
    "max_val = intrp_suby(kspace_max)\n",
    "# arg_max = spline( kspace, space, k=1, s=0 )()\n",
    "\n",
    "#\n",
    "print '    intrp_max \\t = \\t %f' % max_val\n",
    "# print 'intrp_arg_max \\t = \\t %f' % arg_max\n"
   ]
  },
  {
   "cell_type": "markdown",
   "metadata": {},
   "source": [
    "## Package the code above into a method"
   ]
  },
  {
   "cell_type": "code",
   "execution_count": null,
   "metadata": {
    "collapsed": true
   },
   "outputs": [],
   "source": []
  }
 ],
 "metadata": {
  "kernelspec": {
   "display_name": "Python [Root]",
   "language": "python",
   "name": "Python [Root]"
  },
  "language_info": {
   "codemirror_mode": {
    "name": "ipython",
    "version": 2
   },
   "file_extension": ".py",
   "mimetype": "text/x-python",
   "name": "python",
   "nbconvert_exporter": "python",
   "pygments_lexer": "ipython2",
   "version": "2.7.9"
  }
 },
 "nbformat": 4,
 "nbformat_minor": 0
}
