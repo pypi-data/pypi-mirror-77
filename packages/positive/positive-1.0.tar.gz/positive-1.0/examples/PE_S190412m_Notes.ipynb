{
 "cells": [
  {
   "cell_type": "markdown",
   "metadata": {},
   "source": [
    "# Estimate Maximum Frequency needed to resolve HM constent using preliminary results for final mass and spin"
   ]
  },
  {
   "cell_type": "code",
   "execution_count": 23,
   "metadata": {
    "ExecuteTime": {
     "end_time": "2019-10-10T17:13:53.380603Z",
     "start_time": "2019-10-10T17:13:53.372576"
    },
    "collapsed": true
   },
   "outputs": [],
   "source": [
    "from positive import *\n",
    "from nrutils.core.units import *\n",
    "from numpy import *"
   ]
  },
  {
   "cell_type": "code",
   "execution_count": 14,
   "metadata": {
    "ExecuteTime": {
     "end_time": "2019-10-10T17:12:24.609967Z",
     "start_time": "2019-10-10T17:12:24.600474"
    },
    "collapsed": false
   },
   "outputs": [
    {
     "name": "stdout",
     "output_type": "stream",
     "text": [
      "m1,m2 =  0.788986140553 0.211013859447\n"
     ]
    }
   ],
   "source": [
    "\n",
    "M1,M2 = 32.33976896337232,8.64925137694713\n",
    "M = M1+M2\n",
    "\n",
    "m1 = M1/M\n",
    "m2 = M2/M\n",
    "\n",
    "print 'm1,m2 = ',m1,m2 \n",
    "chi1,chi2 = 0.3482097377216557,0.03449982868594995"
   ]
  },
  {
   "cell_type": "code",
   "execution_count": 26,
   "metadata": {
    "ExecuteTime": {
     "end_time": "2019-10-10T17:14:31.861923Z",
     "start_time": "2019-10-10T17:14:31.841761"
    },
    "collapsed": false
   },
   "outputs": [],
   "source": [
    "mf = 39.7862247656272/M\n",
    "jf = 0.6635823840977887"
   ]
  },
  {
   "cell_type": "code",
   "execution_count": 27,
   "metadata": {
    "ExecuteTime": {
     "end_time": "2019-10-10T17:14:32.534131Z",
     "start_time": "2019-10-10T17:14:32.525689"
    },
    "collapsed": false
   },
   "outputs": [
    {
     "name": "stdout",
     "output_type": "stream",
     "text": [
      "0.970655664256 0.663582384098\n"
     ]
    }
   ],
   "source": [
    "print mf,jf"
   ]
  },
  {
   "cell_type": "code",
   "execution_count": 19,
   "metadata": {
    "ExecuteTime": {
     "end_time": "2019-10-10T17:13:06.130688Z",
     "start_time": "2019-10-10T17:13:06.117403"
    },
    "collapsed": true
   },
   "outputs": [],
   "source": [
    "?leaver"
   ]
  },
  {
   "cell_type": "code",
   "execution_count": 117,
   "metadata": {
    "ExecuteTime": {
     "end_time": "2019-10-18T13:55:11.905536Z",
     "start_time": "2019-10-18T13:55:11.893427"
    },
    "collapsed": true
   },
   "outputs": [],
   "source": [
    "def calc_phys_rd_freq(l,m,verbose=True):\n",
    "    cw,sc = leaver(jf,l,m,Mf=mf)\n",
    "    frd = cw.real/(2*pi)\n",
    "    frd_phys = physf(frd,mf*M)\n",
    "    alert('frd_phys_%i%i = %1.4f (Hz) ...%1.4f... newxt pow2 twice this is %f'%(l,m,frd_phys,2*frd_phys,2**ceil( log(2*frd_phys)/log(2) )))"
   ]
  },
  {
   "cell_type": "code",
   "execution_count": 118,
   "metadata": {
    "ExecuteTime": {
     "end_time": "2019-10-18T13:55:12.672169Z",
     "start_time": "2019-10-18T13:55:12.558840"
    },
    "collapsed": false
   },
   "outputs": [
    {
     "name": "stdout",
     "output_type": "stream",
     "text": [
      "\n",
      "# -~-~-~-~-~-~-~-~-~-~-~-~-~-~-~-~-~-~-~-~-~-~-~-~-~-~-~-~ #\n",
      "\u001b[1m(\u001b[0;36mnotebook\u001b[0m)>> Ringdown Frequencies for S190412m\u001b[0m\n",
      "# -~-~-~-~-~-~-~-~-~-~-~-~-~-~-~-~-~-~-~-~-~-~-~-~-~-~-~-~ #\n",
      "\n",
      "(\u001b[0;36mcalc_phys_rd_freq\u001b[0m)>> frd_phys_22 = 432.8073 (Hz) ...865.6146... newxt pow2 twice this is 1024.000000\n",
      "(\u001b[0;36mcalc_phys_rd_freq\u001b[0m)>> frd_phys_33 = 686.9019 (Hz) ...1373.8039... newxt pow2 twice this is 2048.000000\n",
      "(\u001b[0;36mcalc_phys_rd_freq\u001b[0m)>> frd_phys_44 = 930.4125 (Hz) ...1860.8250... newxt pow2 twice this is 2048.000000\n",
      "(\u001b[0;36mcalc_phys_rd_freq\u001b[0m)>> frd_phys_55 = 1168.7259 (Hz) ...2337.4517... newxt pow2 twice this is 4096.000000\n"
     ]
    }
   ],
   "source": [
    "lmlist = [(2,2),(3,3),(4,4),(5,5)]\n",
    "alert('Ringdown Frequencies for S190412m',header=True)\n",
    "for l,m in lmlist:\n",
    "    calc_phys_rd_freq(l,m)"
   ]
  },
  {
   "cell_type": "code",
   "execution_count": 114,
   "metadata": {
    "ExecuteTime": {
     "end_time": "2019-10-18T11:26:53.235225Z",
     "start_time": "2019-10-18T11:26:53.222800"
    },
    "collapsed": false
   },
   "outputs": [
    {
     "data": {
      "text/plain": [
       "4096.0"
      ]
     },
     "execution_count": 114,
     "metadata": {},
     "output_type": "execute_result"
    }
   ],
   "source": [
    "2**ceil( log(2337.451739)/log(2) )"
   ]
  },
  {
   "cell_type": "code",
   "execution_count": 72,
   "metadata": {
    "ExecuteTime": {
     "end_time": "2019-10-10T20:41:50.970890Z",
     "start_time": "2019-10-10T20:41:50.957015"
    },
    "collapsed": false,
    "scrolled": true
   },
   "outputs": [
    {
     "name": "stdout",
     "output_type": "stream",
     "text": [
      "N =  8192.0\n",
      "df =  0.125\n",
      "fmax = N*df = srate =  1024.0\n"
     ]
    }
   ],
   "source": [
    "# N = 1/(dt*df)\n",
    "# Ndf = 1/dt\n",
    "# Ndt = 1/df\n",
    "1.0/8\n",
    "srate = 1024.0 # 2048.0\n",
    "dt = 1.0/srate\n",
    "seglen = 8.0\n",
    "N = seglen/dt\n",
    "df = 1.0/seglen\n",
    "print 'N = ',N\n",
    "print 'df = ',df\n",
    "print 'fmax = N*df = srate = ',N*df"
   ]
  },
  {
   "cell_type": "markdown",
   "metadata": {},
   "source": [
    "# Config Notes and Requirements for higher modes\n",
    "---\n",
    "The estimated ringdown ferquency of the $\\ell=m=4$ multipole moment is: **~950 Hz**\n",
    "And the estimated ringdown ferquency of the $\\ell=m=5$ multipole moment is: **~1200 Hz**\n",
    "Therefore:\n",
    "* Given that there's very little physical reason to think that the l=m=5 mode should be important, therefore parameters should be chosen to accomodate the 44 multipole \n",
    "* the PSD should be computed to include this frequency\n",
    "* The segment lengh, *T*, should be such that the frequency domain *df* is small enough to resolve frequencies in the HM evolution -- this technically maters the most at low frequencies where the frequency domain phase evolves the fastest. The segment length (containting a chunk seglen (sec) to the left of trigtime+2) should also include as much of the signal as is physically reasonable (eg as estimate from the chirp time and accounting for the fact that higher multipoles have higher freuqncies ~m/2, meaning that if likelihood integrals start at 20Hz, this should include information at 20Hz from the highest mode of interest -- the seglen should be large enough to account for the relate HM chirp).\n",
    "\n",
    "## Config Recommendations:\n",
    "```ini\n",
    "# this is ~6 sec of inspiral to account for HMs chirp up to (4,4) in inspiral\n",
    "seglen = 8   \n",
    "# to resolve up to the (4,4) in the ringdown (only as an upper limit)\n",
    "srate = 1024 \n",
    "```\n",
    "\n",
    "#### Other notes:\n",
    "* Don't set chirpmass bounds becuase ROQ isnt being used. Chirpmass bounds distort the q prior, which is perhaps best set to the default flat prior (as m1 and m2 are flat).\n",
    "* Carl says that we want to use the same spin prior for precessing and non-precessing runs. For precessing approxs, ```a_spin*-min and alignedspin-zprior``` lines should be commented out.\n",
    "\n",
    "## PSDs for C01 and C01_sub60Hz **8 sec**\n",
    "```ini\n",
    "# H1 C01 8sec\n",
    "H1-psd = /home/carl-johan.haster/projects/O3/S190412m/makeBW/C01/H1_8s/post/clean/glitch_median_PSD_forLI_H1.dat\n",
    "# L1 C01 8sec\n",
    "L1-psd = /home/carl-johan.haster/projects/O3/S190412m/makeBW/C01/L1_8s/post/clean/glitch_median_PSD_forLI_L1.dat\n",
    "```\n",
    "```ini\n",
    "# H1 C01_60Hz 8sec\n",
    "H1-psd = /home/carl-johan.haster/projects/O3/S190412m/makeBW/C01/H1_8s_sub60Hz/post/clean/glitch_median_PSD_forLI_H1.dat\n",
    "# L1 C01_60Hz 8sec\n",
    "L1-psd = /home/carl-johan.haster/projects/O3/S190412m/makeBW/C01/L1_8s_sub60Hz/post/clean/glitch_median_PSD_forLI_L1.dat\n",
    "```\n",
    "\n",
    "## Channel Names and Types\n",
    "\n",
    "**C01**\n",
    "```ini\n",
    "[datafind]\n",
    "url-type = file\n",
    "types = {'H1': 'H1_HOFT_CLEAN_C01', 'L1': 'L1_HOFT_CLEAN_C01','V1': 'V1Online'}\n",
    "\n",
    "[data]\n",
    "channels = {'H1': 'H1:DCS-CALIB_STRAIN_CLEAN_C01', 'L1': 'L1:DCS-CALIB_STRAIN_CLEAN_C01', 'V1': 'V1:Hrec_hoft_16384Hz'}\n",
    "```\n",
    "\n",
    "**C01_sub60Hz**\n",
    "```ini\n",
    "[datafind]\n",
    "url-type = file\n",
    "types = {'H1': 'H1_HOFT_CLEAN_SUB60HZ_C01', 'L1': 'L1_HOFT_CLEAN_SUB60HZ_C01','V1': 'V1Online'}\n",
    "\n",
    "[data]\n",
    "channels = {'H1': 'H1:DCS-CALIB_STRAIN_CLEAN_SUB60HZ_C01', 'L1': 'L1:DCS-CALIB_STRAIN_CLEAN_SUB60HZ_C01', 'V1': 'V1:Hrec_hoft_16384Hz'}\n",
    "```\n"
   ]
  },
  {
   "cell_type": "markdown",
   "metadata": {},
   "source": [
    "# PE Experiments\n",
    "---"
   ]
  },
  {
   "cell_type": "markdown",
   "metadata": {},
   "source": [
    "## (A) Compare C01 with C01_sub60Hz\n",
    "\n",
    "* approx: PhenomPv2, PhenomHM"
   ]
  },
  {
   "cell_type": "markdown",
   "metadata": {
    "heading_collapsed": true
   },
   "source": [
    "## (B) Vary: seglen with PhenomPv2+HM (4 runs)\n",
    "\n",
    "\n",
    "*Using: C01_60HZ*\n",
    "\n",
    "\n",
    "* EXP1\n",
    "``` ini\n",
    "seglen = 4\n",
    "```\n",
    "\n",
    "* EXP1\n",
    "``` ini\n",
    "seglen = 8\n",
    "```\n"
   ]
  },
  {
   "cell_type": "markdown",
   "metadata": {
    "heading_collapsed": true
   },
   "source": [
    "## (C) Vary: Approximant (MCMC)\n",
    "* PhenomPv2\n",
    "* PhenomD\n",
    "* PhenomHM"
   ]
  },
  {
   "cell_type": "markdown",
   "metadata": {},
   "source": [
    "## Vary: Approximant (NEST)\n",
    "* PhenomHM\n",
    "* PhenomPv2\n",
    "* PhenomD\n",
    "### Fast Settings \n",
    "```\n",
    "nlive = 128\n",
    "neff = 64\n",
    "```\n",
    "### Production Settings \n",
    "```\n",
    "nlive = 1024\n",
    "neff = 300\n",
    "```"
   ]
  },
  {
   "cell_type": "code",
   "execution_count": 74,
   "metadata": {
    "ExecuteTime": {
     "end_time": "2019-10-10T22:24:46.960416Z",
     "start_time": "2019-10-10T22:24:46.954813"
    },
    "collapsed": false
   },
   "outputs": [],
   "source": [
    "from nrutils import scsearch,gwylm"
   ]
  },
  {
   "cell_type": "code",
   "execution_count": 78,
   "metadata": {
    "ExecuteTime": {
     "end_time": "2019-10-10T22:26:30.842546Z",
     "start_time": "2019-10-10T22:26:28.411798"
    },
    "collapsed": false
   },
   "outputs": [
    {
     "name": "stdout",
     "output_type": "stream",
     "text": [
      "(\u001b[0;36mscsearch\u001b[0m)>> Found \u001b[4mq\u001b[0m (=3) keyword.\n",
      "(\u001b[0;36mscsearch\u001b[0m)>> Found \u001b[4mverbose\u001b[0m (=True) keyword.\n",
      "## Found \u001b[1m72\u001b[0m\u001b[0;35m possibly degenerate\u001b[0m simulations:\n",
      "[0001][\u001b[92mhogshead\u001b[0m] \u001b[0;36mq3\u001b[0m: 1chi0.75-p-q3.00\t(\u001b[0;36mp0801HR_3\u001b[0m)\n",
      "[0002][\u001b[92mhogshead\u001b[0m] \u001b[0;36mq3\u001b[0m: 1chi0.75-p-q3.00\t(\u001b[0;36mq3a075t90_p0801_HR\u001b[0m)\n",
      "[0003][\u001b[92mhogshead\u001b[0m] \u001b[0;36mq3\u001b[0m: 1chi0.75-p-q3.00\t(\u001b[0;36mq3a075t90_p0801\u001b[0m)\n",
      "[0004][\u001b[92mhogshead\u001b[0m] \u001b[0;36mq3\u001b[0m: 1chi0.75-p-q3.00\t(\u001b[0;36mq3a075t90_p078\u001b[0m)\n",
      "[0005][\u001b[92mbradwr\u001b[0m] \u001b[0;36mSq-series\u001b[0m: qc-1chi0.60-2chi0.60-p-q3.00\t(\u001b[0;36mSq_D6.2_q3.00_a0.6_th345_m140\u001b[0m)\n",
      "[0006][\u001b[92mbradwr\u001b[0m] \u001b[0;36mSq-series\u001b[0m: qc-1chi0.60-2chi0.60-p-q3.00\t(\u001b[0;36mSq_D6.2_q3.00_a0.6_th330_m140\u001b[0m)\n",
      "[0007][\u001b[92mbradwr\u001b[0m] \u001b[0;36mSq-series\u001b[0m: qc-1chi0.60-2chi0.60-p-q3.00\t(\u001b[0;36mSq_D6.2_q3.00_a0.6_th315_m140\u001b[0m)\n",
      "[0008][\u001b[92mbradwr\u001b[0m] \u001b[0;36mSq-series\u001b[0m: qc-1chi0.60-2chi0.60-p-q3.00\t(\u001b[0;36mSq_D6.2_q3.00_a0.6_th300_m140\u001b[0m)\n",
      "[0009][\u001b[92mbradwr\u001b[0m] \u001b[0;36mSq-series\u001b[0m: qc-1chi0.60-2chi0.60-p-q3.00\t(\u001b[0;36mSq_D6.2_q3.00_a0.6_th270_m140\u001b[0m)\n",
      "[0010][\u001b[92mbradwr\u001b[0m] \u001b[0;36mSq-series\u001b[0m: qc-1chi0.60-2chi0.60-p-q3.00\t(\u001b[0;36mSq_D6.2_q3.00_a0.6_th240_m140\u001b[0m)\n",
      "[0011][\u001b[92mbradwr\u001b[0m] \u001b[0;36mSq-series\u001b[0m: qc-1chi0.60-2chi0.60-p-q3.00\t(\u001b[0;36mSq_D6.2_q3.00_a0.6_th210_m140\u001b[0m)\n",
      "[0012][\u001b[92mbradwr\u001b[0m] \u001b[0;36mSq-series\u001b[0m: qc-1chi0.60-2chi0.60-p-q3.00\t(\u001b[0;36mSq_D6.2_q3.00_a0.6_th180_m140\u001b[0m)\n",
      "[0013][\u001b[92mbradwr\u001b[0m] \u001b[0;36mSq-series\u001b[0m: qc-1chi0.60-2chi0.60-p-q3.00\t(\u001b[0;36mSq_D6.2_q3.00_a0.6_th150_m140\u001b[0m)\n",
      "[0014][\u001b[92mbradwr\u001b[0m] \u001b[0;36mSq-series\u001b[0m: qc-1chi0.60-2chi0.60-p-q3.00\t(\u001b[0;36mSq_D6.2_q3.00_a0.6_th120_m140\u001b[0m)\n",
      "[0015][\u001b[92mbradwr\u001b[0m] \u001b[0;36mSq-series\u001b[0m: qc-1chi0.60-2chi0.60-p-q3.00\t(\u001b[0;36mSq_D6.2_q3.00_a0.6_th090_m140\u001b[0m)\n",
      "[0016][\u001b[92mbradwr\u001b[0m] \u001b[0;36mSq-series\u001b[0m: qc-1chi0.60-2chi0.60-p-q3.00\t(\u001b[0;36mSq_D6.2_q3.00_a0.6_th075_m140\u001b[0m)\n",
      "[0017][\u001b[92mbradwr\u001b[0m] \u001b[0;36mSq-series\u001b[0m: qc-1chi0.60-2chi0.60-p-q3.00\t(\u001b[0;36mSq_D6.2_q3.00_a0.6_th060_m140\u001b[0m)\n",
      "[0018][\u001b[92mbradwr\u001b[0m] \u001b[0;36mSq-series\u001b[0m: qc-1chi0.60-2chi0.60-p-q3.00\t(\u001b[0;36mSq_D6.2_q3.00_a0.6_th045_m140\u001b[0m)\n",
      "[0019][\u001b[92mbradwr\u001b[0m] \u001b[0;36mSq-series\u001b[0m: qc-1chi0.60-2chi0.60-p-q3.00\t(\u001b[0;36mSq_D6.2_q3.00_a0.6_th030_m140\u001b[0m)\n",
      "[0020][\u001b[92mbradwr\u001b[0m] \u001b[0;36mSq-series\u001b[0m: qc-1chi0.60-2chi0.60-p-q3.00\t(\u001b[0;36mSq_D6.2_q3.00_a0.6_th015_m140\u001b[0m)\n",
      "[0021][\u001b[92mbradwr\u001b[0m] \u001b[0;36mSq-series\u001b[0m: qc-1chi0.60-2chi0.60-p-q3.00\t(\u001b[0;36mSq_D6.2_q3.00_a0.6_th000_m140\u001b[0m)\n",
      "[0022][\u001b[92mbradwr\u001b[0m] \u001b[0;36mHR-series\u001b[0m: 1chi0.80-sa-q3.00\t(\u001b[0;36mD11_q3.00_a0.8_0.00_m200\u001b[0m)\n",
      "[0023][\u001b[92mbradwr\u001b[0m] \u001b[0;36mHR-series\u001b[0m: 1chi0.20-sa-q3.00\t(\u001b[0;36mD11_q3.00_a0.2_0.00_m200\u001b[0m)\n",
      "[0024][\u001b[92mbradwr\u001b[0m] \u001b[0;36mHR-series\u001b[0m: ns-q3.00\t(\u001b[0;36mD11_q3.00_a0.0_m200\u001b[0m)\n",
      "[0025][\u001b[92mbradwr\u001b[0m] \u001b[0;36mHR-series\u001b[0m: ns-q3.00\t(\u001b[0;36mD11_q3.00_a0.0_m180\u001b[0m)\n",
      "[0026][\u001b[92mbradwr\u001b[0m] \u001b[0;36mHR-series\u001b[0m: 1chi0.60-2chi0.60-saa-q3.00\t(\u001b[0;36mD11_q3.00_a-0.6_m200\u001b[0m)\n",
      "[0027][\u001b[92mbradwr\u001b[0m] \u001b[0;36mHR-series\u001b[0m: 1chi0.40-2chi0.40-saa-q3.00\t(\u001b[0;36mD11_q3.00_a-0.4_m200\u001b[0m)\n",
      "[0028][\u001b[92mbradwr\u001b[0m] \u001b[0;36mHR-series\u001b[0m: 1chi0.20-2chi0.20-saa-q3.00\t(\u001b[0;36mD11_q3.00_a-0.2_m200\u001b[0m)\n",
      "[0029][\u001b[92mbradwr\u001b[0m] \u001b[0;36mHR-series\u001b[0m: 1chi0.80-sa-q3.00\t(\u001b[0;36mD10_q3.00_a0.8_0.0_m240\u001b[0m)\n",
      "[0030][\u001b[92mbradwr\u001b[0m] \u001b[0;36mHR-series\u001b[0m: 1chi0.60-sa-q3.00\t(\u001b[0;36mD10_q3.00_a0.6_0.0_m240\u001b[0m)\n",
      "[0031][\u001b[92mbradwr\u001b[0m] \u001b[0;36mHR-series\u001b[0m: 1chi0.40-sa-q3.00\t(\u001b[0;36mD10_q3.00_a0.4_0.0_m240\u001b[0m)\n",
      "[0032][\u001b[92mbradwr\u001b[0m] \u001b[0;36mHR-series\u001b[0m: 1chi0.20-sa-q3.00\t(\u001b[0;36mD10_q3.00_a0.2_0.0_m240\u001b[0m)\n",
      "[0033][\u001b[92mbradwr\u001b[0m] \u001b[0;36mHR-series\u001b[0m: ns-q3.00\t(\u001b[0;36mD10_q3.00_a0.0_0.0_m240\u001b[0m)\n",
      "[0034][\u001b[92mbradwr\u001b[0m] \u001b[0;36mHRq-series\u001b[0m: ns-q3.00\t(\u001b[0;36mD9_q3.0_a0.0_m180\u001b[0m)\n",
      "[0035][\u001b[92mbradwr\u001b[0m] \u001b[0;36mHRq-series\u001b[0m: ns-q3.00\t(\u001b[0;36mD9_q3.0_a0.0_m140\u001b[0m)\n",
      "[0036][\u001b[92mbradwr\u001b[0m] \u001b[0;36mHRq-series\u001b[0m: ns-q3.00\t(\u001b[0;36mD9_q3.0_a0.0_m120\u001b[0m)\n",
      "[0037][\u001b[92mbradwr\u001b[0m] \u001b[0;36mHRq-series\u001b[0m: ns-q3.00\t(\u001b[0;36mD9_q3.0_a0.0_m100\u001b[0m)\n",
      "[0038][\u001b[92mbradwr\u001b[0m] \u001b[0;36mHRq-series\u001b[0m: ns-q3.00\t(\u001b[0;36mD9_q3.0_a0.0_CFL25_m160\u001b[0m)\n",
      "[0039][\u001b[92mbradwr\u001b[0m] \u001b[0;36mHRq-series\u001b[0m: ns-q3.00\t(\u001b[0;36mD9_q3.0_a0.0_CFL25_m140\u001b[0m)\n",
      "[0040][\u001b[92mbradwr\u001b[0m] \u001b[0;36mHRq-series\u001b[0m: ns-q3.00\t(\u001b[0;36mD9_q3.0_a0.0_CFL25_m120\u001b[0m)\n",
      "[0041][\u001b[92mbradwr\u001b[0m] \u001b[0;36mHRq-series\u001b[0m: ns-q3.00\t(\u001b[0;36mD9_q3.0_a0.0_CFL25_m100\u001b[0m)\n",
      "[0042][\u001b[92mbradwr\u001b[0m] \u001b[0;36mHRq-series\u001b[0m: ns-q3.00\t(\u001b[0;36mD9_q3.0_a0.0_CFL125_m100\u001b[0m)\n",
      "[0043][\u001b[92mbradwr\u001b[0m] \u001b[0;36mHRq-series\u001b[0m: ns-q3.00\t(\u001b[0;36mD9_q3.0_a0.0_m160\u001b[0m)\n",
      "[0044][\u001b[92msxs\u001b[0m] \u001b[0;36mSXS0183\u001b[0m: qc-ns-q3.00\t(\u001b[0;36mSXS0183\u001b[0m)\n",
      "[0045][\u001b[92msxs\u001b[0m] \u001b[0;36mSXS0174\u001b[0m: qc-1chi0.50-sa-q3.00\t(\u001b[0;36mSXS0174\u001b[0m)\n",
      "[0046][\u001b[92msxs\u001b[0m] \u001b[0;36mSXS0168\u001b[0m: qc-ns-q3.00\t(\u001b[0;36mSXS0168\u001b[0m)\n",
      "[0047][\u001b[92msxs\u001b[0m] \u001b[0;36mSXS0105\u001b[0m: qc-1chi0.50-saa-q3.00\t(\u001b[0;36mSXS0105\u001b[0m)\n",
      "[0048][\u001b[92msxs\u001b[0m] \u001b[0;36mSXS0104\u001b[0m: qc-1chi0.50-2chi0.50-p-q3.00\t(\u001b[0;36mSXS0104\u001b[0m)\n",
      "[0049][\u001b[92msxs\u001b[0m] \u001b[0;36mSXS0053\u001b[0m: qc-1chi0.50-2chi0.50-p-q3.00\t(\u001b[0;36mSXS0053\u001b[0m)\n",
      "[0050][\u001b[92msxs\u001b[0m] \u001b[0;36mSXS0052\u001b[0m: qc-1chi0.50-2chi0.50-p-q3.00\t(\u001b[0;36mSXS0052\u001b[0m)\n",
      "[0051][\u001b[92msxs\u001b[0m] \u001b[0;36mSXS0051\u001b[0m: qc-1chi0.50-2chi0.50-p-q3.00\t(\u001b[0;36mSXS0051\u001b[0m)\n",
      "[0052][\u001b[92msxs\u001b[0m] \u001b[0;36mSXS0050\u001b[0m: qc-1chi0.50-2chi0.50-p-q3.00\t(\u001b[0;36mSXS0050\u001b[0m)\n",
      "[0053][\u001b[92msxs\u001b[0m] \u001b[0;36mSXS0049\u001b[0m: qc-1chi0.50-2chi0.50-p-q3.00\t(\u001b[0;36mSXS0049\u001b[0m)\n",
      "[0054][\u001b[92msxs\u001b[0m] \u001b[0;36mSXS0048\u001b[0m: qc-1chi0.50-2chi0.50-p-q3.00\t(\u001b[0;36mSXS0048\u001b[0m)\n",
      "[0055][\u001b[92msxs\u001b[0m] \u001b[0;36mSXS0047\u001b[0m: qc-1chi0.50-2chi0.50-sa-q3.00\t(\u001b[0;36mSXS0047\u001b[0m)\n",
      "[0056][\u001b[92msxs\u001b[0m] \u001b[0;36mSXS0046\u001b[0m: qc-1chi0.50-2chi0.50-saa-q3.00\t(\u001b[0;36mSXS0046\u001b[0m)\n",
      "[0057][\u001b[92msxs\u001b[0m] \u001b[0;36mSXS0045\u001b[0m: qc-1chi0.50-2chi0.50-p-q3.00\t(\u001b[0;36mSXS0045\u001b[0m)\n",
      "[0058][\u001b[92msxs\u001b[0m] \u001b[0;36mSXS0044\u001b[0m: qc-1chi0.50-p-q3.00\t(\u001b[0;36mSXS0044\u001b[0m)\n",
      "[0059][\u001b[92msxs\u001b[0m] \u001b[0;36mSXS0043\u001b[0m: qc-1chi0.50-p-q3.00\t(\u001b[0;36mSXS0043\u001b[0m)\n",
      "[0060][\u001b[92msxs\u001b[0m] \u001b[0;36mSXS0042\u001b[0m: qc-1chi0.50-p-q3.00\t(\u001b[0;36mSXS0042\u001b[0m)\n",
      "[0061][\u001b[92msxs\u001b[0m] \u001b[0;36mSXS0041\u001b[0m: qc-1chi0.50-sa-q3.00\t(\u001b[0;36mSXS0041\u001b[0m)\n",
      "[0062][\u001b[92msxs\u001b[0m] \u001b[0;36mSXS0040\u001b[0m: qc-1chi0.50-saa-q3.00\t(\u001b[0;36mSXS0040\u001b[0m)\n",
      "[0063][\u001b[92msxs\u001b[0m] \u001b[0;36mSXS0039\u001b[0m: qc-1chi0.50-saa-q3.00\t(\u001b[0;36mSXS0039\u001b[0m)\n",
      "[0064][\u001b[92msxs\u001b[0m] \u001b[0;36mSXS0038\u001b[0m: qc-1chi0.50-saa-q3.00\t(\u001b[0;36mSXS0038\u001b[0m)\n",
      "[0065][\u001b[92msxs\u001b[0m] \u001b[0;36mSXS0037\u001b[0m: qc-1chi0.50-p-q3.00\t(\u001b[0;36mSXS0037\u001b[0m)\n",
      "[0066][\u001b[92msxs\u001b[0m] \u001b[0;36mSXS0036\u001b[0m: qc-1chi0.50-saa-q3.00\t(\u001b[0;36mSXS0036\u001b[0m)\n",
      "[0067][\u001b[92msxs\u001b[0m] \u001b[0;36mSXS0035\u001b[0m: qc-1chi0.50-p-q3.00\t(\u001b[0;36mSXS0035\u001b[0m)\n",
      "[0068][\u001b[92msxs\u001b[0m] \u001b[0;36mSXS0034\u001b[0m: qc-1chi0.50-p-q3.00\t(\u001b[0;36mSXS0034\u001b[0m)\n",
      "[0069][\u001b[92msxs\u001b[0m] \u001b[0;36mSXS0033\u001b[0m: qc-1chi0.50-p-q3.00\t(\u001b[0;36mSXS0033\u001b[0m)\n",
      "[0070][\u001b[92msxs\u001b[0m] \u001b[0;36mSXS0032\u001b[0m: qc-1chi0.50-p-q3.00\t(\u001b[0;36mSXS0032\u001b[0m)\n",
      "[0071][\u001b[92msxs\u001b[0m] \u001b[0;36mSXS0031\u001b[0m: qc-1chi0.50-sa-q3.00\t(\u001b[0;36mSXS0031\u001b[0m)\n",
      "[0072][\u001b[92msxs\u001b[0m] \u001b[0;36mSXS0030\u001b[0m: qc-ns-q3.00\t(\u001b[0;36mSXS0030\u001b[0m)\n",
      "\n"
     ]
    }
   ],
   "source": [
    "A = scsearch(q=3,verbose=True)"
   ]
  },
  {
   "cell_type": "code",
   "execution_count": 94,
   "metadata": {
    "ExecuteTime": {
     "end_time": "2019-10-10T22:35:53.038108Z",
     "start_time": "2019-10-10T22:32:43.650577"
    },
    "collapsed": false
   },
   "outputs": [
    {
     "name": "stdout",
     "output_type": "stream",
     "text": [
      "(\u001b[0;36mgwylm\u001b[0m)>> Found \u001b[4mclean\u001b[0m (=True) keyword.\n",
      "(\u001b[0;36mgwylm\u001b[0m)>> Found \u001b[4mdt\u001b[0m (=0.15) keyword.\n",
      "(\u001b[0;36mgwylm\u001b[0m)>> Found \u001b[4mlm\u001b[0m (=[(2, 2), (4, 4)]) keyword.\n",
      "(\u001b[0;36mgwylm\u001b[0m)>> Found \u001b[4mscentry_obj\u001b[0m (=<nrutils.core.nrsc.scentry instance at 0x11516b560>) keyword.\n",
      "(\u001b[0;36mgwylm\u001b[0m)>> Found \u001b[4mverbose\u001b[0m (=True) keyword.\n",
      "(\u001b[0;36m__init__\u001b[0m)>> Using default M_RELATIVE_SIGN_CONVENTION of 1\n",
      "(\u001b[0;36mgwylm\u001b[0m)>> The (\u001b[0;35mextraction_parameter\u001b[0m,\u001b[92mlevel\u001b[0m) is (\u001b[0;35m75.0\u001b[0m,\u001b[92mNone\u001b[0m), which differs from the config values of (75,0). You have either manually input the non-config values, or the handler has set them by looking at the contents of the simulation directory. \n",
      "(\u001b[0;36m__make_lmlist__\u001b[0m)>> The following spherical multipoles will be loaded:\u001b[0;36m[(2, 2), (4, 4)]\u001b[0m\n",
      "(\u001b[0;36mload\u001b[0m)>> Using the \u001b[0;36mdefault\u001b[0m extraction_parameter of 75\n",
      "(\u001b[0;36mload\u001b[0m)>> Using the \u001b[0;36mdefault\u001b[0m level of 75\n",
      "(\u001b[0;36mload\u001b[0m)>> Loading: \u001b[0;36mYlm_WEYLSCAL4::Psi4r_l2_m2_r75.00.asc\u001b[0m\n",
      "(\u001b[0;36mload\u001b[0m)>> Imposing a default padding of 3 to the data.\n",
      "(\u001b[0;36mpad_wfarr\u001b[0m)>> The shape was (15994, 3). Now the shape is (15997, 3).\n",
      "(\u001b[0;36mload\u001b[0m)>> Using the \u001b[0;36mdefault\u001b[0m extraction_parameter of 75\n",
      "(\u001b[0;36mload\u001b[0m)>> Using the \u001b[0;36mdefault\u001b[0m level of 75\n",
      "(\u001b[0;36mload\u001b[0m)>> Loading: \u001b[0;36mYlm_WEYLSCAL4::Psi4r_l4_m4_r75.00.asc\u001b[0m\n",
      "(\u001b[0;36mload\u001b[0m)>> Imposing a default padding of 3 to the data.\n",
      "(\u001b[0;36mpad_wfarr\u001b[0m)>> The shape was (15994, 3). Now the shape is (15997, 3).\n",
      "(\u001b[0;36mgwylm\u001b[0m)>> Storing w22 from a \u001b[1m\u001b[0;35mPN estimate\u001b[0m\u001b[0m[see pnw0 in basics.py, and/or arxiv:1310.1528v4]. This will be the frequency parameter used if strain is to be calculated.\n",
      "(\u001b[0;36mcalcflm\u001b[0m)>> \u001b[0;35mw0(w22) = 0.043881\u001b[0m\u001b[0;33m (this is the lower frequency used for FFI method [arxiv:1006.1632v3])\u001b[0m\n",
      "(\u001b[0;36mcalcflm\u001b[0m)>> \u001b[0;35mw0(w22) = 0.087762\u001b[0m\u001b[0;33m (this is the lower frequency used for FFI method [arxiv:1006.1632v3])\u001b[0m\n",
      "(\u001b[0;36mcalchlm\u001b[0m)>> \u001b[0;35mw22 = m*w22/2 = 0.043881\u001b[0m\u001b[0;33m (this is the lower frequency used for FFI method [arxiv:1006.1632v3])\u001b[0m\n",
      "(\u001b[0;36mgwylm.calchlm\u001b[0m)>> \u001b[0;33mThe user should note that there is no minus sign used in front of the double time integral for strain (i.e. Eq 4 of arxiv:1006.1632). This differs from Eq 3.4 of arxiv:0707.4654v3. The net effect is a rotation of the overall polarization of pi degrees. The user should also note that there is no minus sign applied to h_cross meaning that the user must be mindful to write h_plus-1j*h_cross when appropriate.\u001b[0m\n",
      "(\u001b[0;36mcalchlm\u001b[0m)>> \u001b[0;35mw44 = m*w22/2 = 0.087762\u001b[0m\u001b[0;33m (this is the lower frequency used for FFI method [arxiv:1006.1632v3])\u001b[0m\n",
      "(\u001b[0;36mgwylm.calchlm\u001b[0m)>> \u001b[0;33mThe user should note that there is no minus sign used in front of the double time integral for strain (i.e. Eq 4 of arxiv:1006.1632). This differs from Eq 3.4 of arxiv:0707.4654v3. The net effect is a rotation of the overall polarization of pi degrees. The user should also note that there is no minus sign applied to h_cross meaning that the user must be mindful to write h_plus-1j*h_cross when appropriate.\u001b[0m\n",
      "\u001b[1m(\u001b[0;33m__enforce_m_relative_phase_orientation__!\u001b[0m)\u001b[0m>> \u001b[0;33m[Verify stage] Re-orienting waveform phase\u001b[0m to be consistent with internal sign convention for Psi4, where sign(dPhi/dt)=1*sign(m)*sign(this.L[-1]). Note that the internal sign convention is defined in ... nrutils/core/__init__.py as \"M_RELATIVE_SIGN_CONVENTION\". This message has appeared becuase the waveform is determined to obey and sign convention: sign(dPhi/dt)=-1*sign(m)*sign(this.L[-1]). Note the appearance of the initial z angular momentum, this.L[-1].\n",
      "\n",
      "# -~-~-~-~-~-~-~-~-~-~-~-~-~-~-~-~-~-~-~-~-~-~-~-~ #\n",
      "\u001b[1m(\u001b[0;36mmake_pnnr_hybrid\u001b[0m)>> Validating inputs\u001b[0m\n",
      "# -~-~-~-~-~-~-~-~-~-~-~-~-~-~-~-~-~-~-~-~-~-~-~-~ #\n",
      "\n",
      "(\u001b[0;36m__validate_inputs__\u001b[0m)>> Verbose mode ON.\n",
      "(\u001b[0;36m__validate_inputs__\u001b[0m)>> Valid gwylm object found. Its simulation name is \"\u001b[0;33mD11_q3.00_a0.2_0.00_m200\u001b[0m\".\n",
      "(\u001b[0;36m__validate_inputs__\u001b[0m)>> PN w_orb MIN frequency is \u001b[0;33m0.017552\u001b[0m (i.e. w_orb*M_init)\n",
      "(\u001b[0;36m__validate_inputs__\u001b[0m)>> PN w_orb MAX frequency is \u001b[0;33m0.107084\u001b[0m (i.e. w_orb*M_init)\n",
      "\n",
      "# -~-~-~-~-~-~-~-~-~-~-~-~-~-~-~-~-~-~-~-~-~-~-~-~-~-~-~-~ #\n",
      "\u001b[1m(\u001b[0;36mmake_pnnr_hybrid\u001b[0m)>> Generating PN multipoles\u001b[0m\n",
      "# -~-~-~-~-~-~-~-~-~-~-~-~-~-~-~-~-~-~-~-~-~-~-~-~-~-~-~-~ #\n",
      "\n",
      "(\u001b[0;36mpn\u001b[0m)>> Now constructing instance of the pn class.\n",
      "(\u001b[0;36mpn\u001b[0m)>> Defining the initial binary state based on inputs.\n",
      "(\u001b[0;36m__validative_constructor__\u001b[0m)>> Rescaling masses so that \u001b[92mm1+m2=1\u001b[0m\n",
      "(\u001b[0;36m__calc_orbital_frequency__\u001b[0m)>> Calculating evolution of orbital phase using RK4 steps.\n",
      "(\u001b[0;36m__calc_com_binding_energy__\u001b[0m)>> Calculating COM binding energy\n",
      "\u001b[1m(\u001b[0;33m__calc_total_angular_momentum__!\u001b[0m)\u001b[0m>> This function currently only works with non-spinning systems. See 1310.1528.\n",
      "(\u001b[0;36m__calc_hlm_of_t__\u001b[0m)>> Calculating the (l,m)=(2,2) spherical multipole.\n",
      "(\u001b[0;36m__calc_hlm_of_t__\u001b[0m)>> Calculating the (l,m)=(2,1) spherical multipole.\n",
      "(\u001b[0;36m__calc_hlm_of_t__\u001b[0m)>> Calculating the (l,m)=(2,0) spherical multipole.\n",
      "(\u001b[0;36m__calc_hlm_of_t__\u001b[0m)>> Calculating the (l,m)=(3,3) spherical multipole.\n",
      "(\u001b[0;36m__calc_hlm_of_t__\u001b[0m)>> Calculating the (l,m)=(3,2) spherical multipole.\n",
      "(\u001b[0;36m__calc_hlm_of_t__\u001b[0m)>> Calculating the (l,m)=(3,1) spherical multipole.\n",
      "(\u001b[0;36m__calc_hlm_of_t__\u001b[0m)>> Calculating the (l,m)=(3,0) spherical multipole.\n",
      "(\u001b[0;36m__calc_hlm_of_t__\u001b[0m)>> Calculating the (l,m)=(4,4) spherical multipole.\n",
      "(\u001b[0;36m__calc_h_of_t__\u001b[0m)>> Calculating m<0 multipoles using symmetry relation.\n",
      "(\u001b[0;36m__calc_h_of_t__\u001b[0m)>> Updating lmlist to inlcude m<0 multipoles.\n",
      "(\u001b[0;36m__init__\u001b[0m)>> Calculating psi4 and news from strain.\n",
      "(\u001b[0;36m__to_gwylmo__\u001b[0m)>> Making gwylm represenation.\n",
      "(\u001b[0;36m__to_gwylmo__\u001b[0m)>> Interpolating time domain waveforms for equispacing.\n",
      "(\u001b[0;36m__generate_pn__\u001b[0m)>> Determining multipole to consider for hybridization by taking the set intersection of those present in NR and PN data.\n",
      "(\u001b[0;36m__generate_pn__\u001b[0m)>> Hybrid waveforms will be constructed for the following multipoles:\n",
      "[(2, 2), (4, 4)]\n",
      "\n",
      "# -~-~-~-~-~-~-~-~-~-~-~-~-~-~-~-~-~-~-~-~-~-~-~-~-~-~-~-~-~-~-~-~-~ #\n",
      "\u001b[1m(\u001b[0;36mmake_pnnr_hybrid\u001b[0m)>> Calculating l=m=2 hybrid parameters\u001b[0m\n",
      "# -~-~-~-~-~-~-~-~-~-~-~-~-~-~-~-~-~-~-~-~-~-~-~-~-~-~-~-~-~-~-~-~-~ #\n",
      "\n",
      "(\u001b[0;36m__calc_l2m2_hybrid_params__\u001b[0m)>> The l=m=2 \u001b[0;36mpsi4\u001b[0m will be used for determining (initial) optimal hybrid params.\n",
      "(\u001b[0;36m__calc_l2m2_hybrid_params__\u001b[0m)>> Aligning formats of NR and PN data\n",
      "(\u001b[0;36m__calc_l2m2_hybrid_params__\u001b[0m)>> Storing hybrid time series.\n",
      "(\u001b[0;36m__calc_l2m2_hybrid_params__\u001b[0m)>> Using cross-correlation to estimate optimal params.\n",
      "(\u001b[0;36m__calc_l2m2_hybrid_params__\u001b[0m)>> We will use 3 cycles for the hybridization region's width.\n",
      "(\u001b[0;36m__calc_l2m2_hybrid_params__\u001b[0m)>> Storing shifting functions for future reference.\n",
      "(\u001b[0;36m__calc_l2m2_hybrid_params__\u001b[0m)>> Finding optimal time-shift using scipy.optimize.minimize\n",
      "(\u001b[0;36m__calc_l2m2_hybrid_params__\u001b[0m)>> Storing optimal params to this.optimal_hybrid_params\n",
      "{'k0': 353074.0, 'hybrid_cycles': 3, 'phi0_22': 4951.376031200304, 'T2': 301.5, 'dt': 0.15, 'mask': array([False, False, False, ..., False, False, False]), 't0': 52961.05002717491, 'T1': 172.65}\n",
      "\n",
      "# -~-~-~-~-~-~-~-~-~-~-~-~-~-~-~-~-~-~-~-~-~-~-~-~-~-~-~-~-~-~-~-~-~-~-~-~-~-~ #\n",
      "\u001b[1m(\u001b[0;36mmake_pnnr_hybrid\u001b[0m)>> Calculating multipole \u001b[0;36mpsi4\u001b[0m hybrids\u001b[0m\n",
      "# -~-~-~-~-~-~-~-~-~-~-~-~-~-~-~-~-~-~-~-~-~-~-~-~-~-~-~-~-~-~-~-~-~-~-~-~-~-~ #\n",
      "\n",
      "\n",
      "# ++++++++++++++++++++++++++++++++++++++++++++++++++++++++++++++++++++++++++++++ #\n",
      "\u001b[1m(\u001b[0;36m__calc_multipole_hybrids__\u001b[0m)>> Creating hybrid for: \u001b[92m(2, 2)\u001b[0m\u001b[0m\n",
      "# ++++++++++++++++++++++++++++++++++++++++++++++++++++++++++++++++++++++++++++++ #\n",
      "\n"
     ]
    },
    {
     "name": "stderr",
     "output_type": "stream",
     "text": [
      "/Users/book/JOKI/Libs/KOALA/nrutils_dev/nrutils/manipulate/hybridize.py:532: RuntimeWarning: divide by zero encountered in divide\n",
      "  scale_factor = mean( nr_amp[k]/pn_amp[k] )\n",
      "/Users/book/JOKI/Libs/KOALA/positive_dev/positive/learning.py:32: FutureWarning: `rcond` parameter will change to the default of machine precision times ``max(M, N)`` where M and N are the input matrix dimensions.\n",
      "To use the future default and silence this warning we advise to pass `rcond=None`, to keep using the old, explicitly pass `rcond=-1`.\n",
      "  coeffs = lstsq( alpha, centered_scalar_range )[0]\n"
     ]
    },
    {
     "name": "stdout",
     "output_type": "stream",
     "text": [
      "\u001b[1m(\u001b[0;33m__get_aligned_nr_pn_amp_phase__!\u001b[0m)\u001b[0m>> The PN phase will be shifted by 1.220091 (rad).\n"
     ]
    },
    {
     "name": "stderr",
     "output_type": "stream",
     "text": [
      "/Users/book/anaconda2/lib/python2.7/site-packages/numpy/core/fromnumeric.py:3118: RuntimeWarning: Mean of empty slice.\n",
      "  out=out, **kwargs)\n",
      "/Users/book/anaconda2/lib/python2.7/site-packages/numpy/core/_methods.py:85: RuntimeWarning: invalid value encountered in double_scalars\n",
      "  ret = ret.dtype.type(ret / rcount)\n",
      "/Users/book/JOKI/Libs/KOALA/positive_dev/positive/learning.py:1313: RuntimeWarning: invalid value encountered in divide\n",
      "  phares = ( sunwrap(angle(fit_range)) - sunwrap(angle(this.range)) ) / sunwrap(angle(this.range))\n"
     ]
    },
    {
     "name": "stdout",
     "output_type": "stream",
     "text": [
      "\n",
      "# ++++++++++++++++++++++++++++++++++++++++++++++++++++++++++++++++++++++++++++++ #\n",
      "\u001b[1m(\u001b[0;36m__calc_multipole_hybrids__\u001b[0m)>> Creating hybrid for: \u001b[92m(4, 4)\u001b[0m\u001b[0m\n",
      "# ++++++++++++++++++++++++++++++++++++++++++++++++++++++++++++++++++++++++++++++ #\n",
      "\n",
      "\u001b[1m(\u001b[0;33m__get_aligned_nr_pn_amp_phase__!\u001b[0m)\u001b[0m>> The PN phase will be shifted by 2.231880 (rad).\n",
      "\u001b[1m(\u001b[0;33m__calc_single_multipole_hybrid__!\u001b[0m)\u001b[0m>> The NR data appares to be sufficiently smooth. No bridge model will be used.\n",
      "(\u001b[0;36m__calc_multipole_hybrids__\u001b[0m)>> Calculating hybrid strain.\n",
      "(\u001b[0;36mcalchlm\u001b[0m)>> \u001b[0;35mw22 = m*w22/2 = 0.035105\u001b[0m\u001b[0;33m (this is the lower frequency used for FFI method [arxiv:1006.1632v3])\u001b[0m\n",
      "(\u001b[0;36mgwylm.calchlm\u001b[0m)>> \u001b[0;33mThe user should note that there is no minus sign used in front of the double time integral for strain (i.e. Eq 4 of arxiv:1006.1632). This differs from Eq 3.4 of arxiv:0707.4654v3. The net effect is a rotation of the overall polarization of pi degrees. The user should also note that there is no minus sign applied to h_cross meaning that the user must be mindful to write h_plus-1j*h_cross when appropriate.\u001b[0m\n",
      "(\u001b[0;36mcalchlm\u001b[0m)>> \u001b[0;35mw44 = m*w22/2 = 0.070210\u001b[0m\u001b[0;33m (this is the lower frequency used for FFI method [arxiv:1006.1632v3])\u001b[0m\n",
      "(\u001b[0;36mgwylm.calchlm\u001b[0m)>> \u001b[0;33mThe user should note that there is no minus sign used in front of the double time integral for strain (i.e. Eq 4 of arxiv:1006.1632). This differs from Eq 3.4 of arxiv:0707.4654v3. The net effect is a rotation of the overall polarization of pi degrees. The user should also note that there is no minus sign applied to h_cross meaning that the user must be mindful to write h_plus-1j*h_cross when appropriate.\u001b[0m\n",
      "(\u001b[0;36m__calc_multipole_hybrids__\u001b[0m)>> Calculating hybrid news.\n",
      "(\u001b[0;36mcalcflm\u001b[0m)>> \u001b[0;35mw0(w22) = 0.035105\u001b[0m\u001b[0;33m (this is the lower frequency used for FFI method [arxiv:1006.1632v3])\u001b[0m\n",
      "(\u001b[0;36mcalcflm\u001b[0m)>> \u001b[0;35mw0(w22) = 0.070210\u001b[0m\u001b[0;33m (this is the lower frequency used for FFI method [arxiv:1006.1632v3])\u001b[0m\n"
     ]
    }
   ],
   "source": [
    "y = gwylm(A[22],lm=[(2,2),(4,4)],verbose=True,clean=True)\n",
    "y = y.hybridize()"
   ]
  },
  {
   "cell_type": "code",
   "execution_count": 97,
   "metadata": {
    "ExecuteTime": {
     "end_time": "2019-10-10T22:36:28.127774Z",
     "start_time": "2019-10-10T22:36:28.121853"
    },
    "collapsed": false
   },
   "outputs": [],
   "source": [
    "a,b = y"
   ]
  },
  {
   "cell_type": "code",
   "execution_count": 108,
   "metadata": {
    "ExecuteTime": {
     "end_time": "2019-10-10T22:40:24.251560Z",
     "start_time": "2019-10-10T22:40:20.601683"
    },
    "collapsed": false
   },
   "outputs": [],
   "source": [
    "h22 =  physh(a[2,2]['psi4'],40.0,501.0)\n",
    "h44 =  physh(a[4,4]['psi4'],40.0,501.0)"
   ]
  },
  {
   "cell_type": "code",
   "execution_count": 109,
   "metadata": {
    "ExecuteTime": {
     "end_time": "2019-10-10T22:40:24.272269Z",
     "start_time": "2019-10-10T22:40:24.256369"
    },
    "collapsed": false
   },
   "outputs": [],
   "source": [
    "%matplotlib inline\n",
    "from matplotlib.pyplot import *"
   ]
  },
  {
   "cell_type": "code",
   "execution_count": 110,
   "metadata": {
    "ExecuteTime": {
     "end_time": "2019-10-10T22:40:24.802365Z",
     "start_time": "2019-10-10T22:40:24.278749"
    },
    "collapsed": false
   },
   "outputs": [
    {
     "data": {
      "text/plain": [
       "<matplotlib.legend.Legend at 0x1143aded0>"
      ]
     },
     "execution_count": 110,
     "metadata": {},
     "output_type": "execute_result"
    },
    {
     "data": {
      "image/png": "[encoded data removed]",
      "text/plain": [
       "<Figure size 432x288 with 1 Axes>"
      ]
     },
     "metadata": {
      "needs_background": "light"
     },
     "output_type": "display_data"
    }
   ],
   "source": [
    "plot( h22.t, h22.dphi/(2*pi),label='22' )\n",
    "plot( h44.t, h44.dphi/(2*pi),label='44' )\n",
    "ylim([0,80])\n",
    "legend()"
   ]
  },
  {
   "cell_type": "code",
   "execution_count": 101,
   "metadata": {
    "ExecuteTime": {
     "end_time": "2019-10-10T22:37:05.941430Z",
     "start_time": "2019-10-10T22:37:05.726648"
    },
    "collapsed": false
   },
   "outputs": [
    {
     "data": {
      "text/plain": [
       "<matplotlib.legend.Legend at 0x11771f650>"
      ]
     },
     "execution_count": 101,
     "metadata": {},
     "output_type": "execute_result"
    },
    {
     "data": {
      "image/png": "[encoded data removed]",
      "text/plain": [
       "<Figure size 432x288 with 1 Axes>"
      ]
     },
     "metadata": {
      "needs_background": "light"
     },
     "output_type": "display_data"
    }
   ],
   "source": [
    "plot( h22.t, h22.amp,label='22' )\n",
    "plot( h44.t, h44.amp,label='44' )\n",
    "# ylim([0,40])\n",
    "legend()"
   ]
  },
  {
   "cell_type": "code",
   "execution_count": null,
   "metadata": {
    "collapsed": true
   },
   "outputs": [],
   "source": []
  }
 ],
 "metadata": {
  "kernelspec": {
   "display_name": "Python 2",
   "language": "python",
   "name": "python2"
  },
  "language_info": {
   "codemirror_mode": {
    "name": "ipython",
    "version": 2
   },
   "file_extension": ".py",
   "mimetype": "text/x-python",
   "name": "python",
   "nbconvert_exporter": "python",
   "pygments_lexer": "ipython2",
   "version": "2.7.3"
  }
 },
 "nbformat": 4,
 "nbformat_minor": 0
}
