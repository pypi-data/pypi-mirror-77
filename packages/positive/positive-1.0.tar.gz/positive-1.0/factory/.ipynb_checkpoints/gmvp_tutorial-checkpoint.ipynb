{
 "cells": [
  {
   "cell_type": "markdown",
   "metadata": {},
   "source": [
    "# ND Parametric Fitting with Polynomial (GMVP) and Rational (GMVR) Models"
   ]
  },
  {
   "cell_type": "code",
   "execution_count": 3,
   "metadata": {
    "ExecuteTime": {
     "end_time": "2018-06-19T07:30:08.787369Z",
     "start_time": "2018-06-19T07:30:08.664295"
    },
    "collapsed": false
   },
   "outputs": [
    {
     "name": "stdout",
     "output_type": "stream",
     "text": [
      "The autoreload extension is already loaded. To reload it, use:\n",
      "  %reload_ext autoreload\n"
     ]
    }
   ],
   "source": [
    "# Setup ipython environment\n",
    "from numpy import *\n",
    "from numpy.linalg import pinv,lstsq\n",
    "%load_ext autoreload\n",
    "%autoreload 2\n",
    "%matplotlib inline\n",
    "import numpy as np\n",
    "from positive import *\n",
    "from mpl_toolkits.mplot3d import Axes3D\n",
    "from matplotlib.pyplot import *"
   ]
  },
  {
   "cell_type": "markdown",
   "metadata": {},
   "source": [
    "# 2D Polynomial fitting with matrix least-squares -- Explicit Example"
   ]
  },
  {
   "cell_type": "markdown",
   "metadata": {},
   "source": [
    "We most often see 1D examples of polynomial fitting matrix least-squares. It's nice that ND (here 2D) polynomial fitting is a straightforward extension. Generalize the Vandermonde matrix."
   ]
  },
  {
   "cell_type": "code",
   "execution_count": 2,
   "metadata": {
    "ExecuteTime": {
     "end_time": "2018-06-19T07:29:43.303710Z",
     "start_time": "2018-06-19T07:29:42.850783"
    },
    "collapsed": false
   },
   "outputs": [
    {
     "ename": "ValueError",
     "evalue": "Unknown projection '3d'",
     "output_type": "error",
     "traceback": [
      "\u001b[0;31m---------------------------------------------------------------------------\u001b[0m",
      "\u001b[0;31mValueError\u001b[0m                                Traceback (most recent call last)",
      "\u001b[0;32m<ipython-input-2-f3a5120d2c7e>\u001b[0m in \u001b[0;36m<module>\u001b[0;34m()\u001b[0m\n\u001b[1;32m      1\u001b[0m \u001b[0;31m# Create kludge surface\u001b[0m\u001b[0;34m\u001b[0m\u001b[0;34m\u001b[0m\u001b[0m\n\u001b[1;32m      2\u001b[0m \u001b[0mfig\u001b[0m \u001b[0;34m=\u001b[0m \u001b[0mfigure\u001b[0m\u001b[0;34m(\u001b[0m \u001b[0mfigsize\u001b[0m\u001b[0;34m=\u001b[0m\u001b[0;36m2.5\u001b[0m\u001b[0;34m*\u001b[0m\u001b[0marray\u001b[0m\u001b[0;34m(\u001b[0m\u001b[0;34m[\u001b[0m\u001b[0;36m6.5\u001b[0m\u001b[0;34m,\u001b[0m\u001b[0;36m3\u001b[0m\u001b[0;34m]\u001b[0m\u001b[0;34m)\u001b[0m \u001b[0;34m)\u001b[0m\u001b[0;34m\u001b[0m\u001b[0m\n\u001b[0;32m----> 3\u001b[0;31m \u001b[0max\u001b[0m \u001b[0;34m=\u001b[0m \u001b[0mfig\u001b[0m\u001b[0;34m.\u001b[0m\u001b[0madd_subplot\u001b[0m\u001b[0;34m(\u001b[0m\u001b[0;36m121\u001b[0m\u001b[0;34m,\u001b[0m \u001b[0mprojection\u001b[0m\u001b[0;34m=\u001b[0m\u001b[0;34m'3d'\u001b[0m\u001b[0;34m)\u001b[0m\u001b[0;34m\u001b[0m\u001b[0m\n\u001b[0m\u001b[1;32m      4\u001b[0m \u001b[0max2\u001b[0m \u001b[0;34m=\u001b[0m \u001b[0mfig\u001b[0m\u001b[0;34m.\u001b[0m\u001b[0madd_subplot\u001b[0m\u001b[0;34m(\u001b[0m\u001b[0;36m122\u001b[0m\u001b[0;34m)\u001b[0m\u001b[0;34m\u001b[0m\u001b[0m\n\u001b[1;32m      5\u001b[0m \u001b[0;31m#\u001b[0m\u001b[0;34m\u001b[0m\u001b[0;34m\u001b[0m\u001b[0m\n",
      "\u001b[0;32m/Users/book/anaconda2/lib/python2.7/site-packages/matplotlib/figure.pyc\u001b[0m in \u001b[0;36madd_subplot\u001b[0;34m(self, *args, **kwargs)\u001b[0m\n\u001b[1;32m   1050\u001b[0m         \u001b[0;32melse\u001b[0m\u001b[0;34m:\u001b[0m\u001b[0;34m\u001b[0m\u001b[0m\n\u001b[1;32m   1051\u001b[0m             projection_class, kwargs, key = process_projection_requirements(\n\u001b[0;32m-> 1052\u001b[0;31m                 self, *args, **kwargs)\n\u001b[0m\u001b[1;32m   1053\u001b[0m \u001b[0;34m\u001b[0m\u001b[0m\n\u001b[1;32m   1054\u001b[0m             \u001b[0;31m# try to find the axes with this key in the stack\u001b[0m\u001b[0;34m\u001b[0m\u001b[0;34m\u001b[0m\u001b[0m\n",
      "\u001b[0;32m/Users/book/anaconda2/lib/python2.7/site-packages/matplotlib/projections/__init__.pyc\u001b[0m in \u001b[0;36mprocess_projection_requirements\u001b[0;34m(figure, *args, **kwargs)\u001b[0m\n\u001b[1;32m     89\u001b[0m \u001b[0;34m\u001b[0m\u001b[0m\n\u001b[1;32m     90\u001b[0m     \u001b[0;32mif\u001b[0m \u001b[0misinstance\u001b[0m\u001b[0;34m(\u001b[0m\u001b[0mprojection\u001b[0m\u001b[0;34m,\u001b[0m \u001b[0msix\u001b[0m\u001b[0;34m.\u001b[0m\u001b[0mstring_types\u001b[0m\u001b[0;34m)\u001b[0m \u001b[0;32mor\u001b[0m \u001b[0mprojection\u001b[0m \u001b[0;32mis\u001b[0m \u001b[0mNone\u001b[0m\u001b[0;34m:\u001b[0m\u001b[0;34m\u001b[0m\u001b[0m\n\u001b[0;32m---> 91\u001b[0;31m         \u001b[0mprojection_class\u001b[0m \u001b[0;34m=\u001b[0m \u001b[0mget_projection_class\u001b[0m\u001b[0;34m(\u001b[0m\u001b[0mprojection\u001b[0m\u001b[0;34m)\u001b[0m\u001b[0;34m\u001b[0m\u001b[0m\n\u001b[0m\u001b[1;32m     92\u001b[0m     \u001b[0;32melif\u001b[0m \u001b[0mhasattr\u001b[0m\u001b[0;34m(\u001b[0m\u001b[0mprojection\u001b[0m\u001b[0;34m,\u001b[0m \u001b[0;34m'_as_mpl_axes'\u001b[0m\u001b[0;34m)\u001b[0m\u001b[0;34m:\u001b[0m\u001b[0;34m\u001b[0m\u001b[0m\n\u001b[1;32m     93\u001b[0m         \u001b[0mprojection_class\u001b[0m\u001b[0;34m,\u001b[0m \u001b[0mextra_kwargs\u001b[0m \u001b[0;34m=\u001b[0m \u001b[0mprojection\u001b[0m\u001b[0;34m.\u001b[0m\u001b[0m_as_mpl_axes\u001b[0m\u001b[0;34m(\u001b[0m\u001b[0;34m)\u001b[0m\u001b[0;34m\u001b[0m\u001b[0m\n",
      "\u001b[0;32m/Users/book/anaconda2/lib/python2.7/site-packages/matplotlib/projections/__init__.pyc\u001b[0m in \u001b[0;36mget_projection_class\u001b[0;34m(projection)\u001b[0m\n\u001b[1;32m     63\u001b[0m         \u001b[0;32mreturn\u001b[0m \u001b[0mprojection_registry\u001b[0m\u001b[0;34m.\u001b[0m\u001b[0mget_projection_class\u001b[0m\u001b[0;34m(\u001b[0m\u001b[0mprojection\u001b[0m\u001b[0;34m)\u001b[0m\u001b[0;34m\u001b[0m\u001b[0m\n\u001b[1;32m     64\u001b[0m     \u001b[0;32mexcept\u001b[0m \u001b[0mKeyError\u001b[0m\u001b[0;34m:\u001b[0m\u001b[0;34m\u001b[0m\u001b[0m\n\u001b[0;32m---> 65\u001b[0;31m         \u001b[0;32mraise\u001b[0m \u001b[0mValueError\u001b[0m\u001b[0;34m(\u001b[0m\u001b[0;34m\"Unknown projection '%s'\"\u001b[0m \u001b[0;34m%\u001b[0m \u001b[0mprojection\u001b[0m\u001b[0;34m)\u001b[0m\u001b[0;34m\u001b[0m\u001b[0m\n\u001b[0m\u001b[1;32m     66\u001b[0m \u001b[0;34m\u001b[0m\u001b[0m\n\u001b[1;32m     67\u001b[0m \u001b[0;34m\u001b[0m\u001b[0m\n",
      "\u001b[0;31mValueError\u001b[0m: Unknown projection '3d'"
     ]
    },
    {
     "data": {
      "text/plain": [
       "<matplotlib.figure.Figure at 0x111c5ca10>"
      ]
     },
     "metadata": {},
     "output_type": "display_data"
    }
   ],
   "source": [
    "# Create kludge surface\n",
    "fig = figure( figsize=2.5*array([6.5,3]) )\n",
    "ax = fig.add_subplot(121, projection='3d')\n",
    "ax2 = fig.add_subplot(122)\n",
    "#\n",
    "x = linspace(-0.5,0.5,10)\n",
    "y = array(x)\n",
    "D = 2\n",
    "# Grid the 2D domain\n",
    "X,Y = meshgrid(x,y)\n",
    "# Create sample data for the 2D surface\n",
    "zfun = lambda xx,yy: xx**2 + yy**2\n",
    "Z = zfun(X,Y) + 0.1*(random.random( X.shape )-0.5)\n",
    "\n",
    "#%%#%%#%%#%%#%%#%%#%%#%%#%%#%%#%%#%%#%%#%%#%%#%%#%%#%%#%%#%%#\n",
    "\n",
    "# Flatten the data -- N-D to 1D\n",
    "#--\n",
    "# Domain\n",
    "flatX = reshape( X, (X.size,) )\n",
    "flatY = reshape( Y, (Y.size,) )\n",
    "# Range\n",
    "flatZ = reshape( Z, (Z.size,) )\n",
    "\n",
    "# \n",
    "domain = vstack( [flatX,flatY] ).T\n",
    "scalar_range = flatZ\n",
    "\n",
    "# Use a sybolic representation of the test model\n",
    "# If this is changes, then the model fit changes \n",
    "#                 x   y   x*x  y*y\n",
    "basis_symbols = ['0','1','00','11']\n",
    "\n",
    "# Cleanly format basis symbols, and remove possible duplicates, or linearly dependent symbols \n",
    "for s in basis_symbols:\n",
    "    s = sorted(s)\n",
    "basis_symbols = sorted( list( set(basis_symbols) ) )\n",
    "\n",
    "# Each symbol encodes a function of the basis vectors. This function converts between the two represenations.\n",
    "# NOTE that a constant term will be added independently of the given symbols, unless as toggle is implemented?\n",
    "def C( sym, dom = None ):\n",
    "    if dom is None:\n",
    "        dom = domain\n",
    "    map_ = [ int(k) for k in sym ]\n",
    "    ans = 1.0 # NOTE that the final answer will be of the shape of the domain vectors\n",
    "    for k in map_:\n",
    "        ans *= dom[:,k]\n",
    "    #\n",
    "    return ans\n",
    "        \n",
    "# Create the Vandermonde matrix\n",
    "P = vstack( [ ones( C('0').shape ), [C(sym) for sym in basis_symbols] ] ).T\n",
    "\n",
    "# Compute the pseudo inverse of P\n",
    "Q = pinv( P )\n",
    "\n",
    "print 'the pseudo-inverse shape is: %s' % list(Q.shape)\n",
    "print 'the scalar range shape is:%s' % list(scalar_range.shape)\n",
    "\n",
    "# Estimate the coefficients of the basis symbols -- the polynomial coeffs\n",
    "a = dot( Q, scalar_range )\n",
    "\n",
    "alert('Recovered polynomial coefficients:')\n",
    "print a\n",
    "\n",
    "# Create a functional representation of the fit\n",
    "# fun = lambda vec: a[0]*ones(C('0').shape) + sum( [ b*C(basis_symbols[k],dom=vec) for k,b in enumerate(a[1:]) ] )\n",
    "def fun( vec ):\n",
    "    ans_str = 'f = '\n",
    "    # constant term\n",
    "    ans = a[0]*ones(C('0', dom=vec).shape)\n",
    "    ans_str += '%1.4f*(1)' % a[0]\n",
    "    #\n",
    "    for k,b in enumerate(a[1:]):\n",
    "        ans += b*C( basis_symbols[k], dom=vec )\n",
    "        ans_str += ' + %1.4e*(%s)' % (b,basis_symbols[k].replace('0','*x').replace('1','*y'))\n",
    "    return (ans,ans_str.replace('(*','('))\n",
    "\n",
    "# Compute the fit residuals\n",
    "residuals = std( fun( domain )[0] - scalar_range )\n",
    "\n",
    "print fun( domain )[1]\n",
    "print 'stdres = %e' % residuals\n",
    "\n",
    "x2 = linspace(-0.5,0.5,10) \n",
    "y2 = linspace(-0.5,0.5,10) \n",
    "X2,Y2 = meshgrid(x2,y2)\n",
    "flatX2 = reshape( X2, (X2.size,) )\n",
    "flatY2 = reshape( Y2, (Y2.size,) )\n",
    "domain2 = vstack( [flatX2,flatY2] ).T\n",
    "print domain2.shape\n",
    "flastZ2 = fun( domain2 )[0]\n",
    "Z2 = flastZ2.reshape( X2.shape )\n",
    "        \n",
    "# ax.scatter(X,Y,Z)\n",
    "ax.plot_wireframe(X2, Y2, Z2, rstride=1, cstride=1)\n",
    "ax.scatter(X,Y,Z,color='r')\n",
    "\n",
    "res = fun( domain )[0] - scalar_range\n",
    "n, bins, patches = ax2.hist(res, 50, normed=1, facecolor=0.8*array([1,1,1]), alpha=0.75)\n",
    "\n"
   ]
  },
  {
   "cell_type": "code",
   "execution_count": null,
   "metadata": {
    "collapsed": true
   },
   "outputs": [],
   "source": []
  }
 ],
 "metadata": {
  "kernelspec": {
   "display_name": "Python 2",
   "language": "python",
   "name": "python2"
  },
  "language_info": {
   "codemirror_mode": {
    "name": "ipython",
    "version": 2
   },
   "file_extension": ".py",
   "mimetype": "text/x-python",
   "name": "python",
   "nbconvert_exporter": "python",
   "pygments_lexer": "ipython2",
   "version": "2.7.14"
  }
 },
 "nbformat": 4,
 "nbformat_minor": 0
}
