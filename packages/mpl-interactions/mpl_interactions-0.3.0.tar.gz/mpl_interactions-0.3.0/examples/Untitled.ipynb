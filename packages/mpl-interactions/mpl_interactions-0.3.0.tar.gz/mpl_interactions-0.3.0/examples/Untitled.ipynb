{
 "cells": [
  {
   "cell_type": "code",
   "execution_count": 1,
   "metadata": {},
   "outputs": [],
   "source": [
    "%matplotlib ipympl\n",
    "import ipywidgets as widgets\n",
    "out = widgets.Output()"
   ]
  },
  {
   "cell_type": "code",
   "execution_count": 2,
   "metadata": {},
   "outputs": [
    {
     "data": {
      "application/vnd.jupyter.widget-view+json": {
       "model_id": "6b87ae7993c24afd86c19932ed408071",
       "version_major": 2,
       "version_minor": 0
      },
      "text/plain": [
       "Canvas(toolbar=Toolbar(toolitems=[('Home', 'Reset original view', 'home', 'home'), ('Back', 'Back to previous …"
      ]
     },
     "metadata": {},
     "output_type": "display_data"
    }
   ],
   "source": [
    "import numpy as np\n",
    "import matplotlib.pyplot as plt\n",
    "from matplotlib.widgets import Slider\n",
    "from matplotlib.patches import Rectangle\n",
    "from matplotlib.collections import PatchCollection\n",
    "from matplotlib import get_backend\n",
    "\n",
    "def f(loc, scale):\n",
    "    return np.random.randn(10000)*scale + loc\n",
    "\n",
    "fig, ax = plt.subplots()\n",
    "plt.subplots_adjust( bottom=0.25)\n",
    "pc = PatchCollection([])\n",
    "ax.add_collection(pc)\n",
    "axcolor = 'lightgoldenrodyellow'\n",
    "ax_sigma = plt.axes([0.25, 0.1, 0.65, 0.03], facecolor=axcolor)\n",
    "ax_mean = plt.axes([0.25, 0.15, 0.65, 0.03], facecolor=axcolor)\n",
    "\n",
    "loc_slider = Slider(ax_mean, 'mean', -10, 10, valinit=1.5, valstep=.1)\n",
    "scale_slider = Slider(ax_sigma, 'sigma', 0.5, 10.0, valinit=.1)\n",
    "\n",
    "def update_plot(change):\n",
    "    arr = f(loc_slider.val, scale_slider.val)\n",
    "    heights, bins = np.histogram(arr, bins='auto', density=True)\n",
    "    width = bins[1]-bins[0]\n",
    "    new_patches = []\n",
    "    for i in range(len(heights)):\n",
    "        new_patches.append(Rectangle((bins[i],0), width=width, height=heights[i]))\n",
    "    pc.set_paths(new_patches)\n",
    "    fig.canvas.draw() # same effect with draw_idle\n",
    "\n",
    "loc_slider.on_changed(update_plot)\n",
    "scale_slider.on_changed(update_plot)\n",
    "\n",
    "update_plot(None) # call once to populate the initial state\n",
    "ax.set_title(f\"Using the {get_backend()} backend\")\n",
    "ax.set_ylim([0,1])\n",
    "ax.set_xlim([-12.5,12.5])\n",
    "plt.show()\n"
   ]
  },
  {
   "cell_type": "code",
   "execution_count": 9,
   "metadata": {},
   "outputs": [
    {
     "data": {
      "application/vnd.jupyter.widget-view+json": {
       "model_id": "0ae266e300744a499d3298cd3778af11",
       "version_major": 2,
       "version_minor": 0
      },
      "text/plain": [
       "FloatSlider(value=1.5, description='mean', max=10.0, min=-10.0)"
      ]
     },
     "metadata": {},
     "output_type": "display_data"
    },
    {
     "data": {
      "application/vnd.jupyter.widget-view+json": {
       "model_id": "e3e8cfe1b6094f17a950df168de6e4df",
       "version_major": 2,
       "version_minor": 0
      },
      "text/plain": [
       "FloatSlider(value=0.5, description='sigma', max=10.0, min=0.5)"
      ]
     },
     "metadata": {},
     "output_type": "display_data"
    },
    {
     "data": {
      "application/vnd.jupyter.widget-view+json": {
       "model_id": "36cc2a9f4586462ab423bfb5fc57d384",
       "version_major": 2,
       "version_minor": 0
      },
      "text/plain": [
       "Canvas(toolbar=Toolbar(toolitems=[('Home', 'Reset original view', 'home', 'home'), ('Back', 'Back to previous …"
      ]
     },
     "metadata": {},
     "output_type": "display_data"
    }
   ],
   "source": [
    "\n",
    "import ipywidgets as widgets\n",
    "import numpy as np\n",
    "import matplotlib.pyplot as plt\n",
    "from matplotlib.widgets import Slider\n",
    "from matplotlib.patches import Rectangle\n",
    "from matplotlib.collections import PatchCollection\n",
    "from matplotlib import get_backend\n",
    "\n",
    "def f(loc, scale):\n",
    "    return np.random.randn(10000)*scale + loc\n",
    "\n",
    "loc_slider = widgets.FloatSlider(description='mean', min=-10, max=10, value=1.5)\n",
    "scale_slider = widgets.FloatSlider(description='sigma', min=0.5, max=10.0, value=.1)\n",
    "display(loc_slider)\n",
    "display(scale_slider)\n",
    "fig, ax = plt.subplots()\n",
    "pc = PatchCollection([])\n",
    "ax.add_collection(pc)\n",
    "\n",
    "\n",
    "def update_plot(change):\n",
    "    arr = f(loc_slider.value, scale_slider.value)\n",
    "    heights, bins = np.histogram(arr, bins='auto', density=True)\n",
    "    width = bins[1]-bins[0]\n",
    "    new_patches = []\n",
    "    for i in range(len(heights)):\n",
    "        new_patches.append(Rectangle((bins[i],0), width=width, height=heights[i]))\n",
    "    pc.set_paths(new_patches)\n",
    "    fig.canvas.draw() # same effect with draw_idle\n",
    "\n",
    "loc_slider.observe(update_plot, names=['value'])\n",
    "scale_slider.observe(update_plot, names=['value'])\n",
    "\n",
    "update_plot(None) # call once to populate the initial state\n",
    "ax.set_title(f\"Using the {get_backend()} backend\")\n",
    "ax.set_ylim([0,1])\n",
    "ax.set_xlim([-12.5,12.5])\n",
    "plt.show()"
   ]
  },
  {
   "cell_type": "code",
   "execution_count": 6,
   "metadata": {},
   "outputs": [
    {
     "data": {
      "application/vnd.jupyter.widget-view+json": {
       "model_id": "c1b5601e8bc5430aabcbbbefdb8221a2",
       "version_major": 2,
       "version_minor": 0
      },
      "text/plain": [
       "FloatSlider(value=1.5, description='mean', max=10.0, min=-10.0)"
      ]
     },
     "metadata": {},
     "output_type": "display_data"
    }
   ],
   "source": [
    "loc_slider"
   ]
  },
  {
   "cell_type": "code",
   "execution_count": null,
   "metadata": {},
   "outputs": [],
   "source": []
  }
 ],
 "metadata": {
  "kernelspec": {
   "display_name": "Python 3",
   "language": "python",
   "name": "python3"
  },
  "language_info": {
   "codemirror_mode": {
    "name": "ipython",
    "version": 3
   },
   "file_extension": ".py",
   "mimetype": "text/x-python",
   "name": "python",
   "nbconvert_exporter": "python",
   "pygments_lexer": "ipython3",
   "version": "3.8.3"
  }
 },
 "nbformat": 4,
 "nbformat_minor": 4
}
