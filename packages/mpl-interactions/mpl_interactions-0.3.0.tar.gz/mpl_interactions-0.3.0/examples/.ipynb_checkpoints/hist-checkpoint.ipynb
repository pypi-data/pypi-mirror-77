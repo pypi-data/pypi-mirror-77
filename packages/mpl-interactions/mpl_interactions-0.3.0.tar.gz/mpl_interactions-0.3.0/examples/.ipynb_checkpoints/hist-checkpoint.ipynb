{
 "cells": [
  {
   "cell_type": "code",
   "execution_count": 143,
   "metadata": {},
   "outputs": [],
   "source": [
    "%matplotlib ipympl\n",
    "import seaborn as sns\n",
    "import numpy as np\n",
    "import matplotlib.pyplot as plt\n",
    "import ipywidgets as widgets"
   ]
  },
  {
   "cell_type": "code",
   "execution_count": 53,
   "metadata": {},
   "outputs": [],
   "source": [
    "arr = np.random.randn(1000)"
   ]
  },
  {
   "cell_type": "code",
   "execution_count": 65,
   "metadata": {},
   "outputs": [
    {
     "data": {
      "application/vnd.jupyter.widget-view+json": {
       "model_id": "5e40544783d9432d97f8dad6eb41da12",
       "version_major": 2,
       "version_minor": 0
      },
      "text/plain": [
       "Canvas(toolbar=Toolbar(toolitems=[('Home', 'Reset original view', 'home', 'home'), ('Back', 'Back to previous …"
      ]
     },
     "metadata": {},
     "output_type": "display_data"
    }
   ],
   "source": [
    "Rectangle((0,0),)"
   ]
  },
  {
   "cell_type": "code",
   "execution_count": 122,
   "metadata": {},
   "outputs": [
    {
     "data": {
      "application/vnd.jupyter.widget-view+json": {
       "model_id": "c4919b1ace72428e8e430cf458f42cb1",
       "version_major": 2,
       "version_minor": 0
      },
      "text/plain": [
       "Canvas(toolbar=Toolbar(toolitems=[('Home', 'Reset original view', 'home', 'home'), ('Back', 'Back to previous …"
      ]
     },
     "metadata": {},
     "output_type": "display_data"
    },
    {
     "name": "stdout",
     "output_type": "stream",
     "text": [
      "2\n"
     ]
    }
   ],
   "source": [
    "# line = ax.plot([-4,0],[4,250])[0]\n",
    "print(line.zorder)"
   ]
  },
  {
   "cell_type": "code",
   "execution_count": 3,
   "metadata": {},
   "outputs": [
    {
     "data": {
      "application/vnd.jupyter.widget-view+json": {
       "model_id": "c6294f870ed04ef79dc34fb37ee09a6e",
       "version_major": 2,
       "version_minor": 0
      },
      "text/plain": [
       "FloatSlider(value=0.0, description='loc', max=10.0, min=-10.0)"
      ]
     },
     "metadata": {},
     "output_type": "display_data"
    },
    {
     "data": {
      "application/vnd.jupyter.widget-view+json": {
       "model_id": "ec5976039d724505a4a474a633363292",
       "version_major": 2,
       "version_minor": 0
      },
      "text/plain": [
       "FloatSlider(value=0.1, description='scale', max=10.0, min=0.1)"
      ]
     },
     "metadata": {},
     "output_type": "display_data"
    },
    {
     "data": {
      "text/plain": [
       "<matplotlib.backends.backend_qt5agg.FigureCanvasQTAgg at 0x7f54c64ad670>"
      ]
     },
     "metadata": {},
     "output_type": "display_data"
    }
   ],
   "source": [
    "%matplotlib qt5\n",
    "import ipywidgets as widgets\n",
    "import matplotlib.pyplot as plt\n",
    "from matplotlib.patches import Rectangle\n",
    "import numpy as np\n",
    "# plt.ioff()\n",
    "fig, ax = plt.subplots()\n",
    "# plt.ion()\n",
    "def f(loc, scale):\n",
    "    return np.random.randn(10000)*scale + loc\n",
    "\n",
    "tops, bins, patches = ax.hist(f(0,.1), bins='auto')\n",
    "def update_plot(change):\n",
    "    for p in ax.patches:\n",
    "        p.set_visible(False)\n",
    "        p.remove()\n",
    "    arr = f(change['new'], scale_slider.value)\n",
    "    heights, bins = np.histogram(arr, bins='auto')\n",
    "    width = bins[1]-bins[0]\n",
    "    for i in range(len(heights)):\n",
    "        p = Rectangle((bins[i],0), width=width, height=heights[i])\n",
    "        ax.add_patch(p)\n",
    "    fig.canvas.draw()\n",
    "loc_slider = widgets.FloatSlider(min=-10,max=10,description='loc')\n",
    "scale_slider = widgets.FloatSlider(min=.1,max=10,description='scale')\n",
    "loc_slider.observe(update_plot, names=['value'])\n",
    "scale_slider.observe(update_plot, names=['value'])\n",
    "display(loc_slider)\n",
    "display(scale_slider)\n",
    "ax.set_xlim([-12.5,12.5])\n",
    "display(fig.canvas)"
   ]
  },
  {
   "cell_type": "code",
   "execution_count": 192,
   "metadata": {},
   "outputs": [],
   "source": [
    "plt.close('all')"
   ]
  },
  {
   "cell_type": "code",
   "execution_count": 184,
   "metadata": {},
   "outputs": [],
   "source": [
    "patch = ax.add_patch(Rectangle((0,0),width=1,height=60,color='k'))"
   ]
  },
  {
   "cell_type": "code",
   "execution_count": 185,
   "metadata": {},
   "outputs": [],
   "source": []
  },
  {
   "cell_type": "code",
   "execution_count": 117,
   "metadata": {},
   "outputs": [
    {
     "name": "stdout",
     "output_type": "stream",
     "text": [
      "Rectangle(xy=(-4.01602, 0), width=0.267319, height=1, angle=0)\n",
      "Rectangle(xy=(-3.7487, 0), width=0.267319, height=0, angle=0)\n",
      "Rectangle(xy=(-3.48138, 0), width=0.267319, height=0, angle=0)\n",
      "Rectangle(xy=(-3.21406, 0), width=0.267319, height=0, angle=0)\n",
      "Rectangle(xy=(-2.94674, 0), width=0.267319, height=3, angle=0)\n",
      "Rectangle(xy=(-2.67942, 0), width=0.267319, height=2, angle=0)\n",
      "Rectangle(xy=(-2.4121, 0), width=0.267319, height=6, angle=0)\n",
      "Rectangle(xy=(-2.14479, 0), width=0.267319, height=11, angle=0)\n",
      "Rectangle(xy=(-1.87747, 0), width=0.267319, height=21, angle=0)\n",
      "Rectangle(xy=(-1.61015, 0), width=0.267319, height=39, angle=0)\n",
      "Rectangle(xy=(-1.34283, 0), width=0.267319, height=52, angle=0)\n",
      "Rectangle(xy=(-1.07551, 0), width=0.267319, height=78, angle=0)\n",
      "Rectangle(xy=(-0.808191, 0), width=0.267319, height=80, angle=0)\n",
      "Rectangle(xy=(-0.540872, 0), width=0.267319, height=89, angle=0)\n",
      "Rectangle(xy=(-0.273553, 0), width=0.267319, height=105, angle=0)\n",
      "Rectangle(xy=(-0.00623451, 0), width=0.267319, height=106, angle=0)\n",
      "Rectangle(xy=(0.261084, 0), width=0.267319, height=106, angle=0)\n",
      "Rectangle(xy=(0.528403, 0), width=0.267319, height=86, angle=0)\n",
      "Rectangle(xy=(0.795722, 0), width=0.267319, height=64, angle=0)\n",
      "Rectangle(xy=(1.06304, 0), width=0.267319, height=58, angle=0)\n",
      "Rectangle(xy=(1.33036, 0), width=0.267319, height=38, angle=0)\n",
      "Rectangle(xy=(1.59768, 0), width=0.267319, height=22, angle=0)\n",
      "Rectangle(xy=(1.865, 0), width=0.267319, height=17, angle=0)\n",
      "Rectangle(xy=(2.13232, 0), width=0.267319, height=9, angle=0)\n",
      "Rectangle(xy=(2.39964, 0), width=0.267319, height=5, angle=0)\n",
      "Rectangle(xy=(2.66695, 0), width=0.267319, height=1, angle=0)\n",
      "Rectangle(xy=(2.93427, 0), width=0.267319, height=1, angle=0)\n"
     ]
    }
   ],
   "source": [
    "for i,p in enumerate(patches):\n",
    "    print(p)\n",
    "    p.set_x(bins[i])\n",
    "    p.set_height(m[i])\n",
    "fig.canvas.draw()"
   ]
  },
  {
   "cell_type": "code",
   "execution_count": 145,
   "metadata": {},
   "outputs": [
    {
     "data": {
      "text/plain": [
       "\u001b[0;31mSignature:\u001b[0m \u001b[0max\u001b[0m\u001b[0;34m.\u001b[0m\u001b[0madd_patch\u001b[0m\u001b[0;34m(\u001b[0m\u001b[0mp\u001b[0m\u001b[0;34m)\u001b[0m\u001b[0;34m\u001b[0m\u001b[0;34m\u001b[0m\u001b[0m\n",
       "\u001b[0;31mSource:\u001b[0m   \n",
       "    \u001b[0;32mdef\u001b[0m \u001b[0madd_patch\u001b[0m\u001b[0;34m(\u001b[0m\u001b[0mself\u001b[0m\u001b[0;34m,\u001b[0m \u001b[0mp\u001b[0m\u001b[0;34m)\u001b[0m\u001b[0;34m:\u001b[0m\u001b[0;34m\u001b[0m\n",
       "\u001b[0;34m\u001b[0m        \u001b[0;34m\"\"\"\u001b[0m\n",
       "\u001b[0;34m        Add a `~.Patch` to the axes' patches; return the patch.\u001b[0m\n",
       "\u001b[0;34m        \"\"\"\u001b[0m\u001b[0;34m\u001b[0m\n",
       "\u001b[0;34m\u001b[0m        \u001b[0mself\u001b[0m\u001b[0;34m.\u001b[0m\u001b[0m_set_artist_props\u001b[0m\u001b[0;34m(\u001b[0m\u001b[0mp\u001b[0m\u001b[0;34m)\u001b[0m\u001b[0;34m\u001b[0m\n",
       "\u001b[0;34m\u001b[0m        \u001b[0;32mif\u001b[0m \u001b[0mp\u001b[0m\u001b[0;34m.\u001b[0m\u001b[0mget_clip_path\u001b[0m\u001b[0;34m(\u001b[0m\u001b[0;34m)\u001b[0m \u001b[0;32mis\u001b[0m \u001b[0;32mNone\u001b[0m\u001b[0;34m:\u001b[0m\u001b[0;34m\u001b[0m\n",
       "\u001b[0;34m\u001b[0m            \u001b[0mp\u001b[0m\u001b[0;34m.\u001b[0m\u001b[0mset_clip_path\u001b[0m\u001b[0;34m(\u001b[0m\u001b[0mself\u001b[0m\u001b[0;34m.\u001b[0m\u001b[0mpatch\u001b[0m\u001b[0;34m)\u001b[0m\u001b[0;34m\u001b[0m\n",
       "\u001b[0;34m\u001b[0m        \u001b[0mself\u001b[0m\u001b[0;34m.\u001b[0m\u001b[0m_update_patch_limits\u001b[0m\u001b[0;34m(\u001b[0m\u001b[0mp\u001b[0m\u001b[0;34m)\u001b[0m\u001b[0;34m\u001b[0m\n",
       "\u001b[0;34m\u001b[0m        \u001b[0mself\u001b[0m\u001b[0;34m.\u001b[0m\u001b[0mpatches\u001b[0m\u001b[0;34m.\u001b[0m\u001b[0mappend\u001b[0m\u001b[0;34m(\u001b[0m\u001b[0mp\u001b[0m\u001b[0;34m)\u001b[0m\u001b[0;34m\u001b[0m\n",
       "\u001b[0;34m\u001b[0m        \u001b[0mp\u001b[0m\u001b[0;34m.\u001b[0m\u001b[0m_remove_method\u001b[0m \u001b[0;34m=\u001b[0m \u001b[0mself\u001b[0m\u001b[0;34m.\u001b[0m\u001b[0mpatches\u001b[0m\u001b[0;34m.\u001b[0m\u001b[0mremove\u001b[0m\u001b[0;34m\u001b[0m\n",
       "\u001b[0;34m\u001b[0m        \u001b[0;32mreturn\u001b[0m \u001b[0mp\u001b[0m\u001b[0;34m\u001b[0m\u001b[0;34m\u001b[0m\u001b[0m\n",
       "\u001b[0;31mFile:\u001b[0m      ~/anaconda3/envs/ipympl/lib/python3.8/site-packages/matplotlib/axes/_base.py\n",
       "\u001b[0;31mType:\u001b[0m      method\n"
      ]
     },
     "metadata": {},
     "output_type": "display_data"
    }
   ],
   "source": [
    "ax.add_patch??"
   ]
  },
  {
   "cell_type": "code",
   "execution_count": 148,
   "metadata": {},
   "outputs": [
    {
     "ename": "TypeError",
     "evalue": "insert expected 2 arguments, got 4",
     "output_type": "error",
     "traceback": [
      "\u001b[0;31m---------------------------------------------------------------------------\u001b[0m",
      "\u001b[0;31mTypeError\u001b[0m                                 Traceback (most recent call last)",
      "\u001b[0;32m<ipython-input-148-4b4c131d7a88>\u001b[0m in \u001b[0;36m<module>\u001b[0;34m\u001b[0m\n\u001b[1;32m      1\u001b[0m \u001b[0ml1\u001b[0m \u001b[0;34m=\u001b[0m \u001b[0;34m[\u001b[0m\u001b[0;36m0\u001b[0m\u001b[0;34m,\u001b[0m\u001b[0;36m1\u001b[0m\u001b[0;34m,\u001b[0m\u001b[0;36m3\u001b[0m\u001b[0;34m]\u001b[0m\u001b[0;34m\u001b[0m\u001b[0;34m\u001b[0m\u001b[0m\n\u001b[1;32m      2\u001b[0m \u001b[0ml2\u001b[0m \u001b[0;34m=\u001b[0m \u001b[0;34m[\u001b[0m\u001b[0;34m'a'\u001b[0m\u001b[0;34m,\u001b[0m\u001b[0;34m'b'\u001b[0m\u001b[0;34m,\u001b[0m\u001b[0;34m'c'\u001b[0m\u001b[0;34m]\u001b[0m\u001b[0;34m\u001b[0m\u001b[0;34m\u001b[0m\u001b[0m\n\u001b[0;32m----> 3\u001b[0;31m \u001b[0ml1\u001b[0m\u001b[0;34m.\u001b[0m\u001b[0minsert\u001b[0m\u001b[0;34m(\u001b[0m\u001b[0;36m1\u001b[0m\u001b[0;34m,\u001b[0m\u001b[0;34m*\u001b[0m\u001b[0ml2\u001b[0m\u001b[0;34m)\u001b[0m\u001b[0;34m\u001b[0m\u001b[0;34m\u001b[0m\u001b[0m\n\u001b[0m\u001b[1;32m      4\u001b[0m \u001b[0ml1\u001b[0m\u001b[0;34m\u001b[0m\u001b[0;34m\u001b[0m\u001b[0m\n",
      "\u001b[0;31mTypeError\u001b[0m: insert expected 2 arguments, got 4"
     ]
    }
   ],
   "source": [
    "l1 = [0,1,3]\n",
    "l2 = ['a','b','c']\n",
    "l1.insert(1,*l2)\n",
    "l1"
   ]
  },
  {
   "cell_type": "code",
   "execution_count": 135,
   "metadata": {},
   "outputs": [
    {
     "ename": "AttributeError",
     "evalue": "'Rectangle' object has no attribute 'frozen'",
     "output_type": "error",
     "traceback": [
      "\u001b[0;31m---------------------------------------------------------------------------\u001b[0m",
      "\u001b[0;31mAttributeError\u001b[0m                            Traceback (most recent call last)",
      "\u001b[0;32m<ipython-input-135-ec1891b1ad04>\u001b[0m in \u001b[0;36m<module>\u001b[0;34m\u001b[0m\n\u001b[1;32m      2\u001b[0m \u001b[0;32mimport\u001b[0m \u001b[0mcopy\u001b[0m\u001b[0;34m\u001b[0m\u001b[0;34m\u001b[0m\u001b[0m\n\u001b[1;32m      3\u001b[0m \u001b[0;32mfor\u001b[0m \u001b[0mp\u001b[0m \u001b[0;32min\u001b[0m \u001b[0max\u001b[0m\u001b[0;34m.\u001b[0m\u001b[0mpatches\u001b[0m\u001b[0;34m:\u001b[0m\u001b[0;34m\u001b[0m\u001b[0;34m\u001b[0m\u001b[0m\n\u001b[0;32m----> 4\u001b[0;31m     \u001b[0mp0\u001b[0m \u001b[0;34m=\u001b[0m \u001b[0mcopy\u001b[0m\u001b[0;34m.\u001b[0m\u001b[0mdeepcopy\u001b[0m\u001b[0;34m(\u001b[0m\u001b[0mp\u001b[0m\u001b[0;34m.\u001b[0m\u001b[0mfrozen\u001b[0m\u001b[0;34m(\u001b[0m\u001b[0;34m)\u001b[0m\u001b[0;34m)\u001b[0m\u001b[0;34m\u001b[0m\u001b[0;34m\u001b[0m\u001b[0m\n\u001b[0m\u001b[1;32m      5\u001b[0m     \u001b[0mp0\u001b[0m\u001b[0;34m.\u001b[0m\u001b[0mset_x\u001b[0m\u001b[0;34m(\u001b[0m\u001b[0mp0\u001b[0m\u001b[0;34m.\u001b[0m\u001b[0mget_x\u001b[0m\u001b[0;34m(\u001b[0m\u001b[0;34m)\u001b[0m\u001b[0;34m+\u001b[0m\u001b[0;36m10\u001b[0m\u001b[0;34m)\u001b[0m\u001b[0;34m\u001b[0m\u001b[0;34m\u001b[0m\u001b[0m\n\u001b[1;32m      6\u001b[0m     \u001b[0mtmp\u001b[0m\u001b[0;34m.\u001b[0m\u001b[0mappend\u001b[0m\u001b[0;34m(\u001b[0m\u001b[0mp0\u001b[0m\u001b[0;34m)\u001b[0m\u001b[0;34m\u001b[0m\u001b[0;34m\u001b[0m\u001b[0m\n",
      "\u001b[0;31mAttributeError\u001b[0m: 'Rectangle' object has no attribute 'frozen'"
     ]
    }
   ],
   "source": [
    "tmp = []\n",
    "import copy\n",
    "for p in ax.patches:\n",
    "    p0 = copy.deepcopy()\n",
    "    p0.set_x(p0.get_x()+10)\n",
    "    tmp.append(p0)"
   ]
  },
  {
   "cell_type": "code",
   "execution_count": 140,
   "metadata": {},
   "outputs": [
    {
     "data": {
      "application/vnd.jupyter.widget-view+json": {
       "model_id": "c6563186541d47a083de4ee34b5beacc",
       "version_major": 2,
       "version_minor": 0
      },
      "text/plain": [
       "Canvas(toolbar=Toolbar(toolitems=[('Home', 'Reset original view', 'home', 'home'), ('Back', 'Back to previous …"
      ]
     },
     "metadata": {},
     "output_type": "display_data"
    }
   ],
   "source": [
    "fig2, ax2 = plt.subplots()\n",
    "_,_, patches2 = ax2.hist(arr2)"
   ]
  },
  {
   "cell_type": "code",
   "execution_count": 141,
   "metadata": {},
   "outputs": [],
   "source": [
    "ax.patches\n",
    "ax.patches += ax2.patches"
   ]
  },
  {
   "cell_type": "code",
   "execution_count": null,
   "metadata": {},
   "outputs": [],
   "source": [
    "p.set_height"
   ]
  },
  {
   "cell_type": "code",
   "execution_count": 90,
   "metadata": {},
   "outputs": [
    {
     "name": "stdout",
     "output_type": "stream",
     "text": [
      "[  9.  15.  80. 144. 240. 226. 175.  80.  26.   5.]\n",
      "[-1.00517396 -0.40713582  0.19090233  0.78894047  1.38697862  1.98501676\n",
      "  2.58305491  3.18109305  3.77913119  4.37716934  4.97520748]\n"
     ]
    }
   ],
   "source": [
    "out2 = ax.hist(arr2)\n",
    "# a.set_x(a.get_x+10)\n",
    "print(out2[0])\n",
    "print(out2[1])"
   ]
  },
  {
   "cell_type": "code",
   "execution_count": 99,
   "metadata": {},
   "outputs": [
    {
     "data": {
      "text/plain": [
       "array([  9,  15,  80, 144, 240, 226, 175,  80,  26,   5])"
      ]
     },
     "execution_count": 99,
     "metadata": {},
     "output_type": "execute_result"
    }
   ],
   "source": []
  },
  {
   "cell_type": "code",
   "execution_count": 79,
   "metadata": {},
   "outputs": [
    {
     "name": "stdout",
     "output_type": "stream",
     "text": [
      "1\n",
      "1\n",
      "1\n",
      "1\n",
      "1\n",
      "1\n",
      "1\n",
      "1\n",
      "1\n",
      "1\n"
     ]
    }
   ],
   "source": [
    "for a in out2[-1]:\n",
    "    print(a.zorder)"
   ]
  },
  {
   "cell_type": "code",
   "execution_count": 70,
   "metadata": {},
   "outputs": [
    {
     "name": "stdout",
     "output_type": "stream",
     "text": [
      "1\n",
      "1\n",
      "1\n",
      "1\n",
      "1\n"
     ]
    }
   ],
   "source": [
    "for a in out2[-1][:5]:\n",
    "#     a.remove()\n",
    "    print(a.zorder)\n",
    "\n",
    "# del out2"
   ]
  },
  {
   "cell_type": "code",
   "execution_count": 74,
   "metadata": {},
   "outputs": [
    {
     "data": {
      "text/plain": [
       "[<matplotlib.patches.Rectangle at 0x7f407bfd34f0>,\n",
       " <matplotlib.patches.Rectangle at 0x7f407b7e1a00>,\n",
       " <matplotlib.patches.Rectangle at 0x7f407bfd3970>,\n",
       " <matplotlib.patches.Rectangle at 0x7f407bfd3160>,\n",
       " <matplotlib.patches.Rectangle at 0x7f407bfc8520>,\n",
       " <matplotlib.patches.Rectangle at 0x7f407bfc8640>,\n",
       " <matplotlib.patches.Rectangle at 0x7f407bcffee0>,\n",
       " <matplotlib.patches.Rectangle at 0x7f407b55a2e0>,\n",
       " <matplotlib.patches.Rectangle at 0x7f407b522c40>,\n",
       " <matplotlib.patches.Rectangle at 0x7f407c6a7850>,\n",
       " <matplotlib.patches.Rectangle at 0x7f407bab4be0>,\n",
       " <matplotlib.patches.Rectangle at 0x7f407bab0ac0>,\n",
       " <matplotlib.patches.Rectangle at 0x7f407bab4490>,\n",
       " <matplotlib.patches.Rectangle at 0x7f407b8d45b0>,\n",
       " <matplotlib.patches.Rectangle at 0x7f407b8d4bb0>,\n",
       " <matplotlib.patches.Rectangle at 0x7f407c00a250>,\n",
       " <matplotlib.patches.Rectangle at 0x7f407b3610a0>,\n",
       " <matplotlib.patches.Rectangle at 0x7f407bab4f70>,\n",
       " <matplotlib.patches.Rectangle at 0x7f407c11de20>,\n",
       " <matplotlib.patches.Rectangle at 0x7f407c11da00>,\n",
       " <matplotlib.spines.Spine at 0x7f407b74c220>,\n",
       " <matplotlib.spines.Spine at 0x7f407b74c6d0>,\n",
       " <matplotlib.spines.Spine at 0x7f407b74c820>,\n",
       " <matplotlib.spines.Spine at 0x7f407b74ceb0>,\n",
       " <matplotlib.axis.XAxis at 0x7f407b74c190>,\n",
       " <matplotlib.axis.YAxis at 0x7f407b75da90>,\n",
       " Text(0.5, 1.0, ''),\n",
       " Text(0.0, 1.0, ''),\n",
       " Text(1.0, 1.0, ''),\n",
       " <matplotlib.patches.Rectangle at 0x7f407b697850>]"
      ]
     },
     "execution_count": 74,
     "metadata": {},
     "output_type": "execute_result"
    }
   ],
   "source": [
    "fig.axes[0].get_children()"
   ]
  },
  {
   "cell_type": "code",
   "execution_count": 61,
   "metadata": {},
   "outputs": [
    {
     "data": {
      "text/plain": [
       "(array([  1.,   4.,  19.,  95., 211., 286., 224., 121.,  34.,   5.]),\n",
       " array([-4.01601714, -3.29425626, -2.57249539, -1.85073452, -1.12897365,\n",
       "        -0.40721277,  0.3145481 ,  1.03630897,  1.75806984,  2.47983071,\n",
       "         3.20159159]),\n",
       " <a list of 10 Patch objects>)"
      ]
     },
     "execution_count": 61,
     "metadata": {},
     "output_type": "execute_result"
    }
   ],
   "source": [
    "ax.hist(arr,zorder=0)"
   ]
  },
  {
   "cell_type": "code",
   "execution_count": 37,
   "metadata": {},
   "outputs": [
    {
     "name": "stdout",
     "output_type": "stream",
     "text": [
      "Rectangle(xy=(-1.57129, 0), width=0.679309, height=1, angle=0)\n",
      "Rectangle(xy=(-0.891981, 0), width=0.679309, height=10, angle=0)\n",
      "Rectangle(xy=(-0.212672, 0), width=0.679309, height=51, angle=0)\n",
      "Rectangle(xy=(0.466637, 0), width=0.679309, height=149, angle=0)\n",
      "Rectangle(xy=(1.14595, 0), width=0.679309, height=210, angle=0)\n",
      "Rectangle(xy=(1.82525, 0), width=0.679309, height=245, angle=0)\n",
      "Rectangle(xy=(2.50456, 0), width=0.679309, height=207, angle=0)\n",
      "Rectangle(xy=(3.18387, 0), width=0.679309, height=97, angle=0)\n",
      "Rectangle(xy=(3.86318, 0), width=0.679309, height=28, angle=0)\n",
      "Rectangle(xy=(4.54249, 0), width=0.679309, height=2, angle=0)\n"
     ]
    }
   ],
   "source": [
    "for a in out2[-1]:\n",
    "    print(a)"
   ]
  },
  {
   "cell_type": "code",
   "execution_count": null,
   "metadata": {},
   "outputs": [],
   "source": []
  }
 ],
 "metadata": {
  "kernelspec": {
   "display_name": "Python 3",
   "language": "python",
   "name": "python3"
  },
  "language_info": {
   "codemirror_mode": {
    "name": "ipython",
    "version": 3
   },
   "file_extension": ".py",
   "mimetype": "text/x-python",
   "name": "python",
   "nbconvert_exporter": "python",
   "pygments_lexer": "ipython3",
   "version": "3.8.3"
  }
 },
 "nbformat": 4,
 "nbformat_minor": 4
}
