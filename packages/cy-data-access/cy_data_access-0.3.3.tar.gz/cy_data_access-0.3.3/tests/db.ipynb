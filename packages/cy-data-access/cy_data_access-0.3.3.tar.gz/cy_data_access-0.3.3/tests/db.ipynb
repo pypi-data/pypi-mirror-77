{
 "metadata": {
  "language_info": {
   "codemirror_mode": {
    "name": "ipython",
    "version": 3
   },
   "file_extension": ".py",
   "mimetype": "text/x-python",
   "name": "python",
   "nbconvert_exporter": "python",
   "pygments_lexer": "ipython3",
   "version": "3.7.5-final"
  },
  "orig_nbformat": 2,
  "kernelspec": {
   "name": "python37564bit8409255418034dfeada81c2f6070bc9d",
   "display_name": "Python 3.7.5 64-bit"
  }
 },
 "nbformat": 4,
 "nbformat_minor": 2,
 "cells": [
  {
   "cell_type": "code",
   "execution_count": 4,
   "metadata": {},
   "outputs": [],
   "source": [
    "from cy_data_access.models.position import *\n",
    "connect_db_env(db_name=DB_POSITION)\n",
    "aims_position = AIMSPosition.position_with(\"Binance\", \"BNB/USDT\")\n",
    "aims_position.update(0.123, 0.123)\n",
    "aims_position.reset()"
   ]
  },
  {
   "cell_type": "code",
   "execution_count": null,
   "metadata": {},
   "outputs": [],
   "source": []
  }
 ]
}